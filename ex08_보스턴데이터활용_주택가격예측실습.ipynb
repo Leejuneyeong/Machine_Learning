{
 "cells": [
  {
   "cell_type": "markdown",
   "id": "d61b4f77",
   "metadata": {},
   "source": [
    "### 목표\n",
    " - 특성변수 (설명변수, 독립변수)를 활용하여 회귀 예측을 해보자\n",
    " - 특성공학 중에서 특성곱을 통해 성능 개선해보자"
   ]
  },
  {
   "cell_type": "code",
   "execution_count": 1,
   "id": "a74b5694",
   "metadata": {},
   "outputs": [],
   "source": [
    "import numpy as np\n",
    "import pandas as pd\n",
    "import matplotlib.pyplot as plt\n",
    "# 데이터 불러오기\n",
    "from sklearn.datasets import load_boston"
   ]
  },
  {
   "cell_type": "code",
   "execution_count": 2,
   "id": "ee84149a",
   "metadata": {
    "scrolled": true
   },
   "outputs": [],
   "source": [
    "import warnings\n",
    "warnings.filterwarnings(action = 'ignore')\n",
    "\n",
    "boston = load_boston() # 번치객체 - 사용시 딕셔너리 사용"
   ]
  },
  {
   "cell_type": "markdown",
   "id": "5801eb7d",
   "metadata": {},
   "source": [
    "### 데이터 살펴보기"
   ]
  },
  {
   "cell_type": "markdown",
   "id": "ca5296a4",
   "metadata": {},
   "source": [
    "#### 설명변수 (원인: 예측값을 설명할 수 있는 변수)\n",
    "CRIM: 범죄율  \n",
    "INDUS: 비소매상업지역 면접 비율  \n",
    "NOX: 일산화질소 농도  \n",
    "RM : 주택당 방 수  \n",
    "LSTAT: 인구 중 하위 계층 비율  \n",
    "B: 인구 중 흑인 비율  \n",
    "PTRATIO: 학생/교사 비율  \n",
    "ZN: 25,000 평방피트를 초과 거주지역 비율  \n",
    "CHAS : 찰스강의 경계에 위치한 경우는 1, 아니면 0  \n",
    "AGE : 1940년 이전에 건축된 주택의 비율  \n",
    "DIS: 직업센터의 거리  \n",
    "TAX: 재산세율  \n",
    "#### 반응 변수(결과: 예측하고자 하는 값 )\n",
    "MEDV: 주택가격"
   ]
  },
  {
   "cell_type": "code",
   "execution_count": 3,
   "id": "48ed83bc",
   "metadata": {},
   "outputs": [
    {
     "data": {
      "text/plain": [
       "dict_keys(['data', 'target', 'feature_names', 'DESCR', 'filename', 'data_module'])"
      ]
     },
     "execution_count": 3,
     "metadata": {},
     "output_type": "execute_result"
    }
   ],
   "source": [
    "# 키값\n",
    "boston.keys()"
   ]
  },
  {
   "cell_type": "code",
   "execution_count": 4,
   "id": "6e3644e9",
   "metadata": {},
   "outputs": [
    {
     "data": {
      "text/plain": [
       "array([[6.3200e-03, 1.8000e+01, 2.3100e+00, ..., 1.5300e+01, 3.9690e+02,\n",
       "        4.9800e+00],\n",
       "       [2.7310e-02, 0.0000e+00, 7.0700e+00, ..., 1.7800e+01, 3.9690e+02,\n",
       "        9.1400e+00],\n",
       "       [2.7290e-02, 0.0000e+00, 7.0700e+00, ..., 1.7800e+01, 3.9283e+02,\n",
       "        4.0300e+00],\n",
       "       ...,\n",
       "       [6.0760e-02, 0.0000e+00, 1.1930e+01, ..., 2.1000e+01, 3.9690e+02,\n",
       "        5.6400e+00],\n",
       "       [1.0959e-01, 0.0000e+00, 1.1930e+01, ..., 2.1000e+01, 3.9345e+02,\n",
       "        6.4800e+00],\n",
       "       [4.7410e-02, 0.0000e+00, 1.1930e+01, ..., 2.1000e+01, 3.9690e+02,\n",
       "        7.8800e+00]])"
      ]
     },
     "execution_count": 4,
     "metadata": {},
     "output_type": "execute_result"
    }
   ],
   "source": [
    "# 문제 데이터 확인\n",
    "boston['data'] # bostion.data 도 됨"
   ]
  },
  {
   "cell_type": "code",
   "execution_count": 5,
   "id": "4b337f68",
   "metadata": {},
   "outputs": [
    {
     "data": {
      "text/plain": [
       "array(['CRIM', 'ZN', 'INDUS', 'CHAS', 'NOX', 'RM', 'AGE', 'DIS', 'RAD',\n",
       "       'TAX', 'PTRATIO', 'B', 'LSTAT'], dtype='<U7')"
      ]
     },
     "execution_count": 5,
     "metadata": {},
     "output_type": "execute_result"
    }
   ],
   "source": [
    "# 특성 이름 확인\n",
    "boston['feature_names'] # boston.feature_names 도 됨"
   ]
  },
  {
   "cell_type": "code",
   "execution_count": 6,
   "id": "09af45d3",
   "metadata": {},
   "outputs": [
    {
     "name": "stdout",
     "output_type": "stream",
     "text": [
      ".. _boston_dataset:\n",
      "\n",
      "Boston house prices dataset\n",
      "---------------------------\n",
      "\n",
      "**Data Set Characteristics:**  \n",
      "\n",
      "    :Number of Instances: 506 \n",
      "\n",
      "    :Number of Attributes: 13 numeric/categorical predictive. Median Value (attribute 14) is usually the target.\n",
      "\n",
      "    :Attribute Information (in order):\n",
      "        - CRIM     per capita crime rate by town\n",
      "        - ZN       proportion of residential land zoned for lots over 25,000 sq.ft.\n",
      "        - INDUS    proportion of non-retail business acres per town\n",
      "        - CHAS     Charles River dummy variable (= 1 if tract bounds river; 0 otherwise)\n",
      "        - NOX      nitric oxides concentration (parts per 10 million)\n",
      "        - RM       average number of rooms per dwelling\n",
      "        - AGE      proportion of owner-occupied units built prior to 1940\n",
      "        - DIS      weighted distances to five Boston employment centres\n",
      "        - RAD      index of accessibility to radial highways\n",
      "        - TAX      full-value property-tax rate per $10,000\n",
      "        - PTRATIO  pupil-teacher ratio by town\n",
      "        - B        1000(Bk - 0.63)^2 where Bk is the proportion of black people by town\n",
      "        - LSTAT    % lower status of the population\n",
      "        - MEDV     Median value of owner-occupied homes in $1000's\n",
      "\n",
      "    :Missing Attribute Values: None\n",
      "\n",
      "    :Creator: Harrison, D. and Rubinfeld, D.L.\n",
      "\n",
      "This is a copy of UCI ML housing dataset.\n",
      "https://archive.ics.uci.edu/ml/machine-learning-databases/housing/\n",
      "\n",
      "\n",
      "This dataset was taken from the StatLib library which is maintained at Carnegie Mellon University.\n",
      "\n",
      "The Boston house-price data of Harrison, D. and Rubinfeld, D.L. 'Hedonic\n",
      "prices and the demand for clean air', J. Environ. Economics & Management,\n",
      "vol.5, 81-102, 1978.   Used in Belsley, Kuh & Welsch, 'Regression diagnostics\n",
      "...', Wiley, 1980.   N.B. Various transformations are used in the table on\n",
      "pages 244-261 of the latter.\n",
      "\n",
      "The Boston house-price data has been used in many machine learning papers that address regression\n",
      "problems.   \n",
      "     \n",
      ".. topic:: References\n",
      "\n",
      "   - Belsley, Kuh & Welsch, 'Regression diagnostics: Identifying Influential Data and Sources of Collinearity', Wiley, 1980. 244-261.\n",
      "   - Quinlan,R. (1993). Combining Instance-Based and Model-Based Learning. In Proceedings on the Tenth International Conference of Machine Learning, 236-243, University of Massachusetts, Amherst. Morgan Kaufmann.\n",
      "\n"
     ]
    }
   ],
   "source": [
    "print(boston.DESCR) # DESCR = 설명 묘사"
   ]
  },
  {
   "cell_type": "code",
   "execution_count": 7,
   "id": "7564ec24",
   "metadata": {},
   "outputs": [
    {
     "data": {
      "text/plain": [
       "array([24. , 21.6, 34.7, 33.4, 36.2, 28.7, 22.9, 27.1, 16.5, 18.9, 15. ,\n",
       "       18.9, 21.7, 20.4, 18.2, 19.9, 23.1, 17.5, 20.2, 18.2, 13.6, 19.6,\n",
       "       15.2, 14.5, 15.6, 13.9, 16.6, 14.8, 18.4, 21. , 12.7, 14.5, 13.2,\n",
       "       13.1, 13.5, 18.9, 20. , 21. , 24.7, 30.8, 34.9, 26.6, 25.3, 24.7,\n",
       "       21.2, 19.3, 20. , 16.6, 14.4, 19.4, 19.7, 20.5, 25. , 23.4, 18.9,\n",
       "       35.4, 24.7, 31.6, 23.3, 19.6, 18.7, 16. , 22.2, 25. , 33. , 23.5,\n",
       "       19.4, 22. , 17.4, 20.9, 24.2, 21.7, 22.8, 23.4, 24.1, 21.4, 20. ,\n",
       "       20.8, 21.2, 20.3, 28. , 23.9, 24.8, 22.9, 23.9, 26.6, 22.5, 22.2,\n",
       "       23.6, 28.7, 22.6, 22. , 22.9, 25. , 20.6, 28.4, 21.4, 38.7, 43.8,\n",
       "       33.2, 27.5, 26.5, 18.6, 19.3, 20.1, 19.5, 19.5, 20.4, 19.8, 19.4,\n",
       "       21.7, 22.8, 18.8, 18.7, 18.5, 18.3, 21.2, 19.2, 20.4, 19.3, 22. ,\n",
       "       20.3, 20.5, 17.3, 18.8, 21.4, 15.7, 16.2, 18. , 14.3, 19.2, 19.6,\n",
       "       23. , 18.4, 15.6, 18.1, 17.4, 17.1, 13.3, 17.8, 14. , 14.4, 13.4,\n",
       "       15.6, 11.8, 13.8, 15.6, 14.6, 17.8, 15.4, 21.5, 19.6, 15.3, 19.4,\n",
       "       17. , 15.6, 13.1, 41.3, 24.3, 23.3, 27. , 50. , 50. , 50. , 22.7,\n",
       "       25. , 50. , 23.8, 23.8, 22.3, 17.4, 19.1, 23.1, 23.6, 22.6, 29.4,\n",
       "       23.2, 24.6, 29.9, 37.2, 39.8, 36.2, 37.9, 32.5, 26.4, 29.6, 50. ,\n",
       "       32. , 29.8, 34.9, 37. , 30.5, 36.4, 31.1, 29.1, 50. , 33.3, 30.3,\n",
       "       34.6, 34.9, 32.9, 24.1, 42.3, 48.5, 50. , 22.6, 24.4, 22.5, 24.4,\n",
       "       20. , 21.7, 19.3, 22.4, 28.1, 23.7, 25. , 23.3, 28.7, 21.5, 23. ,\n",
       "       26.7, 21.7, 27.5, 30.1, 44.8, 50. , 37.6, 31.6, 46.7, 31.5, 24.3,\n",
       "       31.7, 41.7, 48.3, 29. , 24. , 25.1, 31.5, 23.7, 23.3, 22. , 20.1,\n",
       "       22.2, 23.7, 17.6, 18.5, 24.3, 20.5, 24.5, 26.2, 24.4, 24.8, 29.6,\n",
       "       42.8, 21.9, 20.9, 44. , 50. , 36. , 30.1, 33.8, 43.1, 48.8, 31. ,\n",
       "       36.5, 22.8, 30.7, 50. , 43.5, 20.7, 21.1, 25.2, 24.4, 35.2, 32.4,\n",
       "       32. , 33.2, 33.1, 29.1, 35.1, 45.4, 35.4, 46. , 50. , 32.2, 22. ,\n",
       "       20.1, 23.2, 22.3, 24.8, 28.5, 37.3, 27.9, 23.9, 21.7, 28.6, 27.1,\n",
       "       20.3, 22.5, 29. , 24.8, 22. , 26.4, 33.1, 36.1, 28.4, 33.4, 28.2,\n",
       "       22.8, 20.3, 16.1, 22.1, 19.4, 21.6, 23.8, 16.2, 17.8, 19.8, 23.1,\n",
       "       21. , 23.8, 23.1, 20.4, 18.5, 25. , 24.6, 23. , 22.2, 19.3, 22.6,\n",
       "       19.8, 17.1, 19.4, 22.2, 20.7, 21.1, 19.5, 18.5, 20.6, 19. , 18.7,\n",
       "       32.7, 16.5, 23.9, 31.2, 17.5, 17.2, 23.1, 24.5, 26.6, 22.9, 24.1,\n",
       "       18.6, 30.1, 18.2, 20.6, 17.8, 21.7, 22.7, 22.6, 25. , 19.9, 20.8,\n",
       "       16.8, 21.9, 27.5, 21.9, 23.1, 50. , 50. , 50. , 50. , 50. , 13.8,\n",
       "       13.8, 15. , 13.9, 13.3, 13.1, 10.2, 10.4, 10.9, 11.3, 12.3,  8.8,\n",
       "        7.2, 10.5,  7.4, 10.2, 11.5, 15.1, 23.2,  9.7, 13.8, 12.7, 13.1,\n",
       "       12.5,  8.5,  5. ,  6.3,  5.6,  7.2, 12.1,  8.3,  8.5,  5. , 11.9,\n",
       "       27.9, 17.2, 27.5, 15. , 17.2, 17.9, 16.3,  7. ,  7.2,  7.5, 10.4,\n",
       "        8.8,  8.4, 16.7, 14.2, 20.8, 13.4, 11.7,  8.3, 10.2, 10.9, 11. ,\n",
       "        9.5, 14.5, 14.1, 16.1, 14.3, 11.7, 13.4,  9.6,  8.7,  8.4, 12.8,\n",
       "       10.5, 17.1, 18.4, 15.4, 10.8, 11.8, 14.9, 12.6, 14.1, 13. , 13.4,\n",
       "       15.2, 16.1, 17.8, 14.9, 14.1, 12.7, 13.5, 14.9, 20. , 16.4, 17.7,\n",
       "       19.5, 20.2, 21.4, 19.9, 19. , 19.1, 19.1, 20.1, 19.9, 19.6, 23.2,\n",
       "       29.8, 13.8, 13.3, 16.7, 12. , 14.6, 21.4, 23. , 23.7, 25. , 21.8,\n",
       "       20.6, 21.2, 19.1, 20.6, 15.2,  7. ,  8.1, 13.6, 20.1, 21.8, 24.5,\n",
       "       23.1, 19.7, 18.3, 21.2, 17.5, 16.8, 22.4, 20.6, 23.9, 22. , 11.9])"
      ]
     },
     "execution_count": 7,
     "metadata": {},
     "output_type": "execute_result"
    }
   ],
   "source": [
    "# 답 데이터 확인\n",
    "boston.target   # boston['target']"
   ]
  },
  {
   "cell_type": "code",
   "execution_count": 8,
   "id": "830ebecc",
   "metadata": {},
   "outputs": [
    {
     "data": {
      "text/plain": [
       "'boston_house_prices.csv'"
      ]
     },
     "execution_count": 8,
     "metadata": {},
     "output_type": "execute_result"
    }
   ],
   "source": [
    "# 답 이름 확인\n",
    "boston['filename']"
   ]
  },
  {
   "cell_type": "markdown",
   "id": "c583d732",
   "metadata": {},
   "source": [
    "### 데이터 전처리\n",
    "- 분석편리 : 넘파이 배열 -> 데이터프레임\n",
    "- X : 독립변수, 예측변수, 입력변수, 설명변수\n",
    "- y : 종속변수, 반응변수, 출력변수"
   ]
  },
  {
   "cell_type": "code",
   "execution_count": 9,
   "id": "c2452dce",
   "metadata": {},
   "outputs": [],
   "source": [
    "X = pd.DataFrame(boston.data, columns = boston.feature_names)\n",
    "y = pd.Series(boston.target)"
   ]
  },
  {
   "cell_type": "code",
   "execution_count": 10,
   "id": "d84882e7",
   "metadata": {},
   "outputs": [
    {
     "data": {
      "text/html": [
       "<div>\n",
       "<style scoped>\n",
       "    .dataframe tbody tr th:only-of-type {\n",
       "        vertical-align: middle;\n",
       "    }\n",
       "\n",
       "    .dataframe tbody tr th {\n",
       "        vertical-align: top;\n",
       "    }\n",
       "\n",
       "    .dataframe thead th {\n",
       "        text-align: right;\n",
       "    }\n",
       "</style>\n",
       "<table border=\"1\" class=\"dataframe\">\n",
       "  <thead>\n",
       "    <tr style=\"text-align: right;\">\n",
       "      <th></th>\n",
       "      <th>CRIM</th>\n",
       "      <th>ZN</th>\n",
       "      <th>INDUS</th>\n",
       "      <th>CHAS</th>\n",
       "      <th>NOX</th>\n",
       "      <th>RM</th>\n",
       "      <th>AGE</th>\n",
       "      <th>DIS</th>\n",
       "      <th>RAD</th>\n",
       "      <th>TAX</th>\n",
       "      <th>PTRATIO</th>\n",
       "      <th>B</th>\n",
       "      <th>LSTAT</th>\n",
       "    </tr>\n",
       "  </thead>\n",
       "  <tbody>\n",
       "    <tr>\n",
       "      <th>0</th>\n",
       "      <td>0.00632</td>\n",
       "      <td>18.0</td>\n",
       "      <td>2.31</td>\n",
       "      <td>0.0</td>\n",
       "      <td>0.538</td>\n",
       "      <td>6.575</td>\n",
       "      <td>65.2</td>\n",
       "      <td>4.0900</td>\n",
       "      <td>1.0</td>\n",
       "      <td>296.0</td>\n",
       "      <td>15.3</td>\n",
       "      <td>396.90</td>\n",
       "      <td>4.98</td>\n",
       "    </tr>\n",
       "    <tr>\n",
       "      <th>1</th>\n",
       "      <td>0.02731</td>\n",
       "      <td>0.0</td>\n",
       "      <td>7.07</td>\n",
       "      <td>0.0</td>\n",
       "      <td>0.469</td>\n",
       "      <td>6.421</td>\n",
       "      <td>78.9</td>\n",
       "      <td>4.9671</td>\n",
       "      <td>2.0</td>\n",
       "      <td>242.0</td>\n",
       "      <td>17.8</td>\n",
       "      <td>396.90</td>\n",
       "      <td>9.14</td>\n",
       "    </tr>\n",
       "    <tr>\n",
       "      <th>2</th>\n",
       "      <td>0.02729</td>\n",
       "      <td>0.0</td>\n",
       "      <td>7.07</td>\n",
       "      <td>0.0</td>\n",
       "      <td>0.469</td>\n",
       "      <td>7.185</td>\n",
       "      <td>61.1</td>\n",
       "      <td>4.9671</td>\n",
       "      <td>2.0</td>\n",
       "      <td>242.0</td>\n",
       "      <td>17.8</td>\n",
       "      <td>392.83</td>\n",
       "      <td>4.03</td>\n",
       "    </tr>\n",
       "    <tr>\n",
       "      <th>3</th>\n",
       "      <td>0.03237</td>\n",
       "      <td>0.0</td>\n",
       "      <td>2.18</td>\n",
       "      <td>0.0</td>\n",
       "      <td>0.458</td>\n",
       "      <td>6.998</td>\n",
       "      <td>45.8</td>\n",
       "      <td>6.0622</td>\n",
       "      <td>3.0</td>\n",
       "      <td>222.0</td>\n",
       "      <td>18.7</td>\n",
       "      <td>394.63</td>\n",
       "      <td>2.94</td>\n",
       "    </tr>\n",
       "    <tr>\n",
       "      <th>4</th>\n",
       "      <td>0.06905</td>\n",
       "      <td>0.0</td>\n",
       "      <td>2.18</td>\n",
       "      <td>0.0</td>\n",
       "      <td>0.458</td>\n",
       "      <td>7.147</td>\n",
       "      <td>54.2</td>\n",
       "      <td>6.0622</td>\n",
       "      <td>3.0</td>\n",
       "      <td>222.0</td>\n",
       "      <td>18.7</td>\n",
       "      <td>396.90</td>\n",
       "      <td>5.33</td>\n",
       "    </tr>\n",
       "  </tbody>\n",
       "</table>\n",
       "</div>"
      ],
      "text/plain": [
       "      CRIM    ZN  INDUS  CHAS    NOX     RM   AGE     DIS  RAD    TAX  \\\n",
       "0  0.00632  18.0   2.31   0.0  0.538  6.575  65.2  4.0900  1.0  296.0   \n",
       "1  0.02731   0.0   7.07   0.0  0.469  6.421  78.9  4.9671  2.0  242.0   \n",
       "2  0.02729   0.0   7.07   0.0  0.469  7.185  61.1  4.9671  2.0  242.0   \n",
       "3  0.03237   0.0   2.18   0.0  0.458  6.998  45.8  6.0622  3.0  222.0   \n",
       "4  0.06905   0.0   2.18   0.0  0.458  7.147  54.2  6.0622  3.0  222.0   \n",
       "\n",
       "   PTRATIO       B  LSTAT  \n",
       "0     15.3  396.90   4.98  \n",
       "1     17.8  396.90   9.14  \n",
       "2     17.8  392.83   4.03  \n",
       "3     18.7  394.63   2.94  \n",
       "4     18.7  396.90   5.33  "
      ]
     },
     "execution_count": 10,
     "metadata": {},
     "output_type": "execute_result"
    }
   ],
   "source": [
    "X.head()"
   ]
  },
  {
   "cell_type": "code",
   "execution_count": 11,
   "id": "20b23779",
   "metadata": {},
   "outputs": [
    {
     "data": {
      "text/plain": [
       "0    24.0\n",
       "1    21.6\n",
       "2    34.7\n",
       "3    33.4\n",
       "4    36.2\n",
       "dtype: float64"
      ]
     },
     "execution_count": 11,
     "metadata": {},
     "output_type": "execute_result"
    }
   ],
   "source": [
    "y.head()"
   ]
  },
  {
   "cell_type": "markdown",
   "id": "700aaaf7",
   "metadata": {},
   "source": [
    "- train, test set 분할"
   ]
  },
  {
   "cell_type": "code",
   "execution_count": 12,
   "id": "30425f0a",
   "metadata": {},
   "outputs": [
    {
     "name": "stdout",
     "output_type": "stream",
     "text": [
      "훈련문제: (354, 13)\n",
      "훈련답: (354,)\n",
      "테스트문제 (152, 13)\n",
      "테스트답: (152,)\n"
     ]
    }
   ],
   "source": [
    "# 7:3, 랜덤고정값 0\n",
    "# train_test_split\n",
    "# 문제 -> X_train, X_test\n",
    "# 답 -> y_train, y_test\n",
    "from sklearn.model_selection import train_test_split\n",
    "\n",
    "X_train,X_test,y_train,y_test = train_test_split(X, y,\n",
    "                                                test_size = 0.3 ,\n",
    "                                                random_state = 0)\n",
    "print('훈련문제:', X_train.shape)\n",
    "print('훈련답:', y_train.shape)\n",
    "print('테스트문제', X_test.shape)\n",
    "print('테스트답:', y_test.shape)"
   ]
  },
  {
   "cell_type": "markdown",
   "id": "8ae6925a",
   "metadata": {},
   "source": [
    "#### LinearRegression"
   ]
  },
  {
   "cell_type": "code",
   "execution_count": 13,
   "id": "4041dcc4",
   "metadata": {},
   "outputs": [],
   "source": [
    "from sklearn.linear_model import LinearRegression\n",
    "from sklearn.model_selection import cross_val_score"
   ]
  },
  {
   "cell_type": "code",
   "execution_count": 14,
   "id": "91def70c",
   "metadata": {},
   "outputs": [
    {
     "data": {
      "text/plain": [
       "array([24.9357079 , 23.75163164, 29.32638296, 11.97534566, 21.37272478,\n",
       "       19.19148525, 20.5717479 , 21.21154015, 19.04572003, 20.35463238,\n",
       "        5.44119126, 16.93688709, 17.15482272,  5.3928209 , 40.20270696,\n",
       "       32.31327348, 22.46213268, 36.50124666, 31.03737014, 23.17124551,\n",
       "       24.74815321, 24.49939403, 20.6595791 , 30.4547583 , 22.32487164,\n",
       "       10.18932894, 17.44286422, 18.26103077, 35.63299326, 20.81960303,\n",
       "       18.27218007, 17.72047628, 19.33772473, 23.62254823, 28.97766856,\n",
       "       19.45036239, 11.13170639, 24.81843595, 18.05294835, 15.59712226,\n",
       "       26.21043403, 20.81140432, 22.17349382, 15.48367365, 22.62261604,\n",
       "       24.88561528, 19.74754478, 23.0465628 ,  9.84579105, 24.36378793,\n",
       "       21.47849008, 17.62118176, 24.39160873, 29.95102691, 13.57219422,\n",
       "       21.53645439, 20.53306273, 15.03433182, 14.3232289 , 22.11929299,\n",
       "       17.07321915, 21.54141094, 32.96766968, 31.371599  , 17.7860591 ,\n",
       "       32.75069556, 18.74795323, 19.21428022, 19.41970047, 23.08087809,\n",
       "       22.87732816, 24.06399098, 30.52824406, 28.71453508, 25.90763165,\n",
       "        5.17596718, 36.8709072 , 23.76983849, 27.26064379, 19.25849042,\n",
       "       28.41860517, 19.3008798 , 18.94922353, 38.00154059, 39.44096748,\n",
       "       23.72297885, 24.83722534, 16.52015743, 25.9970546 , 16.73997072,\n",
       "       15.48656983, 13.52825536, 24.12884363, 30.76919578, 22.18731163,\n",
       "       19.8848644 ,  0.42275479, 24.86785849, 16.05692   , 17.42486412,\n",
       "       25.49798527, 22.35171315, 32.66562689, 22.04428746, 27.29799885,\n",
       "       23.20302026,  6.86196574, 14.869251  , 22.31804948, 29.18125768,\n",
       "       33.22568234, 13.24392523, 19.67195771, 20.7502616 , 12.02271319,\n",
       "       23.50067006,  5.55662571, 19.87634689,  9.27059783, 44.81787339,\n",
       "       30.56017983, 12.44394048, 17.33192202, 21.48313292, 23.52664913,\n",
       "       20.49877266, 35.09161099, 13.22639935, 20.70321163, 35.35582833,\n",
       "       19.45050576, 13.81603561, 14.15654562, 23.03678503, 15.07521258,\n",
       "       30.9662041 , 25.23236632, 15.43763716, 24.06406534,  9.93080346,\n",
       "       15.01618901, 21.06098873, 32.87115732, 27.80927747, 25.91293794,\n",
       "       15.27877362, 30.97489404, 27.81107682, 14.5068157 ,  7.57369946,\n",
       "       28.3348068 , 25.04341153])"
      ]
     },
     "execution_count": 14,
     "metadata": {},
     "output_type": "execute_result"
    }
   ],
   "source": [
    "# 모델 객체 생성\n",
    "linear_model = LinearRegression()\n",
    "# 모델 학습\n",
    "linear_model.fit(X_train,y_train)\n",
    "# 모델 예측해서 pre 변수에 담아두기\n",
    "pre = linear_model.predict(X_test)\n",
    "pre"
   ]
  },
  {
   "cell_type": "code",
   "execution_count": 15,
   "id": "b51106c1",
   "metadata": {},
   "outputs": [
    {
     "data": {
      "text/plain": [
       "array([0.7246982 , 0.58082515, 0.77515092, 0.72161474, 0.78935797])"
      ]
     },
     "execution_count": 15,
     "metadata": {},
     "output_type": "execute_result"
    }
   ],
   "source": [
    "# 교차검증 통해 일반화 성능 확인하기\n",
    "result = cross_val_score(linear_model, X_train, y_train, cv = 5)\n",
    "result\n",
    "\n",
    "# 어떤 테스트가 들어와도 비슷하게 성능이 높아야함\n",
    "# 2번째 들어왔을때 58로 현저히 떨어지는 것을 확인 -> 일반화 x\n",
    "# 다른 성능도 높지 않음"
   ]
  },
  {
   "cell_type": "markdown",
   "id": "6a70d0ff",
   "metadata": {},
   "source": [
    "#### 회귀 성능 지표\n",
    "- 여러 머신러닝 모델들을 사용했을때 성능 지표를 보고 모델을 비교하게 되기 때문에 정량적인 지표가 꼭 필요함\n",
    "  - mse : 평균제곱오차\n",
    "  - rmse : 평균제곱 오차에 루트를 씌운것\n",
    "  - mae : 오차를 절댓값으로 변환해서 평균한 것\n",
    "  - r2 : 분산 기반 예측 성능 평가,실제값의 분산과 예측값의 분산을 비교"
   ]
  },
  {
   "cell_type": "code",
   "execution_count": 16,
   "id": "ba705210",
   "metadata": {},
   "outputs": [],
   "source": [
    "from sklearn.metrics import mean_squared_error # mse 평균제곱 오차\n",
    "from sklearn.metrics import mean_absolute_error # mae 평균절대 오차\n",
    "from sklearn.metrics import r2_score # 결정계수, R-Squared"
   ]
  },
  {
   "cell_type": "code",
   "execution_count": 17,
   "id": "a285d47a",
   "metadata": {},
   "outputs": [
    {
     "data": {
      "text/plain": [
       "27.195965766883234"
      ]
     },
     "execution_count": 17,
     "metadata": {},
     "output_type": "execute_result"
    }
   ],
   "source": [
    "# 평균 제곱 오차\n",
    "mean_squared_error(y_test, pre)"
   ]
  },
  {
   "cell_type": "code",
   "execution_count": 18,
   "id": "811ea836",
   "metadata": {},
   "outputs": [
    {
     "data": {
      "text/plain": [
       "5.214975145375406"
      ]
     },
     "execution_count": 18,
     "metadata": {},
     "output_type": "execute_result"
    }
   ],
   "source": [
    "# 제곱근 평균 제곱 오차\n",
    "np.sqrt(mean_squared_error(y_test, pre))"
   ]
  },
  {
   "cell_type": "code",
   "execution_count": 19,
   "id": "37504f60",
   "metadata": {},
   "outputs": [
    {
     "data": {
      "text/plain": [
       "3.609904060381808"
      ]
     },
     "execution_count": 19,
     "metadata": {},
     "output_type": "execute_result"
    }
   ],
   "source": [
    "# 평균 절대 오차\n",
    "mean_absolute_error(y_test, pre)"
   ]
  },
  {
   "cell_type": "code",
   "execution_count": 20,
   "id": "ebc21f23",
   "metadata": {},
   "outputs": [
    {
     "data": {
      "text/plain": [
       "0.6733825506400193"
      ]
     },
     "execution_count": 20,
     "metadata": {},
     "output_type": "execute_result"
    }
   ],
   "source": [
    "# 나의 모델이 데이터를 잘 설명하고 있는가?\n",
    "# 쉽게 파악하기 위해서 r2_score\n",
    "r2_score(y_test, pre) # 67% 만큼 데이트를 표현하고 있음"
   ]
  },
  {
   "cell_type": "markdown",
   "id": "6b77a3df",
   "metadata": {},
   "source": [
    "#### 결정계수\n",
    "- 추정한 선형 모형이 주어진 자료에 적합한 정도를 재는 척도\n",
    "- r2 는 0~1 사이로 결과값이 출력\n",
    "- r2 값이 1이면 현재 가지고 있는 x변수로 부터 y값을 100% 설명 (맞춤)했다는 의미, 회귀직선위에 모든 관측치가 있음\n",
    "- r2 값이 0이면 현재 가지고 있는 x변수로 부터 y값을 0% 설명했다는 의미, 선형모형이 데이터를 설명하는데 전혀 도움이 되지 않음"
   ]
  },
  {
   "cell_type": "code",
   "execution_count": 21,
   "id": "8a7c3ebe",
   "metadata": {},
   "outputs": [
    {
     "data": {
      "text/plain": [
       "0.6733825506400193"
      ]
     },
     "execution_count": 21,
     "metadata": {},
     "output_type": "execute_result"
    }
   ],
   "source": [
    "linear_model.score(X_test, y_test) # r2.score 기본값"
   ]
  },
  {
   "cell_type": "code",
   "execution_count": 22,
   "id": "6b335703",
   "metadata": {},
   "outputs": [
    {
     "data": {
      "text/plain": [
       "0.7645451026942549"
      ]
     },
     "execution_count": 22,
     "metadata": {},
     "output_type": "execute_result"
    }
   ],
   "source": [
    "# train 확인해보기\n",
    "linear_model.score(X_train, y_train)"
   ]
  },
  {
   "cell_type": "code",
   "execution_count": 23,
   "id": "70c6383b",
   "metadata": {},
   "outputs": [],
   "source": [
    "# 현재 선형모델은 성능이 좋지 못함,\n",
    "# linear_model 같은 경우 과대적합 또는 과소적합을 제어하는 \n",
    "# 키워드가 없기 때문에 데이터 측면에서 변경해줄 필요가 있음"
   ]
  },
  {
   "cell_type": "markdown",
   "id": "f3252a20",
   "metadata": {},
   "source": [
    "#### 특성확장\n",
    "- 모델의 성능을 향상시키기\n",
    "- 주택가격에 연관성이 있는 특성을 찾아 확장해보자"
   ]
  },
  {
   "cell_type": "code",
   "execution_count": 24,
   "id": "f1529908",
   "metadata": {},
   "outputs": [
    {
     "data": {
      "text/plain": [
       "0    11\n",
       "1     2\n",
       "2     3\n",
       "3     4\n",
       "dtype: int64"
      ]
     },
     "metadata": {},
     "output_type": "display_data"
    },
    {
     "data": {
      "text/plain": [
       "0    11\n",
       "1     2\n",
       "2     3\n",
       "3     4\n",
       "dtype: int64"
      ]
     },
     "metadata": {},
     "output_type": "display_data"
    },
    {
     "data": {
      "text/plain": [
       "0    1\n",
       "1    2\n",
       "2    3\n",
       "3    4\n",
       "dtype: int64"
      ]
     },
     "metadata": {},
     "output_type": "display_data"
    }
   ],
   "source": [
    "# copy 함수 : 데이터를 복사할때 사용\n",
    "# a = b 는 원본 데이터가 변하면 똑같이 변하는 얕은 복사\n",
    "# c = b.copy()는 복사 당시의 데이터 상태를 복사하게 되는 깊은 복사\n",
    "b = pd.Series([1,2,3,4])\n",
    "a = b # 얕은복사\n",
    "c = b.copy() # 깊은복사 - 원본상태를 복사\n",
    "b[0] = 11 # 0번째 자리 요소값 변경\n",
    "display(b)\n",
    "display(a)\n",
    "display(c)"
   ]
  },
  {
   "cell_type": "code",
   "execution_count": 25,
   "id": "ef656dc6",
   "metadata": {
    "collapsed": true
   },
   "outputs": [
    {
     "name": "stdout",
     "output_type": "stream",
     "text": [
      "<class 'pandas.core.frame.DataFrame'>\n",
      "Int64Index: 354 entries, 141 to 172\n",
      "Data columns (total 14 columns):\n",
      " #   Column   Non-Null Count  Dtype  \n",
      "---  ------   --------------  -----  \n",
      " 0   CRIM     354 non-null    float64\n",
      " 1   ZN       354 non-null    float64\n",
      " 2   INDUS    354 non-null    float64\n",
      " 3   CHAS     354 non-null    float64\n",
      " 4   NOX      354 non-null    float64\n",
      " 5   RM       354 non-null    float64\n",
      " 6   AGE      354 non-null    float64\n",
      " 7   DIS      354 non-null    float64\n",
      " 8   RAD      354 non-null    float64\n",
      " 9   TAX      354 non-null    float64\n",
      " 10  PTRATIO  354 non-null    float64\n",
      " 11  B        354 non-null    float64\n",
      " 12  LSTAT    354 non-null    float64\n",
      " 13  PRICE    354 non-null    float64\n",
      "dtypes: float64(14)\n",
      "memory usage: 41.5 KB\n"
     ]
    }
   ],
   "source": [
    "# 상관 관계를 확인하기 위해 문제와 답 데이터 병합\n",
    "boston_copy = X_train.copy() # 복사\n",
    "boston_copy['PRICE'] = y_train\n",
    "boston_copy.info()"
   ]
  },
  {
   "cell_type": "code",
   "execution_count": 26,
   "id": "dd79f8a7",
   "metadata": {
    "collapsed": true
   },
   "outputs": [
    {
     "data": {
      "text/plain": [
       "PRICE      1.000000\n",
       "LSTAT      0.743289\n",
       "RM         0.708978\n",
       "PTRATIO    0.564733\n",
       "INDUS      0.504361\n",
       "TAX        0.481319\n",
       "NOX        0.426690\n",
       "AGE        0.390942\n",
       "RAD        0.389533\n",
       "CRIM       0.388182\n",
       "ZN         0.386115\n",
       "B          0.324437\n",
       "DIS        0.245634\n",
       "CHAS       0.162395\n",
       "Name: PRICE, dtype: float64"
      ]
     },
     "execution_count": 26,
     "metadata": {},
     "output_type": "execute_result"
    }
   ],
   "source": [
    "# price와 각 특성들의 상관관계 확인하기\n",
    "boston_copy.corr()['PRICE'].abs().sort_values(ascending = False) # 내림차순 정렬\n",
    "\n",
    "# 하위 계층의 비율 -1 상관계수 높음\n",
    "# 주택당 방의 개수 -2 상관계수 높음"
   ]
  },
  {
   "cell_type": "markdown",
   "id": "a0a72db3",
   "metadata": {},
   "source": [
    "- 상관 관계가 높은 특성에 대해 특성 특성확장(특성곱) 해보기"
   ]
  },
  {
   "cell_type": "code",
   "execution_count": 27,
   "id": "d3255edf",
   "metadata": {
    "scrolled": false
   },
   "outputs": [
    {
     "data": {
      "image/png": "[encoded data removed]",
      "text/plain": [
       "<Figure size 432x288 with 1 Axes>"
      ]
     },
     "metadata": {
      "needs_background": "light"
     },
     "output_type": "display_data"
    }
   ],
   "source": [
    "# 확장전 ) 먼저 lstat 특성만 가지고 학습시킨 후 예측을 어떻게 하는지 시각화\n",
    "model = LinearRegression()\n",
    "model.fit(X_train[['LSTAT']], y_train)\n",
    "pre = model.predict(X_train[['LSTAT']])\n",
    "pre\n",
    "\n",
    "plt.scatter(X_train['LSTAT'], y_train)\n",
    "plt.scatter(X_train['LSTAT'], pre,color = 'red')\n",
    "plt.show()"
   ]
  },
  {
   "cell_type": "code",
   "execution_count": 29,
   "id": "d64a7f40",
   "metadata": {},
   "outputs": [
    {
     "data": {
      "image/png": "[encoded data removed]",
      "text/plain": [
       "<Figure size 432x288 with 1 Axes>"
      ]
     },
     "metadata": {
      "needs_background": "light"
     },
     "output_type": "display_data"
    }
   ],
   "source": [
    "# 확장 후 ) 본래 LSTAT 특정과 확장한 LSTAT특성을 가지고 학습에 활용\n",
    "# 예측을 어떻게 하게 되는지 시각화 해보자\n",
    "X_train['LSTAT x LSTAT'] = X_train['LSTAT'] * X_train['LSTAT'] # 특성곱\n",
    "model2 = LinearRegression()\n",
    "model2.fit(X_train[['LSTAT','LSTAT x LSTAT']], y_train)\n",
    "pre2 = model2.predict(X_train[['LSTAT','LSTAT x LSTAT']])\n",
    "\n",
    "plt.scatter(X_train['LSTAT'],y_train)\n",
    "plt.scatter(X_train['LSTAT'],pre2, color = 'red') # 예측값2\n",
    "plt.show()"
   ]
  },
  {
   "cell_type": "code",
   "execution_count": 30,
   "id": "afe41856",
   "metadata": {},
   "outputs": [
    {
     "data": {
      "text/plain": [
       "0.6978697736472479"
      ]
     },
     "execution_count": 30,
     "metadata": {},
     "output_type": "execute_result"
    }
   ],
   "source": [
    "X_test['LSTAT x LSTAT'] = X_test['LSTAT'] * X_test['LSTAT'] # 특성곱\n",
    "\n",
    "# 특성 확장한 데이터 추가하여 모델 학습 후 맨 처음 모델 r2와 비교하기\n",
    "linear_model = LinearRegression()\n",
    "linear_model.fit(X_train, y_train)\n",
    "linear_model.score(X_test, y_test) # r2_score 결정계수"
   ]
  },
  {
   "cell_type": "code",
   "execution_count": 32,
   "id": "8c86084d",
   "metadata": {},
   "outputs": [
    {
     "data": {
      "text/plain": [
       "0.8224831400994939"
      ]
     },
     "execution_count": 32,
     "metadata": {},
     "output_type": "execute_result"
    }
   ],
   "source": [
    "linear_model.score(X_train,y_train)"
   ]
  },
  {
   "cell_type": "code",
   "execution_count": 33,
   "id": "7895ae31",
   "metadata": {},
   "outputs": [],
   "source": [
    "# 선형 모델을 데이터가 많으면 많을 수록 학습이 잘 될 수 있음\n",
    "# 특성확장(특성곱)을 통해 데이터 포인터들을 더 많이 인식하게 되면서\n",
    "# 데이터에대해 잘 학습하고 있음을 보여줌"
   ]
  },
  {
   "cell_type": "markdown",
   "id": "d8a81e0e",
   "metadata": {},
   "source": [
    "#### 다항회귀 이해: 독립변수의 단항식이 아닌 2차,3차 방정식과 같은 다항식으로 표현된 것을 다항회귀라고 함\n",
    "\n",
    "<font color = 'red'> 주의) <br>\n",
    "1. 다항회귀를 선형이 아닌 비선형 회귀로 혼동 할 수 있지만, 선형회귀라는 점을 기억하자  \n",
    "2. 선형/비선형 회귀를 나누는 기준은 회귀 계수가 선형/비선형인가에 따른 것이지 독립변수의 선형/비선형에 따른 것이 아님"
   ]
  },
  {
   "cell_type": "markdown",
   "id": "ba183ee5",
   "metadata": {},
   "source": [
    "- rm 특성 확장해보기"
   ]
  },
  {
   "cell_type": "code",
   "execution_count": 35,
   "id": "17c01793",
   "metadata": {},
   "outputs": [
    {
     "data": {
      "image/png": "[encoded data removed]",
      "text/plain": [
       "<Figure size 432x288 with 1 Axes>"
      ]
     },
     "metadata": {
      "needs_background": "light"
     },
     "output_type": "display_data"
    }
   ],
   "source": [
    "# 확장전)\n",
    "model = LinearRegression()\n",
    "model.fit(X_train[['RM']], y_train)\n",
    "pre = model.predict(X_train[['RM']])\n",
    "pre\n",
    "\n",
    "plt.scatter(X_train['RM'], y_train)\n",
    "plt.scatter(X_train['RM'], pre,color = 'red')\n",
    "plt.show()"
   ]
  },
  {
   "cell_type": "code",
   "execution_count": 36,
   "id": "085a0be9",
   "metadata": {},
   "outputs": [
    {
     "data": {
      "image/png": "[encoded data removed]",
      "text/plain": [
       "<Figure size 432x288 with 1 Axes>"
      ]
     },
     "metadata": {
      "needs_background": "light"
     },
     "output_type": "display_data"
    }
   ],
   "source": [
    "# 확장후)\n",
    "X_train['RM x RM'] = X_train['RM'] * X_train['RM'] # 특성곱\n",
    "model2 = LinearRegression()\n",
    "model2.fit(X_train[['RM','RM x RM']], y_train)\n",
    "pre2 = model2.predict(X_train[['RM','RM x RM']])\n",
    "\n",
    "plt.scatter(X_train['RM'],y_train)\n",
    "plt.scatter(X_train['RM'],pre2, color = 'red') # 예측값2\n",
    "plt.show()"
   ]
  },
  {
   "cell_type": "code",
   "execution_count": 37,
   "id": "552f5ee7",
   "metadata": {},
   "outputs": [
    {
     "data": {
      "text/plain": [
       "0.7460776611187947"
      ]
     },
     "execution_count": 37,
     "metadata": {},
     "output_type": "execute_result"
    }
   ],
   "source": [
    "# 특성확장된 데이터 가지고 성능평가해보기\n",
    "X_test['RM x RM'] = X_test['RM'] * X_test['RM'] # 특성곱\n",
    "\n",
    "# 특성 확장한 데이터 추가하여 모델 학습 후 맨 처음 모델 r2와 비교하기\n",
    "linear_model = LinearRegression()\n",
    "linear_model.fit(X_train, y_train)\n",
    "linear_model.score(X_test, y_test) # r2_score 결정계수 74%"
   ]
  },
  {
   "cell_type": "markdown",
   "id": "72ed4038",
   "metadata": {},
   "source": [
    "- 모든 데이터 전체 특성확장해보기"
   ]
  },
  {
   "cell_type": "code",
   "execution_count": 38,
   "id": "a9186e4e",
   "metadata": {},
   "outputs": [],
   "source": [
    "# 2개의 특성이 확장 되어 있으니 삭제\n",
    "X_train.drop(['LSTAT x LSTAT','RM x RM'], axis = 1, inplace = True)\n",
    "X_test.drop(['LSTAT x LSTAT','RM x RM'], axis = 1, inplace = True)"
   ]
  },
  {
   "cell_type": "code",
   "execution_count": 39,
   "id": "3c9f011e",
   "metadata": {},
   "outputs": [
    {
     "name": "stdout",
     "output_type": "stream",
     "text": [
      "<class 'pandas.core.frame.DataFrame'>\n",
      "Int64Index: 354 entries, 141 to 172\n",
      "Data columns (total 13 columns):\n",
      " #   Column   Non-Null Count  Dtype  \n",
      "---  ------   --------------  -----  \n",
      " 0   CRIM     354 non-null    float64\n",
      " 1   ZN       354 non-null    float64\n",
      " 2   INDUS    354 non-null    float64\n",
      " 3   CHAS     354 non-null    float64\n",
      " 4   NOX      354 non-null    float64\n",
      " 5   RM       354 non-null    float64\n",
      " 6   AGE      354 non-null    float64\n",
      " 7   DIS      354 non-null    float64\n",
      " 8   RAD      354 non-null    float64\n",
      " 9   TAX      354 non-null    float64\n",
      " 10  PTRATIO  354 non-null    float64\n",
      " 11  B        354 non-null    float64\n",
      " 12  LSTAT    354 non-null    float64\n",
      "dtypes: float64(13)\n",
      "memory usage: 38.7 KB\n",
      "<class 'pandas.core.frame.DataFrame'>\n",
      "Int64Index: 152 entries, 329 to 5\n",
      "Data columns (total 13 columns):\n",
      " #   Column   Non-Null Count  Dtype  \n",
      "---  ------   --------------  -----  \n",
      " 0   CRIM     152 non-null    float64\n",
      " 1   ZN       152 non-null    float64\n",
      " 2   INDUS    152 non-null    float64\n",
      " 3   CHAS     152 non-null    float64\n",
      " 4   NOX      152 non-null    float64\n",
      " 5   RM       152 non-null    float64\n",
      " 6   AGE      152 non-null    float64\n",
      " 7   DIS      152 non-null    float64\n",
      " 8   RAD      152 non-null    float64\n",
      " 9   TAX      152 non-null    float64\n",
      " 10  PTRATIO  152 non-null    float64\n",
      " 11  B        152 non-null    float64\n",
      " 12  LSTAT    152 non-null    float64\n",
      "dtypes: float64(13)\n",
      "memory usage: 16.6 KB\n"
     ]
    }
   ],
   "source": [
    "X_train.info()\n",
    "X_test.info()"
   ]
  },
  {
   "cell_type": "code",
   "execution_count": 40,
   "id": "68ceb5df",
   "metadata": {},
   "outputs": [],
   "source": [
    "# 데이터를 복사\n",
    "extended_X_train = X_train.copy() # 깊은복사\n",
    "extended_X_test = X_test.copy() # 깊은복사"
   ]
  },
  {
   "cell_type": "code",
   "execution_count": 42,
   "id": "6423be1d",
   "metadata": {},
   "outputs": [],
   "source": [
    "# for - train 특성들 확장\n",
    "for col1 in X_train.columns: # 13개 컬럼\n",
    "    for col2 in X_train.columns : # 13개 컬럼\n",
    "        extended_X_train[col1+'x'+col2] = X_train[col1]* X_train[col2]"
   ]
  },
  {
   "cell_type": "code",
   "execution_count": 43,
   "id": "4e6a3c4e",
   "metadata": {},
   "outputs": [
    {
     "data": {
      "text/html": [
       "<div>\n",
       "<style scoped>\n",
       "    .dataframe tbody tr th:only-of-type {\n",
       "        vertical-align: middle;\n",
       "    }\n",
       "\n",
       "    .dataframe tbody tr th {\n",
       "        vertical-align: top;\n",
       "    }\n",
       "\n",
       "    .dataframe thead th {\n",
       "        text-align: right;\n",
       "    }\n",
       "</style>\n",
       "<table border=\"1\" class=\"dataframe\">\n",
       "  <thead>\n",
       "    <tr style=\"text-align: right;\">\n",
       "      <th></th>\n",
       "      <th>CRIM</th>\n",
       "      <th>ZN</th>\n",
       "      <th>INDUS</th>\n",
       "      <th>CHAS</th>\n",
       "      <th>NOX</th>\n",
       "      <th>RM</th>\n",
       "      <th>AGE</th>\n",
       "      <th>DIS</th>\n",
       "      <th>RAD</th>\n",
       "      <th>TAX</th>\n",
       "      <th>...</th>\n",
       "      <th>LSTATxCHAS</th>\n",
       "      <th>LSTATxNOX</th>\n",
       "      <th>LSTATxRM</th>\n",
       "      <th>LSTATxAGE</th>\n",
       "      <th>LSTATxDIS</th>\n",
       "      <th>LSTATxRAD</th>\n",
       "      <th>LSTATxTAX</th>\n",
       "      <th>LSTATxPTRATIO</th>\n",
       "      <th>LSTATxB</th>\n",
       "      <th>LSTATxLSTAT</th>\n",
       "    </tr>\n",
       "  </thead>\n",
       "  <tbody>\n",
       "    <tr>\n",
       "      <th>141</th>\n",
       "      <td>1.62864</td>\n",
       "      <td>0.0</td>\n",
       "      <td>21.89</td>\n",
       "      <td>0.0</td>\n",
       "      <td>0.624</td>\n",
       "      <td>5.019</td>\n",
       "      <td>100.0</td>\n",
       "      <td>1.4394</td>\n",
       "      <td>4.0</td>\n",
       "      <td>437.0</td>\n",
       "      <td>...</td>\n",
       "      <td>0.0</td>\n",
       "      <td>21.47184</td>\n",
       "      <td>172.70379</td>\n",
       "      <td>3441.000</td>\n",
       "      <td>49.529754</td>\n",
       "      <td>137.64</td>\n",
       "      <td>15037.17</td>\n",
       "      <td>729.492</td>\n",
       "      <td>13657.3290</td>\n",
       "      <td>1184.0481</td>\n",
       "    </tr>\n",
       "    <tr>\n",
       "      <th>272</th>\n",
       "      <td>0.11460</td>\n",
       "      <td>20.0</td>\n",
       "      <td>6.96</td>\n",
       "      <td>0.0</td>\n",
       "      <td>0.464</td>\n",
       "      <td>6.538</td>\n",
       "      <td>58.7</td>\n",
       "      <td>3.9175</td>\n",
       "      <td>3.0</td>\n",
       "      <td>223.0</td>\n",
       "      <td>...</td>\n",
       "      <td>0.0</td>\n",
       "      <td>3.58672</td>\n",
       "      <td>50.53874</td>\n",
       "      <td>453.751</td>\n",
       "      <td>30.282275</td>\n",
       "      <td>23.19</td>\n",
       "      <td>1723.79</td>\n",
       "      <td>143.778</td>\n",
       "      <td>3053.0408</td>\n",
       "      <td>59.7529</td>\n",
       "    </tr>\n",
       "    <tr>\n",
       "      <th>135</th>\n",
       "      <td>0.55778</td>\n",
       "      <td>0.0</td>\n",
       "      <td>21.89</td>\n",
       "      <td>0.0</td>\n",
       "      <td>0.624</td>\n",
       "      <td>6.335</td>\n",
       "      <td>98.2</td>\n",
       "      <td>2.1107</td>\n",
       "      <td>4.0</td>\n",
       "      <td>437.0</td>\n",
       "      <td>...</td>\n",
       "      <td>0.0</td>\n",
       "      <td>10.58304</td>\n",
       "      <td>107.44160</td>\n",
       "      <td>1665.472</td>\n",
       "      <td>35.797472</td>\n",
       "      <td>67.84</td>\n",
       "      <td>7411.52</td>\n",
       "      <td>359.552</td>\n",
       "      <td>6693.6032</td>\n",
       "      <td>287.6416</td>\n",
       "    </tr>\n",
       "    <tr>\n",
       "      <th>298</th>\n",
       "      <td>0.06466</td>\n",
       "      <td>70.0</td>\n",
       "      <td>2.24</td>\n",
       "      <td>0.0</td>\n",
       "      <td>0.400</td>\n",
       "      <td>6.345</td>\n",
       "      <td>20.1</td>\n",
       "      <td>7.8278</td>\n",
       "      <td>5.0</td>\n",
       "      <td>358.0</td>\n",
       "      <td>...</td>\n",
       "      <td>0.0</td>\n",
       "      <td>1.98800</td>\n",
       "      <td>31.53465</td>\n",
       "      <td>99.897</td>\n",
       "      <td>38.904166</td>\n",
       "      <td>24.85</td>\n",
       "      <td>1779.26</td>\n",
       "      <td>73.556</td>\n",
       "      <td>1830.1528</td>\n",
       "      <td>24.7009</td>\n",
       "    </tr>\n",
       "    <tr>\n",
       "      <th>122</th>\n",
       "      <td>0.09299</td>\n",
       "      <td>0.0</td>\n",
       "      <td>25.65</td>\n",
       "      <td>0.0</td>\n",
       "      <td>0.581</td>\n",
       "      <td>5.961</td>\n",
       "      <td>92.9</td>\n",
       "      <td>2.0869</td>\n",
       "      <td>2.0</td>\n",
       "      <td>188.0</td>\n",
       "      <td>...</td>\n",
       "      <td>0.0</td>\n",
       "      <td>10.41733</td>\n",
       "      <td>106.88073</td>\n",
       "      <td>1665.697</td>\n",
       "      <td>37.418117</td>\n",
       "      <td>35.86</td>\n",
       "      <td>3370.84</td>\n",
       "      <td>342.463</td>\n",
       "      <td>6779.1537</td>\n",
       "      <td>321.4849</td>\n",
       "    </tr>\n",
       "    <tr>\n",
       "      <th>...</th>\n",
       "      <td>...</td>\n",
       "      <td>...</td>\n",
       "      <td>...</td>\n",
       "      <td>...</td>\n",
       "      <td>...</td>\n",
       "      <td>...</td>\n",
       "      <td>...</td>\n",
       "      <td>...</td>\n",
       "      <td>...</td>\n",
       "      <td>...</td>\n",
       "      <td>...</td>\n",
       "      <td>...</td>\n",
       "      <td>...</td>\n",
       "      <td>...</td>\n",
       "      <td>...</td>\n",
       "      <td>...</td>\n",
       "      <td>...</td>\n",
       "      <td>...</td>\n",
       "      <td>...</td>\n",
       "      <td>...</td>\n",
       "      <td>...</td>\n",
       "    </tr>\n",
       "    <tr>\n",
       "      <th>323</th>\n",
       "      <td>0.28392</td>\n",
       "      <td>0.0</td>\n",
       "      <td>7.38</td>\n",
       "      <td>0.0</td>\n",
       "      <td>0.493</td>\n",
       "      <td>5.708</td>\n",
       "      <td>74.3</td>\n",
       "      <td>4.7211</td>\n",
       "      <td>5.0</td>\n",
       "      <td>287.0</td>\n",
       "      <td>...</td>\n",
       "      <td>0.0</td>\n",
       "      <td>5.78782</td>\n",
       "      <td>67.01192</td>\n",
       "      <td>872.282</td>\n",
       "      <td>55.425714</td>\n",
       "      <td>58.70</td>\n",
       "      <td>3369.38</td>\n",
       "      <td>230.104</td>\n",
       "      <td>4591.8662</td>\n",
       "      <td>137.8276</td>\n",
       "    </tr>\n",
       "    <tr>\n",
       "      <th>192</th>\n",
       "      <td>0.08664</td>\n",
       "      <td>45.0</td>\n",
       "      <td>3.44</td>\n",
       "      <td>0.0</td>\n",
       "      <td>0.437</td>\n",
       "      <td>7.178</td>\n",
       "      <td>26.3</td>\n",
       "      <td>6.4798</td>\n",
       "      <td>5.0</td>\n",
       "      <td>398.0</td>\n",
       "      <td>...</td>\n",
       "      <td>0.0</td>\n",
       "      <td>1.25419</td>\n",
       "      <td>20.60086</td>\n",
       "      <td>75.481</td>\n",
       "      <td>18.597026</td>\n",
       "      <td>14.35</td>\n",
       "      <td>1142.26</td>\n",
       "      <td>43.624</td>\n",
       "      <td>1120.7063</td>\n",
       "      <td>8.2369</td>\n",
       "    </tr>\n",
       "    <tr>\n",
       "      <th>117</th>\n",
       "      <td>0.15098</td>\n",
       "      <td>0.0</td>\n",
       "      <td>10.01</td>\n",
       "      <td>0.0</td>\n",
       "      <td>0.547</td>\n",
       "      <td>6.021</td>\n",
       "      <td>82.6</td>\n",
       "      <td>2.7474</td>\n",
       "      <td>6.0</td>\n",
       "      <td>432.0</td>\n",
       "      <td>...</td>\n",
       "      <td>0.0</td>\n",
       "      <td>5.63410</td>\n",
       "      <td>62.01630</td>\n",
       "      <td>850.780</td>\n",
       "      <td>28.298220</td>\n",
       "      <td>61.80</td>\n",
       "      <td>4449.60</td>\n",
       "      <td>183.340</td>\n",
       "      <td>4063.4530</td>\n",
       "      <td>106.0900</td>\n",
       "    </tr>\n",
       "    <tr>\n",
       "      <th>47</th>\n",
       "      <td>0.22927</td>\n",
       "      <td>0.0</td>\n",
       "      <td>6.91</td>\n",
       "      <td>0.0</td>\n",
       "      <td>0.448</td>\n",
       "      <td>6.030</td>\n",
       "      <td>85.5</td>\n",
       "      <td>5.6894</td>\n",
       "      <td>3.0</td>\n",
       "      <td>233.0</td>\n",
       "      <td>...</td>\n",
       "      <td>0.0</td>\n",
       "      <td>8.42240</td>\n",
       "      <td>113.36400</td>\n",
       "      <td>1607.400</td>\n",
       "      <td>106.960720</td>\n",
       "      <td>56.40</td>\n",
       "      <td>4380.40</td>\n",
       "      <td>336.520</td>\n",
       "      <td>7383.5120</td>\n",
       "      <td>353.4400</td>\n",
       "    </tr>\n",
       "    <tr>\n",
       "      <th>172</th>\n",
       "      <td>0.13914</td>\n",
       "      <td>0.0</td>\n",
       "      <td>4.05</td>\n",
       "      <td>0.0</td>\n",
       "      <td>0.510</td>\n",
       "      <td>5.572</td>\n",
       "      <td>88.5</td>\n",
       "      <td>2.5961</td>\n",
       "      <td>5.0</td>\n",
       "      <td>296.0</td>\n",
       "      <td>...</td>\n",
       "      <td>0.0</td>\n",
       "      <td>7.49190</td>\n",
       "      <td>81.85268</td>\n",
       "      <td>1300.065</td>\n",
       "      <td>38.136709</td>\n",
       "      <td>73.45</td>\n",
       "      <td>4348.24</td>\n",
       "      <td>243.854</td>\n",
       "      <td>5830.4610</td>\n",
       "      <td>215.7961</td>\n",
       "    </tr>\n",
       "  </tbody>\n",
       "</table>\n",
       "<p>354 rows × 182 columns</p>\n",
       "</div>"
      ],
      "text/plain": [
       "        CRIM    ZN  INDUS  CHAS    NOX     RM    AGE     DIS  RAD    TAX  ...  \\\n",
       "141  1.62864   0.0  21.89   0.0  0.624  5.019  100.0  1.4394  4.0  437.0  ...   \n",
       "272  0.11460  20.0   6.96   0.0  0.464  6.538   58.7  3.9175  3.0  223.0  ...   \n",
       "135  0.55778   0.0  21.89   0.0  0.624  6.335   98.2  2.1107  4.0  437.0  ...   \n",
       "298  0.06466  70.0   2.24   0.0  0.400  6.345   20.1  7.8278  5.0  358.0  ...   \n",
       "122  0.09299   0.0  25.65   0.0  0.581  5.961   92.9  2.0869  2.0  188.0  ...   \n",
       "..       ...   ...    ...   ...    ...    ...    ...     ...  ...    ...  ...   \n",
       "323  0.28392   0.0   7.38   0.0  0.493  5.708   74.3  4.7211  5.0  287.0  ...   \n",
       "192  0.08664  45.0   3.44   0.0  0.437  7.178   26.3  6.4798  5.0  398.0  ...   \n",
       "117  0.15098   0.0  10.01   0.0  0.547  6.021   82.6  2.7474  6.0  432.0  ...   \n",
       "47   0.22927   0.0   6.91   0.0  0.448  6.030   85.5  5.6894  3.0  233.0  ...   \n",
       "172  0.13914   0.0   4.05   0.0  0.510  5.572   88.5  2.5961  5.0  296.0  ...   \n",
       "\n",
       "     LSTATxCHAS  LSTATxNOX   LSTATxRM  LSTATxAGE   LSTATxDIS  LSTATxRAD  \\\n",
       "141         0.0   21.47184  172.70379   3441.000   49.529754     137.64   \n",
       "272         0.0    3.58672   50.53874    453.751   30.282275      23.19   \n",
       "135         0.0   10.58304  107.44160   1665.472   35.797472      67.84   \n",
       "298         0.0    1.98800   31.53465     99.897   38.904166      24.85   \n",
       "122         0.0   10.41733  106.88073   1665.697   37.418117      35.86   \n",
       "..          ...        ...        ...        ...         ...        ...   \n",
       "323         0.0    5.78782   67.01192    872.282   55.425714      58.70   \n",
       "192         0.0    1.25419   20.60086     75.481   18.597026      14.35   \n",
       "117         0.0    5.63410   62.01630    850.780   28.298220      61.80   \n",
       "47          0.0    8.42240  113.36400   1607.400  106.960720      56.40   \n",
       "172         0.0    7.49190   81.85268   1300.065   38.136709      73.45   \n",
       "\n",
       "     LSTATxTAX  LSTATxPTRATIO     LSTATxB  LSTATxLSTAT  \n",
       "141   15037.17        729.492  13657.3290    1184.0481  \n",
       "272    1723.79        143.778   3053.0408      59.7529  \n",
       "135    7411.52        359.552   6693.6032     287.6416  \n",
       "298    1779.26         73.556   1830.1528      24.7009  \n",
       "122    3370.84        342.463   6779.1537     321.4849  \n",
       "..         ...            ...         ...          ...  \n",
       "323    3369.38        230.104   4591.8662     137.8276  \n",
       "192    1142.26         43.624   1120.7063       8.2369  \n",
       "117    4449.60        183.340   4063.4530     106.0900  \n",
       "47     4380.40        336.520   7383.5120     353.4400  \n",
       "172    4348.24        243.854   5830.4610     215.7961  \n",
       "\n",
       "[354 rows x 182 columns]"
      ]
     },
     "execution_count": 43,
     "metadata": {},
     "output_type": "execute_result"
    }
   ],
   "source": [
    "extended_X_train"
   ]
  },
  {
   "cell_type": "code",
   "execution_count": 44,
   "id": "8e016d81",
   "metadata": {},
   "outputs": [],
   "source": [
    "# for -test 특성 확장\n",
    "for col1 in X_test.columns: # 13개 컬럼\n",
    "    for col2 in X_test.columns : # 13개 컬럼\n",
    "        extended_X_test[col1+'x'+col2] = X_test[col1]* X_test[col2]"
   ]
  },
  {
   "cell_type": "code",
   "execution_count": 45,
   "id": "68078f36",
   "metadata": {},
   "outputs": [
    {
     "data": {
      "text/plain": [
       "Index(['CRIM', 'ZN', 'INDUS', 'CHAS', 'NOX', 'RM', 'AGE', 'DIS', 'RAD', 'TAX',\n",
       "       ...\n",
       "       'LSTATxCHAS', 'LSTATxNOX', 'LSTATxRM', 'LSTATxAGE', 'LSTATxDIS',\n",
       "       'LSTATxRAD', 'LSTATxTAX', 'LSTATxPTRATIO', 'LSTATxB', 'LSTATxLSTAT'],\n",
       "      dtype='object', length=182)"
      ]
     },
     "execution_count": 45,
     "metadata": {},
     "output_type": "execute_result"
    }
   ],
   "source": [
    "extended_X_test.columns"
   ]
  },
  {
   "cell_type": "code",
   "execution_count": 46,
   "id": "118abe16",
   "metadata": {},
   "outputs": [
    {
     "name": "stdout",
     "output_type": "stream",
     "text": [
      "<class 'pandas.core.frame.DataFrame'>\n",
      "Int64Index: 354 entries, 141 to 172\n",
      "Columns: 182 entries, CRIM to LSTATxLSTAT\n",
      "dtypes: float64(182)\n",
      "memory usage: 506.1 KB\n"
     ]
    }
   ],
   "source": [
    "extended_X_train.info()"
   ]
  },
  {
   "cell_type": "code",
   "execution_count": 47,
   "id": "f5d763d9",
   "metadata": {},
   "outputs": [
    {
     "name": "stdout",
     "output_type": "stream",
     "text": [
      "<class 'pandas.core.frame.DataFrame'>\n",
      "Int64Index: 152 entries, 329 to 5\n",
      "Columns: 182 entries, CRIM to LSTATxLSTAT\n",
      "dtypes: float64(182)\n",
      "memory usage: 217.3 KB\n"
     ]
    }
   ],
   "source": [
    "extended_X_test.info()"
   ]
  },
  {
   "cell_type": "code",
   "execution_count": 48,
   "id": "4050548d",
   "metadata": {},
   "outputs": [
    {
     "data": {
      "text/plain": [
       "LinearRegression()"
      ]
     },
     "execution_count": 48,
     "metadata": {},
     "output_type": "execute_result"
    }
   ],
   "source": [
    "linear_model = LinearRegression()\n",
    "linear_model.fit(extended_X_train, y_train)"
   ]
  },
  {
   "cell_type": "code",
   "execution_count": 49,
   "id": "a87424b8",
   "metadata": {},
   "outputs": [
    {
     "data": {
      "text/plain": [
       "0.6486839499829934"
      ]
     },
     "execution_count": 49,
     "metadata": {},
     "output_type": "execute_result"
    }
   ],
   "source": [
    "# 성능확인\n",
    "linear_model.score(extended_X_test, y_test) # 64%"
   ]
  },
  {
   "cell_type": "markdown",
   "id": "451c05d7",
   "metadata": {},
   "source": [
    "특성이 너무 많아져서 과대적합에 걸렸을 확률이 높음  \n",
    "그래서 전보다 낮은 스코어를 보여주고 있음  \n",
    "LinearRegression 모델은 이 상황을 제어해줄수있는 하이퍼 파라미터가 없음  \n",
    "규제를 가할 수 있는 Ridge규제 모델을 적용해보자"
   ]
  },
  {
   "cell_type": "markdown",
   "id": "5a4bd0df",
   "metadata": {},
   "source": [
    "#### Ridge 정규화 모델- 모델의 복잡도를 제어할 수 있는 모델"
   ]
  },
  {
   "cell_type": "code",
   "execution_count": 50,
   "id": "6cef2836",
   "metadata": {},
   "outputs": [],
   "source": [
    "from sklearn.linear_model import Ridge"
   ]
  },
  {
   "cell_type": "code",
   "execution_count": 51,
   "id": "65983df5",
   "metadata": {},
   "outputs": [],
   "source": [
    "ridge_model = Ridge(alpha = 100) # alpha 규제의 정도를 설정"
   ]
  },
  {
   "cell_type": "code",
   "execution_count": 52,
   "id": "6f3f40a3",
   "metadata": {},
   "outputs": [
    {
     "data": {
      "text/plain": [
       "Ridge(alpha=100)"
      ]
     },
     "execution_count": 52,
     "metadata": {},
     "output_type": "execute_result"
    }
   ],
   "source": [
    "ridge_model.fit(extended_X_train, y_train)"
   ]
  },
  {
   "cell_type": "code",
   "execution_count": 54,
   "id": "0fbe18f8",
   "metadata": {},
   "outputs": [
    {
     "data": {
      "text/plain": [
       "0.7767755128062308"
      ]
     },
     "execution_count": 54,
     "metadata": {},
     "output_type": "execute_result"
    }
   ],
   "source": [
    "# 스코어 확인하기 (결정계수)\n",
    "ridge_model.score(extended_X_test,y_test) # 77% 결정계수"
   ]
  },
  {
   "cell_type": "markdown",
   "id": "2a995917",
   "metadata": {},
   "source": [
    "#### Ridge vs Lasso 비교\n",
    "- lasso(L1규제) : 가중치의 절대값의 합을 최소화하는 제약조건 \n",
    "    - 가중치가 너무 작아지는 경우 상수값에 의해서 가중치가 0이 되어버림\n",
    "- ridge(L2규제) : 가중치의 제곱합을 최소화하는 제약조건\n",
    "    - 특정 가중치가 비이상적으로 커지는 상황을 방지, 전체적으로 가중치를 작아지게 하여 과적합을 방지하는 것"
   ]
  },
  {
   "cell_type": "code",
   "execution_count": 55,
   "id": "4e4a1a4c",
   "metadata": {},
   "outputs": [],
   "source": [
    "from sklearn.linear_model import Ridge,Lasso"
   ]
  },
  {
   "cell_type": "code",
   "execution_count": 59,
   "id": "75e51f40",
   "metadata": {},
   "outputs": [],
   "source": [
    "alpha_list = [0.001, 0.01, 0.1, 10, 100, 1000]\n",
    "ridge_coef_list = []\n",
    "lasso_coef_list = []\n",
    "\n",
    "for alpha in alpha_list :\n",
    "    r_model = Ridge(alpha = alpha)\n",
    "    l_model = Lasso(alpha = alpha)\n",
    "    r_model.fit(X_train,y_train)\n",
    "    l_model.fit(X_train,y_train)\n",
    "    ridge_coef_list.append(r_model.coef_)\n",
    "    lasso_coef_list.append(l_model.coef_)    "
   ]
  },
  {
   "cell_type": "code",
   "execution_count": 63,
   "id": "2ef24ee0",
   "metadata": {
    "collapsed": true
   },
   "outputs": [
    {
     "data": {
      "text/html": [
       "<div>\n",
       "<style scoped>\n",
       "    .dataframe tbody tr th:only-of-type {\n",
       "        vertical-align: middle;\n",
       "    }\n",
       "\n",
       "    .dataframe tbody tr th {\n",
       "        vertical-align: top;\n",
       "    }\n",
       "\n",
       "    .dataframe thead th {\n",
       "        text-align: right;\n",
       "    }\n",
       "</style>\n",
       "<table border=\"1\" class=\"dataframe\">\n",
       "  <thead>\n",
       "    <tr style=\"text-align: right;\">\n",
       "      <th></th>\n",
       "      <th>0.001</th>\n",
       "      <th>0.010</th>\n",
       "      <th>0.100</th>\n",
       "      <th>10.000</th>\n",
       "      <th>100.000</th>\n",
       "      <th>1000.000</th>\n",
       "    </tr>\n",
       "  </thead>\n",
       "  <tbody>\n",
       "    <tr>\n",
       "      <th>0</th>\n",
       "      <td>-0.121304</td>\n",
       "      <td>-0.121251</td>\n",
       "      <td>-0.120763</td>\n",
       "      <td>-0.116008</td>\n",
       "      <td>-0.109848</td>\n",
       "      <td>-0.089402</td>\n",
       "    </tr>\n",
       "    <tr>\n",
       "      <th>1</th>\n",
       "      <td>0.044470</td>\n",
       "      <td>0.044497</td>\n",
       "      <td>0.044753</td>\n",
       "      <td>0.048609</td>\n",
       "      <td>0.053624</td>\n",
       "      <td>0.054174</td>\n",
       "    </tr>\n",
       "    <tr>\n",
       "      <th>2</th>\n",
       "      <td>0.011278</td>\n",
       "      <td>0.010711</td>\n",
       "      <td>0.005540</td>\n",
       "      <td>-0.047175</td>\n",
       "      <td>-0.052950</td>\n",
       "      <td>-0.035259</td>\n",
       "    </tr>\n",
       "    <tr>\n",
       "      <th>3</th>\n",
       "      <td>2.511254</td>\n",
       "      <td>2.511310</td>\n",
       "      <td>2.510884</td>\n",
       "      <td>1.785961</td>\n",
       "      <td>0.483850</td>\n",
       "      <td>0.071015</td>\n",
       "    </tr>\n",
       "    <tr>\n",
       "      <th>4</th>\n",
       "      <td>-16.215572</td>\n",
       "      <td>-16.075800</td>\n",
       "      <td>-14.800321</td>\n",
       "      <td>-1.540350</td>\n",
       "      <td>-0.163749</td>\n",
       "      <td>-0.006989</td>\n",
       "    </tr>\n",
       "    <tr>\n",
       "      <th>5</th>\n",
       "      <td>3.859184</td>\n",
       "      <td>3.860214</td>\n",
       "      <td>3.869280</td>\n",
       "      <td>3.620640</td>\n",
       "      <td>1.972206</td>\n",
       "      <td>0.431777</td>\n",
       "    </tr>\n",
       "    <tr>\n",
       "      <th>6</th>\n",
       "      <td>-0.010001</td>\n",
       "      <td>-0.010144</td>\n",
       "      <td>-0.011441</td>\n",
       "      <td>-0.021636</td>\n",
       "      <td>-0.005280</td>\n",
       "      <td>0.028926</td>\n",
       "    </tr>\n",
       "    <tr>\n",
       "      <th>7</th>\n",
       "      <td>-1.500067</td>\n",
       "      <td>-1.498261</td>\n",
       "      <td>-1.481782</td>\n",
       "      <td>-1.309680</td>\n",
       "      <td>-1.183078</td>\n",
       "      <td>-0.538181</td>\n",
       "    </tr>\n",
       "    <tr>\n",
       "      <th>8</th>\n",
       "      <td>0.242095</td>\n",
       "      <td>0.241661</td>\n",
       "      <td>0.237723</td>\n",
       "      <td>0.211507</td>\n",
       "      <td>0.253968</td>\n",
       "      <td>0.239244</td>\n",
       "    </tr>\n",
       "    <tr>\n",
       "      <th>9</th>\n",
       "      <td>-0.011073</td>\n",
       "      <td>-0.011082</td>\n",
       "      <td>-0.011165</td>\n",
       "      <td>-0.012664</td>\n",
       "      <td>-0.014718</td>\n",
       "      <td>-0.015490</td>\n",
       "    </tr>\n",
       "    <tr>\n",
       "      <th>10</th>\n",
       "      <td>-1.017581</td>\n",
       "      <td>-1.016049</td>\n",
       "      <td>-1.002095</td>\n",
       "      <td>-0.876398</td>\n",
       "      <td>-0.912937</td>\n",
       "      <td>-0.663484</td>\n",
       "    </tr>\n",
       "    <tr>\n",
       "      <th>11</th>\n",
       "      <td>0.006815</td>\n",
       "      <td>0.006823</td>\n",
       "      <td>0.006895</td>\n",
       "      <td>0.007688</td>\n",
       "      <td>0.007424</td>\n",
       "      <td>0.006714</td>\n",
       "    </tr>\n",
       "    <tr>\n",
       "      <th>12</th>\n",
       "      <td>-0.486749</td>\n",
       "      <td>-0.486849</td>\n",
       "      <td>-0.487785</td>\n",
       "      <td>-0.524099</td>\n",
       "      <td>-0.645917</td>\n",
       "      <td>-0.729910</td>\n",
       "    </tr>\n",
       "  </tbody>\n",
       "</table>\n",
       "</div>"
      ],
      "text/plain": [
       "     0.001      0.010      0.100     10.000    100.000   1000.000\n",
       "0   -0.121304  -0.121251  -0.120763 -0.116008 -0.109848 -0.089402\n",
       "1    0.044470   0.044497   0.044753  0.048609  0.053624  0.054174\n",
       "2    0.011278   0.010711   0.005540 -0.047175 -0.052950 -0.035259\n",
       "3    2.511254   2.511310   2.510884  1.785961  0.483850  0.071015\n",
       "4  -16.215572 -16.075800 -14.800321 -1.540350 -0.163749 -0.006989\n",
       "5    3.859184   3.860214   3.869280  3.620640  1.972206  0.431777\n",
       "6   -0.010001  -0.010144  -0.011441 -0.021636 -0.005280  0.028926\n",
       "7   -1.500067  -1.498261  -1.481782 -1.309680 -1.183078 -0.538181\n",
       "8    0.242095   0.241661   0.237723  0.211507  0.253968  0.239244\n",
       "9   -0.011073  -0.011082  -0.011165 -0.012664 -0.014718 -0.015490\n",
       "10  -1.017581  -1.016049  -1.002095 -0.876398 -0.912937 -0.663484\n",
       "11   0.006815   0.006823   0.006895  0.007688  0.007424  0.006714\n",
       "12  -0.486749  -0.486849  -0.487785 -0.524099 -0.645917 -0.729910"
      ]
     },
     "execution_count": 63,
     "metadata": {},
     "output_type": "execute_result"
    }
   ],
   "source": [
    "# Ridge 정규화 모델 가중치 변화 데이터프레임으로 확인\n",
    "rd_df = pd.DataFrame(np.array(ridge_coef_list).T,\n",
    "                     columns = alpha_list)\n",
    "rd_df"
   ]
  },
  {
   "cell_type": "code",
   "execution_count": 65,
   "id": "f847bafb",
   "metadata": {
    "collapsed": true
   },
   "outputs": [
    {
     "data": {
      "text/html": [
       "<div>\n",
       "<style scoped>\n",
       "    .dataframe tbody tr th:only-of-type {\n",
       "        vertical-align: middle;\n",
       "    }\n",
       "\n",
       "    .dataframe tbody tr th {\n",
       "        vertical-align: top;\n",
       "    }\n",
       "\n",
       "    .dataframe thead th {\n",
       "        text-align: right;\n",
       "    }\n",
       "</style>\n",
       "<table border=\"1\" class=\"dataframe\">\n",
       "  <thead>\n",
       "    <tr style=\"text-align: right;\">\n",
       "      <th></th>\n",
       "      <th>0.001</th>\n",
       "      <th>0.010</th>\n",
       "      <th>0.100</th>\n",
       "      <th>10.000</th>\n",
       "      <th>100.000</th>\n",
       "      <th>1000.000</th>\n",
       "    </tr>\n",
       "  </thead>\n",
       "  <tbody>\n",
       "    <tr>\n",
       "      <th>CRIM</th>\n",
       "      <td>-0.121161</td>\n",
       "      <td>-0.119781</td>\n",
       "      <td>-0.113118</td>\n",
       "      <td>-0.000000</td>\n",
       "      <td>-0.000000</td>\n",
       "      <td>-0.0</td>\n",
       "    </tr>\n",
       "    <tr>\n",
       "      <th>ZN</th>\n",
       "      <td>0.044526</td>\n",
       "      <td>0.045093</td>\n",
       "      <td>0.047251</td>\n",
       "      <td>0.031050</td>\n",
       "      <td>0.000000</td>\n",
       "      <td>0.0</td>\n",
       "    </tr>\n",
       "    <tr>\n",
       "      <th>INDUS</th>\n",
       "      <td>0.009928</td>\n",
       "      <td>-0.001208</td>\n",
       "      <td>-0.039925</td>\n",
       "      <td>-0.000000</td>\n",
       "      <td>-0.000000</td>\n",
       "      <td>-0.0</td>\n",
       "    </tr>\n",
       "    <tr>\n",
       "      <th>CHAS</th>\n",
       "      <td>2.497490</td>\n",
       "      <td>2.371394</td>\n",
       "      <td>0.964789</td>\n",
       "      <td>0.000000</td>\n",
       "      <td>0.000000</td>\n",
       "      <td>0.0</td>\n",
       "    </tr>\n",
       "    <tr>\n",
       "      <th>NOX</th>\n",
       "      <td>-15.884229</td>\n",
       "      <td>-12.789549</td>\n",
       "      <td>-0.000000</td>\n",
       "      <td>0.000000</td>\n",
       "      <td>-0.000000</td>\n",
       "      <td>-0.0</td>\n",
       "    </tr>\n",
       "    <tr>\n",
       "      <th>RM</th>\n",
       "      <td>3.859429</td>\n",
       "      <td>3.863614</td>\n",
       "      <td>3.722896</td>\n",
       "      <td>0.000000</td>\n",
       "      <td>0.000000</td>\n",
       "      <td>0.0</td>\n",
       "    </tr>\n",
       "    <tr>\n",
       "      <th>AGE</th>\n",
       "      <td>-0.010292</td>\n",
       "      <td>-0.013035</td>\n",
       "      <td>-0.021431</td>\n",
       "      <td>0.000000</td>\n",
       "      <td>-0.000000</td>\n",
       "      <td>-0.0</td>\n",
       "    </tr>\n",
       "    <tr>\n",
       "      <th>DIS</th>\n",
       "      <td>-1.495377</td>\n",
       "      <td>-1.450155</td>\n",
       "      <td>-1.233704</td>\n",
       "      <td>-0.000000</td>\n",
       "      <td>0.000000</td>\n",
       "      <td>0.0</td>\n",
       "    </tr>\n",
       "    <tr>\n",
       "      <th>RAD</th>\n",
       "      <td>0.241125</td>\n",
       "      <td>0.232505</td>\n",
       "      <td>0.204690</td>\n",
       "      <td>0.000000</td>\n",
       "      <td>-0.000000</td>\n",
       "      <td>-0.0</td>\n",
       "    </tr>\n",
       "    <tr>\n",
       "      <th>TAX</th>\n",
       "      <td>-0.011097</td>\n",
       "      <td>-0.011366</td>\n",
       "      <td>-0.012944</td>\n",
       "      <td>-0.010997</td>\n",
       "      <td>-0.021888</td>\n",
       "      <td>-0.0</td>\n",
       "    </tr>\n",
       "    <tr>\n",
       "      <th>PTRATIO</th>\n",
       "      <td>-1.014021</td>\n",
       "      <td>-0.981007</td>\n",
       "      <td>-0.852690</td>\n",
       "      <td>-0.000000</td>\n",
       "      <td>-0.000000</td>\n",
       "      <td>-0.0</td>\n",
       "    </tr>\n",
       "    <tr>\n",
       "      <th>B</th>\n",
       "      <td>0.006836</td>\n",
       "      <td>0.007030</td>\n",
       "      <td>0.007958</td>\n",
       "      <td>0.006235</td>\n",
       "      <td>0.003283</td>\n",
       "      <td>0.0</td>\n",
       "    </tr>\n",
       "    <tr>\n",
       "      <th>LSTAT</th>\n",
       "      <td>-0.487188</td>\n",
       "      <td>-0.491366</td>\n",
       "      <td>-0.523924</td>\n",
       "      <td>-0.559179</td>\n",
       "      <td>-0.000000</td>\n",
       "      <td>-0.0</td>\n",
       "    </tr>\n",
       "  </tbody>\n",
       "</table>\n",
       "</div>"
      ],
      "text/plain": [
       "          0.001      0.010     0.100     10.000    100.000   1000.000\n",
       "CRIM     -0.121161  -0.119781 -0.113118 -0.000000 -0.000000      -0.0\n",
       "ZN        0.044526   0.045093  0.047251  0.031050  0.000000       0.0\n",
       "INDUS     0.009928  -0.001208 -0.039925 -0.000000 -0.000000      -0.0\n",
       "CHAS      2.497490   2.371394  0.964789  0.000000  0.000000       0.0\n",
       "NOX     -15.884229 -12.789549 -0.000000  0.000000 -0.000000      -0.0\n",
       "RM        3.859429   3.863614  3.722896  0.000000  0.000000       0.0\n",
       "AGE      -0.010292  -0.013035 -0.021431  0.000000 -0.000000      -0.0\n",
       "DIS      -1.495377  -1.450155 -1.233704 -0.000000  0.000000       0.0\n",
       "RAD       0.241125   0.232505  0.204690  0.000000 -0.000000      -0.0\n",
       "TAX      -0.011097  -0.011366 -0.012944 -0.010997 -0.021888      -0.0\n",
       "PTRATIO  -1.014021  -0.981007 -0.852690 -0.000000 -0.000000      -0.0\n",
       "B         0.006836   0.007030  0.007958  0.006235  0.003283       0.0\n",
       "LSTAT    -0.487188  -0.491366 -0.523924 -0.559179 -0.000000      -0.0"
      ]
     },
     "execution_count": 65,
     "metadata": {},
     "output_type": "execute_result"
    }
   ],
   "source": [
    "# lasso 정규화 가중치 변동 데이터 프레임\n",
    "ls_df = pd.DataFrame(np.array(lasso_coef_list).T,\n",
    "                    columns = alpha_list,\n",
    "                    index = X_train.columns)\n",
    "ls_df # 특성선택을 함"
   ]
  },
  {
   "cell_type": "code",
   "execution_count": null,
   "id": "5fcdc939",
   "metadata": {},
   "outputs": [],
   "source": []
  }
 ],
 "metadata": {
  "kernelspec": {
   "display_name": "Python 3 (ipykernel)",
   "language": "python",
   "name": "python3"
  },
  "language_info": {
   "codemirror_mode": {
    "name": "ipython",
    "version": 3
   },
   "file_extension": ".py",
   "mimetype": "text/x-python",
   "name": "python",
   "nbconvert_exporter": "python",
   "pygments_lexer": "ipython3",
   "version": "3.9.12"
  }
 },
 "nbformat": 4,
 "nbformat_minor": 5
}
