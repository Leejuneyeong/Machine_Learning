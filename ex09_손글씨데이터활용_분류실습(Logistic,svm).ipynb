{
 "cells": [
  {
   "cell_type": "markdown",
   "id": "745d6058",
   "metadata": {},
   "source": [
    "### 목표\n",
    "- 손 글씨 숫자 이미지 데이터를 활용하여 분류 모델을 생성해보자\n",
    "- 선형 분류모델의 불확실성을 확인\n",
    "- 이미지 데이터의 형태를 이해해보자"
   ]
  },
  {
   "cell_type": "code",
   "execution_count": 1,
   "id": "f34a838c",
   "metadata": {},
   "outputs": [],
   "source": [
    "import numpy as np\n",
    "import pandas as pd\n",
    "import matplotlib.pyplot as plt"
   ]
  },
  {
   "cell_type": "markdown",
   "id": "c8855fbd",
   "metadata": {},
   "source": [
    "#### 데이터 불러오기"
   ]
  },
  {
   "cell_type": "code",
   "execution_count": 2,
   "id": "6160268c",
   "metadata": {},
   "outputs": [
    {
     "data": {
      "text/html": [
       "<div>\n",
       "<style scoped>\n",
       "    .dataframe tbody tr th:only-of-type {\n",
       "        vertical-align: middle;\n",
       "    }\n",
       "\n",
       "    .dataframe tbody tr th {\n",
       "        vertical-align: top;\n",
       "    }\n",
       "\n",
       "    .dataframe thead th {\n",
       "        text-align: right;\n",
       "    }\n",
       "</style>\n",
       "<table border=\"1\" class=\"dataframe\">\n",
       "  <thead>\n",
       "    <tr style=\"text-align: right;\">\n",
       "      <th></th>\n",
       "      <th>label</th>\n",
       "      <th>pixel0</th>\n",
       "      <th>pixel1</th>\n",
       "      <th>pixel2</th>\n",
       "      <th>pixel3</th>\n",
       "      <th>pixel4</th>\n",
       "      <th>pixel5</th>\n",
       "      <th>pixel6</th>\n",
       "      <th>pixel7</th>\n",
       "      <th>pixel8</th>\n",
       "      <th>...</th>\n",
       "      <th>pixel774</th>\n",
       "      <th>pixel775</th>\n",
       "      <th>pixel776</th>\n",
       "      <th>pixel777</th>\n",
       "      <th>pixel778</th>\n",
       "      <th>pixel779</th>\n",
       "      <th>pixel780</th>\n",
       "      <th>pixel781</th>\n",
       "      <th>pixel782</th>\n",
       "      <th>pixel783</th>\n",
       "    </tr>\n",
       "  </thead>\n",
       "  <tbody>\n",
       "    <tr>\n",
       "      <th>0</th>\n",
       "      <td>1</td>\n",
       "      <td>0</td>\n",
       "      <td>0</td>\n",
       "      <td>0</td>\n",
       "      <td>0</td>\n",
       "      <td>0</td>\n",
       "      <td>0</td>\n",
       "      <td>0</td>\n",
       "      <td>0</td>\n",
       "      <td>0</td>\n",
       "      <td>...</td>\n",
       "      <td>0</td>\n",
       "      <td>0</td>\n",
       "      <td>0</td>\n",
       "      <td>0</td>\n",
       "      <td>0</td>\n",
       "      <td>0</td>\n",
       "      <td>0</td>\n",
       "      <td>0</td>\n",
       "      <td>0</td>\n",
       "      <td>0</td>\n",
       "    </tr>\n",
       "    <tr>\n",
       "      <th>1</th>\n",
       "      <td>0</td>\n",
       "      <td>0</td>\n",
       "      <td>0</td>\n",
       "      <td>0</td>\n",
       "      <td>0</td>\n",
       "      <td>0</td>\n",
       "      <td>0</td>\n",
       "      <td>0</td>\n",
       "      <td>0</td>\n",
       "      <td>0</td>\n",
       "      <td>...</td>\n",
       "      <td>0</td>\n",
       "      <td>0</td>\n",
       "      <td>0</td>\n",
       "      <td>0</td>\n",
       "      <td>0</td>\n",
       "      <td>0</td>\n",
       "      <td>0</td>\n",
       "      <td>0</td>\n",
       "      <td>0</td>\n",
       "      <td>0</td>\n",
       "    </tr>\n",
       "    <tr>\n",
       "      <th>2</th>\n",
       "      <td>1</td>\n",
       "      <td>0</td>\n",
       "      <td>0</td>\n",
       "      <td>0</td>\n",
       "      <td>0</td>\n",
       "      <td>0</td>\n",
       "      <td>0</td>\n",
       "      <td>0</td>\n",
       "      <td>0</td>\n",
       "      <td>0</td>\n",
       "      <td>...</td>\n",
       "      <td>0</td>\n",
       "      <td>0</td>\n",
       "      <td>0</td>\n",
       "      <td>0</td>\n",
       "      <td>0</td>\n",
       "      <td>0</td>\n",
       "      <td>0</td>\n",
       "      <td>0</td>\n",
       "      <td>0</td>\n",
       "      <td>0</td>\n",
       "    </tr>\n",
       "    <tr>\n",
       "      <th>3</th>\n",
       "      <td>4</td>\n",
       "      <td>0</td>\n",
       "      <td>0</td>\n",
       "      <td>0</td>\n",
       "      <td>0</td>\n",
       "      <td>0</td>\n",
       "      <td>0</td>\n",
       "      <td>0</td>\n",
       "      <td>0</td>\n",
       "      <td>0</td>\n",
       "      <td>...</td>\n",
       "      <td>0</td>\n",
       "      <td>0</td>\n",
       "      <td>0</td>\n",
       "      <td>0</td>\n",
       "      <td>0</td>\n",
       "      <td>0</td>\n",
       "      <td>0</td>\n",
       "      <td>0</td>\n",
       "      <td>0</td>\n",
       "      <td>0</td>\n",
       "    </tr>\n",
       "    <tr>\n",
       "      <th>4</th>\n",
       "      <td>0</td>\n",
       "      <td>0</td>\n",
       "      <td>0</td>\n",
       "      <td>0</td>\n",
       "      <td>0</td>\n",
       "      <td>0</td>\n",
       "      <td>0</td>\n",
       "      <td>0</td>\n",
       "      <td>0</td>\n",
       "      <td>0</td>\n",
       "      <td>...</td>\n",
       "      <td>0</td>\n",
       "      <td>0</td>\n",
       "      <td>0</td>\n",
       "      <td>0</td>\n",
       "      <td>0</td>\n",
       "      <td>0</td>\n",
       "      <td>0</td>\n",
       "      <td>0</td>\n",
       "      <td>0</td>\n",
       "      <td>0</td>\n",
       "    </tr>\n",
       "  </tbody>\n",
       "</table>\n",
       "<p>5 rows × 785 columns</p>\n",
       "</div>"
      ],
      "text/plain": [
       "   label  pixel0  pixel1  pixel2  pixel3  pixel4  pixel5  pixel6  pixel7  \\\n",
       "0      1       0       0       0       0       0       0       0       0   \n",
       "1      0       0       0       0       0       0       0       0       0   \n",
       "2      1       0       0       0       0       0       0       0       0   \n",
       "3      4       0       0       0       0       0       0       0       0   \n",
       "4      0       0       0       0       0       0       0       0       0   \n",
       "\n",
       "   pixel8  ...  pixel774  pixel775  pixel776  pixel777  pixel778  pixel779  \\\n",
       "0       0  ...         0         0         0         0         0         0   \n",
       "1       0  ...         0         0         0         0         0         0   \n",
       "2       0  ...         0         0         0         0         0         0   \n",
       "3       0  ...         0         0         0         0         0         0   \n",
       "4       0  ...         0         0         0         0         0         0   \n",
       "\n",
       "   pixel780  pixel781  pixel782  pixel783  \n",
       "0         0         0         0         0  \n",
       "1         0         0         0         0  \n",
       "2         0         0         0         0  \n",
       "3         0         0         0         0  \n",
       "4         0         0         0         0  \n",
       "\n",
       "[5 rows x 785 columns]"
      ]
     },
     "execution_count": 2,
     "metadata": {},
     "output_type": "execute_result"
    }
   ],
   "source": [
    "# digit_data 변수에 불러와서 저장해보기\n",
    "digit_data = pd.read_csv('data/digit_train.csv')\n",
    "# 위에서 5개 행 확인\n",
    "digit_data.head() \n",
    "# pixel 0~783 => 784 (행28,열28) 문제\n",
    "# label => 답"
   ]
  },
  {
   "cell_type": "code",
   "execution_count": 3,
   "id": "3e92721a",
   "metadata": {},
   "outputs": [
    {
     "data": {
      "text/plain": [
       "(42000, 785)"
      ]
     },
     "execution_count": 3,
     "metadata": {},
     "output_type": "execute_result"
    }
   ],
   "source": [
    "# 데이터 크기\n",
    "digit_data.shape\n",
    "# 42000 장의 이미지 데이터 - 행\n",
    "# 1개의 행은 1장의 이미지\n",
    "# 785 중 0번째는 답, 1~ 특성"
   ]
  },
  {
   "cell_type": "markdown",
   "id": "132e0f81",
   "metadata": {},
   "source": [
    "#### EDA 탐색적 데이터 분석"
   ]
  },
  {
   "cell_type": "code",
   "execution_count": 4,
   "id": "2958b340",
   "metadata": {},
   "outputs": [
    {
     "data": {
      "text/plain": [
       "1"
      ]
     },
     "execution_count": 4,
     "metadata": {},
     "output_type": "execute_result"
    }
   ],
   "source": [
    "# 이미지 한장을 기준으로 분석해보기\n",
    "# 이미지 내의 데이터 표현 범위 확인하기\n",
    "img0 = digit_data.iloc[0,1:]\n",
    "img0\n",
    "img0_lb = digit_data.iloc[0,0]\n",
    "img0_lb # 이미지에 대한 실제 답 => 이미지에 써진 숫자값"
   ]
  },
  {
   "cell_type": "code",
   "execution_count": 5,
   "id": "a9a4c796",
   "metadata": {},
   "outputs": [
    {
     "name": "stdout",
     "output_type": "stream",
     "text": [
      "최대: 255\n",
      "최소: 0\n"
     ]
    },
    {
     "data": {
      "text/plain": [
       "array([  0, 188, 255,  94, 191, 250, 253,  93, 123, 248, 167,  10,  80,\n",
       "       247, 208,  13,  29, 207, 235,  77,  54, 209,  88, 254, 238, 170,\n",
       "        17,  23, 210, 159,  16, 240,  81,  27,  20, 206, 198,   7, 168,\n",
       "       196, 203,  76,  22, 245, 103,  89, 195,  25,  15, 220, 251, 131,\n",
       "       214, 218,  95], dtype=int64)"
      ]
     },
     "execution_count": 5,
     "metadata": {},
     "output_type": "execute_result"
    }
   ],
   "source": [
    "# 최대값, 최솟값 확인\n",
    "print('최대:', img0.max())\n",
    "print('최소:', img0.min())\n",
    "# 기술통계값\n",
    "img0.describe()\n",
    "# 중복없이 값 확인\n",
    "img0.unique()\n",
    "\n",
    "# 흑백 이미지 데이터 색의 범위 : 0 ~ 255\n",
    "# 0 검은색\n",
    "# 255 흰색"
   ]
  },
  {
   "cell_type": "code",
   "execution_count": 6,
   "id": "f2dfd932",
   "metadata": {},
   "outputs": [
    {
     "data": {
      "image/png": "[encoded data removed]",
      "text/plain": [
       "<Figure size 432x288 with 1 Axes>"
      ]
     },
     "metadata": {
      "needs_background": "light"
     },
     "output_type": "display_data"
    }
   ],
   "source": [
    "# 히스토그램 - 숫자데이터의 분포 현황 확인\n",
    "plt.hist(img0, bins= 255) # bins 범위설정\n",
    "plt.ylim(0, 150) # y축 범위 설정\n",
    "plt.show()"
   ]
  },
  {
   "cell_type": "code",
   "execution_count": 7,
   "id": "70a12437",
   "metadata": {},
   "outputs": [
    {
     "data": {
      "text/plain": [
       "<function matplotlib.pyplot.show(close=None, block=None)>"
      ]
     },
     "execution_count": 7,
     "metadata": {},
     "output_type": "execute_result"
    },
    {
     "data": {
      "image/png": "[encoded data removed]",
      "text/plain": [
       "<Figure size 432x288 with 1 Axes>"
      ]
     },
     "metadata": {
      "needs_background": "light"
     },
     "output_type": "display_data"
    }
   ],
   "source": [
    "# 이미지로 확인해보기\n",
    "# reshape -> 크기를 변경 하는 함수 \n",
    "plt.imshow(img0.values.reshape(28,28), cmap = 'gray')\n",
    "plt.show"
   ]
  },
  {
   "cell_type": "code",
   "execution_count": 8,
   "id": "96d315ab",
   "metadata": {
    "scrolled": true
   },
   "outputs": [
    {
     "data": {
      "image/png": "[encoded data removed]",
      "text/plain": [
       "<Figure size 432x288 with 1 Axes>"
      ]
     },
     "metadata": {
      "needs_background": "light"
     },
     "output_type": "display_data"
    },
    {
     "name": "stdout",
     "output_type": "stream",
     "text": [
      "실제답: 7\n"
     ]
    }
   ],
   "source": [
    "# 50번째 이미지 출력해보기\n",
    "img = digit_data.iloc[50,1:]\n",
    "img\n",
    "img_lb = digit_data.iloc[50,0]\n",
    "plt.imshow(img.values.reshape(28,28), cmap = 'gray')\n",
    "plt.show() # 이미지 출력\n",
    "print('실제답:', img_lb) # 답출력"
   ]
  },
  {
   "cell_type": "code",
   "execution_count": 9,
   "id": "0e862eba",
   "metadata": {},
   "outputs": [
    {
     "data": {
      "image/png": "[encoded data removed]",
      "text/plain": [
       "<Figure size 432x288 with 1 Axes>"
      ]
     },
     "metadata": {
      "needs_background": "light"
     },
     "output_type": "display_data"
    },
    {
     "name": "stdout",
     "output_type": "stream",
     "text": [
      "실제답: 2\n"
     ]
    },
    {
     "data": {
      "image/png": "[encoded data removed]",
      "text/plain": [
       "<Figure size 432x288 with 1 Axes>"
      ]
     },
     "metadata": {
      "needs_background": "light"
     },
     "output_type": "display_data"
    },
    {
     "name": "stdout",
     "output_type": "stream",
     "text": [
      "실제답: 9\n"
     ]
    },
    {
     "data": {
      "image/png": "[encoded data removed]",
      "text/plain": [
       "<Figure size 432x288 with 1 Axes>"
      ]
     },
     "metadata": {
      "needs_background": "light"
     },
     "output_type": "display_data"
    },
    {
     "name": "stdout",
     "output_type": "stream",
     "text": [
      "실제답: 3\n"
     ]
    },
    {
     "data": {
      "image/png": "[encoded data removed]",
      "text/plain": [
       "<Figure size 432x288 with 1 Axes>"
      ]
     },
     "metadata": {
      "needs_background": "light"
     },
     "output_type": "display_data"
    },
    {
     "name": "stdout",
     "output_type": "stream",
     "text": [
      "실제답: 1\n"
     ]
    },
    {
     "data": {
      "image/png": "[encoded data removed]",
      "text/plain": [
       "<Figure size 432x288 with 1 Axes>"
      ]
     },
     "metadata": {
      "needs_background": "light"
     },
     "output_type": "display_data"
    },
    {
     "name": "stdout",
     "output_type": "stream",
     "text": [
      "실제답: 5\n"
     ]
    },
    {
     "data": {
      "image/png": "[encoded data removed]",
      "text/plain": [
       "<Figure size 432x288 with 1 Axes>"
      ]
     },
     "metadata": {
      "needs_background": "light"
     },
     "output_type": "display_data"
    },
    {
     "name": "stdout",
     "output_type": "stream",
     "text": [
      "실제답: 0\n"
     ]
    },
    {
     "data": {
      "image/png": "[encoded data removed]",
      "text/plain": [
       "<Figure size 432x288 with 1 Axes>"
      ]
     },
     "metadata": {
      "needs_background": "light"
     },
     "output_type": "display_data"
    },
    {
     "name": "stdout",
     "output_type": "stream",
     "text": [
      "실제답: 5\n"
     ]
    },
    {
     "data": {
      "image/png": "[encoded data removed]",
      "text/plain": [
       "<Figure size 432x288 with 1 Axes>"
      ]
     },
     "metadata": {
      "needs_background": "light"
     },
     "output_type": "display_data"
    },
    {
     "name": "stdout",
     "output_type": "stream",
     "text": [
      "실제답: 5\n"
     ]
    },
    {
     "data": {
      "image/png": "[encoded data removed]",
      "text/plain": [
       "<Figure size 432x288 with 1 Axes>"
      ]
     },
     "metadata": {
      "needs_background": "light"
     },
     "output_type": "display_data"
    },
    {
     "name": "stdout",
     "output_type": "stream",
     "text": [
      "실제답: 3\n"
     ]
    },
    {
     "data": {
      "image/png": "[encoded data removed]",
      "text/plain": [
       "<Figure size 432x288 with 1 Axes>"
      ]
     },
     "metadata": {
      "needs_background": "light"
     },
     "output_type": "display_data"
    },
    {
     "name": "stdout",
     "output_type": "stream",
     "text": [
      "실제답: 3\n"
     ]
    },
    {
     "data": {
      "image/png": "[encoded data removed]",
      "text/plain": [
       "<Figure size 432x288 with 1 Axes>"
      ]
     },
     "metadata": {
      "needs_background": "light"
     },
     "output_type": "display_data"
    },
    {
     "name": "stdout",
     "output_type": "stream",
     "text": [
      "실제답: 4\n"
     ]
    },
    {
     "data": {
      "image/png": "[encoded data removed]",
      "text/plain": [
       "<Figure size 432x288 with 1 Axes>"
      ]
     },
     "metadata": {
      "needs_background": "light"
     },
     "output_type": "display_data"
    },
    {
     "name": "stdout",
     "output_type": "stream",
     "text": [
      "실제답: 1\n"
     ]
    },
    {
     "data": {
      "image/png": "[encoded data removed]",
      "text/plain": [
       "<Figure size 432x288 with 1 Axes>"
      ]
     },
     "metadata": {
      "needs_background": "light"
     },
     "output_type": "display_data"
    },
    {
     "name": "stdout",
     "output_type": "stream",
     "text": [
      "실제답: 8\n"
     ]
    },
    {
     "data": {
      "image/png": "[encoded data removed]",
      "text/plain": [
       "<Figure size 432x288 with 1 Axes>"
      ]
     },
     "metadata": {
      "needs_background": "light"
     },
     "output_type": "display_data"
    },
    {
     "name": "stdout",
     "output_type": "stream",
     "text": [
      "실제답: 4\n"
     ]
    },
    {
     "data": {
      "image/png": "[encoded data removed]",
      "text/plain": [
       "<Figure size 432x288 with 1 Axes>"
      ]
     },
     "metadata": {
      "needs_background": "light"
     },
     "output_type": "display_data"
    },
    {
     "name": "stdout",
     "output_type": "stream",
     "text": [
      "실제답: 7\n"
     ]
    }
   ],
   "source": [
    "# 여러장의 이미지 확인해보기\n",
    "for i in range(10000,10030,2):\n",
    "    img = digit_data.iloc[i,1:]\n",
    "    img_lb = digit_data.iloc[i,0]\n",
    "    plt.imshow(img.values.reshape(28,28), cmap = 'gray')\n",
    "    plt.show()\n",
    "    print('실제답:', img_lb)"
   ]
  },
  {
   "cell_type": "code",
   "execution_count": 10,
   "id": "f32754a3",
   "metadata": {},
   "outputs": [
    {
     "data": {
      "text/plain": [
       "1    4684\n",
       "7    4401\n",
       "3    4351\n",
       "9    4188\n",
       "2    4177\n",
       "6    4137\n",
       "0    4132\n",
       "4    4072\n",
       "8    4063\n",
       "5    3795\n",
       "Name: label, dtype: int64"
      ]
     },
     "execution_count": 10,
     "metadata": {},
     "output_type": "execute_result"
    }
   ],
   "source": [
    "# 클래스의 개수는 몇개일까?\n",
    "np.sort(digit_data['label'].unique())\n",
    "\n",
    "# 클래스의 다양성 확인\n",
    "digit_data['label'].value_counts()"
   ]
  },
  {
   "cell_type": "code",
   "execution_count": 11,
   "id": "30cb71a0",
   "metadata": {},
   "outputs": [
    {
     "name": "stdout",
     "output_type": "stream",
     "text": [
      "(5000, 784)\n",
      "(5000,)\n"
     ]
    }
   ],
   "source": [
    "# 5000장만 사용할 예정\n",
    "X = digit_data.iloc[:5000,1:]\n",
    "y = digit_data.iloc[:5000,0]\n",
    "print(X.shape)\n",
    "print(y.shape)"
   ]
  },
  {
   "cell_type": "code",
   "execution_count": 12,
   "id": "d9b1f712",
   "metadata": {},
   "outputs": [
    {
     "name": "stdout",
     "output_type": "stream",
     "text": [
      "훈련문제: (3500, 784)\n",
      "훈련답: (3500,)\n",
      "테스트문제 (1500, 784)\n",
      "테스트답: (1500,)\n"
     ]
    }
   ],
   "source": [
    "# 훈련셋, 테스트셋 분할\n",
    "# 7 : 3\n",
    "# 7 고정\n",
    "from sklearn.model_selection import train_test_split\n",
    "\n",
    "X_train,X_test,y_train,y_test = train_test_split(X,y,\n",
    "                                                test_size = 0.3,\n",
    "                                                random_state = 7)\n",
    "\n",
    "print('훈련문제:', X_train.shape)\n",
    "print('훈련답:', y_train.shape)\n",
    "print('테스트문제', X_test.shape)\n",
    "print('테스트답:', y_test.shape)"
   ]
  },
  {
   "cell_type": "markdown",
   "id": "93192831",
   "metadata": {},
   "source": [
    "#### 모델링(교차검증 활용)\n",
    "- knn\n",
    "- tree\n",
    "- logi\n",
    "- svm"
   ]
  },
  {
   "cell_type": "code",
   "execution_count": 13,
   "id": "1d8d4f01",
   "metadata": {},
   "outputs": [],
   "source": [
    "from sklearn.neighbors import KNeighborsClassifier  # knn분류\n",
    "from sklearn.tree import DecisionTreeClassifier # tree분류\n",
    "from sklearn.linear_model import LogisticRegression # logi분류\n",
    "from sklearn.svm import LinearSVC # svm 분류\n",
    "from sklearn.model_selection import cross_val_score # 교차검증 도구\n",
    "import warnings\n",
    "warnings.filterwarnings(action = 'ignore') # 경고창 무시"
   ]
  },
  {
   "cell_type": "code",
   "execution_count": 14,
   "id": "374ece4e",
   "metadata": {},
   "outputs": [],
   "source": [
    "knn_model = KNeighborsClassifier() # 하이퍼파라미터 n_neighbors 이웃의 수\n",
    "tree_model = DecisionTreeClassifier() # 하이퍼파라미터 max_depth 최대깊이설정\n",
    "logi_model = LogisticRegression() # 하이퍼파라미터 C\n",
    "svm_model = LinearSVC() # 하이퍼파라미터 C , gamma "
   ]
  },
  {
   "cell_type": "code",
   "execution_count": 15,
   "id": "2fcc54da",
   "metadata": {},
   "outputs": [],
   "source": [
    "# 교차검증\n",
    "# 횟수 5\n",
    "knn_result = cross_val_score(knn_model, X_train, y_train, cv = 5)\n",
    "tree_result = cross_val_score(tree_model, X_train, y_train, cv = 5)\n",
    "logi_result = cross_val_score(logi_model, X_train, y_train, cv = 5)\n",
    "svm_result = cross_val_score(svm_model, X_train, y_train, cv = 5)"
   ]
  },
  {
   "cell_type": "code",
   "execution_count": 16,
   "id": "68005861",
   "metadata": {},
   "outputs": [
    {
     "name": "stdout",
     "output_type": "stream",
     "text": [
      "knn모델 교차검증 평균결과 : 0.9185714285714285\n",
      "tree모델 교차검증 평균결과 : 0.7291428571428572\n",
      "logi모델 교차검증 평균결과 : 0.8754285714285717\n",
      "svm모델 교차검증 평균결과 : 0.8214285714285715\n"
     ]
    }
   ],
   "source": [
    "# 검증 결과 확인\n",
    "print('knn모델 교차검증 평균결과 :',knn_result.mean())\n",
    "print('tree모델 교차검증 평균결과 :',tree_result.mean())\n",
    "print('logi모델 교차검증 평균결과 :',logi_result.mean())\n",
    "print('svm모델 교차검증 평균결과 :',svm_result.mean())"
   ]
  },
  {
   "cell_type": "markdown",
   "id": "7a01e778",
   "metadata": {},
   "source": [
    "- 스케일링 : svm 모델 성능 향상시켜보기"
   ]
  },
  {
   "cell_type": "code",
   "execution_count": 17,
   "id": "b5c49971",
   "metadata": {},
   "outputs": [],
   "source": [
    "# 특성 데이터의 범위 0~255\n",
    "from sklearn.preprocessing import MinMaxScaler"
   ]
  },
  {
   "cell_type": "code",
   "execution_count": 26,
   "id": "55d3709e",
   "metadata": {},
   "outputs": [
    {
     "ename": "NameError",
     "evalue": "name 'fit_transform' is not defined",
     "output_type": "error",
     "traceback": [
      "\u001b[1;31m---------------------------------------------------------------------------\u001b[0m",
      "\u001b[1;31mNameError\u001b[0m                                 Traceback (most recent call last)",
      "Input \u001b[1;32mIn [26]\u001b[0m, in \u001b[0;36m<cell line: 10>\u001b[1;34m()\u001b[0m\n\u001b[0;32m      5\u001b[0m min_max_sc\u001b[38;5;241m.\u001b[39mfit(X_train)\n\u001b[0;32m      7\u001b[0m \u001b[38;5;66;03m# 각 피처의 범위가 모두 0~1로 동등하게 분포를 변경해야하기 때문에\u001b[39;00m\n\u001b[0;32m      8\u001b[0m \u001b[38;5;66;03m# 데이터의 범위를 확인할 필요가 있음\u001b[39;00m\n\u001b[0;32m      9\u001b[0m \u001b[38;5;66;03m# 동시 실행 fit_transform()\u001b[39;00m\n\u001b[1;32m---> 10\u001b[0m \u001b[43mfit_transform\u001b[49m()\n",
      "\u001b[1;31mNameError\u001b[0m: name 'fit_transform' is not defined"
     ]
    }
   ],
   "source": [
    "# 스케일러 생성\n",
    "min_max_sc = MinMaxScaler()\n",
    "\n",
    "# 현재 특성 데이터의 범위 확인(학습)\n",
    "min_max_sc.fit(X_train)\n",
    "\n",
    "# 각 피처의 범위가 모두 0~1로 동등하게 분포를 변경해야하기 때문에\n",
    "# 데이터의 범위를 확인할 필요가 있음\n",
    "# 동시 실행 fit_transform()"
   ]
  },
  {
   "cell_type": "code",
   "execution_count": 19,
   "id": "524c4b26",
   "metadata": {},
   "outputs": [
    {
     "data": {
      "text/plain": [
       "(array([570.,  16.,  11.,   8.,   6.,  20.,  15.,   8.,  11., 119.]),\n",
       " array([0. , 0.1, 0.2, 0.3, 0.4, 0.5, 0.6, 0.7, 0.8, 0.9, 1. ]),\n",
       " <BarContainer object of 10 artists>)"
      ]
     },
     "execution_count": 19,
     "metadata": {},
     "output_type": "execute_result"
    },
    {
     "data": {
      "image/png": "[encoded data removed]",
      "text/plain": [
       "<Figure size 432x288 with 1 Axes>"
      ]
     },
     "metadata": {
      "needs_background": "light"
     },
     "output_type": "display_data"
    }
   ],
   "source": [
    "X_train_scaled = min_max_sc.transform(X_train)\n",
    "X_train_scaled\n",
    "plt.hist(X_train_scaled[0])"
   ]
  },
  {
   "cell_type": "code",
   "execution_count": 20,
   "id": "875962f8",
   "metadata": {},
   "outputs": [
    {
     "data": {
      "text/plain": [
       "(array([617.,  19.,   6.,   5.,  14.,   5.,  15.,   4.,  10.,  89.]),\n",
       " array([0. , 0.1, 0.2, 0.3, 0.4, 0.5, 0.6, 0.7, 0.8, 0.9, 1. ]),\n",
       " <BarContainer object of 10 artists>)"
      ]
     },
     "execution_count": 20,
     "metadata": {},
     "output_type": "execute_result"
    },
    {
     "data": {
      "image/png": "[encoded data removed]",
      "text/plain": [
       "<Figure size 432x288 with 1 Axes>"
      ]
     },
     "metadata": {
      "needs_background": "light"
     },
     "output_type": "display_data"
    }
   ],
   "source": [
    "X_test_scaled = min_max_sc.transform(X_test)\n",
    "plt.hist(X_test_scaled[0])"
   ]
  },
  {
   "cell_type": "code",
   "execution_count": 21,
   "id": "3abbc2e6",
   "metadata": {},
   "outputs": [
    {
     "data": {
      "text/plain": [
       "0.8625714285714287"
      ]
     },
     "execution_count": 21,
     "metadata": {},
     "output_type": "execute_result"
    }
   ],
   "source": [
    "# svm 모델 교차검증\n",
    "svm_result2 = cross_val_score(svm_model, X_train_scaled,y_train, cv = 5)\n",
    "svm_result2.mean()"
   ]
  },
  {
   "cell_type": "code",
   "execution_count": 22,
   "id": "77a32cab",
   "metadata": {},
   "outputs": [
    {
     "data": {
      "text/plain": [
       "LinearSVC()"
      ]
     },
     "execution_count": 22,
     "metadata": {},
     "output_type": "execute_result"
    }
   ],
   "source": [
    "# svm -> 스케일링된 데이터 활용\n",
    "knn_model.fit(X_train, y_train)\n",
    "tree_model.fit(X_train, y_train)\n",
    "logi_model.fit(X_train, y_train)\n",
    "svm_model.fit(X_train_scaled, y_train)"
   ]
  },
  {
   "cell_type": "code",
   "execution_count": 23,
   "id": "c66a765a",
   "metadata": {},
   "outputs": [
    {
     "name": "stdout",
     "output_type": "stream",
     "text": [
      "knn: 0.9113333333333333\n",
      "tree: 0.758\n",
      "logi: 0.8746666666666667\n",
      "svm: 0.8593333333333333\n"
     ]
    }
   ],
   "source": [
    "# score()\n",
    "# 정확도 확인해보기\n",
    "print('knn:',knn_model.score(X_test,y_test))\n",
    "print('tree:',tree_model.score(X_test,y_test))\n",
    "print('logi:',logi_model.score(X_test,y_test))\n",
    "print('svm:',svm_model.score(X_test_scaled,y_test))"
   ]
  },
  {
   "cell_type": "code",
   "execution_count": 24,
   "id": "aebfda53",
   "metadata": {},
   "outputs": [],
   "source": [
    "# 모델의 하이퍼 파라미터를 변경 (하이퍼 파라미터 튜닝)\n",
    "# 데이터 추가(확장), 클래스의 다양성 유지되고있는가? ,\n",
    "# eda -> 변형할, 특성공학해볼 데이터 확인"
   ]
  },
  {
   "cell_type": "markdown",
   "id": "a4356866",
   "metadata": {},
   "source": [
    "#### 모델의 불확실성 확인"
   ]
  },
  {
   "cell_type": "code",
   "execution_count": 29,
   "id": "dd2ab48d",
   "metadata": {},
   "outputs": [],
   "source": [
    "import pandas as pd\n",
    "pd.options.display.float_format = '{:.15f}'.format\n",
    "# pd.reset_option('display.float_format') -> 기본값으로 리셋"
   ]
  },
  {
   "cell_type": "code",
   "execution_count": 30,
   "id": "c72945c3",
   "metadata": {},
   "outputs": [
    {
     "data": {
      "text/html": [
       "<div>\n",
       "<style scoped>\n",
       "    .dataframe tbody tr th:only-of-type {\n",
       "        vertical-align: middle;\n",
       "    }\n",
       "\n",
       "    .dataframe tbody tr th {\n",
       "        vertical-align: top;\n",
       "    }\n",
       "\n",
       "    .dataframe thead th {\n",
       "        text-align: right;\n",
       "    }\n",
       "</style>\n",
       "<table border=\"1\" class=\"dataframe\">\n",
       "  <thead>\n",
       "    <tr style=\"text-align: right;\">\n",
       "      <th></th>\n",
       "      <th>0</th>\n",
       "      <th>1</th>\n",
       "      <th>2</th>\n",
       "      <th>3</th>\n",
       "      <th>4</th>\n",
       "      <th>5</th>\n",
       "      <th>6</th>\n",
       "      <th>7</th>\n",
       "      <th>8</th>\n",
       "      <th>9</th>\n",
       "    </tr>\n",
       "  </thead>\n",
       "  <tbody>\n",
       "    <tr>\n",
       "      <th>0</th>\n",
       "      <td>1.000000000000000</td>\n",
       "      <td>0.000000000000000</td>\n",
       "      <td>0.000000000000000</td>\n",
       "      <td>0.000000000000000</td>\n",
       "      <td>0.000000000000000</td>\n",
       "      <td>0.000000000000000</td>\n",
       "      <td>0.000000000000000</td>\n",
       "      <td>0.000000000000000</td>\n",
       "      <td>0.000000000000000</td>\n",
       "      <td>0.000000000000000</td>\n",
       "    </tr>\n",
       "    <tr>\n",
       "      <th>1</th>\n",
       "      <td>0.999999998553051</td>\n",
       "      <td>0.000000000000000</td>\n",
       "      <td>0.000000000000000</td>\n",
       "      <td>0.000000000000000</td>\n",
       "      <td>0.000000000000000</td>\n",
       "      <td>0.000000001446948</td>\n",
       "      <td>0.000000000000000</td>\n",
       "      <td>0.000000000000000</td>\n",
       "      <td>0.000000000000000</td>\n",
       "      <td>0.000000000000000</td>\n",
       "    </tr>\n",
       "    <tr>\n",
       "      <th>2</th>\n",
       "      <td>0.000000000000000</td>\n",
       "      <td>1.000000000000000</td>\n",
       "      <td>0.000000000000000</td>\n",
       "      <td>0.000000000000000</td>\n",
       "      <td>0.000000000000000</td>\n",
       "      <td>0.000000000000000</td>\n",
       "      <td>0.000000000000000</td>\n",
       "      <td>0.000000000000000</td>\n",
       "      <td>0.000000000000000</td>\n",
       "      <td>0.000000000000000</td>\n",
       "    </tr>\n",
       "    <tr>\n",
       "      <th>3</th>\n",
       "      <td>0.000000000000000</td>\n",
       "      <td>0.000000000000000</td>\n",
       "      <td>0.000000000000000</td>\n",
       "      <td>0.000000000000000</td>\n",
       "      <td>0.000000000000000</td>\n",
       "      <td>0.000000000000000</td>\n",
       "      <td>0.000000000000000</td>\n",
       "      <td>1.000000000000000</td>\n",
       "      <td>0.000000000000000</td>\n",
       "      <td>0.000000000000000</td>\n",
       "    </tr>\n",
       "    <tr>\n",
       "      <th>4</th>\n",
       "      <td>0.000000000000000</td>\n",
       "      <td>0.000000000000000</td>\n",
       "      <td>0.000000000000000</td>\n",
       "      <td>0.000000000000000</td>\n",
       "      <td>0.000000000000000</td>\n",
       "      <td>0.000000000000000</td>\n",
       "      <td>0.000000000000000</td>\n",
       "      <td>1.000000000000000</td>\n",
       "      <td>0.000000000000000</td>\n",
       "      <td>0.000000000000000</td>\n",
       "    </tr>\n",
       "    <tr>\n",
       "      <th>5</th>\n",
       "      <td>0.000000000000000</td>\n",
       "      <td>0.000000000000000</td>\n",
       "      <td>0.000000000000000</td>\n",
       "      <td>0.999999999422004</td>\n",
       "      <td>0.000000000000000</td>\n",
       "      <td>0.000000000577992</td>\n",
       "      <td>0.000000000000000</td>\n",
       "      <td>0.000000000000000</td>\n",
       "      <td>0.000000000000000</td>\n",
       "      <td>0.000000000000004</td>\n",
       "    </tr>\n",
       "    <tr>\n",
       "      <th>6</th>\n",
       "      <td>0.000000000000000</td>\n",
       "      <td>0.000000000000000</td>\n",
       "      <td>0.000000000000000</td>\n",
       "      <td>0.000000000000000</td>\n",
       "      <td>0.000000000000000</td>\n",
       "      <td>0.000000000000000</td>\n",
       "      <td>0.000000000000000</td>\n",
       "      <td>1.000000000000000</td>\n",
       "      <td>0.000000000000000</td>\n",
       "      <td>0.000000000000000</td>\n",
       "    </tr>\n",
       "    <tr>\n",
       "      <th>7</th>\n",
       "      <td>0.000000000000000</td>\n",
       "      <td>0.000000000000000</td>\n",
       "      <td>0.000000000000000</td>\n",
       "      <td>0.000000000000000</td>\n",
       "      <td>0.000000000000000</td>\n",
       "      <td>0.000000000000000</td>\n",
       "      <td>0.000000000000000</td>\n",
       "      <td>0.999999925383741</td>\n",
       "      <td>0.000000000000000</td>\n",
       "      <td>0.000000074616259</td>\n",
       "    </tr>\n",
       "    <tr>\n",
       "      <th>8</th>\n",
       "      <td>0.000000000000000</td>\n",
       "      <td>0.999917339446379</td>\n",
       "      <td>0.000000000000107</td>\n",
       "      <td>0.000000000000000</td>\n",
       "      <td>0.000000000000000</td>\n",
       "      <td>0.000000000000000</td>\n",
       "      <td>0.000000000000000</td>\n",
       "      <td>0.000000000000000</td>\n",
       "      <td>0.000082660553514</td>\n",
       "      <td>0.000000000000000</td>\n",
       "    </tr>\n",
       "    <tr>\n",
       "      <th>9</th>\n",
       "      <td>0.000000000000000</td>\n",
       "      <td>0.000000000000000</td>\n",
       "      <td>0.000000000000000</td>\n",
       "      <td>1.000000000000000</td>\n",
       "      <td>0.000000000000000</td>\n",
       "      <td>0.000000000000000</td>\n",
       "      <td>0.000000000000000</td>\n",
       "      <td>0.000000000000000</td>\n",
       "      <td>0.000000000000000</td>\n",
       "      <td>0.000000000000000</td>\n",
       "    </tr>\n",
       "    <tr>\n",
       "      <th>10</th>\n",
       "      <td>0.000000000000000</td>\n",
       "      <td>0.000000000000000</td>\n",
       "      <td>0.000000000000000</td>\n",
       "      <td>0.000000000001109</td>\n",
       "      <td>0.000000000000000</td>\n",
       "      <td>0.000000000000000</td>\n",
       "      <td>0.000000000000000</td>\n",
       "      <td>0.000000000000000</td>\n",
       "      <td>0.999999999998892</td>\n",
       "      <td>0.000000000000000</td>\n",
       "    </tr>\n",
       "    <tr>\n",
       "      <th>11</th>\n",
       "      <td>0.000000000000000</td>\n",
       "      <td>0.000000000000000</td>\n",
       "      <td>0.000000000000000</td>\n",
       "      <td>0.000000000000000</td>\n",
       "      <td>0.000000000000000</td>\n",
       "      <td>0.000003271439971</td>\n",
       "      <td>0.000000000000000</td>\n",
       "      <td>0.000000000000000</td>\n",
       "      <td>0.999996728560029</td>\n",
       "      <td>0.000000000000000</td>\n",
       "    </tr>\n",
       "    <tr>\n",
       "      <th>12</th>\n",
       "      <td>0.000000000000000</td>\n",
       "      <td>0.000000000000000</td>\n",
       "      <td>0.999999999999996</td>\n",
       "      <td>0.000000000000004</td>\n",
       "      <td>0.000000000000000</td>\n",
       "      <td>0.000000000000000</td>\n",
       "      <td>0.000000000000000</td>\n",
       "      <td>0.000000000000000</td>\n",
       "      <td>0.000000000000000</td>\n",
       "      <td>0.000000000000000</td>\n",
       "    </tr>\n",
       "    <tr>\n",
       "      <th>13</th>\n",
       "      <td>0.000000000000000</td>\n",
       "      <td>0.000000000000000</td>\n",
       "      <td>0.103274450044503</td>\n",
       "      <td>0.000000004321907</td>\n",
       "      <td>0.896200180723128</td>\n",
       "      <td>0.000000000000000</td>\n",
       "      <td>0.000000000000000</td>\n",
       "      <td>0.000525348367307</td>\n",
       "      <td>0.000000000000000</td>\n",
       "      <td>0.000000016543155</td>\n",
       "    </tr>\n",
       "    <tr>\n",
       "      <th>14</th>\n",
       "      <td>0.000000000000000</td>\n",
       "      <td>0.000000000000000</td>\n",
       "      <td>0.000000000002115</td>\n",
       "      <td>0.993582071357849</td>\n",
       "      <td>0.000000000000000</td>\n",
       "      <td>0.000000000006560</td>\n",
       "      <td>0.000000000000000</td>\n",
       "      <td>0.000000000165166</td>\n",
       "      <td>0.006417928468311</td>\n",
       "      <td>0.000000000000000</td>\n",
       "    </tr>\n",
       "    <tr>\n",
       "      <th>15</th>\n",
       "      <td>0.000000000000000</td>\n",
       "      <td>0.000000000000000</td>\n",
       "      <td>0.000000000000000</td>\n",
       "      <td>1.000000000000000</td>\n",
       "      <td>0.000000000000000</td>\n",
       "      <td>0.000000000000000</td>\n",
       "      <td>0.000000000000000</td>\n",
       "      <td>0.000000000000000</td>\n",
       "      <td>0.000000000000000</td>\n",
       "      <td>0.000000000000000</td>\n",
       "    </tr>\n",
       "    <tr>\n",
       "      <th>16</th>\n",
       "      <td>0.000000000000000</td>\n",
       "      <td>0.000000000000000</td>\n",
       "      <td>0.000000000000000</td>\n",
       "      <td>0.000000076429133</td>\n",
       "      <td>0.000000000000000</td>\n",
       "      <td>0.000000000000006</td>\n",
       "      <td>0.000000000000000</td>\n",
       "      <td>0.000846328874799</td>\n",
       "      <td>0.999153594696063</td>\n",
       "      <td>0.000000000000000</td>\n",
       "    </tr>\n",
       "    <tr>\n",
       "      <th>17</th>\n",
       "      <td>1.000000000000000</td>\n",
       "      <td>0.000000000000000</td>\n",
       "      <td>0.000000000000000</td>\n",
       "      <td>0.000000000000000</td>\n",
       "      <td>0.000000000000000</td>\n",
       "      <td>0.000000000000000</td>\n",
       "      <td>0.000000000000000</td>\n",
       "      <td>0.000000000000000</td>\n",
       "      <td>0.000000000000000</td>\n",
       "      <td>0.000000000000000</td>\n",
       "    </tr>\n",
       "    <tr>\n",
       "      <th>18</th>\n",
       "      <td>0.999999999972999</td>\n",
       "      <td>0.000000000000000</td>\n",
       "      <td>0.000000000000000</td>\n",
       "      <td>0.000000000000000</td>\n",
       "      <td>0.000000000000000</td>\n",
       "      <td>0.000000000027001</td>\n",
       "      <td>0.000000000000000</td>\n",
       "      <td>0.000000000000000</td>\n",
       "      <td>0.000000000000000</td>\n",
       "      <td>0.000000000000000</td>\n",
       "    </tr>\n",
       "    <tr>\n",
       "      <th>19</th>\n",
       "      <td>0.000000000000000</td>\n",
       "      <td>0.000000000000000</td>\n",
       "      <td>0.000000000000000</td>\n",
       "      <td>0.000000000000000</td>\n",
       "      <td>0.000000000000000</td>\n",
       "      <td>0.000000000000000</td>\n",
       "      <td>1.000000000000000</td>\n",
       "      <td>0.000000000000000</td>\n",
       "      <td>0.000000000000000</td>\n",
       "      <td>0.000000000000000</td>\n",
       "    </tr>\n",
       "    <tr>\n",
       "      <th>20</th>\n",
       "      <td>0.000000000000000</td>\n",
       "      <td>0.000000000000000</td>\n",
       "      <td>0.000000000000000</td>\n",
       "      <td>0.000000000000000</td>\n",
       "      <td>0.000000000000000</td>\n",
       "      <td>0.000000000000000</td>\n",
       "      <td>1.000000000000000</td>\n",
       "      <td>0.000000000000000</td>\n",
       "      <td>0.000000000000000</td>\n",
       "      <td>0.000000000000000</td>\n",
       "    </tr>\n",
       "    <tr>\n",
       "      <th>21</th>\n",
       "      <td>0.000000000000000</td>\n",
       "      <td>0.000000000000000</td>\n",
       "      <td>0.000000000000000</td>\n",
       "      <td>0.000000000000000</td>\n",
       "      <td>0.000000000007113</td>\n",
       "      <td>0.000000000000000</td>\n",
       "      <td>0.999999999992887</td>\n",
       "      <td>0.000000000000000</td>\n",
       "      <td>0.000000000000000</td>\n",
       "      <td>0.000000000000000</td>\n",
       "    </tr>\n",
       "    <tr>\n",
       "      <th>22</th>\n",
       "      <td>0.000000000000000</td>\n",
       "      <td>0.000000000000000</td>\n",
       "      <td>0.000000000000000</td>\n",
       "      <td>0.000000000000000</td>\n",
       "      <td>0.000000000000000</td>\n",
       "      <td>0.000000000000000</td>\n",
       "      <td>1.000000000000000</td>\n",
       "      <td>0.000000000000000</td>\n",
       "      <td>0.000000000000000</td>\n",
       "      <td>0.000000000000000</td>\n",
       "    </tr>\n",
       "    <tr>\n",
       "      <th>23</th>\n",
       "      <td>0.000000000000000</td>\n",
       "      <td>0.999999999526384</td>\n",
       "      <td>0.000000000000000</td>\n",
       "      <td>0.000000000439963</td>\n",
       "      <td>0.000000000000000</td>\n",
       "      <td>0.000000000000000</td>\n",
       "      <td>0.000000000000000</td>\n",
       "      <td>0.000000000010135</td>\n",
       "      <td>0.000000000000000</td>\n",
       "      <td>0.000000000023518</td>\n",
       "    </tr>\n",
       "    <tr>\n",
       "      <th>24</th>\n",
       "      <td>0.000000000000000</td>\n",
       "      <td>0.000000000000000</td>\n",
       "      <td>0.000000000000000</td>\n",
       "      <td>1.000000000000000</td>\n",
       "      <td>0.000000000000000</td>\n",
       "      <td>0.000000000000000</td>\n",
       "      <td>0.000000000000000</td>\n",
       "      <td>0.000000000000000</td>\n",
       "      <td>0.000000000000000</td>\n",
       "      <td>0.000000000000000</td>\n",
       "    </tr>\n",
       "    <tr>\n",
       "      <th>25</th>\n",
       "      <td>0.000000000000000</td>\n",
       "      <td>0.000000024455430</td>\n",
       "      <td>0.999999843067451</td>\n",
       "      <td>0.000000000000000</td>\n",
       "      <td>0.000000000000000</td>\n",
       "      <td>0.000000000000257</td>\n",
       "      <td>0.000000000000000</td>\n",
       "      <td>0.000000000000000</td>\n",
       "      <td>0.000000132476861</td>\n",
       "      <td>0.000000000000000</td>\n",
       "    </tr>\n",
       "    <tr>\n",
       "      <th>26</th>\n",
       "      <td>0.000000000000000</td>\n",
       "      <td>0.000000000000000</td>\n",
       "      <td>0.000000000000000</td>\n",
       "      <td>0.000000000000000</td>\n",
       "      <td>0.000000000000000</td>\n",
       "      <td>0.000000000000000</td>\n",
       "      <td>0.000000000000000</td>\n",
       "      <td>0.999999999998577</td>\n",
       "      <td>0.000000000000000</td>\n",
       "      <td>0.000000000001423</td>\n",
       "    </tr>\n",
       "    <tr>\n",
       "      <th>27</th>\n",
       "      <td>0.000000000000000</td>\n",
       "      <td>0.000000000000000</td>\n",
       "      <td>0.000000285201003</td>\n",
       "      <td>0.999999714788634</td>\n",
       "      <td>0.000000000000000</td>\n",
       "      <td>0.000000000000000</td>\n",
       "      <td>0.000000000000000</td>\n",
       "      <td>0.000000000000000</td>\n",
       "      <td>0.000000000000500</td>\n",
       "      <td>0.000000000009863</td>\n",
       "    </tr>\n",
       "    <tr>\n",
       "      <th>28</th>\n",
       "      <td>0.000000000000000</td>\n",
       "      <td>0.000000000000000</td>\n",
       "      <td>1.000000000000000</td>\n",
       "      <td>0.000000000000000</td>\n",
       "      <td>0.000000000000000</td>\n",
       "      <td>0.000000000000000</td>\n",
       "      <td>0.000000000000000</td>\n",
       "      <td>0.000000000000000</td>\n",
       "      <td>0.000000000000000</td>\n",
       "      <td>0.000000000000000</td>\n",
       "    </tr>\n",
       "    <tr>\n",
       "      <th>29</th>\n",
       "      <td>0.000000000000000</td>\n",
       "      <td>0.000000000000000</td>\n",
       "      <td>0.000000002012740</td>\n",
       "      <td>0.000000000000000</td>\n",
       "      <td>0.000000000000000</td>\n",
       "      <td>0.000000000000000</td>\n",
       "      <td>0.000000000000000</td>\n",
       "      <td>0.000000000000000</td>\n",
       "      <td>0.999999997987260</td>\n",
       "      <td>0.000000000000000</td>\n",
       "    </tr>\n",
       "    <tr>\n",
       "      <th>30</th>\n",
       "      <td>0.000000000000000</td>\n",
       "      <td>0.000000000000000</td>\n",
       "      <td>0.000000000000000</td>\n",
       "      <td>0.000000000000000</td>\n",
       "      <td>0.000000000000000</td>\n",
       "      <td>0.000000000000000</td>\n",
       "      <td>1.000000000000000</td>\n",
       "      <td>0.000000000000000</td>\n",
       "      <td>0.000000000000000</td>\n",
       "      <td>0.000000000000000</td>\n",
       "    </tr>\n",
       "    <tr>\n",
       "      <th>31</th>\n",
       "      <td>0.000000000000000</td>\n",
       "      <td>1.000000000000000</td>\n",
       "      <td>0.000000000000000</td>\n",
       "      <td>0.000000000000000</td>\n",
       "      <td>0.000000000000000</td>\n",
       "      <td>0.000000000000000</td>\n",
       "      <td>0.000000000000000</td>\n",
       "      <td>0.000000000000000</td>\n",
       "      <td>0.000000000000000</td>\n",
       "      <td>0.000000000000000</td>\n",
       "    </tr>\n",
       "    <tr>\n",
       "      <th>32</th>\n",
       "      <td>0.000000000000000</td>\n",
       "      <td>0.000000000000000</td>\n",
       "      <td>0.000000081020920</td>\n",
       "      <td>0.000000011079556</td>\n",
       "      <td>0.000000000000000</td>\n",
       "      <td>0.000000000132813</td>\n",
       "      <td>0.000000000000000</td>\n",
       "      <td>0.000000000000000</td>\n",
       "      <td>0.999999624981363</td>\n",
       "      <td>0.000000282785347</td>\n",
       "    </tr>\n",
       "    <tr>\n",
       "      <th>33</th>\n",
       "      <td>0.000000000000000</td>\n",
       "      <td>0.000000000000000</td>\n",
       "      <td>0.000000000000000</td>\n",
       "      <td>0.000000000000000</td>\n",
       "      <td>0.000000000000000</td>\n",
       "      <td>1.000000000000000</td>\n",
       "      <td>0.000000000000000</td>\n",
       "      <td>0.000000000000000</td>\n",
       "      <td>0.000000000000000</td>\n",
       "      <td>0.000000000000000</td>\n",
       "    </tr>\n",
       "    <tr>\n",
       "      <th>34</th>\n",
       "      <td>0.000000000000000</td>\n",
       "      <td>0.000000000000000</td>\n",
       "      <td>1.000000000000000</td>\n",
       "      <td>0.000000000000000</td>\n",
       "      <td>0.000000000000000</td>\n",
       "      <td>0.000000000000000</td>\n",
       "      <td>0.000000000000000</td>\n",
       "      <td>0.000000000000000</td>\n",
       "      <td>0.000000000000000</td>\n",
       "      <td>0.000000000000000</td>\n",
       "    </tr>\n",
       "    <tr>\n",
       "      <th>35</th>\n",
       "      <td>0.000000000000000</td>\n",
       "      <td>0.999999999954446</td>\n",
       "      <td>0.000000000045554</td>\n",
       "      <td>0.000000000000000</td>\n",
       "      <td>0.000000000000000</td>\n",
       "      <td>0.000000000000000</td>\n",
       "      <td>0.000000000000000</td>\n",
       "      <td>0.000000000000000</td>\n",
       "      <td>0.000000000000000</td>\n",
       "      <td>0.000000000000000</td>\n",
       "    </tr>\n",
       "    <tr>\n",
       "      <th>36</th>\n",
       "      <td>0.000000000000000</td>\n",
       "      <td>0.000000000000000</td>\n",
       "      <td>0.000000000000000</td>\n",
       "      <td>0.268998747488221</td>\n",
       "      <td>0.000000000000000</td>\n",
       "      <td>0.000000000007780</td>\n",
       "      <td>0.000000000000000</td>\n",
       "      <td>0.000000012535943</td>\n",
       "      <td>0.000000000000000</td>\n",
       "      <td>0.731001239968055</td>\n",
       "    </tr>\n",
       "    <tr>\n",
       "      <th>37</th>\n",
       "      <td>0.000000000000000</td>\n",
       "      <td>0.000000000000000</td>\n",
       "      <td>0.999999999993288</td>\n",
       "      <td>0.000000000000000</td>\n",
       "      <td>0.000000000000000</td>\n",
       "      <td>0.000000000000000</td>\n",
       "      <td>0.000000000006712</td>\n",
       "      <td>0.000000000000000</td>\n",
       "      <td>0.000000000000000</td>\n",
       "      <td>0.000000000000000</td>\n",
       "    </tr>\n",
       "    <tr>\n",
       "      <th>38</th>\n",
       "      <td>0.000000000000000</td>\n",
       "      <td>0.000000000000000</td>\n",
       "      <td>0.000000039394049</td>\n",
       "      <td>0.000000000000000</td>\n",
       "      <td>0.000000000000000</td>\n",
       "      <td>0.000000000000000</td>\n",
       "      <td>0.000000000000000</td>\n",
       "      <td>0.000000000000027</td>\n",
       "      <td>0.000000000000002</td>\n",
       "      <td>0.999999960605922</td>\n",
       "    </tr>\n",
       "    <tr>\n",
       "      <th>39</th>\n",
       "      <td>0.000000000000000</td>\n",
       "      <td>0.000000000004108</td>\n",
       "      <td>0.999999999801862</td>\n",
       "      <td>0.000000000191291</td>\n",
       "      <td>0.000000000000000</td>\n",
       "      <td>0.000000000000000</td>\n",
       "      <td>0.000000000002739</td>\n",
       "      <td>0.000000000000000</td>\n",
       "      <td>0.000000000000000</td>\n",
       "      <td>0.000000000000000</td>\n",
       "    </tr>\n",
       "    <tr>\n",
       "      <th>40</th>\n",
       "      <td>0.000000000000000</td>\n",
       "      <td>0.000000000000000</td>\n",
       "      <td>0.000000000000000</td>\n",
       "      <td>0.000000000000000</td>\n",
       "      <td>0.000000000000000</td>\n",
       "      <td>0.000000000000000</td>\n",
       "      <td>0.000000000000000</td>\n",
       "      <td>1.000000000000000</td>\n",
       "      <td>0.000000000000000</td>\n",
       "      <td>0.000000000000000</td>\n",
       "    </tr>\n",
       "    <tr>\n",
       "      <th>41</th>\n",
       "      <td>0.000000000000000</td>\n",
       "      <td>0.000000000000000</td>\n",
       "      <td>0.000000000000000</td>\n",
       "      <td>0.000000000000000</td>\n",
       "      <td>0.000000000000000</td>\n",
       "      <td>0.000000000000000</td>\n",
       "      <td>0.000000000000000</td>\n",
       "      <td>1.000000000000000</td>\n",
       "      <td>0.000000000000000</td>\n",
       "      <td>0.000000000000000</td>\n",
       "    </tr>\n",
       "    <tr>\n",
       "      <th>42</th>\n",
       "      <td>0.000000000000000</td>\n",
       "      <td>0.999999999777452</td>\n",
       "      <td>0.000000000005337</td>\n",
       "      <td>0.000000000000002</td>\n",
       "      <td>0.000000000000000</td>\n",
       "      <td>0.000000000000487</td>\n",
       "      <td>0.000000000000000</td>\n",
       "      <td>0.000000000000000</td>\n",
       "      <td>0.000000000216722</td>\n",
       "      <td>0.000000000000000</td>\n",
       "    </tr>\n",
       "    <tr>\n",
       "      <th>43</th>\n",
       "      <td>0.000000000000000</td>\n",
       "      <td>0.000000000000000</td>\n",
       "      <td>0.000000000000000</td>\n",
       "      <td>1.000000000000000</td>\n",
       "      <td>0.000000000000000</td>\n",
       "      <td>0.000000000000000</td>\n",
       "      <td>0.000000000000000</td>\n",
       "      <td>0.000000000000000</td>\n",
       "      <td>0.000000000000000</td>\n",
       "      <td>0.000000000000000</td>\n",
       "    </tr>\n",
       "    <tr>\n",
       "      <th>44</th>\n",
       "      <td>0.000000000000000</td>\n",
       "      <td>0.000000000000000</td>\n",
       "      <td>0.000000000000000</td>\n",
       "      <td>0.999999999999998</td>\n",
       "      <td>0.000000000000000</td>\n",
       "      <td>0.000000000000000</td>\n",
       "      <td>0.000000000000000</td>\n",
       "      <td>0.000000000000000</td>\n",
       "      <td>0.000000000000000</td>\n",
       "      <td>0.000000000000002</td>\n",
       "    </tr>\n",
       "    <tr>\n",
       "      <th>45</th>\n",
       "      <td>0.000000000000000</td>\n",
       "      <td>0.000000000000000</td>\n",
       "      <td>1.000000000000000</td>\n",
       "      <td>0.000000000000000</td>\n",
       "      <td>0.000000000000000</td>\n",
       "      <td>0.000000000000000</td>\n",
       "      <td>0.000000000000000</td>\n",
       "      <td>0.000000000000000</td>\n",
       "      <td>0.000000000000000</td>\n",
       "      <td>0.000000000000000</td>\n",
       "    </tr>\n",
       "    <tr>\n",
       "      <th>46</th>\n",
       "      <td>0.000000000000000</td>\n",
       "      <td>0.000000000000000</td>\n",
       "      <td>0.000000000000000</td>\n",
       "      <td>0.000000000000000</td>\n",
       "      <td>0.999886554001387</td>\n",
       "      <td>0.000000000000000</td>\n",
       "      <td>0.000113445998613</td>\n",
       "      <td>0.000000000000000</td>\n",
       "      <td>0.000000000000000</td>\n",
       "      <td>0.000000000000000</td>\n",
       "    </tr>\n",
       "    <tr>\n",
       "      <th>47</th>\n",
       "      <td>0.000000000000000</td>\n",
       "      <td>0.000000000000000</td>\n",
       "      <td>1.000000000000000</td>\n",
       "      <td>0.000000000000000</td>\n",
       "      <td>0.000000000000000</td>\n",
       "      <td>0.000000000000000</td>\n",
       "      <td>0.000000000000000</td>\n",
       "      <td>0.000000000000000</td>\n",
       "      <td>0.000000000000000</td>\n",
       "      <td>0.000000000000000</td>\n",
       "    </tr>\n",
       "    <tr>\n",
       "      <th>48</th>\n",
       "      <td>0.882663305173887</td>\n",
       "      <td>0.000000000000000</td>\n",
       "      <td>0.000000000000000</td>\n",
       "      <td>0.000000000000000</td>\n",
       "      <td>0.000000000000000</td>\n",
       "      <td>0.117336694826113</td>\n",
       "      <td>0.000000000000000</td>\n",
       "      <td>0.000000000000000</td>\n",
       "      <td>0.000000000000000</td>\n",
       "      <td>0.000000000000000</td>\n",
       "    </tr>\n",
       "    <tr>\n",
       "      <th>49</th>\n",
       "      <td>0.000000000000000</td>\n",
       "      <td>0.000000000000000</td>\n",
       "      <td>0.000000000000000</td>\n",
       "      <td>0.898001551777769</td>\n",
       "      <td>0.000000000000004</td>\n",
       "      <td>0.101998446768293</td>\n",
       "      <td>0.000000000000000</td>\n",
       "      <td>0.000000000000000</td>\n",
       "      <td>0.000000001453433</td>\n",
       "      <td>0.000000000000500</td>\n",
       "    </tr>\n",
       "  </tbody>\n",
       "</table>\n",
       "</div>"
      ],
      "text/plain": [
       "                   0                 1                 2                 3  \\\n",
       "0  1.000000000000000 0.000000000000000 0.000000000000000 0.000000000000000   \n",
       "1  0.999999998553051 0.000000000000000 0.000000000000000 0.000000000000000   \n",
       "2  0.000000000000000 1.000000000000000 0.000000000000000 0.000000000000000   \n",
       "3  0.000000000000000 0.000000000000000 0.000000000000000 0.000000000000000   \n",
       "4  0.000000000000000 0.000000000000000 0.000000000000000 0.000000000000000   \n",
       "5  0.000000000000000 0.000000000000000 0.000000000000000 0.999999999422004   \n",
       "6  0.000000000000000 0.000000000000000 0.000000000000000 0.000000000000000   \n",
       "7  0.000000000000000 0.000000000000000 0.000000000000000 0.000000000000000   \n",
       "8  0.000000000000000 0.999917339446379 0.000000000000107 0.000000000000000   \n",
       "9  0.000000000000000 0.000000000000000 0.000000000000000 1.000000000000000   \n",
       "10 0.000000000000000 0.000000000000000 0.000000000000000 0.000000000001109   \n",
       "11 0.000000000000000 0.000000000000000 0.000000000000000 0.000000000000000   \n",
       "12 0.000000000000000 0.000000000000000 0.999999999999996 0.000000000000004   \n",
       "13 0.000000000000000 0.000000000000000 0.103274450044503 0.000000004321907   \n",
       "14 0.000000000000000 0.000000000000000 0.000000000002115 0.993582071357849   \n",
       "15 0.000000000000000 0.000000000000000 0.000000000000000 1.000000000000000   \n",
       "16 0.000000000000000 0.000000000000000 0.000000000000000 0.000000076429133   \n",
       "17 1.000000000000000 0.000000000000000 0.000000000000000 0.000000000000000   \n",
       "18 0.999999999972999 0.000000000000000 0.000000000000000 0.000000000000000   \n",
       "19 0.000000000000000 0.000000000000000 0.000000000000000 0.000000000000000   \n",
       "20 0.000000000000000 0.000000000000000 0.000000000000000 0.000000000000000   \n",
       "21 0.000000000000000 0.000000000000000 0.000000000000000 0.000000000000000   \n",
       "22 0.000000000000000 0.000000000000000 0.000000000000000 0.000000000000000   \n",
       "23 0.000000000000000 0.999999999526384 0.000000000000000 0.000000000439963   \n",
       "24 0.000000000000000 0.000000000000000 0.000000000000000 1.000000000000000   \n",
       "25 0.000000000000000 0.000000024455430 0.999999843067451 0.000000000000000   \n",
       "26 0.000000000000000 0.000000000000000 0.000000000000000 0.000000000000000   \n",
       "27 0.000000000000000 0.000000000000000 0.000000285201003 0.999999714788634   \n",
       "28 0.000000000000000 0.000000000000000 1.000000000000000 0.000000000000000   \n",
       "29 0.000000000000000 0.000000000000000 0.000000002012740 0.000000000000000   \n",
       "30 0.000000000000000 0.000000000000000 0.000000000000000 0.000000000000000   \n",
       "31 0.000000000000000 1.000000000000000 0.000000000000000 0.000000000000000   \n",
       "32 0.000000000000000 0.000000000000000 0.000000081020920 0.000000011079556   \n",
       "33 0.000000000000000 0.000000000000000 0.000000000000000 0.000000000000000   \n",
       "34 0.000000000000000 0.000000000000000 1.000000000000000 0.000000000000000   \n",
       "35 0.000000000000000 0.999999999954446 0.000000000045554 0.000000000000000   \n",
       "36 0.000000000000000 0.000000000000000 0.000000000000000 0.268998747488221   \n",
       "37 0.000000000000000 0.000000000000000 0.999999999993288 0.000000000000000   \n",
       "38 0.000000000000000 0.000000000000000 0.000000039394049 0.000000000000000   \n",
       "39 0.000000000000000 0.000000000004108 0.999999999801862 0.000000000191291   \n",
       "40 0.000000000000000 0.000000000000000 0.000000000000000 0.000000000000000   \n",
       "41 0.000000000000000 0.000000000000000 0.000000000000000 0.000000000000000   \n",
       "42 0.000000000000000 0.999999999777452 0.000000000005337 0.000000000000002   \n",
       "43 0.000000000000000 0.000000000000000 0.000000000000000 1.000000000000000   \n",
       "44 0.000000000000000 0.000000000000000 0.000000000000000 0.999999999999998   \n",
       "45 0.000000000000000 0.000000000000000 1.000000000000000 0.000000000000000   \n",
       "46 0.000000000000000 0.000000000000000 0.000000000000000 0.000000000000000   \n",
       "47 0.000000000000000 0.000000000000000 1.000000000000000 0.000000000000000   \n",
       "48 0.882663305173887 0.000000000000000 0.000000000000000 0.000000000000000   \n",
       "49 0.000000000000000 0.000000000000000 0.000000000000000 0.898001551777769   \n",
       "\n",
       "                   4                 5                 6                 7  \\\n",
       "0  0.000000000000000 0.000000000000000 0.000000000000000 0.000000000000000   \n",
       "1  0.000000000000000 0.000000001446948 0.000000000000000 0.000000000000000   \n",
       "2  0.000000000000000 0.000000000000000 0.000000000000000 0.000000000000000   \n",
       "3  0.000000000000000 0.000000000000000 0.000000000000000 1.000000000000000   \n",
       "4  0.000000000000000 0.000000000000000 0.000000000000000 1.000000000000000   \n",
       "5  0.000000000000000 0.000000000577992 0.000000000000000 0.000000000000000   \n",
       "6  0.000000000000000 0.000000000000000 0.000000000000000 1.000000000000000   \n",
       "7  0.000000000000000 0.000000000000000 0.000000000000000 0.999999925383741   \n",
       "8  0.000000000000000 0.000000000000000 0.000000000000000 0.000000000000000   \n",
       "9  0.000000000000000 0.000000000000000 0.000000000000000 0.000000000000000   \n",
       "10 0.000000000000000 0.000000000000000 0.000000000000000 0.000000000000000   \n",
       "11 0.000000000000000 0.000003271439971 0.000000000000000 0.000000000000000   \n",
       "12 0.000000000000000 0.000000000000000 0.000000000000000 0.000000000000000   \n",
       "13 0.896200180723128 0.000000000000000 0.000000000000000 0.000525348367307   \n",
       "14 0.000000000000000 0.000000000006560 0.000000000000000 0.000000000165166   \n",
       "15 0.000000000000000 0.000000000000000 0.000000000000000 0.000000000000000   \n",
       "16 0.000000000000000 0.000000000000006 0.000000000000000 0.000846328874799   \n",
       "17 0.000000000000000 0.000000000000000 0.000000000000000 0.000000000000000   \n",
       "18 0.000000000000000 0.000000000027001 0.000000000000000 0.000000000000000   \n",
       "19 0.000000000000000 0.000000000000000 1.000000000000000 0.000000000000000   \n",
       "20 0.000000000000000 0.000000000000000 1.000000000000000 0.000000000000000   \n",
       "21 0.000000000007113 0.000000000000000 0.999999999992887 0.000000000000000   \n",
       "22 0.000000000000000 0.000000000000000 1.000000000000000 0.000000000000000   \n",
       "23 0.000000000000000 0.000000000000000 0.000000000000000 0.000000000010135   \n",
       "24 0.000000000000000 0.000000000000000 0.000000000000000 0.000000000000000   \n",
       "25 0.000000000000000 0.000000000000257 0.000000000000000 0.000000000000000   \n",
       "26 0.000000000000000 0.000000000000000 0.000000000000000 0.999999999998577   \n",
       "27 0.000000000000000 0.000000000000000 0.000000000000000 0.000000000000000   \n",
       "28 0.000000000000000 0.000000000000000 0.000000000000000 0.000000000000000   \n",
       "29 0.000000000000000 0.000000000000000 0.000000000000000 0.000000000000000   \n",
       "30 0.000000000000000 0.000000000000000 1.000000000000000 0.000000000000000   \n",
       "31 0.000000000000000 0.000000000000000 0.000000000000000 0.000000000000000   \n",
       "32 0.000000000000000 0.000000000132813 0.000000000000000 0.000000000000000   \n",
       "33 0.000000000000000 1.000000000000000 0.000000000000000 0.000000000000000   \n",
       "34 0.000000000000000 0.000000000000000 0.000000000000000 0.000000000000000   \n",
       "35 0.000000000000000 0.000000000000000 0.000000000000000 0.000000000000000   \n",
       "36 0.000000000000000 0.000000000007780 0.000000000000000 0.000000012535943   \n",
       "37 0.000000000000000 0.000000000000000 0.000000000006712 0.000000000000000   \n",
       "38 0.000000000000000 0.000000000000000 0.000000000000000 0.000000000000027   \n",
       "39 0.000000000000000 0.000000000000000 0.000000000002739 0.000000000000000   \n",
       "40 0.000000000000000 0.000000000000000 0.000000000000000 1.000000000000000   \n",
       "41 0.000000000000000 0.000000000000000 0.000000000000000 1.000000000000000   \n",
       "42 0.000000000000000 0.000000000000487 0.000000000000000 0.000000000000000   \n",
       "43 0.000000000000000 0.000000000000000 0.000000000000000 0.000000000000000   \n",
       "44 0.000000000000000 0.000000000000000 0.000000000000000 0.000000000000000   \n",
       "45 0.000000000000000 0.000000000000000 0.000000000000000 0.000000000000000   \n",
       "46 0.999886554001387 0.000000000000000 0.000113445998613 0.000000000000000   \n",
       "47 0.000000000000000 0.000000000000000 0.000000000000000 0.000000000000000   \n",
       "48 0.000000000000000 0.117336694826113 0.000000000000000 0.000000000000000   \n",
       "49 0.000000000000004 0.101998446768293 0.000000000000000 0.000000000000000   \n",
       "\n",
       "                   8                 9  \n",
       "0  0.000000000000000 0.000000000000000  \n",
       "1  0.000000000000000 0.000000000000000  \n",
       "2  0.000000000000000 0.000000000000000  \n",
       "3  0.000000000000000 0.000000000000000  \n",
       "4  0.000000000000000 0.000000000000000  \n",
       "5  0.000000000000000 0.000000000000004  \n",
       "6  0.000000000000000 0.000000000000000  \n",
       "7  0.000000000000000 0.000000074616259  \n",
       "8  0.000082660553514 0.000000000000000  \n",
       "9  0.000000000000000 0.000000000000000  \n",
       "10 0.999999999998892 0.000000000000000  \n",
       "11 0.999996728560029 0.000000000000000  \n",
       "12 0.000000000000000 0.000000000000000  \n",
       "13 0.000000000000000 0.000000016543155  \n",
       "14 0.006417928468311 0.000000000000000  \n",
       "15 0.000000000000000 0.000000000000000  \n",
       "16 0.999153594696063 0.000000000000000  \n",
       "17 0.000000000000000 0.000000000000000  \n",
       "18 0.000000000000000 0.000000000000000  \n",
       "19 0.000000000000000 0.000000000000000  \n",
       "20 0.000000000000000 0.000000000000000  \n",
       "21 0.000000000000000 0.000000000000000  \n",
       "22 0.000000000000000 0.000000000000000  \n",
       "23 0.000000000000000 0.000000000023518  \n",
       "24 0.000000000000000 0.000000000000000  \n",
       "25 0.000000132476861 0.000000000000000  \n",
       "26 0.000000000000000 0.000000000001423  \n",
       "27 0.000000000000500 0.000000000009863  \n",
       "28 0.000000000000000 0.000000000000000  \n",
       "29 0.999999997987260 0.000000000000000  \n",
       "30 0.000000000000000 0.000000000000000  \n",
       "31 0.000000000000000 0.000000000000000  \n",
       "32 0.999999624981363 0.000000282785347  \n",
       "33 0.000000000000000 0.000000000000000  \n",
       "34 0.000000000000000 0.000000000000000  \n",
       "35 0.000000000000000 0.000000000000000  \n",
       "36 0.000000000000000 0.731001239968055  \n",
       "37 0.000000000000000 0.000000000000000  \n",
       "38 0.000000000000002 0.999999960605922  \n",
       "39 0.000000000000000 0.000000000000000  \n",
       "40 0.000000000000000 0.000000000000000  \n",
       "41 0.000000000000000 0.000000000000000  \n",
       "42 0.000000000216722 0.000000000000000  \n",
       "43 0.000000000000000 0.000000000000000  \n",
       "44 0.000000000000000 0.000000000000002  \n",
       "45 0.000000000000000 0.000000000000000  \n",
       "46 0.000000000000000 0.000000000000000  \n",
       "47 0.000000000000000 0.000000000000000  \n",
       "48 0.000000000000000 0.000000000000000  \n",
       "49 0.000000001453433 0.000000000000500  "
      ]
     },
     "execution_count": 30,
     "metadata": {},
     "output_type": "execute_result"
    }
   ],
   "source": [
    "# logi 모델 기준으로 확인\n",
    "# predict_proba()\n",
    "pd.DataFrame(logi_model.predict_proba(X_test[:50]))"
   ]
  },
  {
   "cell_type": "code",
   "execution_count": null,
   "id": "56702119",
   "metadata": {},
   "outputs": [],
   "source": []
  }
 ],
 "metadata": {
  "kernelspec": {
   "display_name": "Python 3 (ipykernel)",
   "language": "python",
   "name": "python3"
  },
  "language_info": {
   "codemirror_mode": {
    "name": "ipython",
    "version": 3
   },
   "file_extension": ".py",
   "mimetype": "text/x-python",
   "name": "python",
   "nbconvert_exporter": "python",
   "pygments_lexer": "ipython3",
   "version": "3.9.12"
  }
 },
 "nbformat": 4,
 "nbformat_minor": 5
}
