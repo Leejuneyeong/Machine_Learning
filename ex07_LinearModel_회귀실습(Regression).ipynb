{
 "cells": [
  {
   "cell_type": "markdown",
   "id": "f43b7223",
   "metadata": {},
   "source": [
    "### 회귀 실습\n",
    "- 간단하게 성적데이터 구성하여 맛보기 실습해보자"
   ]
  },
  {
   "cell_type": "code",
   "execution_count": 2,
   "id": "d75522b6",
   "metadata": {},
   "outputs": [],
   "source": [
    "import numpy as np\n",
    "import pandas as pd\n",
    "import matplotlib.pyplot as plt"
   ]
  },
  {
   "cell_type": "code",
   "execution_count": 4,
   "id": "45daf2d1",
   "metadata": {},
   "outputs": [
    {
     "data": {
      "text/html": [
       "<div>\n",
       "<style scoped>\n",
       "    .dataframe tbody tr th:only-of-type {\n",
       "        vertical-align: middle;\n",
       "    }\n",
       "\n",
       "    .dataframe tbody tr th {\n",
       "        vertical-align: top;\n",
       "    }\n",
       "\n",
       "    .dataframe thead th {\n",
       "        text-align: right;\n",
       "    }\n",
       "</style>\n",
       "<table border=\"1\" class=\"dataframe\">\n",
       "  <thead>\n",
       "    <tr style=\"text-align: right;\">\n",
       "      <th></th>\n",
       "      <th>시간</th>\n",
       "      <th>성적</th>\n",
       "    </tr>\n",
       "  </thead>\n",
       "  <tbody>\n",
       "    <tr>\n",
       "      <th>창규</th>\n",
       "      <td>2</td>\n",
       "      <td>20</td>\n",
       "    </tr>\n",
       "    <tr>\n",
       "      <th>동익</th>\n",
       "      <td>4</td>\n",
       "      <td>40</td>\n",
       "    </tr>\n",
       "    <tr>\n",
       "      <th>민수</th>\n",
       "      <td>8</td>\n",
       "      <td>80</td>\n",
       "    </tr>\n",
       "    <tr>\n",
       "      <th>혜나</th>\n",
       "      <td>9</td>\n",
       "      <td>90</td>\n",
       "    </tr>\n",
       "  </tbody>\n",
       "</table>\n",
       "</div>"
      ],
      "text/plain": [
       "    시간  성적\n",
       "창규   2  20\n",
       "동익   4  40\n",
       "민수   8  80\n",
       "혜나   9  90"
      ]
     },
     "execution_count": 4,
     "metadata": {},
     "output_type": "execute_result"
    }
   ],
   "source": [
    "data = pd.DataFrame([[2,20],[4,40],[8,80],[9,90]], index=['창규','동익','민수','혜나'],\n",
    "                   columns = ['시간','성적'])\n",
    "data"
   ]
  },
  {
   "cell_type": "markdown",
   "id": "a460816a",
   "metadata": {},
   "source": [
    "#### 1. 수학 공식을 이용한 해석적 모델\n",
    "- LinearRegression"
   ]
  },
  {
   "cell_type": "code",
   "execution_count": 5,
   "id": "27b5f94f",
   "metadata": {},
   "outputs": [],
   "source": [
    "from sklearn.linear_model import LinearRegression"
   ]
  },
  {
   "cell_type": "code",
   "execution_count": 6,
   "id": "784781be",
   "metadata": {},
   "outputs": [],
   "source": [
    "# 회귀 모델 생성\n",
    "linear_model = LinearRegression()"
   ]
  },
  {
   "cell_type": "code",
   "execution_count": 11,
   "id": "6412492f",
   "metadata": {},
   "outputs": [
    {
     "data": {
      "text/plain": [
       "LinearRegression()"
      ]
     },
     "execution_count": 11,
     "metadata": {},
     "output_type": "execute_result"
    }
   ],
   "source": [
    "# 모델 학습\n",
    "# 모델.fit(문제,답)\n",
    "\n",
    "# 문제는 2차원으로 넣어야함\n",
    "data[['시간']] # 문제\n",
    "# data.loc[[:,'시간']] = data.iloc[[:,0]] 둘중에 하나도 됨\n",
    "\n",
    "# 답 - 성적\n",
    "data['성적'] # 답\n",
    "\n",
    "linear_model.fit(data[['시간']],data['성적'])\n",
    "         "
   ]
  },
  {
   "cell_type": "markdown",
   "id": "2b853965",
   "metadata": {},
   "source": [
    "- y = 10x+b 공식 확인"
   ]
  },
  {
   "cell_type": "code",
   "execution_count": 12,
   "id": "a2e60043",
   "metadata": {},
   "outputs": [
    {
     "name": "stdout",
     "output_type": "stream",
     "text": [
      "가중치 :  [10.]\n",
      "절편 :  7.105427357601002e-15\n"
     ]
    }
   ],
   "source": [
    "# a : w , 가중치 , 계수 , 기울기 \n",
    "# b : 절편, 편향, 함수의(직선의) 좌우 이동값\n",
    "print('가중치 : ', linear_model.coef_)\n",
    "print('절편 : ', linear_model.intercept_)"
   ]
  },
  {
   "cell_type": "markdown",
   "id": "db584450",
   "metadata": {},
   "source": [
    "선형 모델이 생성한 함수를 가지고 예측진행"
   ]
  },
  {
   "cell_type": "code",
   "execution_count": 14,
   "id": "784b2e82",
   "metadata": {},
   "outputs": [
    {
     "data": {
      "text/plain": [
       "array([70.])"
      ]
     },
     "execution_count": 14,
     "metadata": {},
     "output_type": "execute_result"
    }
   ],
   "source": [
    "# 경고창 무시 import warnings\n",
    "import warnings\n",
    "warnings.filterwarnings(action='ignore')\n",
    "#action : 함수안의 매개변수를 뜻함\n",
    "\n",
    "linear_model.predict([[7]]) # 특성의 개수 -> X_train 2차원 "
   ]
  },
  {
   "cell_type": "markdown",
   "id": "fd48b469",
   "metadata": {},
   "source": [
    "#### 2. 경사하강법\n",
    " - 가중치(w)변화에 따른 비용함수(cost)값의 변화 그래프"
   ]
  },
  {
   "cell_type": "markdown",
   "id": "69e2979f",
   "metadata": {},
   "source": [
    "#### H(x) 가설설정 함수 만들기"
   ]
  },
  {
   "cell_type": "code",
   "execution_count": 16,
   "id": "392cdeb0",
   "metadata": {},
   "outputs": [],
   "source": [
    "def h(w,x):\n",
    "    return w*x+0"
   ]
  },
  {
   "cell_type": "markdown",
   "id": "343e8993",
   "metadata": {},
   "source": [
    "#### Cost Function"
   ]
  },
  {
   "cell_type": "code",
   "execution_count": 17,
   "id": "f77e0b87",
   "metadata": {},
   "outputs": [],
   "source": [
    "# 비용함수 => MSE ( Mean Squared Error ) 평균제곱오차\n",
    "def cost(data, target, weight):\n",
    "    y_pre = h(weight, data) # 예측값\n",
    "    return ((y_pre - target) **2).mean()# cost값  # 참고 = 제곱 : ** 임"
   ]
  },
  {
   "cell_type": "code",
   "execution_count": 18,
   "id": "d75d32e8",
   "metadata": {},
   "outputs": [
    {
     "data": {
      "text/plain": [
       "0.0"
      ]
     },
     "execution_count": 18,
     "metadata": {},
     "output_type": "execute_result"
    }
   ],
   "source": [
    "cost(data['시간'], data['성적'], 10) # 결과는 오차임 10일 경우 오차가 0이됨"
   ]
  },
  {
   "cell_type": "code",
   "execution_count": 19,
   "id": "b39276f1",
   "metadata": {},
   "outputs": [
    {
     "data": {
      "text/plain": [
       "1031.25"
      ]
     },
     "execution_count": 19,
     "metadata": {},
     "output_type": "execute_result"
    }
   ],
   "source": [
    "cost(data['시간'], data['성적'], 15)"
   ]
  },
  {
   "cell_type": "code",
   "execution_count": 20,
   "id": "c4d6405c",
   "metadata": {},
   "outputs": [
    {
     "data": {
      "text/plain": [
       "371.25"
      ]
     },
     "execution_count": 20,
     "metadata": {},
     "output_type": "execute_result"
    }
   ],
   "source": [
    "cost(data['시간'], data['성적'], 7)"
   ]
  },
  {
   "cell_type": "code",
   "execution_count": 21,
   "id": "ee7c0e56",
   "metadata": {},
   "outputs": [
    {
     "data": {
      "text/plain": [
       "165.0"
      ]
     },
     "execution_count": 21,
     "metadata": {},
     "output_type": "execute_result"
    }
   ],
   "source": [
    "cost(data['시간'], data['성적'], 8)"
   ]
  },
  {
   "cell_type": "code",
   "execution_count": 22,
   "id": "70876288",
   "metadata": {},
   "outputs": [
    {
     "data": {
      "text/plain": [
       "41.25"
      ]
     },
     "execution_count": 22,
     "metadata": {},
     "output_type": "execute_result"
    }
   ],
   "source": [
    "cost(data['시간'], data['성적'], 9)"
   ]
  },
  {
   "cell_type": "code",
   "execution_count": 23,
   "id": "df01140b",
   "metadata": {},
   "outputs": [
    {
     "data": {
      "text/plain": [
       "0.0"
      ]
     },
     "execution_count": 23,
     "metadata": {},
     "output_type": "execute_result"
    }
   ],
   "source": [
    "cost(data['시간'], data['성적'], 10)"
   ]
  },
  {
   "cell_type": "code",
   "execution_count": 24,
   "id": "94e34ffd",
   "metadata": {},
   "outputs": [],
   "source": [
    "weight_range = range(-10,31) # -10부터 30까지 "
   ]
  },
  {
   "cell_type": "code",
   "execution_count": 26,
   "id": "16283b22",
   "metadata": {
    "scrolled": true
   },
   "outputs": [
    {
     "data": {
      "text/plain": [
       "[16500.0,\n",
       " 14891.25,\n",
       " 13365.0,\n",
       " 11921.25,\n",
       " 10560.0,\n",
       " 9281.25,\n",
       " 8085.0,\n",
       " 6971.25,\n",
       " 5940.0,\n",
       " 4991.25,\n",
       " 4125.0,\n",
       " 3341.25,\n",
       " 2640.0,\n",
       " 2021.25,\n",
       " 1485.0,\n",
       " 1031.25,\n",
       " 660.0,\n",
       " 371.25,\n",
       " 165.0,\n",
       " 41.25,\n",
       " 0.0,\n",
       " 41.25,\n",
       " 165.0,\n",
       " 371.25,\n",
       " 660.0,\n",
       " 1031.25,\n",
       " 1485.0,\n",
       " 2021.25,\n",
       " 2640.0,\n",
       " 3341.25,\n",
       " 4125.0,\n",
       " 4991.25,\n",
       " 5940.0,\n",
       " 6971.25,\n",
       " 8085.0,\n",
       " 9281.25,\n",
       " 10560.0,\n",
       " 11921.25,\n",
       " 13365.0,\n",
       " 14891.25,\n",
       " 16500.0]"
      ]
     },
     "execution_count": 26,
     "metadata": {},
     "output_type": "execute_result"
    }
   ],
   "source": [
    "cost_list = [] # 가중치값 변동할 때마다 발생하는 오차 저장\n",
    "for w in weight_range: # w 는 가중치 \n",
    "    error = cost(data['시간'],data['성적'], w) # 오차,잔차,에러 라고 부름\n",
    "    cost_list.append(error)\n",
    "cost_list"
   ]
  },
  {
   "cell_type": "markdown",
   "id": "16dfd720",
   "metadata": {},
   "source": [
    "#### 가중치 변동에 따른 error 시각화"
   ]
  },
  {
   "cell_type": "code",
   "execution_count": 28,
   "id": "f492967f",
   "metadata": {},
   "outputs": [
    {
     "data": {
      "image/png": "[encoded data removed]",
      "text/plain": [
       "<Figure size 432x288 with 1 Axes>"
      ]
     },
     "metadata": {
      "needs_background": "light"
     },
     "output_type": "display_data"
    }
   ],
   "source": [
    "plt.plot(weight_range, cost_list)\n",
    "plt.xlabel('Weight')\n",
    "plt.ylabel('MSE(Error)')\n",
    "plt.show()"
   ]
  },
  {
   "cell_type": "markdown",
   "id": "a87bb94c",
   "metadata": {},
   "source": [
    "- SGDRegressor 사용하기"
   ]
  },
  {
   "cell_type": "code",
   "execution_count": 29,
   "id": "45fcb9b8",
   "metadata": {},
   "outputs": [],
   "source": [
    "from sklearn.linear_model import SGDRegressor # 경사하강법"
   ]
  },
  {
   "cell_type": "code",
   "execution_count": 41,
   "id": "44db1abf",
   "metadata": {},
   "outputs": [],
   "source": [
    "sgd_model = SGDRegressor(max_iter = 5000, # w 갱신 업데이트 횟수\n",
    "                        eta0 = 0.001,# 학습률(Learning_rate)\n",
    "                        verbose = 1) # 1 True 학습과정 출력 \n",
    "# verbose는 학습의 진행 상황을 보여줄 것인지 지정을 하는데 verbose를 1로 세팅하면 학습이 되는 모습을 볼 수 있다.\n"
   ]
  },
  {
   "cell_type": "code",
   "execution_count": 42,
   "id": "94c9ac10",
   "metadata": {},
   "outputs": [
    {
     "name": "stdout",
     "output_type": "stream",
     "text": [
      "-- Epoch 1\n",
      "Norm: 1.40, NNZs: 1, Bias: 0.188394, T: 4, Avg. loss: 1872.600549\n",
      "Total training time: 0.00 seconds.\n",
      "-- Epoch 2\n",
      "Norm: 2.24, NNZs: 1, Bias: 0.306665, T: 8, Avg. loss: 1422.999621\n",
      "Total training time: 0.00 seconds.\n",
      "-- Epoch 3\n",
      "Norm: 2.94, NNZs: 1, Bias: 0.402747, T: 12, Avg. loss: 1161.121261\n",
      "Total training time: 0.00 seconds.\n",
      "-- Epoch 4\n",
      "Norm: 3.51, NNZs: 1, Bias: 0.482778, T: 16, Avg. loss: 962.115137\n",
      "Total training time: 0.00 seconds.\n",
      "-- Epoch 5\n",
      "Norm: 4.01, NNZs: 1, Bias: 0.552072, T: 20, Avg. loss: 811.247925\n",
      "Total training time: 0.00 seconds.\n",
      "-- Epoch 6\n",
      "Norm: 4.44, NNZs: 1, Bias: 0.612808, T: 24, Avg. loss: 688.877891\n",
      "Total training time: 0.00 seconds.\n",
      "-- Epoch 7\n",
      "Norm: 4.83, NNZs: 1, Bias: 0.666701, T: 28, Avg. loss: 590.599912\n",
      "Total training time: 0.00 seconds.\n",
      "-- Epoch 8\n",
      "Norm: 5.18, NNZs: 1, Bias: 0.715052, T: 32, Avg. loss: 508.545569\n",
      "Total training time: 0.00 seconds.\n",
      "-- Epoch 9\n",
      "Norm: 5.50, NNZs: 1, Bias: 0.758545, T: 36, Avg. loss: 440.731401\n",
      "Total training time: 0.00 seconds.\n",
      "-- Epoch 10\n",
      "Norm: 5.78, NNZs: 1, Bias: 0.798105, T: 40, Avg. loss: 383.122890\n",
      "Total training time: 0.00 seconds.\n",
      "-- Epoch 11\n",
      "Norm: 6.04, NNZs: 1, Bias: 0.834011, T: 44, Avg. loss: 334.653595\n",
      "Total training time: 0.00 seconds.\n",
      "-- Epoch 12\n",
      "Norm: 6.28, NNZs: 1, Bias: 0.866970, T: 48, Avg. loss: 292.986270\n",
      "Total training time: 0.00 seconds.\n",
      "-- Epoch 13\n",
      "Norm: 6.50, NNZs: 1, Bias: 0.897079, T: 52, Avg. loss: 257.487439\n",
      "Total training time: 0.00 seconds.\n",
      "-- Epoch 14\n",
      "Norm: 6.70, NNZs: 1, Bias: 0.924901, T: 56, Avg. loss: 226.699511\n",
      "Total training time: 0.00 seconds.\n",
      "-- Epoch 15\n",
      "Norm: 6.89, NNZs: 1, Bias: 0.950442, T: 60, Avg. loss: 200.221289\n",
      "Total training time: 0.00 seconds.\n",
      "-- Epoch 16\n",
      "Norm: 7.06, NNZs: 1, Bias: 0.974164, T: 64, Avg. loss: 177.097442\n",
      "Total training time: 0.00 seconds.\n",
      "-- Epoch 17\n",
      "Norm: 7.22, NNZs: 1, Bias: 0.996024, T: 68, Avg. loss: 157.062204\n",
      "Total training time: 0.00 seconds.\n",
      "-- Epoch 18\n",
      "Norm: 7.36, NNZs: 1, Bias: 1.016410, T: 72, Avg. loss: 139.466501\n",
      "Total training time: 0.00 seconds.\n",
      "-- Epoch 19\n",
      "Norm: 7.50, NNZs: 1, Bias: 1.035256, T: 76, Avg. loss: 124.128291\n",
      "Total training time: 0.00 seconds.\n",
      "-- Epoch 20\n",
      "Norm: 7.63, NNZs: 1, Bias: 1.052889, T: 80, Avg. loss: 110.594355\n",
      "Total training time: 0.00 seconds.\n",
      "-- Epoch 21\n",
      "Norm: 7.75, NNZs: 1, Bias: 1.069232, T: 84, Avg. loss: 98.736706\n",
      "Total training time: 0.01 seconds.\n",
      "-- Epoch 22\n",
      "Norm: 7.86, NNZs: 1, Bias: 1.084565, T: 88, Avg. loss: 88.231983\n",
      "Total training time: 0.01 seconds.\n",
      "-- Epoch 23\n",
      "Norm: 7.97, NNZs: 1, Bias: 1.098808, T: 92, Avg. loss: 78.988293\n",
      "Total training time: 0.01 seconds.\n",
      "-- Epoch 24\n",
      "Norm: 8.06, NNZs: 1, Bias: 1.112202, T: 96, Avg. loss: 70.770856\n",
      "Total training time: 0.01 seconds.\n",
      "-- Epoch 25\n",
      "Norm: 8.16, NNZs: 1, Bias: 1.124668, T: 100, Avg. loss: 63.512533\n",
      "Total training time: 0.01 seconds.\n",
      "-- Epoch 26\n",
      "Norm: 8.24, NNZs: 1, Bias: 1.136414, T: 104, Avg. loss: 57.040374\n",
      "Total training time: 0.01 seconds.\n",
      "-- Epoch 27\n",
      "Norm: 8.32, NNZs: 1, Bias: 1.147364, T: 108, Avg. loss: 51.304594\n",
      "Total training time: 0.01 seconds.\n",
      "-- Epoch 28\n",
      "Norm: 8.40, NNZs: 1, Bias: 1.157700, T: 112, Avg. loss: 46.176222\n",
      "Total training time: 0.01 seconds.\n",
      "-- Epoch 29\n",
      "Norm: 8.47, NNZs: 1, Bias: 1.167349, T: 116, Avg. loss: 41.617865\n",
      "Total training time: 0.01 seconds.\n",
      "-- Epoch 30\n",
      "Norm: 8.54, NNZs: 1, Bias: 1.176471, T: 120, Avg. loss: 37.532340\n",
      "Total training time: 0.01 seconds.\n",
      "-- Epoch 31\n",
      "Norm: 8.60, NNZs: 1, Bias: 1.184996, T: 124, Avg. loss: 33.891244\n",
      "Total training time: 0.01 seconds.\n",
      "-- Epoch 32\n",
      "Norm: 8.66, NNZs: 1, Bias: 1.193068, T: 128, Avg. loss: 30.620678\n",
      "Total training time: 0.01 seconds.\n",
      "-- Epoch 33\n",
      "Norm: 8.72, NNZs: 1, Bias: 1.200619, T: 132, Avg. loss: 27.698850\n",
      "Total training time: 0.01 seconds.\n",
      "-- Epoch 34\n",
      "Norm: 8.77, NNZs: 1, Bias: 1.207778, T: 136, Avg. loss: 25.069125\n",
      "Total training time: 0.01 seconds.\n",
      "-- Epoch 35\n",
      "Norm: 8.82, NNZs: 1, Bias: 1.214481, T: 140, Avg. loss: 22.714625\n",
      "Total training time: 0.01 seconds.\n",
      "-- Epoch 36\n",
      "Norm: 8.87, NNZs: 1, Bias: 1.220842, T: 144, Avg. loss: 20.591646\n",
      "Total training time: 0.01 seconds.\n",
      "-- Epoch 37\n",
      "Norm: 8.91, NNZs: 1, Bias: 1.226803, T: 148, Avg. loss: 18.687007\n",
      "Total training time: 0.01 seconds.\n",
      "-- Epoch 38\n",
      "Norm: 8.96, NNZs: 1, Bias: 1.232466, T: 152, Avg. loss: 16.966773\n",
      "Total training time: 0.01 seconds.\n",
      "-- Epoch 39\n",
      "Norm: 9.00, NNZs: 1, Bias: 1.237776, T: 156, Avg. loss: 15.420571\n",
      "Total training time: 0.01 seconds.\n",
      "-- Epoch 40\n",
      "Norm: 9.03, NNZs: 1, Bias: 1.242825, T: 160, Avg. loss: 14.021907\n",
      "Total training time: 0.01 seconds.\n",
      "-- Epoch 41\n",
      "Norm: 9.07, NNZs: 1, Bias: 1.247563, T: 164, Avg. loss: 12.762559\n",
      "Total training time: 0.01 seconds.\n",
      "-- Epoch 42\n",
      "Norm: 9.10, NNZs: 1, Bias: 1.252071, T: 168, Avg. loss: 11.621740\n",
      "Total training time: 0.01 seconds.\n",
      "-- Epoch 43\n",
      "Norm: 9.14, NNZs: 1, Bias: 1.256302, T: 172, Avg. loss: 10.592890\n",
      "Total training time: 0.01 seconds.\n",
      "-- Epoch 44\n",
      "Norm: 9.17, NNZs: 1, Bias: 1.260332, T: 176, Avg. loss: 9.659631\n",
      "Total training time: 0.01 seconds.\n",
      "-- Epoch 45\n",
      "Norm: 9.20, NNZs: 1, Bias: 1.264116, T: 180, Avg. loss: 8.816690\n",
      "Total training time: 0.01 seconds.\n",
      "-- Epoch 46\n",
      "Norm: 9.22, NNZs: 1, Bias: 1.267722, T: 184, Avg. loss: 8.051114\n",
      "Total training time: 0.01 seconds.\n",
      "-- Epoch 47\n",
      "Norm: 9.25, NNZs: 1, Bias: 1.271109, T: 188, Avg. loss: 7.358642\n",
      "Total training time: 0.01 seconds.\n",
      "-- Epoch 48\n",
      "Norm: 9.28, NNZs: 1, Bias: 1.274338, T: 192, Avg. loss: 6.728991\n",
      "Total training time: 0.01 seconds.\n",
      "-- Epoch 49\n",
      "Norm: 9.30, NNZs: 1, Bias: 1.277372, T: 196, Avg. loss: 6.158696\n",
      "Total training time: 0.01 seconds.\n",
      "-- Epoch 50\n",
      "Norm: 9.32, NNZs: 1, Bias: 1.280266, T: 200, Avg. loss: 5.639572\n",
      "Total training time: 0.01 seconds.\n",
      "-- Epoch 51\n",
      "Norm: 9.34, NNZs: 1, Bias: 1.282986, T: 204, Avg. loss: 5.168785\n",
      "Total training time: 0.01 seconds.\n",
      "-- Epoch 52\n",
      "Norm: 9.36, NNZs: 1, Bias: 1.285581, T: 208, Avg. loss: 4.739801\n",
      "Total training time: 0.01 seconds.\n",
      "-- Epoch 53\n",
      "Norm: 9.38, NNZs: 1, Bias: 1.288020, T: 212, Avg. loss: 4.350287\n",
      "Total training time: 0.01 seconds.\n",
      "-- Epoch 54\n",
      "Norm: 9.40, NNZs: 1, Bias: 1.290348, T: 216, Avg. loss: 3.995018\n",
      "Total training time: 0.01 seconds.\n",
      "-- Epoch 55\n",
      "Norm: 9.42, NNZs: 1, Bias: 1.292535, T: 220, Avg. loss: 3.672063\n",
      "Total training time: 0.01 seconds.\n",
      "-- Epoch 56\n",
      "Norm: 9.44, NNZs: 1, Bias: 1.294625, T: 224, Avg. loss: 3.377233\n",
      "Total training time: 0.01 seconds.\n",
      "-- Epoch 57\n",
      "Norm: 9.45, NNZs: 1, Bias: 1.296587, T: 228, Avg. loss: 3.108923\n",
      "Total training time: 0.01 seconds.\n",
      "-- Epoch 58\n",
      "Norm: 9.47, NNZs: 1, Bias: 1.298462, T: 232, Avg. loss: 2.863770\n",
      "Total training time: 0.01 seconds.\n",
      "-- Epoch 59\n",
      "Norm: 9.48, NNZs: 1, Bias: 1.300222, T: 236, Avg. loss: 2.640431\n",
      "Total training time: 0.01 seconds.\n",
      "-- Epoch 60\n",
      "Norm: 9.50, NNZs: 1, Bias: 1.301905, T: 240, Avg. loss: 2.436202\n",
      "Total training time: 0.01 seconds.\n",
      "-- Epoch 61\n",
      "Norm: 9.51, NNZs: 1, Bias: 1.303484, T: 244, Avg. loss: 2.249957\n",
      "Total training time: 0.01 seconds.\n",
      "-- Epoch 62\n",
      "Norm: 9.52, NNZs: 1, Bias: 1.304994, T: 248, Avg. loss: 2.079517\n",
      "Total training time: 0.01 seconds.\n",
      "-- Epoch 63\n",
      "Norm: 9.54, NNZs: 1, Bias: 1.306410, T: 252, Avg. loss: 1.923932\n",
      "Total training time: 0.01 seconds.\n",
      "-- Epoch 64\n",
      "Norm: 9.55, NNZs: 1, Bias: 1.307764, T: 256, Avg. loss: 1.781448\n",
      "Total training time: 0.01 seconds.\n",
      "-- Epoch 65\n",
      "Norm: 9.56, NNZs: 1, Bias: 1.309033, T: 260, Avg. loss: 1.651258\n",
      "Total training time: 0.01 seconds.\n",
      "-- Epoch 66\n",
      "Norm: 9.57, NNZs: 1, Bias: 1.310247, T: 264, Avg. loss: 1.531950\n",
      "Total training time: 0.02 seconds.\n",
      "-- Epoch 67\n",
      "Norm: 9.58, NNZs: 1, Bias: 1.311383, T: 268, Avg. loss: 1.422834\n",
      "Total training time: 0.02 seconds.\n",
      "-- Epoch 68\n",
      "Norm: 9.59, NNZs: 1, Bias: 1.312470, T: 272, Avg. loss: 1.322776\n",
      "Total training time: 0.02 seconds.\n",
      "-- Epoch 69\n",
      "Norm: 9.60, NNZs: 1, Bias: 1.313486, T: 276, Avg. loss: 1.231182\n",
      "Total training time: 0.02 seconds.\n",
      "-- Epoch 70\n",
      "Norm: 9.61, NNZs: 1, Bias: 1.314459, T: 280, Avg. loss: 1.147140\n",
      "Total training time: 0.02 seconds.\n",
      "-- Epoch 71\n",
      "Norm: 9.61, NNZs: 1, Bias: 1.315367, T: 284, Avg. loss: 1.070140\n",
      "Total training time: 0.02 seconds.\n",
      "-- Epoch 72\n",
      "Norm: 9.62, NNZs: 1, Bias: 1.316236, T: 288, Avg. loss: 0.999449\n",
      "Total training time: 0.02 seconds.\n",
      "-- Epoch 73\n",
      "Norm: 9.63, NNZs: 1, Bias: 1.317047, T: 292, Avg. loss: 0.934624\n",
      "Total training time: 0.02 seconds.\n",
      "-- Epoch 74\n",
      "Norm: 9.64, NNZs: 1, Bias: 1.317822, T: 296, Avg. loss: 0.875079\n",
      "Total training time: 0.02 seconds.\n",
      "-- Epoch 75\n",
      "Norm: 9.64, NNZs: 1, Bias: 1.318543, T: 300, Avg. loss: 0.820429\n",
      "Total training time: 0.02 seconds.\n",
      "-- Epoch 76\n",
      "Norm: 9.65, NNZs: 1, Bias: 1.319234, T: 304, Avg. loss: 0.770205\n",
      "Total training time: 0.02 seconds.\n",
      "-- Epoch 77\n",
      "Norm: 9.66, NNZs: 1, Bias: 1.319875, T: 308, Avg. loss: 0.724071\n",
      "Total training time: 0.02 seconds.\n",
      "-- Epoch 78\n",
      "Norm: 9.66, NNZs: 1, Bias: 1.320488, T: 312, Avg. loss: 0.681653\n",
      "Total training time: 0.02 seconds.\n",
      "-- Epoch 79\n",
      "Norm: 9.67, NNZs: 1, Bias: 1.321056, T: 316, Avg. loss: 0.642657\n",
      "Total training time: 0.02 seconds.\n",
      "-- Epoch 80\n",
      "Norm: 9.68, NNZs: 1, Bias: 1.321600, T: 320, Avg. loss: 0.606787\n",
      "Total training time: 0.02 seconds.\n",
      "-- Epoch 81\n",
      "Norm: 9.68, NNZs: 1, Bias: 1.322102, T: 324, Avg. loss: 0.573782\n",
      "Total training time: 0.02 seconds.\n",
      "-- Epoch 82\n",
      "Norm: 9.69, NNZs: 1, Bias: 1.322581, T: 328, Avg. loss: 0.543412\n",
      "Total training time: 0.02 seconds.\n",
      "-- Epoch 83\n",
      "Norm: 9.69, NNZs: 1, Bias: 1.323023, T: 332, Avg. loss: 0.515444\n",
      "Total training time: 0.02 seconds.\n",
      "-- Epoch 84\n",
      "Norm: 9.70, NNZs: 1, Bias: 1.323445, T: 336, Avg. loss: 0.489699\n",
      "Total training time: 0.02 seconds.\n",
      "-- Epoch 85\n",
      "Norm: 9.70, NNZs: 1, Bias: 1.323832, T: 340, Avg. loss: 0.465971\n",
      "Total training time: 0.02 seconds.\n",
      "-- Epoch 86\n",
      "Norm: 9.70, NNZs: 1, Bias: 1.324201, T: 344, Avg. loss: 0.444121\n",
      "Total training time: 0.02 seconds.\n",
      "-- Epoch 87\n",
      "Norm: 9.71, NNZs: 1, Bias: 1.324538, T: 348, Avg. loss: 0.423966\n",
      "Total training time: 0.02 seconds.\n",
      "-- Epoch 88\n",
      "Norm: 9.71, NNZs: 1, Bias: 1.324860, T: 352, Avg. loss: 0.405401\n",
      "Total training time: 0.02 seconds.\n",
      "-- Epoch 89\n",
      "Norm: 9.72, NNZs: 1, Bias: 1.325151, T: 356, Avg. loss: 0.388261\n",
      "Total training time: 0.02 seconds.\n",
      "-- Epoch 90\n",
      "Norm: 9.72, NNZs: 1, Bias: 1.325429, T: 360, Avg. loss: 0.372469\n",
      "Total training time: 0.02 seconds.\n",
      "-- Epoch 91\n",
      "Norm: 9.72, NNZs: 1, Bias: 1.325679, T: 364, Avg. loss: 0.357877\n",
      "Total training time: 0.02 seconds.\n",
      "-- Epoch 92\n",
      "Norm: 9.73, NNZs: 1, Bias: 1.325917, T: 368, Avg. loss: 0.344430\n",
      "Total training time: 0.02 seconds.\n",
      "-- Epoch 93\n",
      "Norm: 9.73, NNZs: 1, Bias: 1.326130, T: 372, Avg. loss: 0.331992\n",
      "Total training time: 0.02 seconds.\n",
      "-- Epoch 94\n",
      "Norm: 9.73, NNZs: 1, Bias: 1.326331, T: 376, Avg. loss: 0.320529\n",
      "Total training time: 0.02 seconds.\n",
      "-- Epoch 95\n",
      "Norm: 9.74, NNZs: 1, Bias: 1.326509, T: 380, Avg. loss: 0.309916\n",
      "Total training time: 0.02 seconds.\n",
      "-- Epoch 96\n",
      "Norm: 9.74, NNZs: 1, Bias: 1.326678, T: 384, Avg. loss: 0.300133\n",
      "Total training time: 0.02 seconds.\n",
      "-- Epoch 97\n",
      "Norm: 9.74, NNZs: 1, Bias: 1.326825, T: 388, Avg. loss: 0.291068\n",
      "Total training time: 0.02 seconds.\n",
      "-- Epoch 98\n",
      "Norm: 9.75, NNZs: 1, Bias: 1.326963, T: 392, Avg. loss: 0.282710\n",
      "Total training time: 0.02 seconds.\n",
      "-- Epoch 99\n",
      "Norm: 9.75, NNZs: 1, Bias: 1.327081, T: 396, Avg. loss: 0.274958\n",
      "Total training time: 0.02 seconds.\n",
      "-- Epoch 100\n",
      "Norm: 9.75, NNZs: 1, Bias: 1.327191, T: 400, Avg. loss: 0.267811\n",
      "Total training time: 0.02 seconds.\n",
      "-- Epoch 101\n",
      "Norm: 9.75, NNZs: 1, Bias: 1.327283, T: 404, Avg. loss: 0.261174\n",
      "Total training time: 0.02 seconds.\n",
      "-- Epoch 102\n",
      "Norm: 9.75, NNZs: 1, Bias: 1.327368, T: 408, Avg. loss: 0.255055\n",
      "Total training time: 0.02 seconds.\n",
      "-- Epoch 103\n",
      "Norm: 9.76, NNZs: 1, Bias: 1.327436, T: 412, Avg. loss: 0.249368\n",
      "Total training time: 0.02 seconds.\n",
      "-- Epoch 104\n",
      "Norm: 9.76, NNZs: 1, Bias: 1.327498, T: 416, Avg. loss: 0.244124\n",
      "Total training time: 0.02 seconds.\n",
      "-- Epoch 105\n",
      "Norm: 9.76, NNZs: 1, Bias: 1.327544, T: 420, Avg. loss: 0.239243\n",
      "Total training time: 0.02 seconds.\n",
      "-- Epoch 106\n",
      "Norm: 9.76, NNZs: 1, Bias: 1.327585, T: 424, Avg. loss: 0.234745\n",
      "Total training time: 0.02 seconds.\n",
      "-- Epoch 107\n",
      "Norm: 9.76, NNZs: 1, Bias: 1.327611, T: 428, Avg. loss: 0.230552\n",
      "Total training time: 0.02 seconds.\n",
      "-- Epoch 108\n",
      "Norm: 9.77, NNZs: 1, Bias: 1.327633, T: 432, Avg. loss: 0.226689\n",
      "Total training time: 0.02 seconds.\n",
      "-- Epoch 109\n",
      "Norm: 9.77, NNZs: 1, Bias: 1.327640, T: 436, Avg. loss: 0.223084\n",
      "Total training time: 0.02 seconds.\n",
      "-- Epoch 110\n",
      "Norm: 9.77, NNZs: 1, Bias: 1.327644, T: 440, Avg. loss: 0.219761\n",
      "Total training time: 0.02 seconds.\n",
      "-- Epoch 111\n",
      "Norm: 9.77, NNZs: 1, Bias: 1.327634, T: 444, Avg. loss: 0.216657\n",
      "Total training time: 0.02 seconds.\n",
      "-- Epoch 112\n",
      "Norm: 9.77, NNZs: 1, Bias: 1.327622, T: 448, Avg. loss: 0.213798\n",
      "Total training time: 0.02 seconds.\n",
      "-- Epoch 113\n",
      "Norm: 9.77, NNZs: 1, Bias: 1.327597, T: 452, Avg. loss: 0.211122\n",
      "Total training time: 0.02 seconds.\n",
      "-- Epoch 114\n",
      "Norm: 9.78, NNZs: 1, Bias: 1.327570, T: 456, Avg. loss: 0.208658\n",
      "Total training time: 0.02 seconds.\n",
      "-- Epoch 115\n",
      "Norm: 9.78, NNZs: 1, Bias: 1.327531, T: 460, Avg. loss: 0.206348\n",
      "Total training time: 0.02 seconds.\n",
      "-- Epoch 116\n",
      "Norm: 9.78, NNZs: 1, Bias: 1.327491, T: 464, Avg. loss: 0.204222\n",
      "Total training time: 0.02 seconds.\n",
      "-- Epoch 117\n",
      "Norm: 9.78, NNZs: 1, Bias: 1.327439, T: 468, Avg. loss: 0.202226\n",
      "Total training time: 0.02 seconds.\n",
      "-- Epoch 118\n",
      "Norm: 9.78, NNZs: 1, Bias: 1.327386, T: 472, Avg. loss: 0.200389\n",
      "Total training time: 0.02 seconds.\n",
      "-- Epoch 119\n",
      "Norm: 9.78, NNZs: 1, Bias: 1.327322, T: 476, Avg. loss: 0.198662\n",
      "Total training time: 0.02 seconds.\n",
      "-- Epoch 120\n",
      "Norm: 9.78, NNZs: 1, Bias: 1.327257, T: 480, Avg. loss: 0.197073\n",
      "Total training time: 0.02 seconds.\n",
      "-- Epoch 121\n",
      "Norm: 9.78, NNZs: 1, Bias: 1.327183, T: 484, Avg. loss: 0.195575\n",
      "Total training time: 0.02 seconds.\n",
      "-- Epoch 122\n",
      "Norm: 9.79, NNZs: 1, Bias: 1.327108, T: 488, Avg. loss: 0.194199\n",
      "Total training time: 0.02 seconds.\n",
      "-- Epoch 123\n",
      "Norm: 9.79, NNZs: 1, Bias: 1.327023, T: 492, Avg. loss: 0.192899\n",
      "Total training time: 0.02 seconds.\n",
      "-- Epoch 124\n",
      "Norm: 9.79, NNZs: 1, Bias: 1.326939, T: 496, Avg. loss: 0.191706\n",
      "Total training time: 0.02 seconds.\n",
      "-- Epoch 125\n",
      "Norm: 9.79, NNZs: 1, Bias: 1.326845, T: 500, Avg. loss: 0.190576\n",
      "Total training time: 0.02 seconds.\n",
      "-- Epoch 126\n",
      "Norm: 9.79, NNZs: 1, Bias: 1.326752, T: 504, Avg. loss: 0.189539\n",
      "Total training time: 0.02 seconds.\n",
      "-- Epoch 127\n",
      "Norm: 9.79, NNZs: 1, Bias: 1.326649, T: 508, Avg. loss: 0.188554\n",
      "Total training time: 0.02 seconds.\n",
      "-- Epoch 128\n",
      "Norm: 9.79, NNZs: 1, Bias: 1.326548, T: 512, Avg. loss: 0.187652\n",
      "Total training time: 0.02 seconds.\n",
      "-- Epoch 129\n",
      "Norm: 9.79, NNZs: 1, Bias: 1.326438, T: 516, Avg. loss: 0.186793\n",
      "Total training time: 0.02 seconds.\n",
      "-- Epoch 130\n",
      "Norm: 9.79, NNZs: 1, Bias: 1.326330, T: 520, Avg. loss: 0.186006\n",
      "Total training time: 0.03 seconds.\n",
      "-- Epoch 131\n",
      "Norm: 9.79, NNZs: 1, Bias: 1.326213, T: 524, Avg. loss: 0.185255\n",
      "Total training time: 0.03 seconds.\n",
      "Convergence after 131 epochs took 0.03 seconds\n"
     ]
    },
    {
     "data": {
      "text/plain": [
       "SGDRegressor(eta0=0.001, max_iter=5000, verbose=1)"
      ]
     },
     "execution_count": 42,
     "metadata": {},
     "output_type": "execute_result"
    }
   ],
   "source": [
    "# 모델 학습\n",
    "sgd_model.fit(data[['시간']],data[['성적']])"
   ]
  },
  {
   "cell_type": "code",
   "execution_count": 43,
   "id": "3314c113",
   "metadata": {},
   "outputs": [
    {
     "data": {
      "text/plain": [
       "array([69.8830446])"
      ]
     },
     "execution_count": 43,
     "metadata": {},
     "output_type": "execute_result"
    }
   ],
   "source": [
    "# 예측 코드\n",
    "# 모델.predict(7시간)\n",
    "sgd_model.predict([[7]])"
   ]
  },
  {
   "cell_type": "code",
   "execution_count": 46,
   "id": "67c1e365",
   "metadata": {},
   "outputs": [
    {
     "name": "stdout",
     "output_type": "stream",
     "text": [
      "가중치 :  [9.79383312]\n",
      "절편 :  [1.32621275]\n"
     ]
    }
   ],
   "source": [
    "# 가중치 확인 \n",
    "print('가중치 : ', sgd_model.coef_)\n",
    "# 절편 확인\n",
    "print('절편 : ', sgd_model.intercept_)\n",
    "# y = 9.79383312x + 1.32621275"
   ]
  },
  {
   "cell_type": "code",
   "execution_count": 47,
   "id": "59a6899e",
   "metadata": {},
   "outputs": [
    {
     "data": {
      "text/plain": [
       "0.9995507549747388"
      ]
     },
     "execution_count": 47,
     "metadata": {},
     "output_type": "execute_result"
    }
   ],
   "source": [
    "# 모델 평가\n",
    "# score( 문제 , 답 )\n",
    "# data를 테스트로 연결\n",
    "sgd_model.score(data[['시간']], data['성적'])\n",
    "\n",
    "# 회귀 성능 지표 : R2_score, R-Squared 99%\n",
    "# 오차가 적은 상태이기 때문\n",
    "# 분류 성능 지표 : accuracy_score , model.score() 정확도"
   ]
  },
  {
   "cell_type": "markdown",
   "id": "7dec0db2",
   "metadata": {},
   "source": [
    "지도학습 - 회귀예측\n",
    "* 예측치 (연속적인 값)\n",
    "\n",
    "회귀예측은 선형 모델로 함!\n",
    "- 데이터 포인트를 가장 잘 설명할 수 있는 직선을 긋는 것\n",
    "\n",
    "선형 함수 모델 : 어떤 것이 좋은 모델인가?\n",
    "- 비용함수 : 가설 검증하는 공식\n",
    "cost : mse 공식 ( 평균제곱오차 )\n",
    "오차 값이 가장 작을 때 최적의 직선\n",
    "=> 최적의 선형 함수 모델\n",
    "\n",
    "가설을 만듬 - > 새로운 a,b로 변경하는 것 (경사하강)\n",
    " - ax + b =y \n",
    " 10x + 0\n",
    " 11x + 1\n",
    " 9x + 5 \n",
    "\n",
    "==선형 모델 정리==\n",
    "-모든 선형모델은 회귀에만 사용할까요? x , 분류용 선형모델도 존재\n",
    "* 기본적으로 선형회귀모델 => 회귀예측\n",
    "* 선형분류모델 => 분류값 출력\n",
    "\n",
    "LinearRegressor => 선형회귀모델 (연속적인 값을 출력(예측))\n",
    "1. 선형 회귀모델의 핵심\n",
    "- 좋은 선형모델을 만들어야함 == 예측 잘하는 모델 만들기\n",
    "how ? 오차가 적은것, 데이터 포인트들을 가장 잘 표현하는 선\n",
    "오차 계산 ? COST(LOSS) 함수 - 비용함수, 손실함수 => MSE\n",
    "MEE => 평균제곱오차 (오차계산) -> 오차가 적을 때가 최적이다!! 좋은 모델!!\n",
    "\n",
    "여러개의 가설 설정\n",
    "y = ax + b\n",
    "a, b를 갱신 => 경사하강법 (편미분을 하면서 순간의 기울기 계산)\n",
    "\t       하이퍼파라미터 => 학습률 Learning_rate\n",
    "\t       가중치 갱신 변동폭 설정"
   ]
  },
  {
   "cell_type": "code",
   "execution_count": null,
   "id": "b18b8419",
   "metadata": {},
   "outputs": [],
   "source": []
  }
 ],
 "metadata": {
  "kernelspec": {
   "display_name": "Python 3 (ipykernel)",
   "language": "python",
   "name": "python3"
  },
  "language_info": {
   "codemirror_mode": {
    "name": "ipython",
    "version": 3
   },
   "file_extension": ".py",
   "mimetype": "text/x-python",
   "name": "python",
   "nbconvert_exporter": "python",
   "pygments_lexer": "ipython3",
   "version": "3.9.12"
  }
 },
 "nbformat": 4,
 "nbformat_minor": 5
}
