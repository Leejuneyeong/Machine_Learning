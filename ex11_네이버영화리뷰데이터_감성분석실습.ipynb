{
 "cells": [
  {
   "cell_type": "markdown",
   "id": "3d5747a3",
   "metadata": {},
   "source": [
    "### 목표\n",
    " - 한국 영화 리뷰 문장 데이터를 활용하여 긍정/부정 감성 분석 진행해보자\n",
    " - TF-idf vectorizer를 활용해보자\n",
    " - Konlpy 한국어 형태소 분석기를 설치하고 활용해보자\n",
    " - 단어별 긍정/부정 정보를 확인 해보자\n"
   ]
  },
  {
   "cell_type": "code",
   "execution_count": 1,
   "id": "c23e346f",
   "metadata": {},
   "outputs": [
    {
     "name": "stdout",
     "output_type": "stream",
     "text": [
      "sys version\n",
      "3.9.12 (main, Apr  4 2022, 05:22:27) [MSC v.1916 64 bit (AMD64)]\n"
     ]
    }
   ],
   "source": [
    "# 파이썬 버전 확인\n",
    "import sys\n",
    "print('sys version')\n",
    "print(sys.version)"
   ]
  },
  {
   "cell_type": "code",
   "execution_count": 2,
   "id": "67628bc6",
   "metadata": {},
   "outputs": [],
   "source": [
    "from konlpy.tag import Kkma\n",
    "kkma = Kkma() # 한글 형태소 분석기(꼬꼬마)"
   ]
  },
  {
   "cell_type": "code",
   "execution_count": 5,
   "id": "f2fdcacd",
   "metadata": {},
   "outputs": [
    {
     "data": {
      "text/plain": [
       "['더빙', '목소리']"
      ]
     },
     "execution_count": 5,
     "metadata": {},
     "output_type": "execute_result"
    }
   ],
   "source": [
    "s = '아 더빙.. 진짜 짜증나네요 목소리' # 명사 추출\n",
    "kkma.nouns(s)"
   ]
  },
  {
   "cell_type": "code",
   "execution_count": 7,
   "id": "5435c064",
   "metadata": {},
   "outputs": [],
   "source": [
    "import pandas as pd\n",
    "import numpy as np\n",
    "# 판다스 옵션 설정\n",
    "pd.set_option('display.max_colwidth',None) # 컬럼너비설정\n",
    "pd.set_option('display.max_rows',None)# 행 최대 개수 설정"
   ]
  },
  {
   "cell_type": "markdown",
   "id": "9abc09a3",
   "metadata": {},
   "source": [
    "##### 데이터 불러오기\n",
    " - 네이버 영화 리뷰 데이터(한국어)"
   ]
  },
  {
   "cell_type": "code",
   "execution_count": 9,
   "id": "84a2c602",
   "metadata": {},
   "outputs": [
    {
     "data": {
      "text/html": [
       "<div>\n",
       "<style scoped>\n",
       "    .dataframe tbody tr th:only-of-type {\n",
       "        vertical-align: middle;\n",
       "    }\n",
       "\n",
       "    .dataframe tbody tr th {\n",
       "        vertical-align: top;\n",
       "    }\n",
       "\n",
       "    .dataframe thead th {\n",
       "        text-align: right;\n",
       "    }\n",
       "</style>\n",
       "<table border=\"1\" class=\"dataframe\">\n",
       "  <thead>\n",
       "    <tr style=\"text-align: right;\">\n",
       "      <th></th>\n",
       "      <th>id</th>\n",
       "      <th>document</th>\n",
       "      <th>label</th>\n",
       "    </tr>\n",
       "  </thead>\n",
       "  <tbody>\n",
       "    <tr>\n",
       "      <th>0</th>\n",
       "      <td>9976970</td>\n",
       "      <td>아 더빙.. 진짜 짜증나네요 목소리</td>\n",
       "      <td>0</td>\n",
       "    </tr>\n",
       "    <tr>\n",
       "      <th>1</th>\n",
       "      <td>3819312</td>\n",
       "      <td>흠...포스터보고 초딩영화줄....오버연기조차 가볍지 않구나</td>\n",
       "      <td>1</td>\n",
       "    </tr>\n",
       "    <tr>\n",
       "      <th>2</th>\n",
       "      <td>10265843</td>\n",
       "      <td>너무재밓었다그래서보는것을추천한다</td>\n",
       "      <td>0</td>\n",
       "    </tr>\n",
       "    <tr>\n",
       "      <th>3</th>\n",
       "      <td>9045019</td>\n",
       "      <td>교도소 이야기구먼 ..솔직히 재미는 없다..평점 조정</td>\n",
       "      <td>0</td>\n",
       "    </tr>\n",
       "    <tr>\n",
       "      <th>4</th>\n",
       "      <td>6483659</td>\n",
       "      <td>사이몬페그의 익살스런 연기가 돋보였던 영화!스파이더맨에서 늙어보이기만 했던 커스틴 던스트가 너무나도 이뻐보였다</td>\n",
       "      <td>1</td>\n",
       "    </tr>\n",
       "    <tr>\n",
       "      <th>5</th>\n",
       "      <td>5403919</td>\n",
       "      <td>막 걸음마 뗀 3세부터 초등학교 1학년생인 8살용영화.ㅋㅋㅋ...별반개도 아까움.</td>\n",
       "      <td>0</td>\n",
       "    </tr>\n",
       "    <tr>\n",
       "      <th>6</th>\n",
       "      <td>7797314</td>\n",
       "      <td>원작의 긴장감을 제대로 살려내지못했다.</td>\n",
       "      <td>0</td>\n",
       "    </tr>\n",
       "    <tr>\n",
       "      <th>7</th>\n",
       "      <td>9443947</td>\n",
       "      <td>별 반개도 아깝다 욕나온다 이응경 길용우 연기생활이몇년인지..정말 발로해도 그것보단 낫겟다 납치.감금만반복반복..이드라마는 가족도없다 연기못하는사람만모엿네</td>\n",
       "      <td>0</td>\n",
       "    </tr>\n",
       "    <tr>\n",
       "      <th>8</th>\n",
       "      <td>7156791</td>\n",
       "      <td>액션이 없는데도 재미 있는 몇안되는 영화</td>\n",
       "      <td>1</td>\n",
       "    </tr>\n",
       "    <tr>\n",
       "      <th>9</th>\n",
       "      <td>5912145</td>\n",
       "      <td>왜케 평점이 낮은건데? 꽤 볼만한데.. 헐리우드식 화려함에만 너무 길들여져 있나?</td>\n",
       "      <td>1</td>\n",
       "    </tr>\n",
       "    <tr>\n",
       "      <th>10</th>\n",
       "      <td>9008700</td>\n",
       "      <td>걍인피니트가짱이다.진짜짱이다♥</td>\n",
       "      <td>1</td>\n",
       "    </tr>\n",
       "    <tr>\n",
       "      <th>11</th>\n",
       "      <td>10217543</td>\n",
       "      <td>볼때마다 눈물나서 죽겠다90년대의 향수자극!!허진호는 감성절제멜로의 달인이다~</td>\n",
       "      <td>1</td>\n",
       "    </tr>\n",
       "    <tr>\n",
       "      <th>12</th>\n",
       "      <td>5957425</td>\n",
       "      <td>울면서 손들고 횡단보도 건널때 뛰쳐나올뻔 이범수 연기 드럽게못해</td>\n",
       "      <td>0</td>\n",
       "    </tr>\n",
       "    <tr>\n",
       "      <th>13</th>\n",
       "      <td>8628627</td>\n",
       "      <td>담백하고 깔끔해서 좋다. 신문기사로만 보다 보면 자꾸 잊어버린다. 그들도 사람이었다는 것을.</td>\n",
       "      <td>1</td>\n",
       "    </tr>\n",
       "    <tr>\n",
       "      <th>14</th>\n",
       "      <td>9864035</td>\n",
       "      <td>취향은 존중한다지만 진짜 내생에 극장에서 본 영화중 가장 노잼 노감동임 스토리도 어거지고 감동도 어거지</td>\n",
       "      <td>0</td>\n",
       "    </tr>\n",
       "    <tr>\n",
       "      <th>15</th>\n",
       "      <td>6852435</td>\n",
       "      <td>ㄱ냥 매번 긴장되고 재밋음ㅠㅠ</td>\n",
       "      <td>1</td>\n",
       "    </tr>\n",
       "    <tr>\n",
       "      <th>16</th>\n",
       "      <td>9143163</td>\n",
       "      <td>참 사람들 웃긴게 바스코가 이기면 락스코라고 까고바비가 이기면 아이돌이라고 깐다.그냥 까고싶어서 안달난것처럼 보인다</td>\n",
       "      <td>1</td>\n",
       "    </tr>\n",
       "    <tr>\n",
       "      <th>17</th>\n",
       "      <td>4891476</td>\n",
       "      <td>굿바이 레닌 표절인것은 이해하는데 왜 뒤로 갈수록 재미없어지냐</td>\n",
       "      <td>0</td>\n",
       "    </tr>\n",
       "    <tr>\n",
       "      <th>18</th>\n",
       "      <td>7465483</td>\n",
       "      <td>이건 정말 깨알 캐스팅과 질퍽하지않은 산뜻한 내용구성이 잘 버무러진 깨알일드!!♥</td>\n",
       "      <td>1</td>\n",
       "    </tr>\n",
       "    <tr>\n",
       "      <th>19</th>\n",
       "      <td>3989148</td>\n",
       "      <td>약탈자를 위한 변명, 이라. 저놈들은 착한놈들 절대 아닌걸요.</td>\n",
       "      <td>1</td>\n",
       "    </tr>\n",
       "    <tr>\n",
       "      <th>20</th>\n",
       "      <td>4581211</td>\n",
       "      <td>나름 심오한 뜻도 있는 듯. 그냥 학생이 선생과 놀아나는 영화는 절대 아님</td>\n",
       "      <td>1</td>\n",
       "    </tr>\n",
       "    <tr>\n",
       "      <th>21</th>\n",
       "      <td>2718894</td>\n",
       "      <td>보면서 웃지 않는 건 불가능하다</td>\n",
       "      <td>1</td>\n",
       "    </tr>\n",
       "    <tr>\n",
       "      <th>22</th>\n",
       "      <td>9705777</td>\n",
       "      <td>재미없다 지루하고. 같은 음식 영화인데도 바베트의 만찬하고 넘 차이남....바베트의 만찬은 이야기도 있고 음식 보는재미도 있는데 ; 이건 볼게없다 음식도 별로 안나오고, 핀란드 풍경이라도 구경할랫는데 그것도 별로 안나옴 ㅡㅡ</td>\n",
       "      <td>0</td>\n",
       "    </tr>\n",
       "    <tr>\n",
       "      <th>23</th>\n",
       "      <td>471131</td>\n",
       "      <td>절대 평범한 영화가 아닌 수작이라는걸 말씀드립니다.</td>\n",
       "      <td>1</td>\n",
       "    </tr>\n",
       "    <tr>\n",
       "      <th>24</th>\n",
       "      <td>8480268</td>\n",
       "      <td>주제는 좋은데 중반부터 지루하다</td>\n",
       "      <td>0</td>\n",
       "    </tr>\n",
       "    <tr>\n",
       "      <th>25</th>\n",
       "      <td>4254115</td>\n",
       "      <td>다 짤랐을꺼야. 그래서 납득할 수 없었던거야.. 그럴꺼야.. 꼭 그랬던걸꺼야..</td>\n",
       "      <td>0</td>\n",
       "    </tr>\n",
       "    <tr>\n",
       "      <th>26</th>\n",
       "      <td>7295746</td>\n",
       "      <td>kl2g 고추를 털어버려야 할텐데</td>\n",
       "      <td>1</td>\n",
       "    </tr>\n",
       "    <tr>\n",
       "      <th>27</th>\n",
       "      <td>5457633</td>\n",
       "      <td>카밀라벨 발연기</td>\n",
       "      <td>0</td>\n",
       "    </tr>\n",
       "    <tr>\n",
       "      <th>28</th>\n",
       "      <td>6091784</td>\n",
       "      <td>재밋는뎅</td>\n",
       "      <td>1</td>\n",
       "    </tr>\n",
       "    <tr>\n",
       "      <th>29</th>\n",
       "      <td>8322926</td>\n",
       "      <td>센스있는 연출력..탁월한 캐스팅..90년대의 향수.. 그래서 9점..</td>\n",
       "      <td>1</td>\n",
       "    </tr>\n",
       "  </tbody>\n",
       "</table>\n",
       "</div>"
      ],
      "text/plain": [
       "          id  \\\n",
       "0    9976970   \n",
       "1    3819312   \n",
       "2   10265843   \n",
       "3    9045019   \n",
       "4    6483659   \n",
       "5    5403919   \n",
       "6    7797314   \n",
       "7    9443947   \n",
       "8    7156791   \n",
       "9    5912145   \n",
       "10   9008700   \n",
       "11  10217543   \n",
       "12   5957425   \n",
       "13   8628627   \n",
       "14   9864035   \n",
       "15   6852435   \n",
       "16   9143163   \n",
       "17   4891476   \n",
       "18   7465483   \n",
       "19   3989148   \n",
       "20   4581211   \n",
       "21   2718894   \n",
       "22   9705777   \n",
       "23    471131   \n",
       "24   8480268   \n",
       "25   4254115   \n",
       "26   7295746   \n",
       "27   5457633   \n",
       "28   6091784   \n",
       "29   8322926   \n",
       "\n",
       "                                                                                                                         document  \\\n",
       "0                                                                                                             아 더빙.. 진짜 짜증나네요 목소리   \n",
       "1                                                                                               흠...포스터보고 초딩영화줄....오버연기조차 가볍지 않구나   \n",
       "2                                                                                                               너무재밓었다그래서보는것을추천한다   \n",
       "3                                                                                                   교도소 이야기구먼 ..솔직히 재미는 없다..평점 조정   \n",
       "4                                                                   사이몬페그의 익살스런 연기가 돋보였던 영화!스파이더맨에서 늙어보이기만 했던 커스틴 던스트가 너무나도 이뻐보였다   \n",
       "5                                                                                   막 걸음마 뗀 3세부터 초등학교 1학년생인 8살용영화.ㅋㅋㅋ...별반개도 아까움.   \n",
       "6                                                                                                           원작의 긴장감을 제대로 살려내지못했다.   \n",
       "7                                          별 반개도 아깝다 욕나온다 이응경 길용우 연기생활이몇년인지..정말 발로해도 그것보단 낫겟다 납치.감금만반복반복..이드라마는 가족도없다 연기못하는사람만모엿네   \n",
       "8                                                                                                          액션이 없는데도 재미 있는 몇안되는 영화   \n",
       "9                                                                                   왜케 평점이 낮은건데? 꽤 볼만한데.. 헐리우드식 화려함에만 너무 길들여져 있나?   \n",
       "10                                                                                                               걍인피니트가짱이다.진짜짱이다♥   \n",
       "11                                                                                    볼때마다 눈물나서 죽겠다90년대의 향수자극!!허진호는 감성절제멜로의 달인이다~   \n",
       "12                                                                                            울면서 손들고 횡단보도 건널때 뛰쳐나올뻔 이범수 연기 드럽게못해   \n",
       "13                                                                            담백하고 깔끔해서 좋다. 신문기사로만 보다 보면 자꾸 잊어버린다. 그들도 사람이었다는 것을.   \n",
       "14                                                                      취향은 존중한다지만 진짜 내생에 극장에서 본 영화중 가장 노잼 노감동임 스토리도 어거지고 감동도 어거지   \n",
       "15                                                                                                               ㄱ냥 매번 긴장되고 재밋음ㅠㅠ   \n",
       "16                                                               참 사람들 웃긴게 바스코가 이기면 락스코라고 까고바비가 이기면 아이돌이라고 깐다.그냥 까고싶어서 안달난것처럼 보인다   \n",
       "17                                                                                             굿바이 레닌 표절인것은 이해하는데 왜 뒤로 갈수록 재미없어지냐   \n",
       "18                                                                                  이건 정말 깨알 캐스팅과 질퍽하지않은 산뜻한 내용구성이 잘 버무러진 깨알일드!!♥   \n",
       "19                                                                                             약탈자를 위한 변명, 이라. 저놈들은 착한놈들 절대 아닌걸요.   \n",
       "20                                                                                      나름 심오한 뜻도 있는 듯. 그냥 학생이 선생과 놀아나는 영화는 절대 아님   \n",
       "21                                                                                                              보면서 웃지 않는 건 불가능하다   \n",
       "22  재미없다 지루하고. 같은 음식 영화인데도 바베트의 만찬하고 넘 차이남....바베트의 만찬은 이야기도 있고 음식 보는재미도 있는데 ; 이건 볼게없다 음식도 별로 안나오고, 핀란드 풍경이라도 구경할랫는데 그것도 별로 안나옴 ㅡㅡ   \n",
       "23                                                                                                   절대 평범한 영화가 아닌 수작이라는걸 말씀드립니다.   \n",
       "24                                                                                                              주제는 좋은데 중반부터 지루하다   \n",
       "25                                                                                   다 짤랐을꺼야. 그래서 납득할 수 없었던거야.. 그럴꺼야.. 꼭 그랬던걸꺼야..   \n",
       "26                                                                                                             kl2g 고추를 털어버려야 할텐데   \n",
       "27                                                                                                                       카밀라벨 발연기   \n",
       "28                                                                                                                           재밋는뎅   \n",
       "29                                                                                         센스있는 연출력..탁월한 캐스팅..90년대의 향수.. 그래서 9점..   \n",
       "\n",
       "    label  \n",
       "0       0  \n",
       "1       1  \n",
       "2       0  \n",
       "3       0  \n",
       "4       1  \n",
       "5       0  \n",
       "6       0  \n",
       "7       0  \n",
       "8       1  \n",
       "9       1  \n",
       "10      1  \n",
       "11      1  \n",
       "12      0  \n",
       "13      1  \n",
       "14      0  \n",
       "15      1  \n",
       "16      1  \n",
       "17      0  \n",
       "18      1  \n",
       "19      1  \n",
       "20      1  \n",
       "21      1  \n",
       "22      0  \n",
       "23      1  \n",
       "24      0  \n",
       "25      0  \n",
       "26      1  \n",
       "27      0  \n",
       "28      1  \n",
       "29      1  "
      ]
     },
     "execution_count": 9,
     "metadata": {},
     "output_type": "execute_result"
    }
   ],
   "source": [
    "df_train = pd.read_csv('data/ratings_train.csv', encoding = 'utf-8') # 한국어로 번역\n",
    "df_train.head(30)\n",
    "#label = 0 부정 / = 1 긍정"
   ]
  },
  {
   "cell_type": "code",
   "execution_count": 11,
   "id": "839b85f8",
   "metadata": {},
   "outputs": [
    {
     "data": {
      "text/html": [
       "<div>\n",
       "<style scoped>\n",
       "    .dataframe tbody tr th:only-of-type {\n",
       "        vertical-align: middle;\n",
       "    }\n",
       "\n",
       "    .dataframe tbody tr th {\n",
       "        vertical-align: top;\n",
       "    }\n",
       "\n",
       "    .dataframe thead th {\n",
       "        text-align: right;\n",
       "    }\n",
       "</style>\n",
       "<table border=\"1\" class=\"dataframe\">\n",
       "  <thead>\n",
       "    <tr style=\"text-align: right;\">\n",
       "      <th></th>\n",
       "      <th>id</th>\n",
       "      <th>document</th>\n",
       "      <th>label</th>\n",
       "    </tr>\n",
       "  </thead>\n",
       "  <tbody>\n",
       "    <tr>\n",
       "      <th>0</th>\n",
       "      <td>6270596</td>\n",
       "      <td>굳 ㅋ</td>\n",
       "      <td>1</td>\n",
       "    </tr>\n",
       "    <tr>\n",
       "      <th>1</th>\n",
       "      <td>9274899</td>\n",
       "      <td>GDNTOPCLASSINTHECLUB</td>\n",
       "      <td>0</td>\n",
       "    </tr>\n",
       "    <tr>\n",
       "      <th>2</th>\n",
       "      <td>8544678</td>\n",
       "      <td>뭐야 이 평점들은.... 나쁘진 않지만 10점 짜리는 더더욱 아니잖아</td>\n",
       "      <td>0</td>\n",
       "    </tr>\n",
       "    <tr>\n",
       "      <th>3</th>\n",
       "      <td>6825595</td>\n",
       "      <td>지루하지는 않은데 완전 막장임... 돈주고 보기에는....</td>\n",
       "      <td>0</td>\n",
       "    </tr>\n",
       "    <tr>\n",
       "      <th>4</th>\n",
       "      <td>6723715</td>\n",
       "      <td>3D만 아니었어도 별 다섯 개 줬을텐데.. 왜 3D로 나와서 제 심기를 불편하게 하죠??</td>\n",
       "      <td>0</td>\n",
       "    </tr>\n",
       "    <tr>\n",
       "      <th>5</th>\n",
       "      <td>7898805</td>\n",
       "      <td>음악이 주가 된, 최고의 음악영화</td>\n",
       "      <td>1</td>\n",
       "    </tr>\n",
       "    <tr>\n",
       "      <th>6</th>\n",
       "      <td>6315043</td>\n",
       "      <td>진정한 쓰레기</td>\n",
       "      <td>0</td>\n",
       "    </tr>\n",
       "    <tr>\n",
       "      <th>7</th>\n",
       "      <td>6097171</td>\n",
       "      <td>마치 미국애니에서 튀어나온듯한 창의력없는 로봇디자인부터가,고개를 젖게한다</td>\n",
       "      <td>0</td>\n",
       "    </tr>\n",
       "    <tr>\n",
       "      <th>8</th>\n",
       "      <td>8932678</td>\n",
       "      <td>갈수록 개판되가는 중국영화 유치하고 내용없음 폼잡다 끝남 말도안되는 무기에 유치한cg남무 아 그립다 동사서독같은 영화가 이건 3류아류작이다</td>\n",
       "      <td>0</td>\n",
       "    </tr>\n",
       "    <tr>\n",
       "      <th>9</th>\n",
       "      <td>6242223</td>\n",
       "      <td>이별의 아픔뒤에 찾아오는 새로운 인연의 기쁨 But, 모든 사람이 그렇지는 않네..</td>\n",
       "      <td>1</td>\n",
       "    </tr>\n",
       "  </tbody>\n",
       "</table>\n",
       "</div>"
      ],
      "text/plain": [
       "        id  \\\n",
       "0  6270596   \n",
       "1  9274899   \n",
       "2  8544678   \n",
       "3  6825595   \n",
       "4  6723715   \n",
       "5  7898805   \n",
       "6  6315043   \n",
       "7  6097171   \n",
       "8  8932678   \n",
       "9  6242223   \n",
       "\n",
       "                                                                        document  \\\n",
       "0                                                                            굳 ㅋ   \n",
       "1                                                           GDNTOPCLASSINTHECLUB   \n",
       "2                                         뭐야 이 평점들은.... 나쁘진 않지만 10점 짜리는 더더욱 아니잖아   \n",
       "3                                               지루하지는 않은데 완전 막장임... 돈주고 보기에는....   \n",
       "4                              3D만 아니었어도 별 다섯 개 줬을텐데.. 왜 3D로 나와서 제 심기를 불편하게 하죠??   \n",
       "5                                                             음악이 주가 된, 최고의 음악영화   \n",
       "6                                                                        진정한 쓰레기   \n",
       "7                                       마치 미국애니에서 튀어나온듯한 창의력없는 로봇디자인부터가,고개를 젖게한다   \n",
       "8  갈수록 개판되가는 중국영화 유치하고 내용없음 폼잡다 끝남 말도안되는 무기에 유치한cg남무 아 그립다 동사서독같은 영화가 이건 3류아류작이다   \n",
       "9                                 이별의 아픔뒤에 찾아오는 새로운 인연의 기쁨 But, 모든 사람이 그렇지는 않네..   \n",
       "\n",
       "   label  \n",
       "0      1  \n",
       "1      0  \n",
       "2      0  \n",
       "3      0  \n",
       "4      0  \n",
       "5      1  \n",
       "6      0  \n",
       "7      0  \n",
       "8      0  \n",
       "9      1  "
      ]
     },
     "execution_count": 11,
     "metadata": {},
     "output_type": "execute_result"
    }
   ],
   "source": [
    "# test 불러오기\n",
    "df_test = pd.read_csv('data/ratings_test.csv', encoding = 'utf-8')\n",
    "df_test.head(10)"
   ]
  },
  {
   "cell_type": "code",
   "execution_count": 16,
   "id": "88cb620b",
   "metadata": {},
   "outputs": [
    {
     "name": "stdout",
     "output_type": "stream",
     "text": [
      "훈련 데이터 크기:  (150000, 3)\n",
      "테스트 데이터 크기 :  (50000, 3)\n"
     ]
    }
   ],
   "source": [
    "#train 크기\n",
    "print('훈련 데이터 크기: ' ,df_train.shape)\n",
    "#test 크기\n",
    "print('테스트 데이터 크기 : ' , df_test.shape)"
   ]
  },
  {
   "cell_type": "code",
   "execution_count": 17,
   "id": "f674ecb6",
   "metadata": {},
   "outputs": [
    {
     "name": "stdout",
     "output_type": "stream",
     "text": [
      "<class 'pandas.core.frame.DataFrame'>\n",
      "RangeIndex: 150000 entries, 0 to 149999\n",
      "Data columns (total 3 columns):\n",
      " #   Column    Non-Null Count   Dtype \n",
      "---  ------    --------------   ----- \n",
      " 0   id        150000 non-null  int64 \n",
      " 1   document  149995 non-null  object\n",
      " 2   label     150000 non-null  int64 \n",
      "dtypes: int64(2), object(1)\n",
      "memory usage: 3.4+ MB\n",
      "<class 'pandas.core.frame.DataFrame'>\n",
      "RangeIndex: 50000 entries, 0 to 49999\n",
      "Data columns (total 3 columns):\n",
      " #   Column    Non-Null Count  Dtype \n",
      "---  ------    --------------  ----- \n",
      " 0   id        50000 non-null  int64 \n",
      " 1   document  49997 non-null  object\n",
      " 2   label     50000 non-null  int64 \n",
      "dtypes: int64(2), object(1)\n",
      "memory usage: 1.1+ MB\n"
     ]
    }
   ],
   "source": [
    "# 정보 확인 : .info()\n",
    "df_train.info()\n",
    "df_test.info()\n",
    "# 5개 정도 결측치가 있다는 것 확인 - df_train -> 결측치를 없애야함, 전처리 필요\n",
    "# 3개 정도 결측치가 있다는 것 확인 - df_test -> 결측치를 없애야함, 전처리 필요"
   ]
  },
  {
   "cell_type": "markdown",
   "id": "127a91cf",
   "metadata": {},
   "source": [
    "#### 데이터 전처리\n",
    " - 결측치 존재하는 행 삭제"
   ]
  },
  {
   "cell_type": "code",
   "execution_count": 19,
   "id": "c4b3ee24",
   "metadata": {},
   "outputs": [
    {
     "name": "stdout",
     "output_type": "stream",
     "text": [
      "<class 'pandas.core.frame.DataFrame'>\n",
      "Int64Index: 149995 entries, 0 to 149999\n",
      "Data columns (total 3 columns):\n",
      " #   Column    Non-Null Count   Dtype \n",
      "---  ------    --------------   ----- \n",
      " 0   id        149995 non-null  int64 \n",
      " 1   document  149995 non-null  object\n",
      " 2   label     149995 non-null  int64 \n",
      "dtypes: int64(2), object(1)\n",
      "memory usage: 4.6+ MB\n"
     ]
    }
   ],
   "source": [
    "# train 결측치 존재하는 행 모두 삭제\n",
    "df_train.dropna(inplace = True) # dropna = 결측치 존재하는 행 삭제\n",
    "df_train.info()"
   ]
  },
  {
   "cell_type": "code",
   "execution_count": 20,
   "id": "46851c7e",
   "metadata": {},
   "outputs": [
    {
     "name": "stdout",
     "output_type": "stream",
     "text": [
      "<class 'pandas.core.frame.DataFrame'>\n",
      "Int64Index: 49997 entries, 0 to 49999\n",
      "Data columns (total 3 columns):\n",
      " #   Column    Non-Null Count  Dtype \n",
      "---  ------    --------------  ----- \n",
      " 0   id        49997 non-null  int64 \n",
      " 1   document  49997 non-null  object\n",
      " 2   label     49997 non-null  int64 \n",
      "dtypes: int64(2), object(1)\n",
      "memory usage: 1.5+ MB\n"
     ]
    }
   ],
   "source": [
    "# test 결측치 존재하는 행 모두 삭제\n",
    "df_test.dropna(inplace = True) # dropna = 결측치 존재하는 행 삭제\n",
    "df_test.info()"
   ]
  },
  {
   "cell_type": "markdown",
   "id": "eb616dca",
   "metadata": {},
   "source": [
    " - X,y 분할 "
   ]
  },
  {
   "cell_type": "code",
   "execution_count": 24,
   "id": "7b0862d0",
   "metadata": {},
   "outputs": [
    {
     "data": {
      "text/plain": [
       "Index(['id', 'document', 'label'], dtype='object')"
      ]
     },
     "execution_count": 24,
     "metadata": {},
     "output_type": "execute_result"
    }
   ],
   "source": [
    "df_train.columns"
   ]
  },
  {
   "cell_type": "code",
   "execution_count": 27,
   "id": "790ca783",
   "metadata": {},
   "outputs": [
    {
     "name": "stdout",
     "output_type": "stream",
     "text": [
      "훈련용 문제 크기 :  (149995,)\n",
      "훈련용 답 크기 :  (149995,)\n",
      "테스트용 문제 크기 :  (49997,)\n",
      "테스트용 답 크기 :  (49997,)\n"
     ]
    }
   ],
   "source": [
    "# 훈련용 문제, 답\n",
    "text_train = df_train['document']# 리뷰 내용 = 문제\n",
    "# df_train.loc[:,'document']\n",
    "# df_train.iloc[:,1] <- 이것도 맞음\n",
    "\n",
    "y_train = df_train['label']# 긍정/부정 = 답\n",
    "\n",
    "# 테스트용 문제, 답\n",
    "text_test = df_test['document']# 리뷰 내용 = 문제\n",
    "# df_test.loc[:,'document']\n",
    "# df_test.iloc[:,1] <- 이것도 맞음\n",
    "y_test = df_test['label']# 긍정/부정 = 답\n",
    "\n",
    "#크기 확인\n",
    "print('훈련용 문제 크기 : ', text_train.shape)\n",
    "print('훈련용 답 크기 : ', y_train.shape)\n",
    "print('테스트용 문제 크기 : ', text_test.shape)\n",
    "print('테스트용 답 크기 : ', y_test.shape)\n"
   ]
  },
  {
   "attachments": {
    "image.png": {
     "image/png": "[encoded data removed]"
    }
   },
   "cell_type": "markdown",
   "id": "f0571e4a",
   "metadata": {},
   "source": [
    "![image.png](attachment:image.png)"
   ]
  },
  {
   "cell_type": "markdown",
   "id": "11da09ed",
   "metadata": {},
   "source": [
    "#### vectorizer\n",
    " - 벡터라이저는 말그대로 어떤 대상을 벡터로 바꾸는 작업 수행\n",
    " - 기계학습 분야에서는 주로 텍스트를 쉽게 분석하기 위해서 벡터로 표현할 때 사용\n",
    " - 숫자나 벡터를 input으로 기대하는 머신러닝 모델을 실행하기 위해서는 텍스트나 또 다른 형태의 데이터를 숫자나 벡터로 나타낼 필요가 있고, 그것을 해주는 도구가 vectorizer"
   ]
  },
  {
   "cell_type": "markdown",
   "id": "f1638731",
   "metadata": {},
   "source": [
    "#### BOW (Bag of Word)\n",
    "문서를 벡터로 변환하는 가장 쉽고 기본적인 방법\n",
    " - 문서(리뷰 문장) 내의 모든 단어를 모아 사전(가방)을 만듬\n",
    " - 특정 문서(리뷰문장) 어떤 단어가 들어있는 지 리스트 형태로 순서- 숫자로 나태는 것"
   ]
  },
  {
   "cell_type": "code",
   "execution_count": 30,
   "id": "052d0e0e",
   "metadata": {},
   "outputs": [],
   "source": [
    "from sklearn.feature_extraction.text import TfidfVectorizer"
   ]
  },
  {
   "cell_type": "code",
   "execution_count": 31,
   "id": "8fbf1366",
   "metadata": {},
   "outputs": [
    {
     "data": {
      "text/plain": [
       "0                  아 더빙.. 진짜 짜증나네요 목소리\n",
       "1    흠...포스터보고 초딩영화줄....오버연기조차 가볍지 않구나\n",
       "2                    너무재밓었다그래서보는것을추천한다\n",
       "Name: document, dtype: object"
      ]
     },
     "execution_count": 31,
     "metadata": {},
     "output_type": "execute_result"
    }
   ],
   "source": [
    "text_train[:3]"
   ]
  },
  {
   "cell_type": "code",
   "execution_count": 33,
   "id": "0ba626d0",
   "metadata": {},
   "outputs": [
    {
     "data": {
      "text/plain": [
       "array([[0.       , 0.       , 0.5      , 0.5      , 0.       , 0.       ,\n",
       "        0.5      , 0.5      , 0.       , 0.       ],\n",
       "       [0.4472136, 0.       , 0.       , 0.       , 0.4472136, 0.4472136,\n",
       "        0.       , 0.       , 0.4472136, 0.4472136],\n",
       "       [0.       , 1.       , 0.       , 0.       , 0.       , 0.       ,\n",
       "        0.       , 0.       , 0.       , 0.       ]])"
      ]
     },
     "execution_count": 33,
     "metadata": {},
     "output_type": "execute_result"
    }
   ],
   "source": [
    "# 예시 생성\n",
    "tf_idf_vect = TfidfVectorizer()\n",
    "\n",
    "# 단어 사전 구축 -> fit\n",
    "tf_idf_vect.fit(text_train[:3])\n",
    "# 단어 사전 확인\n",
    "tf_idf_vect.vocabulary_ # 단어별로 토큰식으로 보여짐\n",
    "\n",
    "# 특정 문서를 변환 -> transform\n",
    "tf_idf_vect.transform(text_train[:3]).toarray()\n",
    "# 결과 : 1행 = 문장을 뜻함 // 0, 0, 0.5 = 단어"
   ]
  },
  {
   "cell_type": "markdown",
   "id": "70f41c65",
   "metadata": {},
   "source": [
    " - tf_idf는 기본적으로 어절 단위 ( 문장을 이루는 도막도막 ) 로 끊기 때문에 한국어 특성상 의미 파악이 어려움\n",
    " - 더 작은 단위인 형태소 별로 나눠서 의미를 파악하게 해줘야함 -> konlpy "
   ]
  },
  {
   "cell_type": "markdown",
   "id": "edbd9bc2",
   "metadata": {},
   "source": [
    "#### 한국어 형태소 분석기\n",
    "knolpy - kkma 사용하기 : kkma(꼬꼬마)\n",
    " - nouns() : 명사 추출 하는 함수\n",
    " - morphs() : 형태소 추출 함수\n",
    " - pos() : 품사 부착하여 형태소 추출 함수"
   ]
  },
  {
   "cell_type": "code",
   "execution_count": 34,
   "id": "cc4700be",
   "metadata": {},
   "outputs": [],
   "source": [
    "from konlpy.tag import Kkma"
   ]
  },
  {
   "cell_type": "code",
   "execution_count": null,
   "id": "e1cc74e0",
   "metadata": {},
   "outputs": [],
   "source": [
    "# 객체 생성\n",
    "kkma = Kkma()"
   ]
  },
  {
   "cell_type": "code",
   "execution_count": 37,
   "id": "600bd8ad",
   "metadata": {},
   "outputs": [
    {
     "data": {
      "text/plain": [
       "['오늘', '영화', '완전', '노', '노잼', '잼']"
      ]
     },
     "execution_count": 37,
     "metadata": {},
     "output_type": "execute_result"
    }
   ],
   "source": [
    "# 명사 추출\n",
    "kkma.nouns('아 오늘 본 영화 완전 노잼!')"
   ]
  },
  {
   "cell_type": "markdown",
   "id": "acde8af8",
   "metadata": {},
   "source": [
    "tf-idf 벡터라이저와 konlpy랑 연결하여 세밀하게 분리한 후 벡터화"
   ]
  },
  {
   "cell_type": "code",
   "execution_count": 38,
   "id": "60c012f6",
   "metadata": {},
   "outputs": [],
   "source": [
    "# 1. 명사 추출 토크나이저 함수 정의 -> apply 화\n",
    "def myTokenizer(text) : \n",
    "    return kkma.nouns(text)"
   ]
  },
  {
   "cell_type": "code",
   "execution_count": 40,
   "id": "b3e9584b",
   "metadata": {},
   "outputs": [
    {
     "name": "stderr",
     "output_type": "stream",
     "text": [
      "C:\\Users\\smhrd\\anaconda3\\lib\\site-packages\\sklearn\\feature_extraction\\text.py:516: UserWarning: The parameter 'token_pattern' will not be used since 'tokenizer' is not None'\n",
      "  warnings.warn(\n"
     ]
    },
    {
     "data": {
      "text/plain": [
       "{'더빙': 0,\n",
       " '목소리': 2,\n",
       " '흠': 17,\n",
       " '포스터': 15,\n",
       " '포스터보고': 16,\n",
       " '보고': 4,\n",
       " '초': 12,\n",
       " '초딩영화줄': 13,\n",
       " '딩': 1,\n",
       " '영화': 6,\n",
       " '줄': 11,\n",
       " '오버': 7,\n",
       " '오버연기': 8,\n",
       " '연기': 5,\n",
       " '재': 9,\n",
       " '재밓': 10,\n",
       " '밓': 3,\n",
       " '추천': 14}"
      ]
     },
     "execution_count": 40,
     "metadata": {},
     "output_type": "execute_result"
    }
   ],
   "source": [
    "# konlpy 연결 객체 생성\n",
    "tmp_tfidf_vect = TfidfVectorizer(tokenizer = myTokenizer) \n",
    "\n",
    "# 단어 사전(모음, 가방) 구축\n",
    "# fit\n",
    "tmp_tfidf_vect.fit(text_train[:3]) # 3개 리뷰문장으로 단어사전 구축\n",
    "\n",
    "# 단어 사전 확인\n",
    "# vocaburaly_\n",
    "tmp_tfidf_vect.vocabulary_"
   ]
  },
  {
   "cell_type": "markdown",
   "id": "ade75ed0",
   "metadata": {},
   "source": [
    "#### pos tagging 활용\n",
    " - 형태소 추출하여 품사 태깅해주는 기능을 통해 명사, 형용사, 동사 찾아보자"
   ]
  },
  {
   "cell_type": "code",
   "execution_count": 41,
   "id": "dc53dbb8",
   "metadata": {
    "scrolled": true
   },
   "outputs": [
    {
     "data": {
      "text/plain": [
       "{'EC': '연결 어미',\n",
       " 'ECD': '의존적 연결 어미',\n",
       " 'ECE': '대등 연결 어미',\n",
       " 'ECS': '보조적 연결 어미',\n",
       " 'EF': '종결 어미',\n",
       " 'EFA': '청유형 종결 어미',\n",
       " 'EFI': '감탄형 종결 어미',\n",
       " 'EFN': '평서형 종결 어미',\n",
       " 'EFO': '명령형 종결 어미',\n",
       " 'EFQ': '의문형 종결 어미',\n",
       " 'EFR': '존칭형 종결 어미',\n",
       " 'EP': '선어말 어미',\n",
       " 'EPH': '존칭 선어말 어미',\n",
       " 'EPP': '공손 선어말 어미',\n",
       " 'EPT': '시제 선어말 어미',\n",
       " 'ET': '전성 어미',\n",
       " 'ETD': '관형형 전성 어미',\n",
       " 'ETN': '명사형 전성 어미',\n",
       " 'IC': '감탄사',\n",
       " 'JC': '접속 조사',\n",
       " 'JK': '조사',\n",
       " 'JKC': '보격 조사',\n",
       " 'JKG': '관형격 조사',\n",
       " 'JKI': '호격 조사',\n",
       " 'JKM': '부사격 조사',\n",
       " 'JKO': '목적격 조사',\n",
       " 'JKQ': '인용격 조사',\n",
       " 'JKS': '주격 조사',\n",
       " 'JX': '보조사',\n",
       " 'MA': '부사',\n",
       " 'MAC': '접속 부사',\n",
       " 'MAG': '일반 부사',\n",
       " 'MD': '관형사',\n",
       " 'MDN': '수 관형사',\n",
       " 'MDT': '일반 관형사',\n",
       " 'NN': '명사',\n",
       " 'NNB': '일반 의존 명사',\n",
       " 'NNG': '보통명사',\n",
       " 'NNM': '단위 의존 명사',\n",
       " 'NNP': '고유명사',\n",
       " 'NP': '대명사',\n",
       " 'NR': '수사',\n",
       " 'OH': '한자',\n",
       " 'OL': '외국어',\n",
       " 'ON': '숫자',\n",
       " 'SE': '줄임표',\n",
       " 'SF': '마침표, 물음표, 느낌표',\n",
       " 'SO': '붙임표(물결,숨김,빠짐)',\n",
       " 'SP': '쉼표,가운뎃점,콜론,빗금',\n",
       " 'SS': '따옴표,괄호표,줄표',\n",
       " 'SW': '기타기호 (논리수학기호,화폐기호)',\n",
       " 'UN': '명사추정범주',\n",
       " 'VA': '형용사',\n",
       " 'VC': '지정사',\n",
       " 'VCN': \"부정 지정사, 형용사 '아니다'\",\n",
       " 'VCP': \"긍정 지정사, 서술격 조사 '이다'\",\n",
       " 'VV': '동사',\n",
       " 'VX': '보조 용언',\n",
       " 'VXA': '보조 형용사',\n",
       " 'VXV': '보조 동사',\n",
       " 'XP': '접두사',\n",
       " 'XPN': '체언 접두사',\n",
       " 'XPV': '용언 접두사',\n",
       " 'XR': '어근',\n",
       " 'XSA': '형용사 파생 접미사',\n",
       " 'XSN': '명사파생 접미사',\n",
       " 'XSV': '동사 파생 접미사'}"
      ]
     },
     "execution_count": 41,
     "metadata": {},
     "output_type": "execute_result"
    }
   ],
   "source": [
    "# 품사 태그 종류 출력\n",
    "kkma.tagset"
   ]
  },
  {
   "cell_type": "code",
   "execution_count": 44,
   "id": "c6a88339",
   "metadata": {},
   "outputs": [
    {
     "data": {
      "text/plain": [
       "['아', '아', '더빙', '..', '진짜', '짜증나', '네요', '목소리']"
      ]
     },
     "execution_count": 44,
     "metadata": {},
     "output_type": "execute_result"
    }
   ],
   "source": [
    "# 단순 형태소만 추출\n",
    "kkma.morphs(text_train[0])"
   ]
  },
  {
   "cell_type": "code",
   "execution_count": 45,
   "id": "e251c6cc",
   "metadata": {},
   "outputs": [
    {
     "data": {
      "text/plain": [
       "'아 더빙.. 진짜 짜증나네요 목소리'"
      ]
     },
     "execution_count": 45,
     "metadata": {},
     "output_type": "execute_result"
    }
   ],
   "source": [
    "text_train[0]"
   ]
  },
  {
   "cell_type": "code",
   "execution_count": 43,
   "id": "a97f2d8c",
   "metadata": {},
   "outputs": [
    {
     "data": {
      "text/plain": [
       "[('아', 'VV'),\n",
       " ('아', 'ECS'),\n",
       " ('더빙', 'NNG'),\n",
       " ('..', 'SW'),\n",
       " ('진짜', 'MAG'),\n",
       " ('짜증나', 'VV'),\n",
       " ('네요', 'EFN'),\n",
       " ('목소리', 'NNG')]"
      ]
     },
     "execution_count": 43,
     "metadata": {},
     "output_type": "execute_result"
    }
   ],
   "source": [
    "# 품사 태깅 형태소 추출\n",
    "kkma.pos(text_train[0])"
   ]
  },
  {
   "cell_type": "code",
   "execution_count": 46,
   "id": "ddd7abee",
   "metadata": {},
   "outputs": [
    {
     "data": {
      "text/plain": [
       "[('먹', 'VV'),\n",
       " ('는', 'EPT'),\n",
       " ('다', 'ECS'),\n",
       " ('먹', 'VV'),\n",
       " ('다', 'ECS'),\n",
       " ('먹', 'VV'),\n",
       " ('었', 'EPT'),\n",
       " ('다', 'ECS'),\n",
       " ('예쁘', 'VA'),\n",
       " ('다', 'ECS'),\n",
       " ('예쁘', 'VA'),\n",
       " ('ㄴ', 'ETD'),\n",
       " ('얼굴', 'NNG'),\n",
       " ('아름답', 'VA'),\n",
       " ('다', 'ECS'),\n",
       " ('사진', 'NNG'),\n",
       " ('모자', 'NNG'),\n",
       " ('사람', 'NNG')]"
      ]
     },
     "execution_count": 46,
     "metadata": {},
     "output_type": "execute_result"
    }
   ],
   "source": [
    "# 품사 태깅 형태소 추출\n",
    "data = '먹는다 먹다 먹었다 예쁘다 예쁜얼굴 아름답다 사진 모자 사람'\n",
    "kkma.pos(data)"
   ]
  },
  {
   "cell_type": "code",
   "execution_count": 58,
   "id": "885e2b91",
   "metadata": {},
   "outputs": [
    {
     "data": {
      "text/plain": [
       "array(['먹', '먹', '먹', '예쁘', '예쁘', '아름답', '얼굴', '사진', '모자', '사람'],\n",
       "      dtype=object)"
      ]
     },
     "execution_count": 58,
     "metadata": {},
     "output_type": "execute_result"
    }
   ],
   "source": [
    "# df 형태로 변환 \n",
    "df = pd.DataFrame(kkma.pos(data), columns=['morphs','tag']) #\n",
    "df.set_index('tag',inplace=True)\n",
    "df\n",
    "\n",
    "# 감성분석 - 형용사, 동사, 보통명사 추출\n",
    "df.loc[['VV','VA','NNG']]\n",
    "\n",
    "# 코드 변형 - pandas 버전이 업데이트 되면서 인덱싱하는 코드의 내부 구조가 변형\n",
    "# tf-idf 연결할 때에는 intersection 함수를 통해 인덱싱 진행\n",
    "df.loc[df.index.intersection(['VV','VA','NNG']),'morphs'].values"
   ]
  },
  {
   "cell_type": "code",
   "execution_count": 64,
   "id": "f1ca2048",
   "metadata": {},
   "outputs": [],
   "source": [
    "# 명사, 동사, 형용사 접근하는 함수\n",
    "def myTokenizer2(text):\n",
    "    df = pd.DataFrame(kkma.pos(text), columns=['morphs','tag']) #\n",
    "    df.set_index('tag',inplace=True) # 데이터프레임의 인덱스를 tag 로 둠\n",
    "    # 명사, 동사, 형용사 있을 때 조건 코드\n",
    "    if ('VV' in df.index) | ('VA' in df.index) | ('NNG' in df.index):\n",
    "        return df.loc[df.index.intersection(['VV','VA','NNG']),'morphs'].values # [행 , 열] \n",
    "    \n",
    "    # 없을 때 빈리스트 반환\n",
    "    else:\n",
    "        return []"
   ]
  },
  {
   "cell_type": "code",
   "execution_count": 65,
   "id": "0156c926",
   "metadata": {},
   "outputs": [
    {
     "name": "stderr",
     "output_type": "stream",
     "text": [
      "C:\\Users\\smhrd\\anaconda3\\lib\\site-packages\\sklearn\\feature_extraction\\text.py:516: UserWarning: The parameter 'token_pattern' will not be used since 'tokenizer' is not None'\n",
      "  warnings.warn(\n"
     ]
    },
    {
     "data": {
      "text/plain": [
       "{'아': 5,\n",
       " '짜증나': 12,\n",
       " '더빙': 1,\n",
       " '목소리': 2,\n",
       " '흠': 15,\n",
       " '포스터': 14,\n",
       " '보고': 4,\n",
       " '영화': 8,\n",
       " '줄': 11,\n",
       " '오버': 9,\n",
       " '연기': 7,\n",
       " '가볍': 0,\n",
       " '재': 10,\n",
       " '추천': 13,\n",
       " '어': 6,\n",
       " '보': 3}"
      ]
     },
     "execution_count": 65,
     "metadata": {},
     "output_type": "execute_result"
    }
   ],
   "source": [
    "# tf-idf 객체 생성\n",
    "# 임시 사용\n",
    "# 3개의 문장 text_train[:3]\n",
    "tmp_tfidf_vect2 = TfidfVectorizer(tokenizer = myTokenizer2)\n",
    "# 단어사전 구축\n",
    "tmp_tfidf_vect2.fit(text_train[:3])\n",
    "# 단어사전 확인\n",
    "tmp_tfidf_vect2.vocabulary_"
   ]
  },
  {
   "cell_type": "markdown",
   "id": "3d0d136c",
   "metadata": {},
   "source": [
    " - tfidf 벡터라이저 최종 생성 후 실제 데이터 반영"
   ]
  },
  {
   "cell_type": "code",
   "execution_count": 66,
   "id": "400662f2",
   "metadata": {},
   "outputs": [
    {
     "name": "stderr",
     "output_type": "stream",
     "text": [
      "C:\\Users\\smhrd\\anaconda3\\lib\\site-packages\\sklearn\\feature_extraction\\text.py:516: UserWarning: The parameter 'token_pattern' will not be used since 'tokenizer' is not None'\n",
      "  warnings.warn(\n"
     ]
    },
    {
     "data": {
      "text/plain": [
       "TfidfVectorizer(tokenizer=<function myTokenizer2 at 0x000001B704070E50>)"
      ]
     },
     "execution_count": 66,
     "metadata": {},
     "output_type": "execute_result"
    }
   ],
   "source": [
    "final_tfidf_vect = TfidfVectorizer(tokenizer=myTokenizer2)\n",
    "final_tfidf_vect.fit(text_train[:10000])"
   ]
  },
  {
   "cell_type": "code",
   "execution_count": 69,
   "id": "7a55c20d",
   "metadata": {},
   "outputs": [
    {
     "name": "stdout",
     "output_type": "stream",
     "text": [
      "단어사전의 단어개수 :  8748\n",
      "단어 확인 :  dict_keys(['아', '짜증나', '더빙', '목소리', '흠', '포스터', '보고', '영화', '줄', '오버', '연기', '가볍', '재', '추천', '어', '보', '교도소', '이야기', '재미', '점', '조정', '멀', '없', '익살', '스파이', '더', '맨', '커스틴', '돋보이', '늙', '보이', '하', '이쁘', '걸음마', '초등학교', '학년', '생인', '용', '별', '반개', '떼', '아깝', '원작', '긴장감', '살리', '욕', '이응', '경', '길', '우', '생활', '발', '납', '감금', '반복', '이', '드라마', '가족', '사람', '모', '엿', '나오', '낫', '액션', '안', '있', '평점', '우드', '식', '화려', '낮', '헐', '길들이', '인피', '니트', '짱', '나', '죽', '때', '눈물', '향수', '자극', '허', '진호', '감성', '절제', '멜로', '달인', '울', '손들', '건너', '뛰쳐나오', '횡단보도', '범수', '드럽', '좋', '신문', '기사', '잊어버리', '취향', '존중', '진짜', '내생', '극장', '노', '잼', '감동', '임', '스토리', '어거지', 'ㄱ', '긴장', '참', '바스코', '바', '비', '아이', '돌이', '안달', '웃기', '이기', '까', '낳', '굿바이', '레', '표절', '이해', '뒤', '니', '재미없', '깨알', '캐스팅', '내용', '구성', '일드', '약탈자', '변명', '절대', '위하', '드', '착하', '나름', '심', '오한', '뜻', '학생', '선생', '놀아나', '아니', '웃', '건', '불가능', '같', '음식', '베', '만찬', '차이', '남', '핀란드', '풍경', '구경', '늘', '수작', '말씀드리', '주제', '중반', '짜르', '끄', '그러', '그리하', '납득', '고추', '털', '카', '밀', '벨', '센스', '연출력', '깨닫', '포스', '위력', '꽃', '검사', '완전', '명품', '졸', '돼', '쓰레기', '진부', '말', '시간', '재밌', '골', '기대', '내가', '죄인', '인생', '최고', '패션', '열정', '투어', '대하', '키', '나이', '틀', '정신', '장애', '작가', '유령', '나가', '재미있', '관객', '평가', '받', '모르', '단순', '매력', '알바', '거도', 'ㅇ', '무섭', '싱겁', '낚이', '오', '두', '굶주리', '서리', '맘', '방법', '듣', '윤', '제문', '배우', '발견', '일탈', '미소', '음악', '멋지', '아쉽', '되', '머금', '주', '올리', '속지', '낭비', '돈', '마시', '리얼리티', '공감', '이민기', '캐릭터', '학', '분노', '조절', '초기', '증상', '물건', '파손', '조금', '초반', '신선', '상태', '불가', '뛰어나', '크', '갈', '패', '욕하', '가', '마이너스', '수준', '북한', '알', '만들', '대주', '사랑', '느', '다니', '자', '잡수시', '리스', '타르', '나도', '용의', '주인', '누이', '근친', '상간', '소설', '속', '메', '라', '니스', '터', '선', '드래곤', '멋', '지네', '웃음', '감독', '토르', '기본', '선방', '영혼', '세상사', '동화', '행복', '어루만지', '잊', '거칠', '야', '세', '르', '게이', '매운맛', '포', '콩', '작', '보여주', '저', '이렇', '시리', '가슴', '자체', '꼬마', '애', '원한', '혼자', '고', '깊', '나대', '어쩌', '전', '충격적', '다', '기분', '느낌', '활력', '지독', '자비', '일본인', '상상력', '생각', '꺼지', '들', '무겁', '차갑', '백', '봉기', '들어맞', '예측', '카리스마', '악역', '불알', '당황', '중간', '끝나', '일상', '녹아들', '전개', '공인', '은', '컷', '소극적', '모습', '짜증', '느리', '희', '가슴속', '감정', '헤집', '많', '슬프', '우리나라', '현대사', '단면', '사죄', '노력', '말로', '보도', '연맹', '민간인', '학살', '이정', '일', '살인', '살인자', '잡', '예전', '작품', '에피소드', '탕', '사골', '산', '시청률', '이제', '부작', '우려먹', '김', '연기력', '입도', '손', '예진', 'ㅈ', '몰', '보신', '분', '노래', '실력', '박시', '환', '망신', '뽑', '맞', '이러', '일본', '유치', '이틀', '차', '조작', '안이', '문자', '비번', '억지', '넣', '열', '던지', '열리', '아물', '들어가', '덜', '걸리', '졸작', '달팽이', '빠르', '어설프', '결말', '부패', '로마노', '왕조', '온몸', '항거', '러시아', '민중', '폭도', '기리', '편이', '실망', '한국', '흥행', '코드', '갈등', '계', '화', '남발', '뻔', '시작하', '분만', '리플릿', '사진', '불안', '무엇', '엉망진창', '개진', '창', '먹', '말하', '우뢰', '매', '진정', '위대', '내일', '조미', '문', '위', '좋아하', '눈', '짐', '부라리', '쓰', '성', '최악', '이혜', '때리', '스', '서기', '백인', '공주', '귀엽', '인상적', '셀', '강추', '클라라', '고화', '신', '본거', '설정', '내', '메인', '새롭', '마코토', '작화', '미', '유', '하나', '카나', '대', '박이', '잘하', '진심', '볼만', '고은', '노골적', '술', '광고', '링', '타임', '크리스마스', '떠오르', '매력적', '산만', '빠지', '태어나', '처음', '불륜', '로맨스', '왕', '짬뽕', '믹스', '음향', '하아', '별루', '대박', '기준', '패널', '가구', '거지', '명작', '망치', '이상', '몬스터', '주식회사', '소재', '흥미', '몰입', '끌', '안되', '마라', '중국인', '특유', '과장', '허풍', '안간힘', '가상', '고증', '현실감', '거북', '스스로', '과대', '포장', '떨어지', '불법', '체류자', '우상화', '때려잡', '삶', '주인공', '생애', '드러나', '가자', '본지', '후', '지나', '남기', '순수', '펜', '올레', '공짜', '문제', '연', '기자', '배역', '상대', '있음', '라미', '아들', '어울리', '놀', '욕심', '빵점', '놓', '모자라', '도둑', '나라', '믿', '용기', '가지', '교훈적', '당시', '상황', '주입식', '전하', '케이블', '투', '량', '그릇', '섞이', '담기', '여군', '엠', '뭐하', '질리', '수', '디', '바이러스', '석해', '면', '보기', '정도', '마지막', '후반부', '떠들', '힘들', '해', '떨', '마', '용가리', '고민', '모건', '프리', '꼽', '살', '그리', '어떻', '섹시하', '재방송', '답', '봐주', '여운', '만하', '않', '쩔', '아끼', '상업', '지', '퀄리티', '개인적', '잔인', '자극적', '노출', '씬', '국산', '화끈하', '끝내', '지겹', '죽이', '바래', '로', '일품', '샘', '괜찮', '음', '면상', '자신', '뜨', '찍', '꺼', '외', '어린이', '적', '동심', '어리', '무술인', '총', '크리', '스토퍼', '왈츠', '티', '조합', '타', '유명', '외국', '상상', '초월', '오랜만', '종방', '오늘', '방', '방송', '대본', '완성', '요즘', '막장', '향', '어이', '심하', '지치', '호', '위원회', '의', '순정', '역할', '제일', '파탈', '의외', '사극', '논란', '코미디', '장면', '파', '해내', '벌어지', '때쯤', '멍', '한마디', '끝나가', '공유', '상', '말하기', '해설', '껄끄럽', '소파', '이유', '치', '앉', '지키', '로큰롤', '주되', '통하', '거슬리', '일반적', '논리', '게임', '요원', '무능력', '배경', '뮤지컬', '사운드', '녹음', '엉망', '춤', '어제', '영국', '예산', '맘마', '미아', '안됨', '추', '뛰', '말리', '뻔하', '로맨틱', '물', '저라', '스텝', '꼭두각시', '아름답', '현대인', '해지', '읽', '당하', '극치', '남자애', '시종일관', '고역', '클래식', '풍의', '얼', '흘러나오', '배', '못생기', '싫', '정말', '주기', '마세', '티비', '판', '짜집기', '들이', '안내', '돼지', '피', '닭', '목', '무당', '따', '버리', '잠', '류', '판타지', '가져가', '종신', '복귀', '하늘', '참가자', '심사', '위원', '인격', '오시', '어하', '뽑히', '따지', '쌓', '광장', '옛날', '생의', '나쁘', '시절', '추억', '짓', '금물', '지옥', '가요', '기존', '형식', '탈피', '지나치', '에', '후회', '할거', '교훈', '오기', '추천요', '젖어들', '싸이코', '벗어나', '접하', '개봉', '청춘', '만이', '순간', '만큼', '무한', '젊음', '넘쳐나', '지나가', '돌아오', '건담', '시리즈', '봉', '개', '콘', '수록', '코너', '사', '코', '우물', '펀치', '후세', '결정적', '계기', '표현', '생명', '야만', '시노', '출현', '연극', '본능', '히', '시랑', '시', '빼앗', '알리', '새벽', '원래', '이래', '강수', '연의', '정원', '신음', '혜성', '예쁘', '가발', '여정', '인상깊', '성적', '호기심', '감동적', '필요', '닥치', '봐', '파워', '사로잡', '응답', '지원', '원도', '앗', '배꼽', '부실', '장', '로드', '몰락', '오우', '삼', '가져오', '언제', '영웅', '색', '연출', '현실성', '제로', '인', '학창', '그때', '대사', '설레', '느끼', '높', '더럽', '형태', '허무', '영양가', '닿', '이승', '조연', '현실', '꿈', '현충일', '특집', '프로', '미로', '동급', '제대', '마음', '휴가', '소박', '햇살', '이의', '부엌', '요리', '다녀오', '코믹', '짜임새', '현준', '황', '장군', '한', '석', '규의', '전성시대', '테', '규하', '재생', '괴물', '서스펜스', '귀신', '흡입력', '글', '한번쯤', '기가', '버킷', '리스트', '죽기', '직전', '소원', '발톱', '완존', '들어주', '따라가', '긍정', '적인', '연기인', '표', '홍', '정역', '기도', '월요일', '밝', '질', '정치인', '모순', '정치범', '어렵', '전쟁', '묘사', '재개봉하', '대희', '개그', '콘서트', '내전', '끊', '한물', '동서양', '싸움판', '역시나', '구', '세계', '최초', '반공', '역사적', '가치', '감각', '시각', '문학적', '바라보', '색다르', '엄마', '무고', '딸', '감옥살이', '시키', '책', '보세', '여', '화가', '미치', '신나', '흑인', '아이스', '큐브', '옥', '소리', '프로필', '아우', '당', '굿', '내주', '단하', '군', '제맛', '이적', '범죄', '실패작', '빠져들', '모녀', '토막', '살해', '자가', '부성애', '본인', '피해자', '묻', '구리', '기', '기명', '필름', '값', '매미', '습', '듣기', '매니저', '역', '활', '짧', '스릴러', '스릴', '비추', '전달', '오글거리', '할머니', '월래', 'ㄷ', '부족', '쇼', '기억', '개가', '천', '이름', '언니', '트로트', '연인', '부르', '즐겁', '망', '시선', '먹먹하', '여자애', '복', '순', '겁', '어색', '다투', '그', '없애', '연속극', '여주인공', '인터뷰', '박스', '오피스', '폭탄', '싸움', '빔', '몰아주', '다르', '여자', '기량', '딸리', '었', '개연성', '조', '개막', '호구', '쌀', '세기', '명대사', '쓸데', '뒷받침', '중요', '여배우', '고위', '잇', '톤', '그렇', '맛깔', '시베리아', '훈련', '개작', '제목', '야경꾼', '일지', '지금', '달', '앞', '얘기', '함의', '지존', '넘어가', '가늘', '슬픔', '아역', '민폐', '언년', '저급', '그럴싸하', '송', '강호', '즐거움', '연기파', '인하', '수입', '금지', '비디오', '테이프', '불후', '돌리', '그립', '해석', '재치', '누', '라파스', '신봉', '닮', '재탕', '이외', '의문', '내고', '연예인', '재기', '지진', '시나리오', '넘어지', '걸어다니', '끼', '안개', '워터', '다리', '마스코트', '사토', '천재', '암', '가시', '대작', '안타깝', '돌아가시', '예삐', '독', '과하', '살아가', '와닿', '조폭', '세상', '비정', '친구', '영상', '처', '긷', '다듬', '매끄럽', '감도', '부분', '철', '뼈대', '가문', '박정', '섞', '펼치', '군더더기', '진행', '탑', '못', '지대', '아빠', '민망', '훈', '씨', '애니메이션', '의도', '표현법', '로버츠', '선하', '예술가', '시대적', '수가', '베테랑', '승', '역작', '와', '강하', '한창', '핵', '펭귄', '남북', '거짓', '평화', '전국민', '속이', '한명', '고지', '알아차리', '하나님', '가정', '진리', '신분', '핀', '헤드', '신라', '달밤', '첨', '둑', '끝', '도가', '이번', '달려가', '결국', '의견', '핑계', '정당화', '정부', '탓', '사회', '사실', '여부', '매칭', '원탁', '실제', '검술', '최고수', '트리', '중국', '쌍검', '안대', '미스', '싸우', '흉내내', '트', '대한민국', '평균치', '하락', '급', '영상물', '종착역', '대유', '흘러가', '동영상', '취미', '올', '블', '학위', '조성', '범죄자', '문제자', '제작비', '패자', '부활', '모으', '알맞', '멋있', '강한', '메세지', '뜻밖', '그랜드', '부', '페스트', '호텔', '감기', '투자', 'ㅎ', '망하', '뜬금없', '뛰어넘', '언', '히어로', '놀이', '극', '중심', '살인마', '대적', '사건', '해결', '인물', '탈출', '대체', '조달', '정', '유미', '끌어가', '잡히', '진', '리얼', '짜', '로봇', '인간', '앤드', '선사', '영구', '땡칠이', '초', '친척', '형', '나중', '사촌', '최신', '빌리', '고요', '성찰', '사색', '서글프', '머물', '혀', '내기', '박빙', '하의', '미모', '주제가', '눈부시', '풀리', '싸', '다이', '상하', '절망', '거부', '참함', '챙기', '페이스', '퇴색', '맛', '흐르', '소피', '마르소', '역사', '똥', '만약', '미국인', '서', '아메리칸', '원주민', '자유', '투쟁기', '아카데미상', '없었', '부정', '일어나', '따르', '바라', '일일', '볼', '군가', '정장', '월가', '림프', '비즈', '쥑이', '견', '자단', '계속', '오월', '순위', '밤', '늦', '반하', '그래픽', '건지', '즐기', '평론가', '명치', '도움', '깨', '바꿔주', '리', '극적', '사실적', '남자', '한번', '울림', '강', '간첩', '밥', '애쓰', '검증', '장난', '절', '환경', '만화', '경의', '보내', '이경', '땋', '가인', '가나다라', '자식', '날', '요구', '말자', '키우', '살아오', '도와주', '끙끙거리', '짠하', '번지수', '잃', '영활', '공효', '평수', '콧대', '권', '상우', '산고', '왼쪽', '팔자', '줄이', '높이', '생기', '사라지', '잘생기', '공부', '이후', '아픔', '압권', '유대', '동행', '토마스', '더러운', '유태인', '유대인', '인척', '사슴', '인형', '대변', '여기', '밟', '찧', '감사', '변태', '성공', '수년', '세월', '찰나', '영원', '상대성', '이론', '관하', '이중', '두근거리', '핫', '돌진', '유혹', '놀라', '차이나', '타운', '을', '용서', '대놓', '베끼', '신화', '힘', '엔딩', '영화관', '만감', '돌아가', '이민', '정씨', '신하', '균', '교양', '충격', '빨갱이', '초가', '단어', '선생님', '그리움', '미안', '소리지르', '울먹이', '애기', '하기', '걸', '쥐', '힘겹', '조은', '참고', '숙', '대전', '무기', '기술력', '지휘', '장교', '일으키', '예', '이랑', '월도', '슬', '쌔', '빼', '뵙', '연서', '신인', '다음', '반전', '전부', '피의자', '머', '복수', '주변', '녀', '끌려다니', '스피', '박자', '디테일', '시가', '완벽', '작중', '완급', '반도', '평생', '정상적', '생각나', '짐승', '아수라', '공통점', '스포츠', '군대', '자막', '로버트', '광기', '만끽', '감', '동감', '동의', '도가니탕', '정치', '경제', '문화', '전반', '변화', '함정', '걸치', '숨막히', '숨', '곳곳', '복선', '영애', '싸구려', '신파', '경극', '갖추', '몸짓', '밝히', '터지', '밝혀지', '지게', '직', '봄', '이드', '라마', '평정', '별거', '감수성', '아름다움', '밀려오', '상영', '생동감', '박물관', '땅', '미화', '흘리', '찾', '인종', '차별', '유괴', '불협화음', '고명', '후자', '속편', '전작', '밴드', '추가', '빌', '올해', '결투', '폭풍', '팝', '할아버지', '상술', '선거', '성향', '남남', '무', '성격', '조기', '종영', '델', '본', '요', '착각', '잘못', '기독교', '비약', '삭제', '행간', '반대', '다가오', '잃어버리', '스킨', '싫어하', '자동차', '매니아', '나의', '이하', '정체성', '사치', '아저씨', '개제', '풀', '역겹', '남극', '곳', '오르', '시스트', '능가', '공포', '실상', '개뿔', '저조', '귀요', '영화인', '관계', '스펙타클', '영화계', '바람', '희망', '응원', '관람', '주신', '부탁드리', '벌쓰', '불', '다운', '최근', '뜨거워지', '블랙', '조롱', '대상', '점수', '성기', '그로', '우리', '촌', '동네', '삼류', '유머', '영', '들이밀', '촌스럽', '스타', '형님', '얼굴', '먹칠', '데', '몸매', '꼽히', '조잡', '전체적', '루즈', '민국', '데뷔', '도안', '이해도', '언저리', '무리', '승부수', '약하', '띄우', '주연', '이득', '박', '엄청나', '코끼리', '내노', '패러디', '카메오', '들보', '초등', '자녀', '후속', '나와', '근래', '토종', '찰지', '성인', '제작자', '만드', '전반적', '비의', '현', '커피', '신경', '미흡', '느껴지', '싶', '세련', '진지', '유럽', '탈', '픽션', '풍정', '정은', '과도', '압축', '호화', '님', '최저', '행동', '캐릭', '간', '이해관계', '간만', '능', '막돼먹', '기절', '우울', '정화', '날리', '미가', '제작', '본분', '시작', '희생자', '원하', '평작', '극장가', '안본', '머리', '제인', '중고생', '포르노', '마추', '동시', '영물', '정체', '설명', '묻어나', '경인', '드리', '뿜', '없다', '계몽', '한계', '답습', '통쾌', '마침표', '얼간이', '아줌마', '본데', '만족', '심혜', '아들놈', '메시지', '창업', '아이템', '사업', '하려', '스승', '이요', '지침서', '혹', '단념', '박장', '대소', '독립', '꿈꾸', '험하', '부자간', '배신', '원망', '명화', '움', '불르', '프리미엄', '인간적', '정재', '쇠', '부진', '반감', '영화화하', '감독자', '기만', '전주', '영화제', '종교', '업', '박수', '치유', '상처받', '중', '퍼스트', '쓰디쓰', '놈', '양심', '끼우', '맞추기', '개랑', '깔', '대우', '머릿속', '지우개', '폭발', '월요', '커플', '덕분', '터키', '스키', '추격', '의하', '수많', '최루성', '걸작', '건너편', '엿보', '사기', '실적', '화성', '금성', '본전', '담배', '남편', '내리', '마술', '외계인', '수나', '붙이기', '형편없', '장임', '쉽', '수도승', '떠내려가', '온', '물대포', '쏘', '지리', '데리', '스치', '어로', '무비', '고스트', '라이더', '사망', '우습', '돈뭉치', '대기', '명', '고하자', '제제', '찬가', '어린', '안쓰럽', '주고', '악', '뚝방', '육감적', '섹시', '여인', '존재', '도입', '카메라', '각도', '화질', '구림', '도', '런지', '기억나', '박사', '정시', '묻히', '아이디어', '번뜩이', '미스터리', '에로스', '겸비', '계상', '능청', '에리', '현대자동차', '프레스토', '세록', '철학적', '효과음', '막히', '정이', '만점', '타이틀', '뷰', '불쾌', '중년', '남성', '관', '솜', '요소', '작고', '교', '원숭이', '망상', '사무라이', '토', '모니터링', '안하', '염치', '산업', '홍보', '소비자', '입장', '다행', '상급', '품', '상호', '팔', '실화', '빠져나오', '눈물겹', '국민학교', '동생', '욕망', '전차', '부류', '마구잡이', '땀', '비행기', '헛웃음', '금단', '비가', '의미', '주목받', '뇌', '특별', '시도', '열중', '기쁨', '죽음', '거대', '우주', '섭리', '어머니', '여성미', '자애', '영상미', '예술', '맡', '낮추', '고릴라', '보통', '섭렵', '샤워', '그만큼', '쳐다보', '겪', '광해', '쉬', '하트', '넷', '여성', '나약', '이미지', '부각', '베드신', '외모', '사이코', '속출', '불교', '식상', '종교적', '분위기', '풍기', '이성', '저격', '어게인', '대중적', '주가', '비기', '선택', '아기', '시점', '청하', '난해', '왕실', '허탈', '이사', '비하', '민', '종', '공격적', '여성성', '일기', '지략', '삼국지', '밖', '잎', '도입부', '제외', '헬기', '미군', '등', '극단적', '라이', '일병', '햄', '조커', '하면서', '주위', '피해', '푸', '자위대', '등장', '자위', '과학도', '과학적', '떠나', '일편', '브리짓', '그랜트', '한자리', '함', '삽질하', '쫄', '아이리스', '거해', '수치', '접합', '자시', '정우', '성과', '고소', '흥행작', '비트', '전라도', '노예', '업주', '처벌', '이슈', '안받', '공자', '자연', '노자', '사이', '빛', '유지', '크리스', '커', '젤', '턴', '후덕', '집중', '쓰래기', '배틀', '상류층', '속물', '근성', '국회', '의원', '사회적', '강자', '아부', '도덕적', '가보', '차리', '사고', '정상인', '샬', '치졸', '청소년', '선정적', '솔', '이시', '들어보', '비롯되', '벌이', '어르신', '대부분', '주민', '서로', '하층민', '복수심', '경이', '빨치산', '정작', '북한군', '평균', '스타일', '희수', '아침', '이구', '머니', '티나', '대표적', '김치', '신뢰도', '헤어스타일', '가게', '분신', '찌', '국민', '약', '구하', '짝', '로지', '다니엘', '경구', '헤', '설', '모욕감', '넘', '러닝', '썰매', '목적지', '통제', '몰리', '이퀄', '리브', '보시', '원조', '로즈', '해군', '출신', '관심', '파란색', '오성', '오열', 'ㅍ', '거장', '솜씨', '모우', '베스트', '페이크', '다큐', '미즈', '레이', '만화책', '비밀', '영향', '상업적', '도전', '예고편', '예고', '편', '대판', '쌈질', '시청자', '낚시질', '걱정', '폐지', '프랑스', '귀', '지미', '애린', '설득력', '꼴통', '페미니즘', '나치', '마인드', '지향', '소녀', '틀리', '알려주', '장애인', '쿨하', '어처구니', '밤중', '사과', '나한', '골목', '상권', '대형', '슈퍼마켓', '들어오', '무협', '말해', '모해', '송이', '설교', '결혼', '반지', '가담', '전문', '장르', '색깔', '충실', '완성도', '미취학', '이것을', '자랑', '내재', '어의', '난동', '원작자', '참여', '주세', '천녀', '혼', '퀭하', '공', '감하', '강요', '원곡', '내사', '두말', '깊이', '출연진', '제작진', '무언가', '필요없', '화학', '옆', '준비', '장편', '젊', '손대', '영화감독', '앞뒤', '돋', '자르', '오그리', '정신없', '팔아먹', '문헌', '문란', '사도', '세자', '정조', '아버지', '시나리', '오도', '오지', '적히', '휴일', '침대', '채널', '해리슨', '포드', '광도', '일반', '눕', '튿', '미학', '안타', '갑', '충', '교육적', '꿀', '소유', '서인', '화면', '흑백', '바꾸', '쇼핑몰', '트림', '폭력', '실험적', '수트', '미남', '권유', '창조', '중복', '입', '변하', '나발', '컴퓨터', '키보드', '파트', '개떡', '똑같', '누르', '농촌', '실력자', '리그', '버스', '피로', '감이', '극복', '얼음', '단독', '평소', '여호와', '증인', '설득', '좀비', '가능', '흠잡', '탁재', '와이', '라지', '약해', '뒈지', '정서', '흔하', '모두', '섬', '맥', '전형적', '일본식', '엽기', '코메디', '특이', '끌리', '나루토', '보상', '일정', '성취', '결실', '거두', '아씨', '기적', '전율', '여기저기', '이기적', '연애', '갈기', '지도', '선정', '카타르시스', '진영', '여주', '제이', '솔로', '전화', '통화', '폰', '부스', '저질', '현기', '증', '되돌아보', '놀래키', '개판', '수도', '일방적', '식인종', '식인', '인성', '말살', '흩어지', '밀리', '구역', '신도', '늑대', '낭만적', '민권', '운동사', '요약', '뛰어내리', '공포감', '음악도', '셈', '구식', '지겨움', '연예계', '끝내주', '돌', '지하철', '기관사', '스타워즈', '베이', '탄생', '레이어', '운명', '소희', '소문나', '잔치', '주성', '구우', '교과', '서적', '플레이', '귀찮', '평', '손발', '간직', '내보', '고래', '국가적', '호들갑', '지구의', '돕', '주말', '밤새', '완주', '맑', '파문', '주목', '기획', '상품', '집', '더불', '악몽', '기술적', '각본', '개념', '고결', '신사', '개안', '소', '팬', '삐', '에로', '욕되', '넘어서', '접영', '왈가왈부', '미성년', '순결', '해거', '명문', '대가', '바치', '데이', '센트', '양반', '다세포', '새끼', '흥하', '예원', '근', '동안', '역대', '통틀', '남아돌', '영화상', '전지', '피디', '잔', '기지', '미니', '특수', '효과', '정여립', '정철', '기축', '옥사', '남녀', '두개', '영화사', '실험', '처먹', '일리', '니야', '쇼핑백', '잊히', '어떡하', '색채', '리코', '심정', '소름', '아프', '고양이', '대학교', '졸업', '분명', '담', '최강', '부대', '부럽', '전기세', '에이즈', '운동화', '마이', '프렌드', '궁금하', 'ㅅ', '샷', '연결', '충돌', '여태', '메이', '윌', '헌팅', '로그', '줄거리', '화보집', '편집', '맞추', '말아먹', '지구', '지켜', '저렇', '케릭터', '미장', '불필요', '노인', '있었', '돌려보', '사로잡히', '누나', '마이클', '최근작', '블록버스터', '필수', '폭스', '후하', '달이', '태도', '고치', '파괴', '알콜', '중독자', '덕', '중견', '도술', '실물', '번역', '바보', '이집트', '왕자', '스퀘어', '합병', '일없', '소림사', '관문', '통과', '반갑', '뚫리', '오그라들', '그르', '딥', '블루', '모텔', '스캔들', '사랑과', '질적', '외면', '가면', '신의', '퀴즈', '한수', '패턴', '목격', '유턴', '인턴', '착지', '랜턴', '일제', '사격', '경찰', '명복', '달리하', '커트', '인의', '전기', '고독', '배속', '재난', '플롯', '그럴듯하', '몰르', '유리', '지가', '얼르', '룸', '어줍잖', '생', '급식', '빻', '지우', '본격', '막강', '물타기', '짜장면', '시각적', '황홀경', '말르', '미그', '미사일', '발사', '전투기', '격추', '줄기', '병', '육식', '공룡', '빌딩', '모퉁이', '더듬', '여름', '방학', '특선', '선우', '단편적', '복잡', '구조', '질문', '등장인물', '새', '태종', '최수종', '대조영', '장보고', '박태준', '다그', '삼총사', '분장', '기덕', '밴', '재편성', '광희', '음주', '운전', '쫓겨나', '늘어지', '시작점', '편도', '영화화', '부도', '한동안', '심재', '명부', '꾸미', '시골', '거리', '시내', '의리', '전함', '채우', '모라', '나머지', '이질감', '양면성', '촬영', '기법', '격', '떨어뜨리', '후반', '일주일', '두부', '꾀', '고어', '만남', '억', '시우', '교향곡', '진한', '감격', '시대', '회', '본방', '사수', '제왕', '기와', '코스', '공존', '유작', '조안', '당대', '매혹적', '지명', '부리', '이르', '극의', '공산당', '찬양', '위화감', '만가', '석이', '서민', '빨', '박진감', '중령', '록', '선교', '축복', '허구', '붙이', '트랙', '현대', '토가', '계의', '찬사', '노와', '자세', '생략', '초보', '장비', '불안정', '후지', '흔들리', '졸리', '울리', '찰흙', '짤', '혜교', '찝', '디시', '의지', '구제', '불능', '출가', '은하', '존경', '고통', '전무', '짱구', '띄', '한참', '경우', '갖가지', '연관성', '승전', '결', '박대', '동', '니콜라', '결승전', '공정', '라운드', '결과물', '민은', '과의', '민도', '인간성', '스토어', '개념도', '드로', '내놓', '목포', '사벽', '지상파', '맘속', '일요일', '머지않', '동족', '성택', '체제', '자멸', '호시탐탐', '노리', '빼앗기', '동민', '저버리', '수지', '아저', '라면', '야유', '눈물나', '엄', '절단', '넘치', '무력', '오미', '앨리', '들이닥치', '준호', '떄', '오류', '생크', '북받치', '올라오', '오역', '린트', '이스트', '절정', '이중성', '가르치', '언론', '맹점', '군중', '심리', '개인', '균형', '파헤치', '동도', '배려', '사랑이', '강우', '이브', '미션', '임파', '오락', '심상', '시즌', '은근', '토리', '비명', '포탈', '하드', '기용', '용두사', '능력', '패트', '복습', '비교', '판도', '벌', '더하', '학교', '패륜', '존', '메트로', '뜻하', '고의', '추리', '트릭', '행위', '감성적', '정당성', '부여', '헌신적', '키워드', '용의자', '카톨릭', '개신교', '그리스도교', '유일', '하느님', '애국가', '합치', '부탁', '캡틴', '기다리', '빗', '린치', '필', '망해', '악당', '부담', '스태프', '흔적', '부자연', '아쉬움', '혐오', '묵고', '댕기', '웨', '오만', '편견', '그레이', '나토', '의학', '야하', '개그맨', '본업', '게스트', '대지', '예능', '신비', '최하', '예감', '관람객', '절하', '포켓', '쌍', '시대착오', '해보', '시사', '수능', '오답', '전국', '내적', '외적', '측면', '정답', '포인트', '물체', '빠르기', '움직이', '이지만', '본적', '파킨슨병', '합', '변태적', '성욕', '자기', '합리화', '스케일', '잭', '원맨쇼', '바둑', '급수', '향연', '용어', '타짜', '아류', '자처', '분석', '아트', '빨갛', '풍선', '엘', '슈마허', '배트', '미덕', '태국', '재조명', '중학교', '퍼펙트', '진하', '논', '엄지', '사악', '마녀', '마을', '삼매경', '찬', '낯설', '타인', '독특', '전이', '상반기', '악과', '저수지', '폼', '냄새', '내뿜', '잇닿', '수학', '하이틴', '물의', '대표', '단점', '마가', '만든', '고맙', '혹시나', '궁', '글쓰기', '습작', '나수', '꼬', '크루즈', '실질적', '이자', '준거', '미술관', '그림', '감상', '얼구', '관조', '검', '씌', '제시', '나간', '샛길', '음모', '초점', '불러일으키', '배역진', '만', '국가', '그룹', '주진', '승헌', '전설', '겉멋', '더럽히', '올려놓', '화나', '애국주의', '본질', '종잡', '루이스', '케이스', '따라하', '강철', '오디션', '나열', '지적', '모음', '성장', '안보', '소화', '사용', '프로그램', '한방', '도통', '꽝', '단체', 'ㅂ', '밑', '놀랍', '외계', '과정', '미학적', '최상급', '띠', '복고', '중의', '종료', '편의', '수정과', '볼거리', '어른', '우측', '리뷰', '주장', '오빠', '연희', '하와이', '고프', '자질', '어처구니없', '제', '마지', '노선', '마야', '사부', '일체', '주유소', '습격', '해선', '포기', '천하', '브랜드', '삽', '탐구', '파내', '조선', '우정', '신은', '전대미문', '이정재', '드리고', '빛나', '리턴', '시인', '태', '재능', '의심', '환타지', '개척', '철학', '열도', '벗', '대중화되', '춘향전', '고발', '연예', '중계', '사신', '수치심', '고개', '금정', '소스라치', '다운로드', '뉴', '니퍼', '로렌스', '출연', '가깝', '감동해', '운', '퍼지', '해하', '회사', '농', '재력', '세경', '전락', '만나', '흡혈', '식물', '대소동', '유사', '원', '택시', '줄리엣', '고하', '아시', '서류', '봉투', '앞부분', '남친', '도망가', '진임', '그지없', '데니스', '명연기', '댄스', '어깨', '예술적', '겨울', '왕국', '점대', '감정적', '무의미', '성의', '천사', '쿵푸', '안기', '지식인', '브레이크', '물어보', '미만', '콧구멍', '국내', '스톤', '파리', '간지', '작살', '향기', '창피', '스피릿', '궁금증', '유발', '해병', '손자', '불만', '해법', '사발젖', '치루', '형이상', '학적', '무지각', '공기', '찔리', '날카롭', '상수', '한데', '주지', '쟁', '넘버', '원임', '난이', '선경', '푸하', '표랑', '재영', '어긋나', '히치콕', '한편', '한가지', '갱', '사물', '렉', '정겹', '지수', '재석', '최정희', '교수님', '장태', '회장', '보라', '모기', '긴하', '쉐', '행', '층', '여동생', '지지', '누님', '별명', '마법', '동성애', '게', '예수', '홍어', '전사', '설레발', '리메이크', '꼴', '허드슨', '키스', '동호', '유선', '레이션', '아나운서', '사라', '이전', '웃대', '아이디', '애국자', '아이스크림', '제한', '미래', '설국', '열차', '가루', '약점', '날라다니', '스트라이커', '살육', '흡연량', '근육', '슈퍼스타', '참신성', '열연', '사의', '템포', '과', '수고', '해용', '대임', '예상', '원표', '행진', '시범', '하품', '단막극', '이용', '못되', '이연', '컬트', '감추', '윤하', '상영관', '늘리', '묘', '야마', '룸싸롱', '개편', '지상', '신동엽', '까닭', '온라인', '서비스', '오픈', '마담', '고도', '낚시', '판단', '내세우', '승려', '일대기', '둔기', '페드로', '고장나', '삐뚤어지', '전화기', '테레비', '빅뱅', '좋아지', '풍자', '지기', '나누', '베풀', '발상', '환상', '호흡', '총알', '무게', '분대', '런닝', '상한', '맥주', '쓸데없', '외치', 'ㅁ', '우화', '해님', '승화', '종로', '백곰', '무장', '체', '와이프', '임신', '기함', '축', '환불', '자음', '입력', '정형', '동양', '소신', '만도', '못하', '모양', '볼륨', '정신병자', '한지', '여신', '혐오감', '밧', '혼합', '몸', '라이트', '손가락', '중이', '자만', '무덤', '니들', '허세', '해먹', '동창회', '양심적', '얹', '불꽃', '줌', '재가', '날아가', '아낌없', '닫', '놓치', '기대치', '심장', '질주', '경악', '맞서', '단조', '빨려들', '힐링', '유용', '르완다', '난민', '지정학', '감우', '이한', '블랙리스트', '법', '발판', '긍정적', '모어', '보건', '꼴사납', '재회', '금발', '시샘', '질투', '오의', '샘플', '볼일', '허비', '지지부진', '게다', '장벽', '진수', '만보', '암울', '부전', '번개', '시퀀스', '조화', '이루', '보삼', '사족', '용을', '드레', '기형적', '하고프', '버러지', '아까', '운영', '단', '무서움', '유아', '장난감', '어울림', '헤어지', '국적', '계열', '예찬', '오만상', '반', '기의', '프렌치', '외설', '시기', '제이슨', '전편', '주근', '아무것', '가르', '동임', '얻', '올드', '논하', '본성', '송어', '대어', '냉소', '의존', '팔리', '서커스', '분량', '바뀌', '무식', '명감독', '명배우', '현실적', '회사원', '반영', '청부', '전쟁터', '빗대', '선진국', '무료', '출한', '폐', '핵전쟁', '최후', '나타나', '나가보', '맨들', '잘나', '곰', '신이', '스페인', '강간범', '초등학생', '조카', '친', '살아나', '탄', '기차', '한국적', '관점', '서부극', '가스펠', '편곡', '배역도', '가래', '벨트', '형제', '헤이', '참으', '경실', '최소한', '본진', '둘', '헤드셋', '오줌', '뱀파이어', '눈밭', '피범벅', '하얗', '슬로우', '모션', '넋', '너무하', '안스럽', '주니어', '부탄가스', '터뜨리', '어수', '불편', '엊그제', '작년', '가을', '사계절', '회가', '해피엔딩', '오브', '스테이트', '급도', '울음', '팀', '로빈스', '너리', '리포트', '임팩트', '물소', '어딨', '분투', '마음속', '간질', '긁', '누리', '소장', '사바', '요새', '근처', '경험', '도시', '경쟁', '치열', '작위적', '통', '조그맣', '정현', '엘리트', '비판', '장선', '눈뜨', '기기', '들어스', '캐', '현우', '임정', '천부적', '소질', '빵', '수면제', '잠자', '스피드', '누의', '작인', '파트너', '언급', '기부', '봉사', '활동', '부끄럽', '상관없', '곡', '아시나요', '양조', '상관', '엘리자베스', '군상', '잠깐', '도로', '깨달음', '부모', '과거', '출생', '종결', '안녕', '배제', '방하', '제가', '조건', '편리함', '세대', '색감', '벅차', '대장', '달리', '하지', '댄서', '기득권', '민주당', '취하', '썩', '어기', '개꿀', '걷', '형무소', '감탄', '오프라인', '선물', '낼', '효', '소통', '구닥다리', '퇴보', '쓸모없', '내걸', '자리', '외화', '자료', '스코트', '접', '걸이', '제임스', '명장', '뭍', '반쪽', '일세', '형사', '활보', '기준점', '결과', '팝콘', '찌지', '오리진', '지현', '신성', '이세영', '게이트', '부작용', '권리', '아가', '정당', '컴플렉스', '통해', '재수', '이끌어내', '갸웃거리', '달라', '호기', '관계자', '예의', '다수', '편하', '관용', '시간대', '본처', '소나', '다방면', '쯤', '러브', '까먹', '뽀', '아릴', '한국어', '발음', '산과', '맹목적', '살길', '충실하', '아리', '들여가', '해피', '이두', '뽕', '망가뜨리', '재미지', '옷', '메이크업', '잘되', '아부지', '달아오르', '더덕', '사이더', '하우스', '여행', '건조', '어우', '홀', '랜드', '번만', '거랑', '처절', '불태우', '똥파리', '장승', '의사', '가장', '전투', '칼', '론', '우기', '내려치', '익히', '여물', '부드럽', '기술', '떨어트리', '주제도', '시장통', '가격', '흥정', '재미나', '연주', '아무렇', '직시', '어메이', '징', '감명', '본건', '이면서', '그지', '피폐', '실감', '박진', '난무', '문단속', '중요성', '불사', '숨바꼭질', '넘기', '야구', '어둠', '이상자', '정식', '연함', '놀라움', '살아남', '훔치', '낙', '재우', '낚', '꾸', '중화', '사상', '쏟아지', '시초', '왕가위', '실소', '장난치', '보너스', '상투', '결혼식', '죄', '동석', '마누라', '강제', '나누기', '상의', '피고', '뿌리', '우발적', '실수', '풀어내', '한반도', '편협', '환가', '프로젝트', '시마', '물결', '혼란', '어지럽', '뒤집', '출렁이', '년', '어머님', '외할아버지', '외할머니', '헐겁', '정돈', '그중', '난지', '햇갈리', '직장', '동료', '선후배', '파이', '내서', '구관', '명관', '천식', '암적', '요인', '하루', '원해', '미확인', '클릭', '유전', '무죄', '무전', '유죄', '격투', '양', '경전', '우선', '현재', '간략', '서울', '시장', '후보', '아내', '엄정', '가수', '의상', '달라붙', '시방', '일하', '마디', '앙증맞', '보물', '미지', '모험', '백기', '희극', '채플린', '만세', '한정', '공간', '승부', '우승', '부끄러워하', '뮤직', '학년생', '실습', '일수', '투표', '시환', '하숙집', '하숙생', '갖', '불쾌감', '우가', '잠들', '불행', '신경질', '흐름', '호감', '형화', '버전', '용암', '신기', '니콜', '케이지', '앞서가', '도발적', '자매', '카페', '소품', '심각', '관련', '라가', '구라', '막', '인맥', '객관적', '레벨', '인건', '눈치보', '써', '영호', '두렵', '추락', '후기', '패스', '무림', '고수', '내공', '눈빛', '물론', '장치', '태클', '찾아보', '기회', '이상형', '영화판', '가리', '첩보', '녹이', '무시', '연석', '섭외', '요청', '거절', '인정', '후진', '후처', '마스터', '피스', '천국', '발전', '떡', '시험', '때려치', '직선', '획기적', '특권', '의식', '바쁘', '놔두', '뒤떨어지', '깔리', '흔하디흔하', '괴기', '전만', '덩어리', '프라이', '진실', '어이없', '스트레스', '해체', '난리', '멈추', '요란', '스티븐', '마무리', '못살', '미인', '장년', '성형', '기간', '지빈', '가복', '기여', '끝가지', '감명깊', '여유', '이념', '부산', '대학로', '방송국', '힘내', '국', '이종', '경쟁자', '기수', '휴머니즘', '망가지', '에이', '지르', '삼국', '마방', '사장님', '가버리', '세계관', '확장', '토비', '맥과', '둘째치', '루', '저가', '신뢰', '임의', '토끼', '해결책', '마라톤', '연습', '건강', '일석', '조지', '피하', '연속', '너와', '주원', '말투', '블록', '찾아다니', '감탄사', '버지니아', '클레어', '수의', '집합', '소구', '가관', '병사', '가실', '쓰러지', '움추리', '조르', '딱지', '성에', '휴대폰', '세끼', '말년', '웨스턴', '이별', '일삼', '철없', '이방인', '증거', '미궁', '하문', '미제', '따리', '군인', '백성', '차인', '전광', '전용', '담의', '별시', '대역', '속단', '무간도', '상당', '침', '대부', '연상', '걷잡', '불구하', '출연자', '뒷', '스크린', '욱일', '천기', '일장기', '일맥상통', '명이', '배끼', '상처', '한국인', '추기경', '교황', '사제', '고난', '계시', '시네마', '왜곡', '그다음', '아래', '수다', '강도', '인질', '여유있', '덤', '의가', '세연', '목적', '관념', '앞지르', '공중파', '자리잡', '순도', '소임', '마모루', '편성', '반면', '제자리걸음', '퇴화', '모잘르', '스노', '돌아보', '마약', '쓰나미', '선수', '전략', '찾아가', '형과', '보디가드', '다소간', '푸르', '정윤희', '돌파', '개도', '구사', '초능력', '잠기', '레인저', '과찬', '황제', '황후', '불화', '고대사', '가해자', '공중', '부양', '형광등', '호프만', '의료', '보장', '단발머리', '동물', '편찮', '얻어내', '확인', '깨닳', '혼나', '그동안', '구멍', '각색', '압도적', '자각', '상도', '선덕', '여왕', '닥터', '백배', '부랑', '신고', '바탕', '오종', '동무', '우요', '붙', '악평', '트렌드', '돌발성', '씨도', '원주율', '납치', '긴박감', '썩어빠지', '해명', '미군정', '이승만', '행적', '규명', '저러', '벗기', '소유자', '아시안', '굴렁쇠', '정사', '브루스', '좆', '성해', '일본판', '조이스틱', '장악', '지그', '빅', '매치', '비쥬얼', '되야지', '편만', '광수', '호강', '장점', '아성', '케이', '싹', '점도', '점주', '부녀', '이해력', '신세계', '은위', '만난', '터치', '두드리', '감돌', '고인', '알파', '뼈', '채', '서사시', '신세', '맥락', '두근대', '룰', '중요시', '무너지', '헌의', '대풍수', '쌈', '교체', '헛짓', '욕먹', '방해', '실사', '정훈', '이상한', '실패', '투사', '깨끗하', '믿기', '굴', '요하', '감당', '떠돌', '건너뛰', '두쪽나', '해전', '먹이', '멸망', '세트', '디자인', '남매', '외우', '별의', '별것', '향하', '소리치', '손톱', '째려보', '차원', '청국장', '데드', '풀이', '응사', '연민', '시트콤', '섬세', '다이아나', '접근', '쫓아오', '다루', '불발탄', '전의', '운운', '동시대', '아미', '버그', '우연', '빼놓', '형제애', '얼버무리', '타령', '실종', '당근', '삼성', '대기업', '당장', '비난', '테러', '본판', '생이', '오진', '병원', '복도', '사하', '매이', '가방', '걸레', '옥이', '마법사', '실비아', '브래드', '워킹', '마케팅', '터미널', '일부', '해대', '쳐먹', '이수', '만과', '소속', '속상하', '불급', '스텔라', '하나하나', '네덜란드', '외세', '침입', '종류', '애완견', '복종', '배신자', '척결', '나뉘', '어떠하', '준용', '섹스', '마직', '관이', '식스센스', '유주', '첫사랑', '직업', '카프리', '도구', '주소', '나르', '파도', '상실', '삶이', '특성', '창출', '이지', '몫', '피의', '왕족', '희생', '비운', '양가', '영화배우', '역량', '필요성', '죠', '루시', '자도', '약물', '되살리', '발하', '뚫', '파김치', '백악관', '용석', '논리적', '강용', '석씨', '휘둘리', '잘라먹', '힌트', '별생각', '치사', '다하', '태반', '쏟', '절대적', '지구상', '다람쥐', '사납', '핸드', '황금', '발르', '초록', '몽환적', '구들', '득', '변신', '환지', '지이', '농담', '따먹', '추기', '라비', '인연', '피아프', '건물', '지하', '우려', '물어내', '콩코드', '비추이', '최소', '트라', '이즈', '테이크', '대책', '손색', '버티', '트레일러', '분간', '포도', '딸기', '보여', '주자', '않되', '광', '주행', '획', 'ㄹ', '삼은', '비둘기', '성애', '긋', '썪', '들르', '오랫동안', '티켓', '절반', '할인', '청리', '보조', '마크', '묘하', '명성', '비극적', '순응', '복제', '그려내', '소년기', '적극', '교육', '근본', '원인', '과오', '로드무비', '정보', '진국', '기원', '비극', '랜', '블룸', '심취', '영아', '다디', '기념비', '잡고', '구입', '뒤늦', '현태', '장해', '쥐어짜', '긴박', '강대국', '개입', '설레이', '개선', '슈퍼맨', '악의', '거짓말', '규리', '뻥', '삽질', '찌푸리', '눈살', '대화', '면도', '기담', '인어', '꼬리', '금', '그린', '품달', '걸음', '슈퍼', '소년', '앵글', '깡패', '깡', '갈래', '삼계탕', '후라', '삼겹살', '식이', '드럼', '라인', '쓸', '타락', '이재', '사정', '이도영', '개살구', '난입', '뱉', '빼어나', '지하실', '속고', '갖히', '김희선', '현주', '얼마', '살색', '법적', '아녀', '열쇠', '계획', '징글맞', '한결같', '얻어터지', '화합', '비중', '야인', '밀양', '성폭행', '현대판', '뽐내', '디아나', '어필', '스톱', '정성', '배구', '뻘', '몰상식', '이어지', '빠뜨리', '은퇴', '외부', '동산', '부동산', '탈세', '행각', '사화', '천안', '입원', '고생', '조민수', '구성도', '요상', '무너뜨리', '요망', '주정뱅이', '횡설수설', '시다', '표지판', '우롱', '향상', '감내', '악물', '앤', '달하', '라이브', '인상', '녹화', '생하', '사병', '개고', '난', '망설이', '맨땅', '자국', '전환점', '재발견', '하자', '물장사', '뚜껑', '배급사', '구상', '상징적', '일반인', '심리학자', '일은', '탐정', '상담', '직소', '퍼즐', '던져주', '유하', '고스톱', '도가니', '치킨', '한마리', '캐리', '가사', '뒷이야기', '들리', '주연급', '난리나', '패션쇼', '눈알', '써먹', '한화', '콘도', '모욕죄', '성립', '가능성', '올르', '가라', '매기', '지켜보', '며칠', '킹', '책임', '모성애', '겉', '중인', '반대편', '이대', '큰일나', '톱', '감안', '힙합', '정하', '선전물', '만듬', '박정희', '엑스', '공각', '기동대', '움직임', '잔상', '배치', '모니터', '보호기', '용도', '씨나락', '벌거숭이', '임금님', '덩달', '등록', '양아치', '살인범', '끼치', '가나다', '자차', '선과', '감회', '대세', '강점기', '사할린', '징용', '한인', '가운데', '상당수', '노역', '패전', '마감', '조상', '어린아이', '방지법', '기인', '화랑', '한분하', '압도', '쾌하', '모야', '블레이드', '데로', '고이', '반부', '기초', '강심장', '존시', '레슬링', '경기', '대리', '맞장구치', '옳', '대사도', '대학', '입시', '무궁무진', '날으', '임수정', '깨지', '일관성', '이혼', '재혼', '조울증', '괴리감', '떨치', '엄사', '호평', '방금', '예매', '직장인', '허물', '멜로디', '안도감', '박용', '우울하', '스웨덴', '로이', '쫓아가', '막판', '이상향', '시꺼멓', '면모', '무술', '배짱', '인구', '중단', '이슬람', '교인', '방식', '어둡', '마의', '거만', '사형수', '재현', '생뚱맞', '다섯', '늦가을', '산책', '경향', '고전', '성공적', '오유', '지석', '천막', '수녀', '묵주', '주의', '포워드', '추스리', '글래머', '순대', '볶음', '교회', '자칭', '한국판', '인심', '영하', '외국인', '노동자', '그늘', '보호', '관가', '학원', '감흥', '강시', '기대감', '이만저만', '한정적', '본연', '터무니', '인증', '끌어내', '떡밥', '범인', '방향', '연감', '타진', '진입', '오래되', '칠', '아이맥스', '공상', '과학', '조우', '미라', '스케이트', '표정', '폐가', '감고', '운율', '고급', '연구', '애초', '비현', '쎄', '성숙', '엉터리', '전문가', '국어책', '낭랑', '대배우', '리딩', '레드', '지능', '약간', '팥', '붕어빵', '비우', '레이크', '학력', '중졸', '큰소리치', '드가', '우비', '와사비', '르노', '왕따', '거울', '기어', '보소', '노바', '난대', '누드', '쎼', '이병', '스탭', 'ㄴ', '콧물', '라스트', '타의', '목도리', '육', '백화', '장판', '배신감', '내보내', '화보', '실', '시드', '띠우', '지배', '나타내', '주옥', '정적', '머나멀', '바벨', '강정', '세탁', '해맑', '출연료', '텐션', '순식간', '깎', '퍼시픽', '자살', '힐', '리더', '축소', '공개', '위로', '전성기', '빙점', '플라이', '인공', '전두환', '희대', '흐리', '현경', '기립', '저주', '손대지', '프레드', '투비', '와일드', '닷', '작의', '스며들', '총체적', '난국', '평론', '열심', '영감', '공감대', '어린애', '속임수', '런', '아침잠', '총집합', '사투리', '형용', '디즈니', '언재', '무명', '다양', '박상', '찡하', '총구', '입속', '살려주', '불허', '제리', '외로움', '잔혹', '견디', '일도', '화재', '현장', '제하', '늘이', '쿠', '멍청이', '되질', '할머님', '판과', '악마', '아날로그', '걸맞', '진일보', '시온', '꽂히', '치하', '다임', '되어가', '수원', '중앙', '운동', '강의', '안목', '육상', '가기', '첫걸음', '모이', '아자', '흑', '초원', '말달리', '진정하', '전반부', '셋', '반가', '시사회', '환희', '인터넷', '민수', '하찮', '오려', '소리야', '지역', '씌우', '타고나', '부인', '가엾', '준형', '스토킹', '빙하기', '찬송', '성경책', '보시기', '영계', '장병', '공식', '영어', '한국말', '칭찬', '보영', '걷기', '막간', '귀염', '뺀질이', '안주', '숍', '의논', '진장', '교감', '메이트', '사인', '틈', '밧드', '모험담', '반대말', '의료인', '인과', '공공칠', '러셀', '초중반', '분해', '급박', '심리적', '압박', '황비', '방세', '큐', '탄하', '여지없', '푸념', '적당', '캠프', '생존', '극하', '그리워하', '출산', '내용적', '언더', '거처', '짝짓기', '하질', '전선줄', '쓰이', '비오', '끼이', '버튼', '아악', '활용', '책임감', '여담', '복싱', '황금기', '춘추', '짊어지', '유익', '나래', '첫눈', '비주얼', '서막', '급조', '황홀', '스크림', '지난번', '키즈', '명석', '군침', '샌들', '천연색', '인생사', '좌절', '한글', '우수성', '근접', '장만', '홈', '지라', '드물', '인줄', '하락세', '고국', '국보급', '문화재', '잘잘못', '금액', '모시', '옛것', '옥의', '대가리', '뒤죽박죽', '유도', '권장', '레이터', '청아', '바디', '카운트', '박히', '특출나', '나지', '널', '기대되', '정지', '퍼포먼스', '부시', '드이', '공동체', '영수', '대원', '병장', '피리', '진자', '어우러지', '벙커', '옮기', '끝판', '오랫만', '기로', '아무말', '멍하', '작성', '아의', '이수경', '외도', '채로', '자스민', '위조', '클라', '냅두', '편의점', '돌려주', '질풍', '권하', '아일랜드', '광경', '더블린', '고뇌', '녹', '마트', '소화기', '수애', '얕', '디스트', '불안감', '재주', '범벅', '시시껄렁하', '소문', '무성', '미국식', '야한', '일깨우', '맹탕', '뒤섞이', '박보', '워낭', '생겨나', '유식', '데우스', '키나', '무슨일', '일어', '궁극', '패착', '지점', '서러움', '끓어오르', '보임', '선전', '민주주의', '스카프', '캄캄하', '조이', '묵념', '피아노', '닫히', '상어', '초지', '가늠', '크래프트', '밸런스', '변', '내야', '익명', '장터', '정감', '자부', '조자룡', '키스신', '필자', '결심', '집기', '기르', '전범', '햇님', '태양빛', '관음증', '쓰라리', '화만', '개런티', '우수', '교섭', '두뇌', '펼쳐지', '인류', '서구권', '인지도', '바닥', '월드', '비칭', '아시아', '싸이', '실연', '분과', '동일', '민지', '에미', '액션물', '설치', '복수극', '우승자', '가난', '만원', '거하', '배리', '다음번', '눈꼽', '후유증', '토시', '인기', '저능아', '아드', '들여다보', '생과', '소방관', '넘나들', '구로', '아키라', '비참', '엇나가', '준하', '주류', '탄압', '배척', '국극', '무지', '열정적', '시궁', '하오', '석의', '불리', '백관', '한말', '욕구', '숙씨', '파파야', '관리', '자야', '무표정', '네티즌', '드림', '손오공', '갈증', '해소', '수박', '안가', '재앙', '특정', '후퇴', '안전', '상자', '날줄', '덥', '번의', '강박', '증세', '나기', '영향력', '글자', '무디', '아프리카', '낭만', '소가', '황폐', '경각심', '오리지널', '회태', '터트리', '소매치기', '뺑소니', '주려', '민들레', '점심', '흉', '눈감', '부러지', '숲', '피에타', '소이', '울상', '우울증', '화병', '감옥', '이르키', '명탐정', '도일', '렌즈', '유학생', '교포', '모자', '게바라', '팔로', '뿌리치', '주시', '안전모', '전철', '모니카', '노드', '인권', '거부감', '입가', '헬스장', '시바', '축구', '예스', '온건', '영도', '조선소', '지난해', '선박', '수주', '정복', '뽕짝', '아푸', '조종', '조여들', '눈요기', '도서관', '적임', '농구', '토요', '각', '맞물리', '보석', '강경', '식과', '탤런트', '이장', '흡수', '겉돌', '가야', '캔', '물이', '중국산', '블럭', '버스터', '정초', '빛깔', '유덕', '지니', '이끌', '석가', '탄신일', '석탄', '이계', '인은', '계인', '비호', '자위질', '하등', '도적', '이끌어가', '선구자', '결정판', '패딩', '이웃', '수용', '포용', '통일', '그리스', '도인', '정비', '단속', '벌금', '벡터', '연령', '대별', '포함', '어르', '이양', '극본', '작렬', '엑스트라', '빈자리', '일치성', '씨네', '차세대', '비평가', '봐서', '꼬라박', '노파', '빈약', '메리', '원피스', '도중', '베데', '눈치', '줍', '짜맞추', '레버', '마카로니', '선두', '에리오', '모리', '골르', '재발', '고계', '정신병', '인도', '요기', '중후반', '눈깔', '배급', '문장', '월드컵', '간질병', '구태', '경력', '저모', '부자연스럽', '편안', '현지인', '훈수', '디카', '버무리', '레이싱', '우산', '무용지물', '따운', '우치', '기모노', '주요', '하인', '디지', '정독', '클루', '내도', '자지러지', '전통', '매너', '자격', '받으', '입이', '피지', '스노우', '국밥', '해매', '본영', '꺼내', '뜯어먹', '로얄', '오래간만', '미친년', '명연', '으세', '더블', '끓', '당기', '미워하', '그리워지', '카피', '연하', '화장실', '취조', '근영', '전초', '암호', '해독', '모스', '부호', '헤어', '정윤', '애서', '계절', '학기', '나비', '러시', '아어', '좃', '불만족', '목숨', '목숨걸', '공지', '읃', '수씨', '천박', '경매', '초상', '타도', '재활', '용품', '겉핥기', '복사', '짜깁기', '달려들', '자본', '혜가', '심원', '갚', '모티브', '수선', '내려가', '이때', '상평', '뜸', '만들기', '나이트', '손색없', '거보', '진구', '북간', '놀람', '호박', '정권', '부선', '유흥', '인사', '구두', '절도', '죄의식', '죄책감', '마찬가지', '값비싸', '라이프', '베일', '덴마크', '노르웨이', '북유럽', '백지화', '황석', '취업', '전선', '잡탕밥', '맛있', '불똥', '가만있', '튀', '동해', '부자집', '여학생', '백마', '소수', '한바탕', '살맛나', '복용', '유효', '위트', '연관', '터프', '전진', '글쓰', '현재상', '영작', '현혹', '고객', '센터', '시청', '투자자', '죽어나', '저녁', '칭송', '정확', '소연', '가벼운', '개발', '연기자', '자빠지', '티브이', '현영', '어스', '칠흑', '추적자', '짝사랑', '현정이', '시끄럽', '발작', '뒷부분', '급하', '남자주', '재계', '체가', '질색', '고집', '고백', '주체', '여야', '유기', '치의', '내다보', '가량', '와우', '공이', '콜라', '미란', '승원', '된장', '멍멍이', '실습생', '열나', '경석', '경지', '수위', '물들', '의사소통', '스콜', '세지', '기록', '천재성', '주옥같', '증폭', '오해', '이펙트', '인지', '비슷하', '살리기', '도덕', '아비', '종교인', '아스카', '읽히', '저리', '공리', '자아', '감점', '낚시꾼', '센과', '행방', '불명', '잘나가', '창의', '벚꽃', '마련', '치료', '기계', '총각', '불평등', '강산', '조아', '크랭크', '모포', '비아', '울렁거리', '토하', '더기', '빠져들어가', '스모킹', '배럴', '스내치', '이세', '액', '강간', '워크', '투리', '멤버', '노트북', '난장판', '실현', '집단', '살의', '왕가', '기똥차', '궁지', '역설적', '성악가', '오페라', '무대', '귀가', '방안', '집주인', '아주머니', '숨죽이', '법정', '어학', '세우', '엮', '승수', '경도', '바끼', '요의', '겹', '실재', '어떠', '숨쉬', '참혹', '길르', '가두', '소라', '현지', '통상', '발전성', '평상시', '동양적', '마스크', '자로', '유년기', '끊기', '조승', '중학생', '양념', '재료', '구분', '뒤통수', '주차', '칼부림', '끈', '개시', '개똥', '식견', '스탠드', '사고방식', '다문화', '용재', '다가가', '지리멸렬', '부자', '어리석', '준의', '파치', '이언', '유물', '라우드', '정신력', '요함', '지식', '천일', '때우', '일걸', '구지', '친분', '하이', '킥', '남여', '목과', '인정받', '전쯤', '반응', '거란', '장국', '천년', '마니', '을리', '골드', '이상적', '연봉', '서민적', '숨소리', '헥헥거리', '동명', '이인', '맞대', '오죽하', '슈나이더', '흉내', '몰라보', '모니', '민정', '스틱', '스탠리', '깃털', '렌트', '그따위', '없잖', '장난질', '나팔', '패러독스', '유전자', '라디오', '뉴스', '기숙', '원생', '전원', '숨지', '젊은이', '떠나보내', '대비', '보비', '치우', '갈비', '과거형', '표기', '노인병', '흐름도', '연대', '천의', '희롱', '흑암', '안감', '호제', '즐거우', '진보', '조타', '말씨', '낄낄대', '오프닝', '애국심', '야무', '치가', '울화통', '극찬', '신료', '펜대', '접어', '트이', '미생', '도취', '다각적', '사시', '가도', '남녀노소', '충족', '재활용', '똥오줌', '일주일간', '스페셜', '재구', '축하', '바다', '국회의원', '머리털', '탐', '의해', '폭소', '보태', '매달리', '트루먼', '환복', '구석', '크리스탈', '인식', '갈수', '아노', '미녀', '야수', '급사랑', '브라운', '음정', '쏠리', '조각', '지영', '고문', '로마', '광관', '스프', '학자', '로마인', '이주', '근거', '수미', '사교', '일부분', '모범', '사례', '홍진', '기념', '작만', '명언', '노주', '그레', '고리', '성가', '침묵', '수도원', '내려앉', '달성', '충이', '만지', '미도', '각자', '연결짓', '키드', '어덜트', '다코타', '패닝', '자격자', '월급', '같잖', '모터', '사이클', '낯', '추석', '녹음기', '베스트셀러', '박쥐', '기력', '주술', '대명', '장성기', '안토니', '모티프', '홍길동', '밟히', '요따위', '속수무책', '등급', '모독', '소오', '노무현', '구원', '가짜', '빡세', '피아', '단조롭', '예방', '유감', '거치', '도시락', '투척', '도망치', '뻗', '챙피', '내역', '칼라', '지아이', '락', '마리나', '얼리', '올라가', '거가', '지인', '직하', '심이', '동양인', '서양인', '통속적', '정석', '트라이', '참신', '폭포', '비키', '코딱지', '보안', '사사', '범학', '촌극', '파티', '대실', '수확', '건드리', '살이', '건의', '강아지', '지송', '딜레마', '남진', '본거지', '엽기적', '독일', '경비대', '오토바이', '따돌리', '랩', '잡아내', '짜임', '듯', '하유', '왜놈', '회자', '대표작', '쪽팔리', '상투적', '빚', '입체', '뜨겁', 'ㅊ', '테스트', '방공', '무분별하', '문법', '춘한', '말초', '하세', '진배없', '편지', '겸손', '조심', '박하사탕', '유치원', '준영', '파격', '자라', '원초적', '생명력', '거주자', '목도', '현란', '무적자', '무적', '초라', '거품', '요시노', '오크라', '가락', '온데간데없', '박력', '스턴트', '고자', '평등', '월시', '늦추', '스튜', '쪼', '점하', '핑크', '신곡', '데이트', '두드러지', '상업성', '주군', '태양', '분의', '동성애자', '실태', '각양각색', '중독성', '야외', '활빈당', '식구', '와이어', '사리', '오래전', '몽환', '박제', '풍속', '자의식', '똥통', '꿈틀거리', '몰아넣', '서투르', '게으르', '모방', '일색', '오락물', '반신반의', '세일', '뚝심', '끌어올리', '연산군', '개주', '개구쟁이', '주앙', '승리', '환상적', '라드', '버틀러', '포토', '일본산', '커버', '영광', '검열', '중함', '숨기', '디젤', '이완', '임지', '드시', '이등병', '계발', '전환', '작년도', '잘살', '제보자', '더러워지', '채팅', '퍼센트', '다큐멘터리', '버금가', '카드', '눈길', '불고', '국어', '수업', '최종적', '마카오', '박의', '포커', '드러내', '장종', '설주', '덜하', '틸러', '격침', '직도', '다정', '격하', '승용', '이율', '힘쓰', '정호', '스팀', '유래', '전도', '탈락', '청탁', '가본적', '조진', '해파리', '뵈', '들쑤시', '사생활', '독사', '진저리', '결과적', '교과서', '붉', '피겨', '한숨', '해도', '떠다니', '전체', '관통', '엔티티', '홍상', '수영화', '과잉', '수반', '표본', '퍼트', '친딸', '호주', '하수구', '주관적', '히트', '기상천외', '란', '인생관', '묶', '쑤셔넣', '인색', '차도', '차가', '한대', '자본주의', '가부', '장가', '지전', '내평', '종씨', '윗', '벌레', '차치', '다이어리', '캐서리', '미이라', '바퀴벌레', '바램', '조의', '감자', '초대', '보수파', '한판', '금보', '갔다오', '네이스', '평범', '담아내', '구역질', '동성', '품성', '오케이', '프랑스인', '성녀', '영국군', '나서', '환도', '태극', '시어머니', '촬영장', '문과', '고사', '연계성', '불록', '경상도', '알아듣', '메트릭스', '기독교인', '오락성', '약자', '맴돌', '소림', '대면', '나아지', '만개', '토요일', '작하', '주관', '일류', '춤추', '산삼', '대회', '차고', '씻', '관두', '고등', '비디오카메라', '시련', '짙', '고조', '핵폐기물', '자존심', '자괴감', '말길', '가가', '마무', '혁명', '신념', '들먹거리', '연식', '파장', '카펜터', '첩', '혈', '기발', '정의', '허둥대', '찢', '틀림없', '버트', '언변', '창작', '수법', '흘르', '업의', '코스트', '극명', '발동', '리얼리즘', '사판', '드립', '서울대', '직종', '굴리', '넌센스', '과목', '그레텔', '보드', '로프', '피크', '민족', '별개', '수컷', '파국', '짜내', '벗겨지', '맺히', '실증', '이진', '팔뚝', '깨우', '건축학', '개론', '스트레이트', '위험', '박찬', '폐쇄성', '폐륜', '형편', '라오스', '사릉', '칠하', '운석', '시설', '이끌리', '과다', '벤츠', '잘못하', '아사', '버터', '필드', '노도', '자화상', '하소', '기세', '한풀', '꺾이', '실망감', '엿같', '호모', '빼기', '리허설', '만대', '우먼', '주심', '되돌리', '쪽지', '참한', '무능', '저지', '치밀', '환장', '시하', '흐트러뜨리', '루비', '진전', '비도', '인조', '조오', '카우리', '입맞춤', '황진', '여고', '괴담', '도랏', '표가', '강남', '여년', '은색', '재규어', '방송일', '외제', '캡슐', '완구', '저두', '레즈비언', '명조', '선한', '성지', '인가', '처녀', '플랜', '환영', '정상', '어지럽히', '지질', '울부짖', '신파극', '강력', '대중', '세금', '면세', '쇼핑', '삼박자', '캐치', '뜯', '친하', '지내', '야구모자', '장엄', '친자', '재판장', '삼장', '앙탈', '한일', '카트', '앨범', '떼거지', '원오', '비치', '진술', '걸리버', '여행기', '비평', '승격', '밑천', '실존', '묶이', '전당포', '할로윈', '염병', '입술', '타가', '담담', '킬러', '업그레이드', '우연찮', '성국', '형수', '우의', '모험기', '정떨어지', '짝패', '샐러리맨', '서형', '잡탕', '찌개', '수습', '바꿔치', '벌리', '신앙', '개소리', '밥맛', '범하', '판치', '테마', '몰두', '슬퍼지', '어쩧', '후진국', '메뉴', '회복', '스티치', '오사카', '두려워하', '광구', '단원', '궤적', '은혜', '자연물', '훑', '김수로', '이어도', '씨도둑', '후궁', '유산', '인수', '연장', '보수', '서사', '고작', '튀기', '최선', '최상', '평하', '인천', '세계적', '징그럽', '비디오방', '간수', '내려지', '과소', '원폭', '적기', '나부랭이', '남경', '역동적', '가닥', '출시', '내려오', '난도질', '사연', '깃들', '전격', '작전', '순보', '친일파', '옛', '군사', '충성', '업자', '철통', '미친놈', '대규모', '상전', '터너', '해적', '내수', '몰아가', '시덥잖', '예언', '의구심', '재평가', '작업실', '도난', '청', '잠그', '무이', '시에나', '한눈', '인민', '재판', '뷰티', '비법', '신뢰감', '넘겨주', '따라잡', '단발', '소동', '오렌지', '뚱보', '고향', '천도', '난도', '거북이', '최첨단', '공치', '달라지', '에로틱', '해외', '웹', '주마', '등록금', '노동', '늘어놓', '아마추어', '수역', '박해', '차지', '인영', '이명', '사대', '숙숙', '간하', '룸메이트', '곁', '대다수', '울궈먹', '당나라', '역적', '김춘추', '출발', '무신', '생가', '주기도', '에스', '우마', '옥죄', '찌르', '질소', '과자', '엮이', '일본제', '영점', '장담', '허점', '태일', '헛되', '대론', '괴롭', '영이', '수식어', '반올림', '미루', '전우', '몸값', '생선', '처분', '진이', '가치관', '학대', '조장', '장애자', '보이콧', '돌팔매질하', '지껄이', '정신적', '우스꽝스럽', '휘말리', '도신', '활약상', '관지', '삼가하', '단추', '선동', '옥수수', '밭', '체스', '발연', '사투', '투신', '조문', '폴', '트릴', '위태', '건들', '리치', '손꼽히', '비이성', '권위', '집착', '결정', '발생', '재정', '정책', '처리', '스탈린', '망친', '인내력', '기승', '이입', '혹평', '내상', '쳐주', '좌', '발작적', '여성적', '뒤안길', '우선적', '작정', '프랑', '죄짓', '벌받', '혈전', '무리수', '증말', '유료', '일침', '개성파', '히로인', '크레이', '이터널', '교육과', '체험', '다시', '배비장', '격려', '하워드', '아이젠', '끌어당기', '가톨릭', '하드디스크', '음량', '연금술', '드라이버', '톱스타', '양자', '뒷발', '차기', '불운', '루프', '개인사', '짤리', '오른쪽', '화살표', '염', '개인주의', '재이', '결정체', '호탄', '스킵', '아크', '엔젤', '이졸데', '아만', '뺏기', '엉키', '설키', '취학', '아동', '타고', '월리스', '명절날', '레이첼', '막심', '밀실', '연소자', '성비', '현은', '만능', '무례', '사이버', '흥분', '로망', '일그러지', '조명', '꽃봉오리', '분별', '피어나', '흥', '소피아', '역비', '모와', '절세', '유역', '한순간', '발가락', '터빈', '각각', '라이만', '슬립', '역사물', '이모', '취지', '특공대', '군부', '독재', '통치', '상기', '롤', '달러', '굳', '하편', '멋모르', '버프', '이서', '진의', '사슬', '짱짱이', '떨리', '대충', '미성숙', '개성', '역린', '샴푸', '고안', '지표', '블라인드', '탄식', '발싸개', '연쇄', '에어컨', '허영', '오정희', '세뇌', '강압적', '주입', '숙청', '강행', '철수', '하단', '느림', '통찰', '심도', '중독증', '졸립', '뒤엉키', '알아보', '검색', '테리', '쓰레기통', '헛보', '라스베가스', '화지', '자연적', '한쪽', '의혹', '이루어지', '수천', '방향성', '직설', '직설적', '제곱', '보증', '소련군', '진격', '탈영병', '사살', '스키장', '전화선', '어가', '간지럽히', '리더십', '중고', '인간과', '천공', '감과', '재연', '해리', '포터', '식객', '문학', '꼬맹이', '극중', '에러', '소스', '퍼붓', '빙자', '딴말', '돌림', '쥐약', '수진', '쇄골', '스크립트', '흑연', '비수', '합기도', '갈키', '나사', '선하지', '말장난', '불호', '전우치', '주석', '웨슬리', '우엉', '부추기', '희경', '지효', '방영', '리모콘', '집어던지', '후작', '토의', '정리', '소개팅', '견우', '불러대', '껴안', '사귀', '박차', '뛰쳐나가', '질르', '사춘기', '매료', '막되', '속인', '스칼렛', '깍', '영화광', '김유정', '주임', '이육사', '배추', '상승', '구속', '파티장', '일편단심', '징징대', '답하', '단역', '열풍', '고니', '아귀', '설전', '만파식적', '신궁', '도하', '사담', '대구', '그릇되', '선가', '하차', '선언', '연줄', '더러움', '촌철', '얽히', '섥히', '빌어먹', '서예', '위기', '고질병', '인방', '브이', '추상적', '성추', '공갈', '협박', '매매', '알선', '포주', '저지르', '띵하', '기획물', '나바', '자구', '오늘날', '기해', '잔악', '평민', '동원', '먼지', '대군', '제나라', '왕과', '교육계', '극영화', '이지현', '육체', '뿅가', '숙의', '배수', '김태현', '방구', '역행', '미디어', '정치적', '비율', '안정감', '이국적', '풍취', '폴란드', '투영', '순간순간', '각성', '한걸음', '소감', '새미', '로스', '관상', '표나', '램', '만시', '한바다', '제자', '유일한', '탄피', '개법', '다치', '엎', '매장', '네이비', '정신건강', '문명', '괴로움', '이리', '전개도', '유해', '구수', '장님', '코어', '리모컨', '발끝', '가내', '소환', '자새', '솟아오르', '샘물', '읊', '야로', '제야', '주문', '규칙', '경찰서', '슬링', '엘리베이터', '터틀', '치기', '엇갈리', '주한', '일라', '진솔', '빈도', '식당', '판사', '쌍둥이', '합의', '심판', '결선', '고시', '가고파', '경영', '일과', '동아리', '파악', '거마', '즘', '무마', '도둑놈', '버겁', '쉼', '꼬꼬마', '청기', '정민', '건전', '잘못되', '명곡', '저학년', '미양', '배덕', '감각적', '권력자', '권력', '산물', '장서', '작보', '짜여지', '별하', '발산', '최적화', '승기', '나상', '밥상', '호세', '씨부리', '정신세계', '월', '장함', '윌리스', '임성', '껄', '최하급', '별다르', '플러스', '과제', '총소리', '주몽', '밑밥', '파탄', '뒤지', '충격받', '지의', '주리', '해고', '고고', '개봉관', '확보', '권선징악', '공백', '춘수', '과욕', '장갑', '호가', '드라마틱', '만행', '이시영', '이태준', '총장', '졀', '가지가지', '더티', '학우', '보군', '스트립', '끝맺음', '유리창', '부딪치', '베이비', '조율', '초초', '컨디션', '난조', '발붙이', '백미', '오래', '돌아', '관도', '제기', '현상', '관망', '의도적', '그치', '쥐뿔', '주제곡', '심금', '숏', '냉정', '한몫', '부가', '멘스', '이듬', '그루', '불문율', '이레', '기타', '마도', '영리', '썰', '옥상', '눌', '삽입곡', '화룡', '점정', '계승', '웅보', '결제', '잘리', '붙잡', '파격적', '비고', '이스턴', '안과', '드뷔시', '달빛', '철환', '크로싱', '하달', '반점', '해장국', '디스크', '낯가림', '음성', '콕스', '전말', '붐', '위안부', '글귀', '효율', '가성', '반타작', '상식', '양키', '유능', '초강력', '울기', '하심', '다인', '태안', '꽃게', '삼기', '피곤', '상반', '대못', '저하', '논스톱', '혹하', '박지', '채원', '수염', '그라운드', '이준이', '내이', '보아', '최대', '힘입', '흐트리', '다라', '이기심', '외롭', '씹', '각하', '좁', '의욕', '극우', '사상가', '소로', '농부', '펴', '확신', '턱시도', '트램펄린', '고무총', '부둣가', '변장술', '개인기', '참내', '잡치', '군진', '예매권', '깡통', '시한', '에너지', '붙히', '막지', '원어', '교사', '상한가', '패가', '행운', '창정', '신민', '응어리', '만일', '뽑아내', '심야', '우여곡절', '땀나', '치도', '성냥', '재림', '끝장', '모터스', '한사람', '인칭', '시체', '오뚝이', '건들이', '무서워하', '삭막', '말죽', '사장', '고르', '계단', '소시지', '골든', '유천', '니어', '과언', '사상충', '해코지', '논픽션', '새마을', '노욕', '행이', '착륙', '승객', '장례식', '추하', '도배', '질러지', '소만', '언제쯤', '러브레터', '인민군', '요정', '범한', '나로', '최전선', '독일어', '데려가', '시의', '역이', '시계', '수리공', '약혼자', '엉덩이', '절벽', '배출', '명하', '조반니', '천원', '아몬드', '천정', '명과', '완의', '정무', '공중전', '과거로', '혼잡', '오점', '찔끔거리', '건축', '정기', '건축가', '협회', '부모님', '희망적', '적임자', '슈타인', '안구', '피로도', '다중', '분열', '궁합', '그해', '코리아', '유행어', '독일인', '불사신', '꼬이', '월남', '동기', '서도', '금기', '써보', '화하', '제우스', '박살', '인디언', '참패', '묘미', '켜', '여분', '가상현실', '립', '해악', '만화가', '기이', '계절풍', '무모', '국교', '세균', '정통', '족도', '이민족', '집합체', '일본도', '비정상', '나이스', '토대', '비틀어지', '존엄성', '뒤돌아보', '예술성', '부부', '권태기', '무책임', '그림자', '약소국', '드리우', '사용하', '화통', '식탁', '한자', '채워지', '돌려대', '보존', '절음', '모립', '세종', '대왕', '막일', '캐나다', '인간미', '제공', '친절', '실버', '이뿌', '에드워드', '저쩌', '종합적', '날짜', '왜정', '날새', '나리', '문제지', '예비', '암살', '껌', '생전', '주더만', '하구만', '가감', '결론', '농락', '희준', '종교계', '소다', '다재', '박카스', '스포일러', '위거', '헤어나오', '장날', '토크쇼', '구별', '순환선', '컴퍼니', '정승', '생사람', '부에', '디스코', '표지', '삼각관계', '삼각', '허영심', '송지', '인고', '다프네', '두리반', '공연', '피력', '한겨울', '흥겹', '춥', '진화론', '깍지', '매트릭스', '왕정', '한물가', '원정기', '먹자', '후의', '졸도', '금융권', '물고기', '접속', '올가미', '베프', '군국주의', '테라', '전세계', '해서', '판중', '타이', '물고', '서부', '기능', '브루노', '개독', '딴소리', '가위손', '개지', '판이', '모음집', '어지', '간한', '레베카', '수긍', '밑바닥', '극단', '막가', '본드', '상징', '선별', '이형', '독신', '포유', '고등학교', '땡땡이', '앞자리', '추월', '뺏', '화물', '미소년', '남궁', '실무자', '열받', '신부', '철권', '무소유', '보가', '콜', '감미', '꺾', '대대', '출품', '백발', '적도', '멋들', '클레이', '리플', '탐욕', '달리기', '이민자', '다반사', '반열', '에스트로겐', '하이퍼', '차승', '못지않', '수행', '폭락', '베이컨', '레이놀즈', '자연재해', '현전', '이것저것', '야만성', '편가르', '스마일', '좌파', '막말', '오자', '기어가', '들썩이', '요일', '캡', '엿보이', '널리', '희열', '아이돌', '모욕적', '시월', '애달', '이안', '대중성', '고삼', '아까와', '그로테스크', '독보적', '가다니', '여우', '분신술', '기렇', '동굴', '치매', '돌보', '나아가', '음미', '크루거', '드레스', '아세', '공작', '시티', '세가', '신상옥', '유학', '공채', '집안', '학예회', '스위프트', '자동', '응답기', '작별', '토이', '오이', '날조', '총망라', '짖', '자평', '미식축구', '식민지', '건설', '관광객', '재일', '동포', '분단', '조총련', '소외', '포지', '버려두', '전병', '화신', '지환', '오지랖', '대여자', '발달', '이성적', '애정', '찌그러지', '초입', '멘트', '장고', '활약', '우월주의', '젤리', '짱나', '화백', '그러하', '소니', '형도', '앞차기', '버금', '오르기', '총질', '사가', '허위', '심혈', '기울이', '숙정', '광대', '기라', '코리안', '개병', '잉여', '중기', '사나이', '백야', '원본', '유실', '수출', '우리말', '해치', '루피', '에이스', '패왕', '숫자', '괴짜', '문지기', '소말리', '해안', '싹쓸이', '어부', '초래', '목록', '베타', '이원규', '서진', '그려지', '백설', '프루스', '견주', '재적', '네프', '성무', '어염', '내버리', '뉘', '감제', '첨보', '어차', '구니', '헷갈리', '이쯤', '이식', '호감도', '하룻', '마블', '아이언', '사탄', '땡기', '지상주의', '난간', '못가', '제정신', '커지', '짜이', '극악', '태연', '강변', '천만', '전쟁물', '여장', '화장', '폭격기', '충동적', '주술사', '말대', '이행', '광신도', '암세포', '가책', '덮', '도자기', '맞먹', '해탈', '대나무', '계곡', '곤란', '비행', '창문', '테크닉', '폭', '협동심', '재구성', '특징적', '지랑', '갈아타', '한시', '함축', '클리프', '앞서', '못나', '드라이빙', '무녀', '수정', '억압', '마니아', '파고들', '임꺽정', '환자', '전역', '명절', '전대', '생활관', '여교사', '안정', '데일리', '연출자', '채용', '시스템', '외주', '결집력', '뛰치', '고등학생', '수사', '그려', '트랜스포머', '화씨', '가위바위보', '펜싱', '악도', '브로드', '돌려받', '수준의', '참사', '중공군', '입각', '참전', '용사', '호국', '영령', '욕설', '장항', '청년', '눈가', '적시', '묘기', '대행진', '뱀', '무스', '수식', '대통령', '가까이', '발레', '매카시즘', '수술', '계세', '하향', '평준화', '수사물', '휴먼', '금요일', '활력소', '다물', '연대기', '여사', '진창', '회수', '남배우', '이수정', '집안일', '조류', '씌어지', '허망', '요로', '맹신', '노고', '역출', '주저', '펄프', '세편', '전성', '형식미', '인내심', '부처', '색채감', '눌르', '소수자', '대게', '정해지', '순풍', '다이빙', '침몰', '성도', '폴라로', '작동법', '대조', '요거', '효종', '종범', '목사', '다도', '백지', '사실성', '결여', '어거', '역류', '산맥', '대안', '오로라', '성질', '따오', '침울', '석연', '펠릭스', '라이터', '본격적', '소개', '저의', '진흙', '의구', '심들', '독재자', '수표', '불변', '감별', '이태', '주제넘', '부족하', '발로', '말씀', '피부', '총사', '한탕', '옴붙', '피아니스트', '화정', '연애질', '모도', '천재적', '구성력', '무릎', '일관', '근대', '학부모', '명의', '상중하', '제어', '연살', '사갈', '약연', '고창', '갈구', '다음날', '제자리', '깨어나', '판박이', '귀천', '젖통', '미달', '승지', '입학', '받아들이', '구도', '사바세계', '중생', '대결', '장소', '정과', '탄성', '진혼', '실신', '항', '대이', '선입견', '모자이크', '구토', '끄덕이', '후배', '버릇', '경원', '병풍', '연도', '시중', '일방', '통행', '직진', '미스터', '미세스', '스미스', '사서', '배송', '점쟁이', '오그라', '십대', '국물', '교수', '공들이', '용두', '사미', '이룩', '제국', '표상', '철심', '삐리', '콩가루', '선진', '달르', '이순신', '삼의', '개구리', '잔재주', '교차', '측정', '분야', '여리', '내심', '엔', '파인', '환대', '리눅스', '명심', '주접', '횡포', '마중', '허락', '크기', '데빌', '괴뢰', '가안', '도끼', '떠올리', '박하', '김현숙', '제너', '레이트', '나락', '소시민', '윤석이', '무위', '구장', '저작권', '파이어', '이색', '베를린', '소모성', '불친절', '방화', '양파', '풀장', '고기', '나무', '풀어놓', '살피', '동근', '요괴', '한국형', '합격', '멋들어지', '민초', '노트', '카니발', '사이드', '미러', '복지과', '폭력적', '금욕', '커다랗', '된', '등골', '척도', '투표권', '브라운관', '싱그럽', '알제리', '복수해', '원호', '어찌하', '지간', '장미빛', '답지', '콘택트', '고립', '혈육', '발암', '소나타', '국방', '족속', '몰아내', '맛보', '사관', '부서', '책임자', '법인', '국방부', '기관', '증언', '책임지', '안착', '흔해빠지', '천제', '장사', '여경', '라이어', '러버', '아늠', '돔', '종말', '수번', '해롭', '철저', '임도', '불문', '감응', '음청', '개자리', '비유', '대학생', '왕년', '친아들', '준규', '주머니', '루카스', '공항', '조리', '본능적', '대의', '필부', '주도', '공화정', '설립', '무협물', '몸바치', '가하지', '성실', '신발', '일거', '산화', '딴판', '은유', '펌프', '소한', '효시', '젖', '증명', '아무짝', '최대한', '보더', '소양', '발란스', '다수결', '유년', '침팬지', '찿', '자란', '약장수', '사기꾼', '곽', '재용', '주사', '비랑', '맨몸', '해진', '치이', '친숙', '출발지', '끊임없', '쪽', '바리', '국민성', '정신대', '옹호', '요수', '능력자', '비속어', '가시길', '일장', '춘몽', '가이', '유희', '나무라', '로비', '컨트롤', '총기', '거래', '소지', '끊이', '갓', '탁구', '반성', '저처럼', '비들', '창이', '주면', '애국', '정글', '법칙', '심동', '감상문', '여명', '세여', '잔대', '코러스', '이러하', '보편적', '파시즘', '견지', '단계', '적이', '현수', '이원', '곱', '고시원', '마주치', '스님', '천진', '도르', '전투력', '연가시', '화제', '사태', '맨홀', '물질', '헤더', '이엄', '민요', '파랑새', '잡아넣', '오용', '극빈', '증가', '선화', '귀족', '계급', '다이스', '걸어가', '짬', '이치', '마린', '거래상', '예정', '일나', '이마', '스파', '옹이', '말음', '분열증', '하교', '회상', '서방', '숭배', '터오', '아웃사이더', '저미', '특징', '스틸', '어럽', '예체능', '테니스', '종목', '체능', '매주', '손해', '대속', '꿇', '승호', '공찬', '종일', '광화문', '가로수', '영감님', '잡스럽', '신년', '유민', '문식', '망각', '가부장', '개요', '유과', '메이슨', '신들리', '죄와벌', '목욕', '재개', '정좌', '세로', '전생', '이천', '때려부시', '피어스', '선인장', '수호', '헬로우', '그만두', '감싸', '밸류', '구급', '로인', '항체', '피드백', '같아지', '마리오', '급작', '규모', '후리', '훈련소', '태권', '공익', '수배', '범', '해산', '아담스', '예외', '화살', '허리', '전라', '극한', '비단', '값지', '흥미도', '막바지', '성현', '지혜', '무용', '야기', '에로티시즘', '관능미', '범작', '잔해', '선영', '여자일', '남장', '차별성', '참새', '부러워하', '갇히', '살림', '쓰레기장', '헤매', '광주', '고양', '생강', '죽여주', '지조', '단언', '메디컬', '기영', '선글라스', '노랑', '속터지', '쌓이', '정점', '그레이드', '성장기', '배알', '꼴리', '적일', '힝', '걸음걸이', '치키', '부릅뜨', '자편', '서서', '명예', '치한', '누더기', '리본', '관여', '만년', '지망생', '애환', '충동', '큰코다치', '인양', '서태지', '음악계', '임은', '처형', '알았', '발기', '노인네', '고영', '재의', '생명체', '진화', '하대', '기약', '파괴적', '한의', '유행', '이무영', '무미', '휴머니스트', '오래가', '배분', '이어진', '수민', '빌빌대', '번성', '하늬', '박한', '굼뜨', '해설집', '리셋', '인간관계', '입맛', '단성사', '작자', '홍수', '마돈나', '주연상', '크로스', '듀얼', '브라질', '패트릭', '스웨이', '천자', '노해', '하룻밤', '호되', '역사책', '기황후', '훑어보', '도면', '소고기', '공전', '생체', '튜브', '한스럽', '앞바다', '오염', '생계', '짓밟', '담론', '집합소', '습관', '외상', '초동', '괴수', '한국식', '이닝', '반칙', '장화', '지운', '여진', '짐작', '징징거리', '라더', '멀미', '아이즈', '흘러넘치', '갈피', '넋두리', '스토커', '칭하', '중국어', '괄', '에어리', '노무', '애인', '잠입', '양산', '스타크', '누명', '아웃', '입단', '곡예사', '줄타기', '사자', '독백', '매시', '무관', '표하', '모자르', '삼촌', '은기', '마루', '터널', '날개', '태풍', '그래피', '토키', '카코', '김병조', '뽁', '쫓기', '돌아다니', '아멘', '시답잖', '푸시', '디바이드', '권태', '들마', '하루하루', '북극곰', '헤매이', '히피', '드럼통', '기겁', '보내주', '투입', '이만큼', '태조', '급속', '도그', '뽀뽀', '스트로', '꽃피우', '베토벤', '중주', '부수', '훼손', '안경', '참고하', '포럼', '백제', '충청도', '고질적', '개간지', '안산', '전당', '새우깡', '양화', '세일즈맨', '레몬', '사회성', '양일', '배아', '눈앞', '메이저', '택배', '놀래', '체벌', '성경', '음악성', '트랜스', '기운', '적적', '전결', '쾌감', '방의', '죄악', '성재', '가명', '차돌', '안무가', '가여', '화두', '알아두', '조가', '선배', '일의', '주물럭거리', '앓', '폭동', '내인', '국제', '비상구', '순서', '이라', '노근', '빵꾸', '탱고', '느껴', '설계', '곁들이', '동반', '꿈나라', '진주', '경직', '회고', '사기죄', '무차별', '암시', '복고풍', '빼았기', '옆집', '목표', '불어', '결재', '애마', '야심', '승보', '북', '주의자', '판명', '보법', '동질', '다스리', '나빠지', '족구', '뇌리', '스킬', '미사여구', '유람선', '허하', '좇', '동질감', '반항', '떠', '고학년', '일본군', '꼬라지', '폐기물', '아울리', '내리기', '고귀', '배반', '유영', '욕정', '불타', '첫째', '리보', '확률', '메가', '끌어모으', '양쪽', '소드', '폴리스', '퇴물', '이취', '와중', '일국', '영광경', '직이', '충무로', '전죽', '노야', '버치', '다음주', '막대', '와인', '부르짖', '미련', '이토', '짚', '이단', '정서적', '이기주의', '작곡', '괜챦', '전직', '부조화', '가라앉', '비열', '별종', '발리', '국영', '남중', '시구', '자국민', '여러번', '연락', '댐', '합헌', '판결', '교복', '미결', '백내장', '오라', '족장', '허벅지', '쓰다듬', '불면증', '그림판', '반일', '쳐죽이', '손보', '중하', '제압', '하반신', '지침', '두들겨맞', '랭킹', '바지', '단편', '환포', '지장', '잔혹극', '열혈', '기반', '트롤', '파이널', '정치사', '힘없', '멀리하', '알맹이', '겉치장', '배심원', '메타', '파스텔톤', '성우', '불신', '문소리', '블레', '시프트', '부어', '메뚜기', '붓', '날림', '정신과', '자제', '곤충', '딱이', '반과', '개신', '참배', '다기', '공학', '월리', '애견', '텔레비전', '케이크', '로보트', '자수', '낙태', '한때', '오컬트', '전문직', '무제', '동방', '지국', '장모', '심의', '건네주', '건네', '병동', '아지', '매너리즘', '서둘', '요가', '의의', '답안', '공연장', '자책감', '시달리', '뼈아프', '저력', '제끼', '한국산', '아이콘', '중앙선', '민예품', '망우리', '묘소', '사향', '업체', '청순', '시고', '해성', '들키', '냉장고', '협찬', '오븐', '은성', '도현', '바가지', '애교', '성스럽', '교제', '폄하', '고혹', '테일러', '반장', '엿듣', '자빠', '디오', '마왕', '격파', '도와', '경화', '비장미', '나돌', '희귀', '초이스', '도박', '전설적', '중독', '구슬', '배지', '꿰', '폐쇄', '거죽', '입히', '바이오', '여치', '시덥', '모리슨', '니만', '에머리', '맡기', '학생과', '기시', '경어', '리스크', '조선인', '정국', '방정맞', '앞세우', '지출', '류만', '브릭', '대인', '거첨', '색소폰', '달기', '양수', '끝자락', '관사', '숙면', '혐오증', '여러모', '미술', '무극', '클로즈', '전형', '로카', '보듬', '가져다주', '비원', '잠자는', '주사위', '올리버', '선출', '쟁탈전', '댄싱', '안방', '염치없', '유머러스', '병태', '계집', '치르', '닮음', '중저음', '사냥꾼', '구라치', '풍광', '코프', '이불', '스트리트', '다리털', '세트장', '딸아이', '눈시울', '꿀벌', '붉히', '합성', '경계', '궁궐', '극도', '저해', '장되', '테크노', '부성', '앳되', '육신', '깨물', '졸이', '거금', '김재덕', '눈도', '끝맺', '가식', '들연', '낙지', '걸려들', '라시오', '휩쓸리', '심층', '고단', '비견', '애비', '땅속', '뭍히', '휩싸이', '곰팡이', '타입', '미필', '깍아내리', '표현력', '작업', '홍지', '바이올린', '목마르', '셀프', '장하', '설도', '독선적', '비만', '오드리', '퍼트리', '화해', '제작사', '신애', '예림', '유진', '쪽박', '눈물샘', '고장', '육체적', '전액', '성량', '기린', '이광수', '선남', '한평생', '신보', '뭉치', '대한', '보지', '터져나오', '라민', '구매', '흘림', '주변인', '숙명', '타계', '역정', '어법', '묵', '클로즈업', '소심', '되돌', '거짓말쟁이', '갉', '일반화', '각인', '영채', '불사조', '독창성', '상극', '정음', '경호', '수영', '자이언트', '올바르', '선곡', '가타', '악화', '글래', '해프닝', '대담', '하비', '금세기', '싣', '후감', '유토피아', '김새', '자유분방', '집시', '웨딩', '진보적', '어중간', '캐서린', '기아', '몸서리치', '트집', '대접', '개차반', '바르', '공군', '군수', '단지', '만족감', '미비', '스탈', '피곤하', '애매모호', '손수건', '다되', '찬성', '신양', '가세', '생일날', '여론', '조성하', '구체적', '경선', '앤더슨', '레지', '줄어들', '민의', '강석', '의아', '탈선', '엎어지', '입문서', '로만', '물오르', '뻐기', '정주', '행하', '장수', '상회', '내려놓', '정들', '사형', '제도', '폐해', '부지', '노총각', '기어나오', '해바라기', '태식', '자객', '배필', '전항', '고질', '다시없', '세심', '무지하', '남우', '깜짝이', '권위주의', '뒤쪽', '조국', '동반자', '상각', '변모', '정직', '가드너', '중량감', '비장', '룸바', '상임', '단순화', '방귀', '팬티', '뀌', '한마당', '메우', '올라', '방화범', '꼬부라지', '혓소리', '자주', '탐험', '원수', '시민', '안중', '구출', '목장', '클레인', '일진', '중한', '킥킥거리', '점단', '소용', '십중팔구', '영세', '워싱턴', '조앙', '고딕', '집대성', '맞춤', '마비', '급사', '수목', '희로', '대시', '물가', '꾸리', '젓', '황은', '깎아내리', '백선', '엽장', '물어뜯', '게살', '맛살', '원할하', '어려움', '비용', '생산', '서언', '간접', '흠결', '능욕', '오경', '불나', '서영', '거리낌', '사자후', '위장', '복장', '크림', '먹히', '예로', '물벼락', '하루밤', '물거품', '가속', '뿔', '위주', '이화', '화류계', '장민', '남용', '크로즈', '오연', '지시', '벼', '지역감정', '스카이', '신물', '인주', '알음', '회피', '마마', '오창석', '중도', '단둘', '에스프레소', '나노', '허울', '라이징', '하이힐', '전기톱', '망고', '어물', '까보', '미숙', '반의', '주라', '울트라', '총출연', '망국', '신비감', '조로', '모나리자', '재개봉', '세가지', '애가', '민영', '에리카'])\n"
     ]
    }
   ],
   "source": [
    "# 구축한 단어 사전 확인\n",
    "print('단어사전의 단어개수 : ', len(final_tfidf_vect.vocabulary_))\n",
    "print('단어 확인 : ',final_tfidf_vect.vocabulary_.keys())\n",
    "# 컬럼 개수 , 특성 개수 , 문제 기준 개수"
   ]
  },
  {
   "cell_type": "code",
   "execution_count": null,
   "id": "70db1186",
   "metadata": {},
   "outputs": [],
   "source": []
  },
  {
   "cell_type": "code",
   "execution_count": null,
   "id": "e41db6b9",
   "metadata": {},
   "outputs": [],
   "source": []
  },
  {
   "cell_type": "code",
   "execution_count": null,
   "id": "50873570",
   "metadata": {},
   "outputs": [],
   "source": []
  }
 ],
 "metadata": {
  "kernelspec": {
   "display_name": "Python 3 (ipykernel)",
   "language": "python",
   "name": "python3"
  },
  "language_info": {
   "codemirror_mode": {
    "name": "ipython",
    "version": 3
   },
   "file_extension": ".py",
   "mimetype": "text/x-python",
   "name": "python",
   "nbconvert_exporter": "python",
   "pygments_lexer": "ipython3",
   "version": "3.9.12"
  }
 },
 "nbformat": 4,
 "nbformat_minor": 5
}
