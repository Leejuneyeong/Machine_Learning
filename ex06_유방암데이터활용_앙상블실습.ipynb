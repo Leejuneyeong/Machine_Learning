{
 "cells": [
  {
   "cell_type": "markdown",
   "id": "2c96abe0",
   "metadata": {},
   "source": [
    "### 목표\n",
    " - 유방암 데이터를 활용해서 악성/양성 분류하는 실습\n",
    " - 의학 데이터에 대해서 이해해보자"
   ]
  },
  {
   "cell_type": "code",
   "execution_count": 33,
   "id": "7f5906c5",
   "metadata": {},
   "outputs": [],
   "source": [
    "# 필요한 도구 불러오기(환경설정)\n",
    "from sklearn.model_selection import train_test_split\n",
    "from sklearn.datasets import load_breast_cancer"
   ]
  },
  {
   "cell_type": "code",
   "execution_count": 34,
   "id": "a4103861",
   "metadata": {
    "scrolled": true
   },
   "outputs": [
    {
     "data": {
      "text/plain": [
       "{'data': array([[1.799e+01, 1.038e+01, 1.228e+02, ..., 2.654e-01, 4.601e-01,\n",
       "         1.189e-01],\n",
       "        [2.057e+01, 1.777e+01, 1.329e+02, ..., 1.860e-01, 2.750e-01,\n",
       "         8.902e-02],\n",
       "        [1.969e+01, 2.125e+01, 1.300e+02, ..., 2.430e-01, 3.613e-01,\n",
       "         8.758e-02],\n",
       "        ...,\n",
       "        [1.660e+01, 2.808e+01, 1.083e+02, ..., 1.418e-01, 2.218e-01,\n",
       "         7.820e-02],\n",
       "        [2.060e+01, 2.933e+01, 1.401e+02, ..., 2.650e-01, 4.087e-01,\n",
       "         1.240e-01],\n",
       "        [7.760e+00, 2.454e+01, 4.792e+01, ..., 0.000e+00, 2.871e-01,\n",
       "         7.039e-02]]),\n",
       " 'target': array([0, 0, 0, 0, 0, 0, 0, 0, 0, 0, 0, 0, 0, 0, 0, 0, 0, 0, 0, 1, 1, 1,\n",
       "        0, 0, 0, 0, 0, 0, 0, 0, 0, 0, 0, 0, 0, 0, 0, 1, 0, 0, 0, 0, 0, 0,\n",
       "        0, 0, 1, 0, 1, 1, 1, 1, 1, 0, 0, 1, 0, 0, 1, 1, 1, 1, 0, 1, 0, 0,\n",
       "        1, 1, 1, 1, 0, 1, 0, 0, 1, 0, 1, 0, 0, 1, 1, 1, 0, 0, 1, 0, 0, 0,\n",
       "        1, 1, 1, 0, 1, 1, 0, 0, 1, 1, 1, 0, 0, 1, 1, 1, 1, 0, 1, 1, 0, 1,\n",
       "        1, 1, 1, 1, 1, 1, 1, 0, 0, 0, 1, 0, 0, 1, 1, 1, 0, 0, 1, 0, 1, 0,\n",
       "        0, 1, 0, 0, 1, 1, 0, 1, 1, 0, 1, 1, 1, 1, 0, 1, 1, 1, 1, 1, 1, 1,\n",
       "        1, 1, 0, 1, 1, 1, 1, 0, 0, 1, 0, 1, 1, 0, 0, 1, 1, 0, 0, 1, 1, 1,\n",
       "        1, 0, 1, 1, 0, 0, 0, 1, 0, 1, 0, 1, 1, 1, 0, 1, 1, 0, 0, 1, 0, 0,\n",
       "        0, 0, 1, 0, 0, 0, 1, 0, 1, 0, 1, 1, 0, 1, 0, 0, 0, 0, 1, 1, 0, 0,\n",
       "        1, 1, 1, 0, 1, 1, 1, 1, 1, 0, 0, 1, 1, 0, 1, 1, 0, 0, 1, 0, 1, 1,\n",
       "        1, 1, 0, 1, 1, 1, 1, 1, 0, 1, 0, 0, 0, 0, 0, 0, 0, 0, 0, 0, 0, 0,\n",
       "        0, 0, 1, 1, 1, 1, 1, 1, 0, 1, 0, 1, 1, 0, 1, 1, 0, 1, 0, 0, 1, 1,\n",
       "        1, 1, 1, 1, 1, 1, 1, 1, 1, 1, 1, 0, 1, 1, 0, 1, 0, 1, 1, 1, 1, 1,\n",
       "        1, 1, 1, 1, 1, 1, 1, 1, 1, 0, 1, 1, 1, 0, 1, 0, 1, 1, 1, 1, 0, 0,\n",
       "        0, 1, 1, 1, 1, 0, 1, 0, 1, 0, 1, 1, 1, 0, 1, 1, 1, 1, 1, 1, 1, 0,\n",
       "        0, 0, 1, 1, 1, 1, 1, 1, 1, 1, 1, 1, 1, 0, 0, 1, 0, 0, 0, 1, 0, 0,\n",
       "        1, 1, 1, 1, 1, 0, 1, 1, 1, 1, 1, 0, 1, 1, 1, 0, 1, 1, 0, 0, 1, 1,\n",
       "        1, 1, 1, 1, 0, 1, 1, 1, 1, 1, 1, 1, 0, 1, 1, 1, 1, 1, 0, 1, 1, 0,\n",
       "        1, 1, 1, 1, 1, 1, 1, 1, 1, 1, 1, 1, 0, 1, 0, 0, 1, 0, 1, 1, 1, 1,\n",
       "        1, 0, 1, 1, 0, 1, 0, 1, 1, 0, 1, 0, 1, 1, 1, 1, 1, 1, 1, 1, 0, 0,\n",
       "        1, 1, 1, 1, 1, 1, 0, 1, 1, 1, 1, 1, 1, 1, 1, 1, 1, 0, 1, 1, 1, 1,\n",
       "        1, 1, 1, 0, 1, 0, 1, 1, 0, 1, 1, 1, 1, 1, 0, 0, 1, 0, 1, 0, 1, 1,\n",
       "        1, 1, 1, 0, 1, 1, 0, 1, 0, 1, 0, 0, 1, 1, 1, 0, 1, 1, 1, 1, 1, 1,\n",
       "        1, 1, 1, 1, 1, 0, 1, 0, 0, 1, 1, 1, 1, 1, 1, 1, 1, 1, 1, 1, 1, 1,\n",
       "        1, 1, 1, 1, 1, 1, 1, 1, 1, 1, 1, 1, 0, 0, 0, 0, 0, 0, 1]),\n",
       " 'frame': None,\n",
       " 'target_names': array(['malignant', 'benign'], dtype='<U9'),\n",
       " 'DESCR': '.. _breast_cancer_dataset:\\n\\nBreast cancer wisconsin (diagnostic) dataset\\n--------------------------------------------\\n\\n**Data Set Characteristics:**\\n\\n    :Number of Instances: 569\\n\\n    :Number of Attributes: 30 numeric, predictive attributes and the class\\n\\n    :Attribute Information:\\n        - radius (mean of distances from center to points on the perimeter)\\n        - texture (standard deviation of gray-scale values)\\n        - perimeter\\n        - area\\n        - smoothness (local variation in radius lengths)\\n        - compactness (perimeter^2 / area - 1.0)\\n        - concavity (severity of concave portions of the contour)\\n        - concave points (number of concave portions of the contour)\\n        - symmetry\\n        - fractal dimension (\"coastline approximation\" - 1)\\n\\n        The mean, standard error, and \"worst\" or largest (mean of the three\\n        worst/largest values) of these features were computed for each image,\\n        resulting in 30 features.  For instance, field 0 is Mean Radius, field\\n        10 is Radius SE, field 20 is Worst Radius.\\n\\n        - class:\\n                - WDBC-Malignant\\n                - WDBC-Benign\\n\\n    :Summary Statistics:\\n\\n    ===================================== ====== ======\\n                                           Min    Max\\n    ===================================== ====== ======\\n    radius (mean):                        6.981  28.11\\n    texture (mean):                       9.71   39.28\\n    perimeter (mean):                     43.79  188.5\\n    area (mean):                          143.5  2501.0\\n    smoothness (mean):                    0.053  0.163\\n    compactness (mean):                   0.019  0.345\\n    concavity (mean):                     0.0    0.427\\n    concave points (mean):                0.0    0.201\\n    symmetry (mean):                      0.106  0.304\\n    fractal dimension (mean):             0.05   0.097\\n    radius (standard error):              0.112  2.873\\n    texture (standard error):             0.36   4.885\\n    perimeter (standard error):           0.757  21.98\\n    area (standard error):                6.802  542.2\\n    smoothness (standard error):          0.002  0.031\\n    compactness (standard error):         0.002  0.135\\n    concavity (standard error):           0.0    0.396\\n    concave points (standard error):      0.0    0.053\\n    symmetry (standard error):            0.008  0.079\\n    fractal dimension (standard error):   0.001  0.03\\n    radius (worst):                       7.93   36.04\\n    texture (worst):                      12.02  49.54\\n    perimeter (worst):                    50.41  251.2\\n    area (worst):                         185.2  4254.0\\n    smoothness (worst):                   0.071  0.223\\n    compactness (worst):                  0.027  1.058\\n    concavity (worst):                    0.0    1.252\\n    concave points (worst):               0.0    0.291\\n    symmetry (worst):                     0.156  0.664\\n    fractal dimension (worst):            0.055  0.208\\n    ===================================== ====== ======\\n\\n    :Missing Attribute Values: None\\n\\n    :Class Distribution: 212 - Malignant, 357 - Benign\\n\\n    :Creator:  Dr. William H. Wolberg, W. Nick Street, Olvi L. Mangasarian\\n\\n    :Donor: Nick Street\\n\\n    :Date: November, 1995\\n\\nThis is a copy of UCI ML Breast Cancer Wisconsin (Diagnostic) datasets.\\nhttps://goo.gl/U2Uwz2\\n\\nFeatures are computed from a digitized image of a fine needle\\naspirate (FNA) of a breast mass.  They describe\\ncharacteristics of the cell nuclei present in the image.\\n\\nSeparating plane described above was obtained using\\nMultisurface Method-Tree (MSM-T) [K. P. Bennett, \"Decision Tree\\nConstruction Via Linear Programming.\" Proceedings of the 4th\\nMidwest Artificial Intelligence and Cognitive Science Society,\\npp. 97-101, 1992], a classification method which uses linear\\nprogramming to construct a decision tree.  Relevant features\\nwere selected using an exhaustive search in the space of 1-4\\nfeatures and 1-3 separating planes.\\n\\nThe actual linear program used to obtain the separating plane\\nin the 3-dimensional space is that described in:\\n[K. P. Bennett and O. L. Mangasarian: \"Robust Linear\\nProgramming Discrimination of Two Linearly Inseparable Sets\",\\nOptimization Methods and Software 1, 1992, 23-34].\\n\\nThis database is also available through the UW CS ftp server:\\n\\nftp ftp.cs.wisc.edu\\ncd math-prog/cpo-dataset/machine-learn/WDBC/\\n\\n.. topic:: References\\n\\n   - W.N. Street, W.H. Wolberg and O.L. Mangasarian. Nuclear feature extraction \\n     for breast tumor diagnosis. IS&T/SPIE 1993 International Symposium on \\n     Electronic Imaging: Science and Technology, volume 1905, pages 861-870,\\n     San Jose, CA, 1993.\\n   - O.L. Mangasarian, W.N. Street and W.H. Wolberg. Breast cancer diagnosis and \\n     prognosis via linear programming. Operations Research, 43(4), pages 570-577, \\n     July-August 1995.\\n   - W.H. Wolberg, W.N. Street, and O.L. Mangasarian. Machine learning techniques\\n     to diagnose breast cancer from fine-needle aspirates. Cancer Letters 77 (1994) \\n     163-171.',\n",
       " 'feature_names': array(['mean radius', 'mean texture', 'mean perimeter', 'mean area',\n",
       "        'mean smoothness', 'mean compactness', 'mean concavity',\n",
       "        'mean concave points', 'mean symmetry', 'mean fractal dimension',\n",
       "        'radius error', 'texture error', 'perimeter error', 'area error',\n",
       "        'smoothness error', 'compactness error', 'concavity error',\n",
       "        'concave points error', 'symmetry error',\n",
       "        'fractal dimension error', 'worst radius', 'worst texture',\n",
       "        'worst perimeter', 'worst area', 'worst smoothness',\n",
       "        'worst compactness', 'worst concavity', 'worst concave points',\n",
       "        'worst symmetry', 'worst fractal dimension'], dtype='<U23'),\n",
       " 'filename': 'breast_cancer.csv',\n",
       " 'data_module': 'sklearn.datasets.data'}"
      ]
     },
     "execution_count": 34,
     "metadata": {},
     "output_type": "execute_result"
    }
   ],
   "source": [
    "# 데이터 확인하기\n",
    "cancer_data = load_breast_cancer()\n",
    "cancer_data\n",
    "\n",
    "# 번치 객체 형식으로 저장된 데이터\n",
    "# 벨류값 접근 방법 : 변수명['키'], 변수명.키"
   ]
  },
  {
   "cell_type": "code",
   "execution_count": 35,
   "id": "7957a68d",
   "metadata": {},
   "outputs": [
    {
     "data": {
      "text/plain": [
       "dict_keys(['data', 'target', 'frame', 'target_names', 'DESCR', 'feature_names', 'filename', 'data_module'])"
      ]
     },
     "execution_count": 35,
     "metadata": {},
     "output_type": "execute_result"
    }
   ],
   "source": [
    "# 키값들 확인하기\n",
    "cancer_data.keys()"
   ]
  },
  {
   "cell_type": "code",
   "execution_count": 36,
   "id": "6d9ba6a8",
   "metadata": {
    "scrolled": true
   },
   "outputs": [
    {
     "name": "stdout",
     "output_type": "stream",
     "text": [
      "데이터 크기 :  (569, 30)\n"
     ]
    }
   ],
   "source": [
    "# 데이터 살펴보기\n",
    "# 문제 데이터\n",
    "cancer_data.data\n",
    "print('데이터 크기 : ', cancer_data.data.shape)"
   ]
  },
  {
   "cell_type": "code",
   "execution_count": 37,
   "id": "3ab590c1",
   "metadata": {},
   "outputs": [
    {
     "data": {
      "text/plain": [
       "array(['mean radius', 'mean texture', 'mean perimeter', 'mean area',\n",
       "       'mean smoothness', 'mean compactness', 'mean concavity',\n",
       "       'mean concave points', 'mean symmetry', 'mean fractal dimension',\n",
       "       'radius error', 'texture error', 'perimeter error', 'area error',\n",
       "       'smoothness error', 'compactness error', 'concavity error',\n",
       "       'concave points error', 'symmetry error',\n",
       "       'fractal dimension error', 'worst radius', 'worst texture',\n",
       "       'worst perimeter', 'worst area', 'worst smoothness',\n",
       "       'worst compactness', 'worst concavity', 'worst concave points',\n",
       "       'worst symmetry', 'worst fractal dimension'], dtype='<U23')"
      ]
     },
     "execution_count": 37,
     "metadata": {},
     "output_type": "execute_result"
    }
   ],
   "source": [
    "# 데이터를 정리한 컬럼명 : feature_names\n",
    "cancer_data.feature_names # 30"
   ]
  },
  {
   "cell_type": "code",
   "execution_count": 38,
   "id": "73bb488e",
   "metadata": {},
   "outputs": [
    {
     "data": {
      "text/plain": [
       "array([0, 0, 0, 0, 0, 0, 0, 0, 0, 0, 0, 0, 0, 0, 0, 0, 0, 0, 0, 1, 1, 1,\n",
       "       0, 0, 0, 0, 0, 0, 0, 0, 0, 0, 0, 0, 0, 0, 0, 1, 0, 0, 0, 0, 0, 0,\n",
       "       0, 0, 1, 0, 1, 1, 1, 1, 1, 0, 0, 1, 0, 0, 1, 1, 1, 1, 0, 1, 0, 0,\n",
       "       1, 1, 1, 1, 0, 1, 0, 0, 1, 0, 1, 0, 0, 1, 1, 1, 0, 0, 1, 0, 0, 0,\n",
       "       1, 1, 1, 0, 1, 1, 0, 0, 1, 1, 1, 0, 0, 1, 1, 1, 1, 0, 1, 1, 0, 1,\n",
       "       1, 1, 1, 1, 1, 1, 1, 0, 0, 0, 1, 0, 0, 1, 1, 1, 0, 0, 1, 0, 1, 0,\n",
       "       0, 1, 0, 0, 1, 1, 0, 1, 1, 0, 1, 1, 1, 1, 0, 1, 1, 1, 1, 1, 1, 1,\n",
       "       1, 1, 0, 1, 1, 1, 1, 0, 0, 1, 0, 1, 1, 0, 0, 1, 1, 0, 0, 1, 1, 1,\n",
       "       1, 0, 1, 1, 0, 0, 0, 1, 0, 1, 0, 1, 1, 1, 0, 1, 1, 0, 0, 1, 0, 0,\n",
       "       0, 0, 1, 0, 0, 0, 1, 0, 1, 0, 1, 1, 0, 1, 0, 0, 0, 0, 1, 1, 0, 0,\n",
       "       1, 1, 1, 0, 1, 1, 1, 1, 1, 0, 0, 1, 1, 0, 1, 1, 0, 0, 1, 0, 1, 1,\n",
       "       1, 1, 0, 1, 1, 1, 1, 1, 0, 1, 0, 0, 0, 0, 0, 0, 0, 0, 0, 0, 0, 0,\n",
       "       0, 0, 1, 1, 1, 1, 1, 1, 0, 1, 0, 1, 1, 0, 1, 1, 0, 1, 0, 0, 1, 1,\n",
       "       1, 1, 1, 1, 1, 1, 1, 1, 1, 1, 1, 0, 1, 1, 0, 1, 0, 1, 1, 1, 1, 1,\n",
       "       1, 1, 1, 1, 1, 1, 1, 1, 1, 0, 1, 1, 1, 0, 1, 0, 1, 1, 1, 1, 0, 0,\n",
       "       0, 1, 1, 1, 1, 0, 1, 0, 1, 0, 1, 1, 1, 0, 1, 1, 1, 1, 1, 1, 1, 0,\n",
       "       0, 0, 1, 1, 1, 1, 1, 1, 1, 1, 1, 1, 1, 0, 0, 1, 0, 0, 0, 1, 0, 0,\n",
       "       1, 1, 1, 1, 1, 0, 1, 1, 1, 1, 1, 0, 1, 1, 1, 0, 1, 1, 0, 0, 1, 1,\n",
       "       1, 1, 1, 1, 0, 1, 1, 1, 1, 1, 1, 1, 0, 1, 1, 1, 1, 1, 0, 1, 1, 0,\n",
       "       1, 1, 1, 1, 1, 1, 1, 1, 1, 1, 1, 1, 0, 1, 0, 0, 1, 0, 1, 1, 1, 1,\n",
       "       1, 0, 1, 1, 0, 1, 0, 1, 1, 0, 1, 0, 1, 1, 1, 1, 1, 1, 1, 1, 0, 0,\n",
       "       1, 1, 1, 1, 1, 1, 0, 1, 1, 1, 1, 1, 1, 1, 1, 1, 1, 0, 1, 1, 1, 1,\n",
       "       1, 1, 1, 0, 1, 0, 1, 1, 0, 1, 1, 1, 1, 1, 0, 0, 1, 0, 1, 0, 1, 1,\n",
       "       1, 1, 1, 0, 1, 1, 0, 1, 0, 1, 0, 0, 1, 1, 1, 0, 1, 1, 1, 1, 1, 1,\n",
       "       1, 1, 1, 1, 1, 0, 1, 0, 0, 1, 1, 1, 1, 1, 1, 1, 1, 1, 1, 1, 1, 1,\n",
       "       1, 1, 1, 1, 1, 1, 1, 1, 1, 1, 1, 1, 0, 0, 0, 0, 0, 0, 1])"
      ]
     },
     "execution_count": 38,
     "metadata": {},
     "output_type": "execute_result"
    }
   ],
   "source": [
    "# 답데이터 : .target\n",
    "cancer_data.target # 569 (cancer_data.target.size)"
   ]
  },
  {
   "cell_type": "code",
   "execution_count": 39,
   "id": "e8d3d073",
   "metadata": {},
   "outputs": [
    {
     "data": {
      "text/plain": [
       "array(['malignant', 'benign'], dtype='<U9')"
      ]
     },
     "execution_count": 39,
     "metadata": {},
     "output_type": "execute_result"
    }
   ],
   "source": [
    "# 답데이터 이름 확인 : .target_names\n",
    "cancer_data.target_names\n",
    "\n",
    "# 'malignant' - 악성 0\n",
    "# 'benign' - 양성 1"
   ]
  },
  {
   "cell_type": "markdown",
   "id": "a0a9ce67",
   "metadata": {},
   "source": [
    "- 문제 데이터를 df화 하지 않아도 머신러닝 돌릴 수 있음\n",
    "- 넘파이 배열 형식을 그대로 학습에 적용"
   ]
  },
  {
   "cell_type": "markdown",
   "id": "9e16359c",
   "metadata": {},
   "source": [
    "#### 훈련셋과 테스트셋으로 분리\n",
    "- 569개의 행을 학습, 테스트셋으로 분할\n",
    "- 문제데이터 : cancer_data.data, 답데이터 : cancer_data.target\n",
    "- train_test_split, 7.5:2.5, 랜덤 고정값 66"
   ]
  },
  {
   "cell_type": "code",
   "execution_count": 40,
   "id": "fc317b2f",
   "metadata": {},
   "outputs": [
    {
     "name": "stdout",
     "output_type": "stream",
     "text": [
      "훈련용문제 :  (426, 30)\n",
      "훈련용답 :  (426,)\n",
      "테스트용문제 :  (143, 30)\n",
      "테스트용답 :  (143,)\n"
     ]
    }
   ],
   "source": [
    "# 훈련셋과 테스트셋으로 분리\n",
    "X_train, X_test, y_train, y_test = train_test_split(cancer_data.data,\n",
    "                                                    cancer_data.target,\n",
    "                                                    test_size=0.25,\n",
    "                                                    random_state=66)\n",
    "\n",
    "# 크기확인\n",
    "print('훈련용문제 : ', X_train.shape)\n",
    "print('훈련용답 : ', y_train.shape)\n",
    "print('테스트용문제 : ', X_test.shape)\n",
    "print('테스트용답 : ', y_test.shape)"
   ]
  },
  {
   "cell_type": "markdown",
   "id": "4a4d866f",
   "metadata": {},
   "source": [
    "#### 랜덤포레스트\n",
    " - 몇개의 트리모델을 만들지 설정 하이퍼 파라미터 -> n_estimators\n",
    " - 단일 트리 모델을 여러개 병렬적으로 학습시켜 최종 예측하는 모델\n",
    " - 단일 토리 모델에서 적용한 사전가지치기를 적용할 수 있음\n",
    " - 회귀와 분류 모두 사용"
   ]
  },
  {
   "cell_type": "code",
   "execution_count": 41,
   "id": "3aa2efbd",
   "metadata": {},
   "outputs": [
    {
     "data": {
      "text/plain": [
       "RandomForestClassifier(random_state=10)"
      ]
     },
     "execution_count": 41,
     "metadata": {},
     "output_type": "execute_result"
    }
   ],
   "source": [
    "# random forest 모델 불러오기\n",
    "from sklearn.ensemble import RandomForestClassifier\n",
    "\n",
    "# 모델 생성 및 하이퍼 파라미터 지정\n",
    "# random_state : 랜덤하게 데이터셋을 구성하는 규칙을 고정\n",
    "forest_model = RandomForestClassifier(n_estimators = 100,\n",
    "                                     random_state = 10)\n",
    "\n",
    "# 모델 학습 : fit()\n",
    "forest_model.fit(X_train, y_train)\n"
   ]
  },
  {
   "cell_type": "code",
   "execution_count": 42,
   "id": "947d2c29",
   "metadata": {},
   "outputs": [
    {
     "name": "stdout",
     "output_type": "stream",
     "text": [
      "랜덤포레스트 교차검증 결과 :\n",
      "  [0.94186047 0.92941176 0.96470588 0.97647059 0.95294118]\n",
      "랜덤포레스트 교차검증 평균 결과 :\n",
      "  0.9530779753761971\n"
     ]
    }
   ],
   "source": [
    "# 일반화 성능 정도를 확인해보자\n",
    "# 교차검증 cross_val_score\n",
    "# 검증 5번\n",
    "# 정확도 결과들을 result 변수에 담고, 평균을 확인해보자\n",
    "# (모델명, 데이터들, 검증횟수 설정)\n",
    "from sklearn.model_selection import cross_val_score\n",
    "\n",
    "result_forest = cross_val_score(forest_model, X_train, y_train, cv = 5)\n",
    "\n",
    "print('랜덤포레스트 교차검증 결과 :\\n ', result_forest)\n",
    "print('랜덤포레스트 교차검증 평균 결과 :\\n ', result_forest.mean())"
   ]
  },
  {
   "cell_type": "code",
   "execution_count": 45,
   "id": "ab29d6e6",
   "metadata": {},
   "outputs": [
    {
     "name": "stdout",
     "output_type": "stream",
     "text": [
      "train 예측값 : \n",
      " [1 0 1 1 1 1 0 1 1 1 1 1 0 1 0 1 1 1 0 1 0 0 0 0 1 0 1 1 1 1 1 0 1 1 0 0 1\n",
      " 0 1 1 1 1 1 0 1 1 1 1 1 0 0 0 1 0 1 1 1 1 1 1 0 1 1 0 1 1 1 1 0 0 1 0 1 1\n",
      " 0 1 0 1 0 0 1 1 1 1 0 0 1 1 1 0 1 1 1 0 1 0 1 1 1 1 0 0 1 0 0 0 1 1 1 1 1\n",
      " 0 1 1 1 1 1 1 1 1 1 1 1 0 1 1 1 0 0 1 0 1 1 0 1 0 1 0 1 1 0 0 1 1 0 0 0 0\n",
      " 1 1 1 0 1 0 1 1 1 0 0 0 1 1 1 0 0 1 1 1 1 0 0 1 0 1 1 1 0 1 1 1 0 0 1 1 0\n",
      " 1 1 0 1 0 0 0 0 1 1 1 1 0 1 1 1 1 0 1 1 1 0 0 1 1 1 0 0 1 0 0 1 0 1 1 1 0\n",
      " 1 1 1 1 0 1 1 1 1 1 0 1 1 0 1 1 0 1 1 1 0 1 1 0 0 0 1 1 1 0 0 0 1 0 0 0 1\n",
      " 0 0 1 1 1 0 1 0 0 0 0 0 0 1 1 1 0 1 0 1 0 0 1 1 1 1 1 1 0 1 0 0 0 0 1 1 1\n",
      " 1 0 0 0 1 1 0 1 0 1 1 0 1 1 1 1 1 1 1 1 1 1 1 0 0 0 1 1 1 1 0 0 1 1 0 0 1\n",
      " 0 1 1 1 0 0 1 1 1 0 0 0 1 1 1 1 1 1 1 0 0 0 1 1 1 1 1 0 1 0 1 0 0 1 1 0 0\n",
      " 1 0 1 0 1 1 1 1 1 1 1 0 0 1 1 1 1 1 0 0 1 1 1 1 0 0 1 0 0 1 1 1 0 0 1 1 0\n",
      " 0 1 1 1 0 0 0 1 1 1 1 0 0 1 1 1 0 1 1]\n",
      "test 예측값 : \n",
      " [1 1 1 1 1 0 0 1 1 1 0 1 1 0 1 1 0 1 0 0 1 0 1 0 0 1 0 1 1 1 1 1 0 1 0 1 0\n",
      " 0 1 1 1 1 0 1 0 1 1 1 0 0 0 1 0 1 0 0 1 0 1 1 0 1 1 1 0 1 1 0 1 0 1 1 1 1\n",
      " 0 0 1 0 1 1 1 0 1 0 1 1 1 1 0 1 1 1 1 0 1 1 0 1 1 1 1 1 1 1 0 1 1 1 0 1 0\n",
      " 1 1 1 1 1 1 1 0 1 1 0 1 1 0 0 0 1 1 0 1 0 1 0 1 0 1 1 1 1 0 1 1]\n"
     ]
    }
   ],
   "source": [
    "# 학습 및 테스트 데이터를 가지고 예측 진행 -> 학습 : .fit() // 예측 : .predict()\n",
    "train_pre = forest_model.predict(X_train)  \n",
    "test_pre = forest_model.predict(X_test)\n",
    "\n",
    "print('train 예측값 : \\n', train_pre)\n",
    "print('test 예측값 : \\n', test_pre)"
   ]
  },
  {
   "cell_type": "code",
   "execution_count": 64,
   "id": "a264afdf",
   "metadata": {},
   "outputs": [
    {
     "name": "stdout",
     "output_type": "stream",
     "text": [
      "훈련데이터 정확도:0.962\n",
      "테스트데이터 정확도:0.972\n"
     ]
    }
   ],
   "source": [
    "# 성능  평가: accuracy 정확도 지표\n",
    "# 모델.score(X_test,y_test) -> 0,1에 대해 얼만큼 일치하는지\n",
    "from sklearn.metrics import accuracy_score\n",
    "train_acc = accuracy_score(y_train, train_pre)\n",
    "test_acc = accuracy_score(y_test, test_pre)\n",
    "\n",
    "# f문자열 포매팅\n",
    "print(f'훈련데이터 정확도:{train_acc:.3f}')\n",
    "print(f'테스트데이터 정확도:{test_acc:.3f}')"
   ]
  },
  {
   "cell_type": "markdown",
   "id": "76b5bf3d",
   "metadata": {},
   "source": [
    "#### GridSearchCV 를 적용하여 모델의 성능 향상 시키기"
   ]
  },
  {
   "cell_type": "code",
   "execution_count": 47,
   "id": "e2ddd7da",
   "metadata": {},
   "outputs": [
    {
     "data": {
      "text/plain": [
       "GridSearchCV(cv=5, estimator=RandomForestClassifier(random_state=66), n_jobs=-1,\n",
       "             param_grid={'max_depth': [3, 5, 7], 'max_leaf_nodes': [2, 4, 6],\n",
       "                         'min_samples_split': [3, 5, 7],\n",
       "                         'n_estimators': [50, 100, 200]},\n",
       "             scoring='accuracy')"
      ]
     },
     "execution_count": 47,
     "metadata": {},
     "output_type": "execute_result"
    }
   ],
   "source": [
    "# 그리드서치 도구 불러오기\n",
    "from sklearn.model_selection import GridSearchCV\n",
    "\n",
    "# 1. 파라미터 경우의 수를 설정\n",
    "params = {'n_estimators':[50,100,200],\n",
    "         'max_depth':[3,5,7],\n",
    "         'max_leaf_nodes':[2,4,6],\n",
    "          'min_samples_split':[3,5,7]\n",
    "         }\n",
    "\n",
    "# 2. 대상 모델 선정\n",
    "model = RandomForestClassifier(random_state=66)\n",
    "\n",
    "# 3. 대상 모델에게 그리서치 설정 및 실행\n",
    "grid = GridSearchCV(model, params, cv=5, scoring = 'accuracy', n_jobs = -1 )\n",
    "# scoring = 'accuracy' : 정확도 , n_jobs = -1 :pc 코어의 수\n",
    "\n",
    "# 최적의 파라미터 조합을 찾기 위해 학습 fit,\n",
    "# 경우의 수가 많을 수록 시간이 많이 걸림\n",
    "grid.fit(X_train,y_train)"
   ]
  },
  {
   "cell_type": "code",
   "execution_count": 48,
   "id": "491b2e2e",
   "metadata": {},
   "outputs": [
    {
     "name": "stdout",
     "output_type": "stream",
     "text": [
      "최적의 하이퍼 파라미터 :  {'max_depth': 3, 'max_leaf_nodes': 6, 'min_samples_split': 5, 'n_estimators': 50}\n",
      "최적의 정확도 :  0.9483720930232558\n"
     ]
    }
   ],
   "source": [
    "# 4. 최적의 파라미터 조합 및 정확도 확인\n",
    "print('최적의 하이퍼 파라미터 : ', grid.best_params_)\n",
    "print('최적의 정확도 : ', grid.best_score_)"
   ]
  },
  {
   "cell_type": "code",
   "execution_count": 55,
   "id": "9256f4ae",
   "metadata": {},
   "outputs": [
    {
     "name": "stdout",
     "output_type": "stream",
     "text": [
      "feature\n",
      " [0.02155598 0.01117799 0.03011054 0.03138652 0.00063076 0.00229961\n",
      " 0.11401401 0.14512616 0.00223768 0.00053808 0.00177181 0.0010437\n",
      " 0.01322284 0.02678709 0.00098583 0.00213468 0.00208981 0.00056439\n",
      " 0.00150838 0.00038851 0.19699973 0.01785632 0.12301346 0.13540438\n",
      " 0.01011377 0.01696846 0.00903654 0.07814712 0.00159952 0.00128634]\n"
     ]
    }
   ],
   "source": [
    "# 5. 최적의 파라미터 조합으로 모델링\n",
    "# 모델 완성 및 영향력이 높은 특성 확인해보기\n",
    "import pandas as pd\n",
    "import numpy as np\n",
    "import matplotlib.pyplot as plt\n",
    "\n",
    "# best_model\n",
    "best_model = RandomForestClassifier(n_estimators=50,\n",
    "                                   max_depth=3,\n",
    "                                   max_leaf_nodes=6,\n",
    "                                   min_samples_split=5,\n",
    "                                   random_state=66)\n",
    "# 모델 학습\n",
    "best_model.fit(X_train, y_train)\n",
    "\n",
    "# 중요하게 여겨진 특성 확인해보기\n",
    "feature_importance = best_model.feature_importances_\n",
    "print('feature\\n',feature_importance)\n",
    "# 결과는 1차원으로 나옴"
   ]
  },
  {
   "cell_type": "code",
   "execution_count": 58,
   "id": "d3815520",
   "metadata": {},
   "outputs": [
    {
     "data": {
      "image/png": "[encoded data removed]",
      "text/plain": [
       "<Figure size 432x288 with 1 Axes>"
      ]
     },
     "metadata": {
      "needs_background": "light"
     },
     "output_type": "display_data"
    }
   ],
   "source": [
    "# 특성 중요도 부분 df화 시키기\n",
    "# 그래프로도 그려보기\n",
    "df1 = pd.DataFrame(feature_importance, columns=['import'],\n",
    "                  index=cancer_data.feature_names)\n",
    "df1_sort = df1.sort_values(by='import', ascending=False)\n",
    "df1_sort.head().plot.barh() # plot.barh() : 가로막대\n",
    "plt.show()"
   ]
  },
  {
   "cell_type": "markdown",
   "id": "d4281951",
   "metadata": {},
   "source": [
    "- 회귀와 분류에서 랜덤 포레스트 모델은 현재 가장 널리 사용되고 있는 머신러닝 알고리즘\n",
    "- 랜덤 포레스트 모델은 성능이 매우 뛰어나고 매개변수의 튜닝을 많이 하지 않아도 잘 작동하며 데이터의 스케일을 조정해줄 필요가 없음"
   ]
  },
  {
   "cell_type": "markdown",
   "id": "71218167",
   "metadata": {},
   "source": [
    "### 에이다부스트 모델(Adaptive Boosting)\n",
    " - RF처럼 의사결정 트리 모델 기반으로 만들어진 모델, 그러나 모델들이 독립적이지 않음\n",
    " - 회귀와 분류 모두 사용 가능\n",
    " - 모델의 개수 설정 : n_estimators\n",
    " - 사전 가지치기 기능 x\n",
    " - 학습률(learning_rate): 가중치 갱신의 변동폭을 조정, 0~1, 기본값 설정 1.0"
   ]
  },
  {
   "cell_type": "code",
   "execution_count": 59,
   "id": "75b58295",
   "metadata": {},
   "outputs": [
    {
     "data": {
      "text/plain": [
       "AdaBoostClassifier(n_estimators=5, random_state=66)"
      ]
     },
     "execution_count": 59,
     "metadata": {},
     "output_type": "execute_result"
    }
   ],
   "source": [
    "# 필요한 모델 불러오기\n",
    "from sklearn.ensemble import AdaBoostClassifier\n",
    "\n",
    "# 모델 객체 생성 및 하이퍼 파라미터 조정\n",
    "ada_model = AdaBoostClassifier(n_estimators=5, \n",
    "                               random_state = 66)\n",
    "# 모델 훈련\n",
    "ada_model.fit(X_train, y_train)"
   ]
  },
  {
   "cell_type": "code",
   "execution_count": 60,
   "id": "9b700c5e",
   "metadata": {},
   "outputs": [
    {
     "name": "stdout",
     "output_type": "stream",
     "text": [
      "train 예측값 :  [1 0 1 1 1 1 0 1 1 1 1 1 0 1 0 1 1 1 0 1 0 0 0 0 1 0 1 1 1 1 1 0 1 1 0 0 1\n",
      " 0 1 1 1 1 1 0 1 1 1 1 1 0 0 0 1 0 1 1 1 1 1 1 0 1 1 0 1 1 1 1 0 0 1 0 1 0\n",
      " 0 1 0 1 0 0 1 1 1 1 0 0 1 1 1 0 1 1 1 0 0 0 1 1 0 1 0 0 1 0 0 0 1 1 1 1 1\n",
      " 0 1 1 1 0 1 1 1 1 1 1 1 1 1 1 1 0 0 1 0 1 1 0 1 0 1 0 1 0 0 0 1 1 0 0 0 0\n",
      " 1 1 1 0 1 0 1 1 1 0 0 0 1 0 1 0 0 1 1 1 1 0 0 1 0 1 1 1 0 1 1 1 0 0 1 1 0\n",
      " 1 1 0 1 0 0 0 0 1 1 1 1 0 1 1 1 1 0 1 1 1 0 0 1 1 1 0 0 1 0 0 1 0 1 1 1 0\n",
      " 1 1 1 1 0 1 1 1 1 1 0 1 1 0 1 1 0 1 1 1 0 1 1 1 0 0 1 1 1 0 0 0 1 0 0 0 1\n",
      " 0 0 1 1 1 1 1 0 0 0 0 0 0 1 0 1 0 1 0 1 0 0 1 1 1 1 1 1 0 1 0 0 0 0 1 1 0\n",
      " 1 0 0 1 1 1 0 1 0 1 1 0 1 1 1 1 1 1 1 1 1 1 1 0 0 0 1 1 1 1 0 0 1 1 0 0 1\n",
      " 0 1 1 1 0 0 1 1 1 0 0 0 1 1 1 1 1 1 1 0 0 0 1 1 1 1 1 0 1 0 0 0 0 0 1 0 0\n",
      " 1 0 1 0 1 1 1 1 0 1 1 0 0 1 1 1 1 1 0 0 0 1 1 1 0 0 1 0 0 1 1 1 0 0 1 1 0\n",
      " 0 1 1 1 0 0 0 1 1 1 1 0 0 1 1 1 0 1 1]\n",
      "test 예측값 : [1 1 1 1 1 0 0 1 1 1 0 1 1 0 1 0 0 1 0 0 1 0 1 0 0 1 0 1 1 1 1 1 0 0 0 1 0\n",
      " 0 1 1 1 1 0 1 0 1 1 1 0 0 0 1 0 1 0 0 1 0 1 1 0 1 1 1 0 1 1 0 1 0 1 1 1 1\n",
      " 0 0 1 0 1 1 1 0 1 0 1 1 1 0 0 1 1 1 1 0 1 1 0 1 1 1 1 1 1 1 0 1 0 1 0 1 0\n",
      " 1 1 1 1 1 1 1 0 1 1 0 1 1 0 0 0 1 1 0 1 0 1 0 1 0 1 1 1 1 0 1 1]\n"
     ]
    }
   ],
   "source": [
    "# 학습 및 테스트 데이터 예측 진행\n",
    "train_pre = ada_model.predict(X_train)\n",
    "test_pre = ada_model.predict(X_test)\n",
    "\n",
    "# 예측 결과 출력\n",
    "print('train 예측값 : ', train_pre)\n",
    "print('test 예측값 :', test_pre)"
   ]
  },
  {
   "cell_type": "code",
   "execution_count": 63,
   "id": "883b5144",
   "metadata": {},
   "outputs": [
    {
     "name": "stdout",
     "output_type": "stream",
     "text": [
      "훈련데이터 정확도:0.962\n",
      "테스트데이터 정확도:0.972\n"
     ]
    }
   ],
   "source": [
    "# 학습 및 테스트 데이터 성능 확인\n",
    "# 정확도 성능 평가 지표 기준\n",
    "train_acc = accuracy_score(y_train, train_pre)\n",
    "test_acc = accuracy_score(y_test, test_pre)\n",
    "\n",
    "# f문자열 포매팅\n",
    "print(f'훈련데이터 정확도:{train_acc:.3f}')\n",
    "print(f'테스트데이터 정확도:{test_acc:.3f}')"
   ]
  },
  {
   "cell_type": "code",
   "execution_count": 66,
   "id": "3931b9ab",
   "metadata": {},
   "outputs": [
    {
     "name": "stdout",
     "output_type": "stream",
     "text": [
      "훈련정확도 :  1.0\n",
      "테스트정확도 :  0.986013986013986\n"
     ]
    }
   ],
   "source": [
    "# n_estimators를 변경해서 모델 생성 후 정확도까지 확인해보자\n",
    "# 100으로 늘려보기\n",
    "# 고정값 66\n",
    "# 모델 생성 \n",
    "ada_model2 = AdaBoostClassifier(n_estimators=100, # 예측기(트리모델 개수)\n",
    "                               random_state=66)\n",
    "# 학습\n",
    "ada_model2.fit(X_train, y_train)\n",
    "# 정확도 확인\n",
    "print('훈련정확도 : ',ada_model2.score(X_train, y_train))\n",
    "print('테스트정확도 : ',ada_model2.score(X_test, y_test))"
   ]
  },
  {
   "cell_type": "markdown",
   "id": "ff7a932c",
   "metadata": {},
   "source": [
    "### GridSearchCV 적용하여 모델의 성능을 향상 시키기"
   ]
  },
  {
   "cell_type": "code",
   "execution_count": 67,
   "id": "83b272cc",
   "metadata": {},
   "outputs": [
    {
     "data": {
      "text/plain": [
       "GridSearchCV(cv=5, estimator=AdaBoostClassifier(random_state=66), n_jobs=-1,\n",
       "             param_grid={'learning_rate': [0.4, 0.6, 1.0],\n",
       "                         'n_estimators': [50, 100, 200]},\n",
       "             scoring='accuracy')"
      ]
     },
     "execution_count": 67,
     "metadata": {},
     "output_type": "execute_result"
    }
   ],
   "source": [
    "from sklearn.model_selection import GridSearchCV\n",
    "# 1. 튜닝할 매개변수 ( 매개변수 경우의 수 ) 설정\n",
    "params = {'n_estimators':[50,100,200],\n",
    "         'learning_rate':[0.4,0.6,1.0]}\n",
    "\n",
    "# 2. 모델 객체 생성\n",
    "model = AdaBoostClassifier(random_state = 66)\n",
    "\n",
    "# 3. 그리드 서치 설정 연결\n",
    "grid = GridSearchCV(model, params , cv =5, scoring ='accuracy', n_jobs= -1) # scoring ='accuracy' : 정확도 기준으로 \n",
    "\n",
    "# 4. 그리드 서치 실행\n",
    "grid.fit(X_train, y_train)"
   ]
  },
  {
   "cell_type": "code",
   "execution_count": 68,
   "id": "5f46d352",
   "metadata": {},
   "outputs": [
    {
     "name": "stdout",
     "output_type": "stream",
     "text": [
      "{'learning_rate': 1.0, 'n_estimators': 50}\n",
      "0.969466484268126\n"
     ]
    }
   ],
   "source": [
    "# 최적의 하이퍼 파라미터 조합 확인\n",
    "print(grid.best_params_)\n",
    "# 최적의 성능 확인\n",
    "print(grid.best_score_)"
   ]
  },
  {
   "cell_type": "markdown",
   "id": "17a7d20b",
   "metadata": {},
   "source": [
    "#### Ada모델 완성 및 특성 중요도 확인"
   ]
  },
  {
   "cell_type": "code",
   "execution_count": 69,
   "id": "589812ad",
   "metadata": {},
   "outputs": [
    {
     "name": "stdout",
     "output_type": "stream",
     "text": [
      "feature\n",
      " [0.   0.06 0.   0.02 0.   0.02 0.   0.06 0.   0.   0.04 0.02 0.04 0.1\n",
      " 0.02 0.1  0.   0.04 0.04 0.02 0.02 0.1  0.   0.06 0.1  0.   0.06 0.04\n",
      " 0.   0.04]\n"
     ]
    },
    {
     "data": {
      "image/png": "[encoded data removed]",
      "text/plain": [
       "<Figure size 432x288 with 1 Axes>"
      ]
     },
     "metadata": {
      "needs_background": "light"
     },
     "output_type": "display_data"
    }
   ],
   "source": [
    "best_ada_model = AdaBoostClassifier(n_estimators = 50,\n",
    "                                   learning_rate=1.0,\n",
    "                                   random_state=66)\n",
    "\n",
    "# 모델 학습\n",
    "best_ada_model.fit(X_train, y_train)\n",
    "\n",
    "# 특성 중요도 확인\n",
    "\n",
    "feature_importance = best_ada_model.feature_importances_\n",
    "print('feature\\n',feature_importance)\n",
    "\n",
    "df1 = pd.DataFrame(feature_importance, columns=['import'],\n",
    "                  index=cancer_data.feature_names)\n",
    "df1_sort = df1.sort_values(by='import', ascending=False)\n",
    "df1_sort.head().plot.barh() # plot.barh() : 가로막대\n",
    "plt.show()\n"
   ]
  },
  {
   "cell_type": "markdown",
   "id": "18c9fa67",
   "metadata": {},
   "source": [
    "#### GradientBoosting 모델\n",
    "- 여러개의 트리를 묶어서 더욱 강력한 모델을 만드는 앙상블 방법\n",
    "- Ada model과 유사\n",
    "- 사전 가지치기 기능 사용 가능\n",
    "- n_estimators : 예측기의 개수 설정\n",
    "- learning_rate : 학습률 - 가중치 갱신 변동 폭을 지정\n",
    "- 예측 성능이 높지만 과적합이 빠르게 됨, 시간이 오래 걸림\n",
    "- max_depth 설정할 떄 트리깊이를 5보다 깊어지지 않게 설정"
   ]
  },
  {
   "cell_type": "code",
   "execution_count": 70,
   "id": "85c8a7bf",
   "metadata": {},
   "outputs": [],
   "source": [
    "from sklearn.ensemble import GradientBoostingClassifier"
   ]
  },
  {
   "cell_type": "code",
   "execution_count": 71,
   "id": "e62289a5",
   "metadata": {},
   "outputs": [
    {
     "data": {
      "text/plain": [
       "GradientBoostingClassifier(random_state=66)"
      ]
     },
     "execution_count": 71,
     "metadata": {},
     "output_type": "execute_result"
    }
   ],
   "source": [
    "# 모델 생성 및 하이퍼 파라미터 설정 / 정보 : shift+tab\n",
    "gb_model = GradientBoostingClassifier(random_state = 66)\n",
    "\n",
    "# 모델 학습\n",
    "gb_model.fit(X_train, y_train)"
   ]
  },
  {
   "cell_type": "code",
   "execution_count": 74,
   "id": "4939fa52",
   "metadata": {},
   "outputs": [
    {
     "name": "stdout",
     "output_type": "stream",
     "text": [
      "훈련정확도 :  1.0\n",
      "테스트정확도 :  0.958041958041958\n"
     ]
    }
   ],
   "source": [
    "# 훈련 및 테스트 예측\n",
    "train_pred = gb_model.predict(X_train)\n",
    "test_pred = gb_model.predict(X_test)\n",
    "\n",
    "# 훈련 및 테스트 정확도\n",
    "train_result = accuracy_score(y_train, train_pred)\n",
    "test_result = accuracy_score(y_test, test_pred)\n",
    "print('훈련정확도 : ', train_result)\n",
    "print('테스트정확도 : ', test_result)"
   ]
  },
  {
   "cell_type": "markdown",
   "id": "0e46e3fe",
   "metadata": {},
   "source": [
    "#### GridSearchCV를 적용해 모델의 성능 향상"
   ]
  },
  {
   "cell_type": "code",
   "execution_count": 75,
   "id": "d19b487a",
   "metadata": {},
   "outputs": [
    {
     "data": {
      "text/plain": [
       "GridSearchCV(cv=5, estimator=GradientBoostingClassifier(random_state=66),\n",
       "             n_jobs=-1,\n",
       "             param_grid={'learning_rate': [0.1, 0.2, 0.4],\n",
       "                         'max_depth': [1, 2, 3, 4],\n",
       "                         'n_estimators': [50, 100, 200]},\n",
       "             scoring='accuracy')"
      ]
     },
     "execution_count": 75,
     "metadata": {},
     "output_type": "execute_result"
    }
   ],
   "source": [
    "from sklearn.model_selection import GridSearchCV\n",
    "\n",
    "# 튜닝 매개변수 정의\n",
    "params = {'n_estimators':[50,100,200],\n",
    "         'max_depth':[1,2,3,4],\n",
    "         'learning_rate':[0.1,0.2,0.4]}\n",
    "\n",
    "# 모델 정의\n",
    "\n",
    "model = GradientBoostingClassifier(random_state=66)\n",
    "\n",
    "# 그리드 서치 설정 정의\n",
    "\n",
    "grid = GridSearchCV(model, params, cv=5, scoring = 'accuracy', n_jobs = -1 )\n",
    "\n",
    "# 그리드 서치 실행(적용)\n",
    "\n",
    "grid.fit(X_train,y_train)"
   ]
  },
  {
   "cell_type": "code",
   "execution_count": 76,
   "id": "6bb066dc",
   "metadata": {},
   "outputs": [
    {
     "name": "stdout",
     "output_type": "stream",
     "text": [
      "최적의 하이퍼 파라미터 :  {'learning_rate': 0.4, 'max_depth': 3, 'n_estimators': 100}\n",
      "최적의 정확도 :  0.9647879616963065\n"
     ]
    }
   ],
   "source": [
    "# 하이퍼 파라미터 조합 확인\n",
    "print('최적의 하이퍼 파라미터 : ', grid.best_params_)\n",
    "# 최적의 성능 확인 \n",
    "print('최적의 정확도 : ', grid.best_score_)"
   ]
  },
  {
   "cell_type": "markdown",
   "id": "cbaaff73",
   "metadata": {},
   "source": [
    "#### GB모델 완성 및 특성 중요도 확인"
   ]
  },
  {
   "cell_type": "code",
   "execution_count": 77,
   "id": "d559c431",
   "metadata": {},
   "outputs": [
    {
     "name": "stdout",
     "output_type": "stream",
     "text": [
      "feature\n",
      " [0.02155598 0.01117799 0.03011054 0.03138652 0.00063076 0.00229961\n",
      " 0.11401401 0.14512616 0.00223768 0.00053808 0.00177181 0.0010437\n",
      " 0.01322284 0.02678709 0.00098583 0.00213468 0.00208981 0.00056439\n",
      " 0.00150838 0.00038851 0.19699973 0.01785632 0.12301346 0.13540438\n",
      " 0.01011377 0.01696846 0.00903654 0.07814712 0.00159952 0.00128634]\n",
      "feature\n",
      " [1.55337642e-04 5.19251795e-02 9.50866100e-04 2.62008048e-04\n",
      " 4.81788234e-04 7.73947770e-06 2.62330514e-04 4.65948774e-02\n",
      " 5.49262279e-04 2.75144024e-04 8.15033132e-03 5.81516014e-06\n",
      " 7.04883864e-05 1.09975767e-02 8.02196393e-05 9.01041293e-03\n",
      " 6.81852540e-04 8.70714263e-03 6.84795034e-05 6.80071023e-04\n",
      " 1.78535078e-01 3.20876496e-02 7.18591626e-02 4.82263754e-01\n",
      " 5.86049538e-03 6.26025515e-04 7.42142134e-03 8.05364634e-02\n",
      " 8.69409890e-04 2.36175046e-05]\n"
     ]
    },
    {
     "data": {
      "image/png": "[encoded data removed]",
      "text/plain": [
       "<Figure size 432x288 with 1 Axes>"
      ]
     },
     "metadata": {
      "needs_background": "light"
     },
     "output_type": "display_data"
    }
   ],
   "source": [
    "gb_model2 = GradientBoostingClassifier(learning_rate=0.4,\n",
    "                                      max_depth = 3,\n",
    "                                      n_estimators=100)\n",
    "\n",
    "gb_model2.fit(X_train, y_train)\n",
    "\n",
    "# 특성 중요도 확인\n",
    "\n",
    "feature_importance = best_model.feature_importances_\n",
    "print('feature\\n',feature_importance)\n",
    "\n",
    "# 모델 학습\n",
    "gb_model2.fit(X_train, y_train)\n",
    "\n",
    "# 특성 중요도 확인\n",
    "\n",
    "feature_importance = gb_model2.feature_importances_\n",
    "print('feature\\n',feature_importance)\n",
    "\n",
    "df1 = pd.DataFrame(feature_importance, columns=['import'],\n",
    "                  index=cancer_data.feature_names)\n",
    "df1_sort = df1.sort_values(by='import', ascending=False)\n",
    "df1_sort.head().plot.barh() # plot.barh() : 가로막대\n",
    "plt.show()"
   ]
  },
  {
   "cell_type": "markdown",
   "id": "7d3ea824",
   "metadata": {},
   "source": [
    "- 성능을 더 높이기 위해서는 부스팅 기법을 사용, 그러나 안정적인 배깅의 랜덤포레스트를 먼저 적용"
   ]
  },
  {
   "cell_type": "markdown",
   "id": "c60fbd9e",
   "metadata": {},
   "source": [
    "### XGBoost 모델\n",
    "- 결정 트리 기반의 앙상블 모델에서 가장 각광받고 있는 알고리즘의 하나\n",
    "- 분류에 있어서 일반적으로 다른 머신 러닝 모델보다 뛰어난 성능을 나타냄\n",
    "- GBM을 기반으로 하지만, GBM에서 제공하지 않는 Early Stopping 기능과 과대적합 방지를 위한 규제가 포함됨으로써 GBM의 단점인 느린 학습 시간과 과대적합의 문제를 해결하였음\n",
    "- 대규모 머신 러닝 문제에 그래디언트 부스팅을 적용하려면 XGBoost를 사용\n",
    "- 분류와 회귀가 모두 가능"
   ]
  },
  {
   "cell_type": "code",
   "execution_count": 78,
   "id": "c40d99b9",
   "metadata": {},
   "outputs": [
    {
     "name": "stdout",
     "output_type": "stream",
     "text": [
      "Collecting xgboost\n",
      "  Downloading xgboost-1.6.1-py3-none-win_amd64.whl (125.4 MB)\n",
      "Requirement already satisfied: numpy in c:\\users\\smhrd\\anaconda3\\lib\\site-packages (from xgboost) (1.21.5)\n",
      "Requirement already satisfied: scipy in c:\\users\\smhrd\\anaconda3\\lib\\site-packages (from xgboost) (1.7.3)\n",
      "Installing collected packages: xgboost\n",
      "Successfully installed xgboost-1.6.1\n"
     ]
    }
   ],
   "source": [
    "!pip install xgboost"
   ]
  },
  {
   "cell_type": "code",
   "execution_count": 79,
   "id": "f04ea38a",
   "metadata": {},
   "outputs": [
    {
     "name": "stdout",
     "output_type": "stream",
     "text": [
      "1.6.1\n"
     ]
    }
   ],
   "source": [
    "import xgboost\n",
    "print(xgboost.__version__)"
   ]
  },
  {
   "cell_type": "code",
   "execution_count": 80,
   "id": "9ca7056e",
   "metadata": {},
   "outputs": [
    {
     "data": {
      "text/plain": [
       "XGBClassifier(base_score=0.5, booster='gbtree', callbacks=None,\n",
       "              colsample_bylevel=1, colsample_bynode=1, colsample_bytree=1,\n",
       "              early_stopping_rounds=None, enable_categorical=False,\n",
       "              eval_metric=None, gamma=0, gpu_id=-1, grow_policy='depthwise',\n",
       "              importance_type=None, interaction_constraints='',\n",
       "              learning_rate=0.300000012, max_bin=256, max_cat_to_onehot=4,\n",
       "              max_delta_step=0, max_depth=6, max_leaves=0, min_child_weight=1,\n",
       "              missing=nan, monotone_constraints='()', n_estimators=100,\n",
       "              n_jobs=0, num_parallel_tree=1, predictor='auto', random_state=0,\n",
       "              reg_alpha=0, reg_lambda=1, ...)"
      ]
     },
     "execution_count": 80,
     "metadata": {},
     "output_type": "execute_result"
    }
   ],
   "source": [
    "from xgboost import XGBClassifier\n",
    "xgb_model = XGBClassifier(random_state=0)\n",
    "xgb_model.fit(X_train, y_train)"
   ]
  },
  {
   "cell_type": "code",
   "execution_count": 83,
   "id": "cc78c9b7",
   "metadata": {},
   "outputs": [
    {
     "data": {
      "text/plain": [
       "array([1, 1, 1, 1, 1, 0, 0, 1, 1, 1, 0, 1, 1, 0, 1, 1, 0, 1, 0, 0, 1, 0,\n",
       "       1, 0, 0, 1, 0, 1, 1, 1, 1, 1, 0, 0, 0, 1, 0, 0, 1, 1, 1, 1, 0, 1,\n",
       "       0, 1, 1, 1, 0, 0, 0, 1, 0, 1, 0, 0, 1, 0, 1, 1, 0, 1, 1, 1, 0, 1,\n",
       "       1, 0, 1, 0, 1, 1, 1, 1, 0, 1, 1, 0, 1, 1, 1, 0, 1, 0, 1, 1, 1, 0,\n",
       "       0, 1, 1, 1, 1, 0, 1, 1, 0, 1, 1, 1, 1, 1, 1, 1, 0, 1, 1, 1, 0, 1,\n",
       "       0, 1, 1, 1, 1, 1, 1, 1, 0, 1, 1, 0, 1, 1, 0, 0, 0, 1, 1, 0, 1, 0,\n",
       "       1, 0, 1, 0, 1, 1, 1, 1, 0, 1, 1])"
      ]
     },
     "execution_count": 83,
     "metadata": {},
     "output_type": "execute_result"
    }
   ],
   "source": [
    "# 모델 예측 \n",
    "test_pre = xgb_model.predict(X_test)\n",
    "test_pre"
   ]
  },
  {
   "cell_type": "code",
   "execution_count": 84,
   "id": "056baeb9",
   "metadata": {},
   "outputs": [
    {
     "data": {
      "text/plain": [
       "0.9790209790209791"
      ]
     },
     "execution_count": 84,
     "metadata": {},
     "output_type": "execute_result"
    }
   ],
   "source": [
    "# 모델 평가\n",
    "accuracy_score(y_test, test_pre)"
   ]
  },
  {
   "cell_type": "code",
   "execution_count": 85,
   "id": "45615f67",
   "metadata": {},
   "outputs": [],
   "source": [
    "# 과대적합 1.0 -> 하이퍼 파라미터 조정해줄 필요가 있음\n",
    "# 하이퍼 파라미터 조합을 찾기 -> 그리드서치"
   ]
  },
  {
   "cell_type": "code",
   "execution_count": null,
   "id": "c9b3e00e",
   "metadata": {},
   "outputs": [],
   "source": []
  }
 ],
 "metadata": {
  "kernelspec": {
   "display_name": "Python 3 (ipykernel)",
   "language": "python",
   "name": "python3"
  },
  "language_info": {
   "codemirror_mode": {
    "name": "ipython",
    "version": 3
   },
   "file_extension": ".py",
   "mimetype": "text/x-python",
   "name": "python",
   "nbconvert_exporter": "python",
   "pygments_lexer": "ipython3",
   "version": "3.9.12"
  }
 },
 "nbformat": 4,
 "nbformat_minor": 5
}
